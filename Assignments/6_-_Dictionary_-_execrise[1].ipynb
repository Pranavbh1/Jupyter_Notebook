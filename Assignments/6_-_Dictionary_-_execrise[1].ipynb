{
 "cells": [
  {
   "cell_type": "markdown",
   "metadata": {},
   "source": [
    "# Assignment Instructions\n",
    "\n",
    "`Hello Innominion,`\n",
    "\n",
    "- **Try to attempt all the questions in every possible way.**\n",
    "- **Some other topics are required to solve some questions. don't panic.**\n",
    "- **Those questions can be answered after the topics are taught.**\n",
    "\n",
    "\n",
    "- `Join Mentoring Session for the Support/Doubts Resolving with Our Technical Mentors (2.00 PM - 6.00 PM  Mon-Sat)` \n",
    "\n",
    "Happy Learning !!!"
   ]
  },
  {
   "cell_type": "markdown",
   "metadata": {},
   "source": [
    "###  Dictionary"
   ]
  },
  {
   "cell_type": "markdown",
   "metadata": {},
   "source": [
    "**`Question :`Create Dictionary for following information as \"person1\":**\n",
    "   - Name = John\n",
    "   - Gender= Male\n",
    "   - Occupation = Data Scientist\n",
    "   - Location  = Nizampet, Hyderabad"
   ]
  },
  {
   "cell_type": "code",
   "execution_count": 1,
   "metadata": {},
   "outputs": [],
   "source": [
    "# CODE HERE"
   ]
  },
  {
   "cell_type": "code",
   "execution_count": 26,
   "metadata": {},
   "outputs": [
    {
     "data": {
      "text/plain": [
       "{'Gender': 'Male',\n",
       " 'Location': 'Nizampet, Hyderabad',\n",
       " 'Name': 'John',\n",
       " 'Occupation': 'Data Scientist'}"
      ]
     },
     "execution_count": 26,
     "metadata": {},
     "output_type": "execute_result"
    }
   ],
   "source": [
    "person1 = {'Gender': 'Male','Location': 'Nizampet, Hyderabad','Name': 'John','Occupation': 'Data Scientist'}\n",
    "person1"
   ]
  },
  {
   "cell_type": "code",
   "execution_count": 4,
   "metadata": {},
   "outputs": [
    {
     "data": {
      "text/plain": [
       "{'Gender': 'Male',\n",
       " 'Location': 'Nizampet, Hyderabad',\n",
       " 'Name': 'John',\n",
       " 'Occupation': 'Data Scientist'}"
      ]
     },
     "execution_count": 4,
     "metadata": {},
     "output_type": "execute_result"
    }
   ],
   "source": [
    "person1"
   ]
  },
  {
   "cell_type": "markdown",
   "metadata": {},
   "source": [
    "> print keys in person1 as a list"
   ]
  },
  {
   "cell_type": "code",
   "execution_count": null,
   "metadata": {},
   "outputs": [],
   "source": [
    "# CODE HERE"
   ]
  },
  {
   "cell_type": "code",
   "execution_count": 5,
   "metadata": {},
   "outputs": [
    {
     "data": {
      "text/plain": [
       "dict_keys(['Gender', 'Location', 'Name', 'Occupation'])"
      ]
     },
     "execution_count": 5,
     "metadata": {},
     "output_type": "execute_result"
    }
   ],
   "source": [
    "person1.keys()"
   ]
  },
  {
   "cell_type": "code",
   "execution_count": 3,
   "metadata": {},
   "outputs": [
    {
     "data": {
      "text/plain": [
       "['Name', 'Gender', 'Occupation', 'Location']"
      ]
     },
     "execution_count": 3,
     "metadata": {},
     "output_type": "execute_result"
    }
   ],
   "source": []
  },
  {
   "cell_type": "markdown",
   "metadata": {},
   "source": [
    "> **`Question:` Remove Location in person1**"
   ]
  },
  {
   "cell_type": "code",
   "execution_count": 1,
   "metadata": {},
   "outputs": [],
   "source": [
    "# CODE HERE"
   ]
  },
  {
   "cell_type": "code",
   "execution_count": 29,
   "metadata": {},
   "outputs": [
    {
     "name": "stdout",
     "output_type": "stream",
     "text": [
      "{'Gender': 'Male', 'Name': 'John', 'Occupation': 'Data Scientist'}\n"
     ]
    }
   ],
   "source": [
    "person1.pop('Location')\n",
    "print(person1)"
   ]
  },
  {
   "cell_type": "markdown",
   "metadata": {},
   "source": [
    "> **`Question:` Create dictionary of person2 with**\n",
    "- Name  = Raghu Ram\n",
    "- Gender = Male\n",
    "- Age  = 25\n",
    "- Occupation = Data Scienctist"
   ]
  },
  {
   "cell_type": "code",
   "execution_count": null,
   "metadata": {},
   "outputs": [],
   "source": [
    "# CODE HERE"
   ]
  },
  {
   "cell_type": "code",
   "execution_count": 22,
   "metadata": {},
   "outputs": [
    {
     "data": {
      "text/plain": [
       "{'Name': 'Raghu Ram',\n",
       " 'Gender': 'Male',\n",
       " 'Age': '25',\n",
       " 'Occupation': 'Data Scientist'}"
      ]
     },
     "execution_count": 22,
     "metadata": {},
     "output_type": "execute_result"
    }
   ],
   "source": [
    "person2 = {'Name': 'Raghu Ram','Gender': 'Male','Age': '25','Occupation': 'Data Scientist'}\n",
    "person2"
   ]
  },
  {
   "cell_type": "code",
   "execution_count": 5,
   "metadata": {},
   "outputs": [
    {
     "data": {
      "text/plain": [
       "{'Age': 25,\n",
       " 'Gender': 'Male',\n",
       " 'Name': 'Raghu Ram',\n",
       " 'Occupation': 'Data Scientist'}"
      ]
     },
     "execution_count": 5,
     "metadata": {},
     "output_type": "execute_result"
    }
   ],
   "source": [
    "person2"
   ]
  },
  {
   "cell_type": "markdown",
   "metadata": {},
   "source": [
    "> **`Question:` Print the output as show below**"
   ]
  },
  {
   "cell_type": "code",
   "execution_count": 6,
   "metadata": {},
   "outputs": [
    {
     "name": "stdout",
     "output_type": "stream",
     "text": [
      "==================== person1 ====================\n",
      "{'Gender': 'Male', 'Location': 'Nizampet, Hyderabad', 'Name': 'John', 'Occupation': 'Data Scientist'}\n",
      "==================== person2 ====================\n",
      "{'Age': 25, 'Gender': 'Male', 'Name': 'Raghu Ram', 'Occupation': 'Data Scientist'}\n"
     ]
    }
   ],
   "source": [
    "# CODE HERE"
   ]
  },
  {
   "cell_type": "code",
   "execution_count": 23,
   "metadata": {},
   "outputs": [
    {
     "name": "stdout",
     "output_type": "stream",
     "text": [
      "==================== person1 ====================\n",
      "{'Gender': 'Male', 'Name': 'John', 'Occupation': 'Data Scientist', 'Age': 27}\n",
      "==================== person2 ====================\n",
      "{'Name': 'Raghu Ram', 'Gender': 'Male', 'Age': '25', 'Occupation': 'Data Scientist'}\n"
     ]
    }
   ],
   "source": [
    "print(\"==================== person1 ====================\")\n",
    "print(person1)\n",
    "print(\"==================== person2 ====================\")\n",
    "print(person2)"
   ]
  },
  {
   "cell_type": "markdown",
   "metadata": {},
   "source": [
    "# create a dictionary\n",
    "#### `Question:` remove the elements from that dictionary using different methods\n",
    "{1: 1, 2: 4, 3: 9, 4: 16, 5: 25,6:36,7:49}"
   ]
  },
  {
   "cell_type": "code",
   "execution_count": 25,
   "metadata": {},
   "outputs": [
    {
     "name": "stdout",
     "output_type": "stream",
     "text": [
      "{1: 1, 2: 4, 3: 9, 5: 25, 6: 36, 7: 49}\n"
     ]
    }
   ],
   "source": [
    "#way1\n",
    "dict1 = {1: 1, 2: 4, 3: 9, 4: 16, 5: 25,6:36,7:49}\n",
    "dict1.pop( 4)\n",
    "print(dict1)"
   ]
  },
  {
   "cell_type": "code",
   "execution_count": null,
   "metadata": {},
   "outputs": [],
   "source": [
    "#way2\n",
    "dict1 = {1: 1, 2: 4, 3: 9, 4: 16, 5: 25,6:36,7:49}\n",
    "dict1."
   ]
  },
  {
   "cell_type": "code",
   "execution_count": 1,
   "metadata": {},
   "outputs": [],
   "source": [
    "# CODE HERE"
   ]
  },
  {
   "cell_type": "markdown",
   "metadata": {},
   "source": [
    "\n",
    "### `Question:` print the values from the given dictionary in descending order\n",
    "{0: 0, 1: 1, 3: 9, 5: 25, 7: 49, 9: 81}"
   ]
  },
  {
   "cell_type": "code",
   "execution_count": 2,
   "metadata": {},
   "outputs": [],
   "source": [
    "# CODE HERE"
   ]
  },
  {
   "cell_type": "code",
   "execution_count": 35,
   "metadata": {},
   "outputs": [
    {
     "data": {
      "text/plain": [
       "[9, 7, 5, 3, 1, 0]"
      ]
     },
     "execution_count": 35,
     "metadata": {},
     "output_type": "execute_result"
    }
   ],
   "source": [
    "dict2 = {0: 0, 1: 1, 3: 9, 5: 25, 7: 49, 9: 81}\n",
    "x = sorted(dict2 , reverse=True)\n",
    "x"
   ]
  },
  {
   "cell_type": "markdown",
   "metadata": {},
   "source": [
    "### `Question:` merge the below 3 dictionaries\n",
    "dict1 = { 'a': 1, 'b': 2 }\n",
    "dict2 = { 'b': 3, 'c': 4 }\n",
    "dict3 = { 'c': 5, 'd': 6 }"
   ]
  },
  {
   "cell_type": "code",
   "execution_count": null,
   "metadata": {},
   "outputs": [],
   "source": [
    "# CODE HERE"
   ]
  },
  {
   "cell_type": "code",
   "execution_count": 45,
   "metadata": {},
   "outputs": [
    {
     "name": "stdout",
     "output_type": "stream",
     "text": [
      "{'a': 1, 'b': 3, 'c': 5, 'd': 6}\n"
     ]
    }
   ],
   "source": [
    "dict1 = { 'a': 1, 'b': 2 }\n",
    "dict2 = { 'b': 3, 'c': 4 }\n",
    "dict3 = { 'c': 5, 'd': 6 }\n",
    "dict1.update(dict2)\n",
    "dict1.update(dict3)\n",
    "print(dict1)"
   ]
  },
  {
   "cell_type": "code",
   "execution_count": 3,
   "metadata": {},
   "outputs": [
    {
     "name": "stdout",
     "output_type": "stream",
     "text": [
      "{'a': 1, 'b': 3, 'c': 5, 'd': 6}\n"
     ]
    }
   ],
   "source": [
    "\n",
    "dict1 = { 'a': 1, 'b': 2 }\n",
    "dict2 = { 'b': 3, 'c': 4 }\n",
    "dict3 = { 'c': 5, 'd': 6 }\n"
   ]
  },
  {
   "cell_type": "markdown",
   "metadata": {},
   "source": [
    "**`Question:` change Charan’s salary to 8500 in the following dictionary**"
   ]
  },
  {
   "cell_type": "raw",
   "metadata": {},
   "source": [
    "sample_dict = {\n",
    "    'emp1': {'name': 'Jhony', 'salary': 7500},\n",
    "    'emp2': {'name': 'Ravi', 'salary': 8000},\n",
    "    'emp3': {'name': 'Charan', 'salary': 6500}\n",
    "}"
   ]
  },
  {
   "cell_type": "code",
   "execution_count": null,
   "metadata": {},
   "outputs": [],
   "source": [
    "# CODE HERE"
   ]
  },
  {
   "cell_type": "code",
   "execution_count": 184,
   "metadata": {},
   "outputs": [
    {
     "data": {
      "text/plain": [
       "{'emp1': {'name': 'Jhony', 'salary': 7500},\n",
       " 'emp2': {'name': 'Ravi', 'salary': 8000},\n",
       " 'emp3': {'name': 'Charan', 'salary': 8500}}"
      ]
     },
     "execution_count": 184,
     "metadata": {},
     "output_type": "execute_result"
    }
   ],
   "source": [
    "sample_dict = {\n",
    "    'emp1': {'name': 'Jhony', 'salary': 7500},\n",
    "    'emp2': {'name': 'Ravi', 'salary': 8000},\n",
    "    'emp3': {'name': 'Charan', 'salary': 6500}\n",
    "}\n",
    "\n",
    "sample_dict['emp3']['salary'] = 8500\n",
    "sample_dict"
   ]
  },
  {
   "cell_type": "code",
   "execution_count": 2,
   "metadata": {},
   "outputs": [
    {
     "data": {
      "text/plain": [
       "{'emp1': {'name': 'Jhony', 'salary': 7500},\n",
       " 'emp2': {'name': 'Ravi', 'salary': 8000},\n",
       " 'emp3': {'name': 'Charan', 'salary': 8500}}"
      ]
     },
     "execution_count": 2,
     "metadata": {},
     "output_type": "execute_result"
    }
   ],
   "source": []
  },
  {
   "cell_type": "markdown",
   "metadata": {},
   "source": [
    "**`Question:` Print the value of key ‘history’ from the below dict**"
   ]
  },
  {
   "cell_type": "raw",
   "metadata": {},
   "source": [
    "sampleDict = {\n",
    "    \"class\": {\n",
    "        \"student\": {\n",
    "            \"name\": \"Mike\",\n",
    "            \"marks\": {\n",
    "                \"physics\": 70,\n",
    "                \"history\": 80\n",
    "            }\n",
    "        }\n",
    "    }\n",
    "}\n"
   ]
  },
  {
   "cell_type": "code",
   "execution_count": 1,
   "metadata": {},
   "outputs": [],
   "source": [
    "# CODE HERE"
   ]
  },
  {
   "cell_type": "code",
   "execution_count": 100,
   "metadata": {},
   "outputs": [
    {
     "data": {
      "text/plain": [
       "80"
      ]
     },
     "execution_count": 100,
     "metadata": {},
     "output_type": "execute_result"
    }
   ],
   "source": [
    "sampleDict = {\n",
    "    \"class\": {\n",
    "        \"student\": {\n",
    "            \"name\": \"Mike\",\n",
    "            \"marks\": {\n",
    "                \"physics\": 70,\n",
    "                \"history\": 80\n",
    "            }\n",
    "        }\n",
    "    }\n",
    "}\n",
    "\n",
    "\n",
    "sampleDict[\"class\"][\"student\"][\"marks\"]['history']\n"
   ]
  },
  {
   "cell_type": "code",
   "execution_count": 3,
   "metadata": {},
   "outputs": [
    {
     "name": "stdout",
     "output_type": "stream",
     "text": [
      "80\n"
     ]
    }
   ],
   "source": []
  },
  {
   "cell_type": "markdown",
   "metadata": {},
   "source": [
    "**`Question:` Rename a key Location to a Area in the following dictionary**"
   ]
  },
  {
   "cell_type": "code",
   "execution_count": 17,
   "metadata": {},
   "outputs": [],
   "source": [
    "dd = {'Gender': 'Male',\n",
    " 'Location': 'Nizampet, Hyderabad',\n",
    " 'Name': 'John',\n",
    " 'Occupation': 'Data Scientist'}"
   ]
  },
  {
   "cell_type": "code",
   "execution_count": 18,
   "metadata": {},
   "outputs": [],
   "source": [
    "dd[\"Area\"] =dd[\"Location\"]\n",
    "del dd[\"Location\"]"
   ]
  },
  {
   "cell_type": "code",
   "execution_count": 19,
   "metadata": {},
   "outputs": [
    {
     "data": {
      "text/plain": [
       "{'Gender': 'Male',\n",
       " 'Name': 'John',\n",
       " 'Occupation': 'Data Scientist',\n",
       " 'Area': 'Nizampet, Hyderabad'}"
      ]
     },
     "execution_count": 19,
     "metadata": {},
     "output_type": "execute_result"
    }
   ],
   "source": [
    "dd"
   ]
  },
  {
   "cell_type": "markdown",
   "metadata": {},
   "source": [
    "**`Question:` database = {'ram':1234,'raghu':5678,'kanav':1357}**\n",
    "## Tasks :-\n",
    "### 1. if the username and password matches print hello username\n",
    "### 2. if the username and password doesnot match, ask, you want me to add into the database\n",
    "### 3. show the updated database list\n"
   ]
  },
  {
   "cell_type": "code",
   "execution_count": 1,
   "metadata": {},
   "outputs": [
    {
     "name": "stdout",
     "output_type": "stream",
     "text": [
      "enter the username = ram\n",
      "enter the password = 1234\n",
      "Hello ram\n"
     ]
    }
   ],
   "source": [
    "database = {'ram':1234,'raghu':5678,'kanav':1357}\n",
    "a = input(\"enter the username = \")\n",
    "b = int(input(\"enter the password = \"))\n",
    "\n",
    "if a in database.keys() and b == database[a]:\n",
    "    print('Hello',a)\n",
    "\n",
    "else :\n",
    "    print(\"you want me to add into the database Yes/No\")\n",
    "    c = input()\n",
    "    if c.lower() == 'yes':\n",
    "        database[a] = b\n",
    "        print(database)"
   ]
  },
  {
   "cell_type": "markdown",
   "metadata": {},
   "source": [
    "# [Innomatics Research Labs](https:/innomatics.in/)\n",
    "[www.innomatics.in](https:/innomatics.in/)"
   ]
  },
  {
   "cell_type": "code",
   "execution_count": null,
   "metadata": {},
   "outputs": [],
   "source": []
  }
 ],
 "metadata": {
  "kernelspec": {
   "display_name": "Python 3 (ipykernel)",
   "language": "python",
   "name": "python3"
  },
  "language_info": {
   "codemirror_mode": {
    "name": "ipython",
    "version": 3
   },
   "file_extension": ".py",
   "mimetype": "text/x-python",
   "name": "python",
   "nbconvert_exporter": "python",
   "pygments_lexer": "ipython3",
   "version": "3.11.4"
  }
 },
 "nbformat": 4,
 "nbformat_minor": 2
}
