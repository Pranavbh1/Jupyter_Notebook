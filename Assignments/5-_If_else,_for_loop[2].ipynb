{
 "cells": [
  {
   "cell_type": "markdown",
   "metadata": {},
   "source": [
    "# IF , ELSE.... FOR LOOP"
   ]
  },
  {
   "cell_type": "markdown",
   "metadata": {},
   "source": [
    "> print this is hour in current minute is odd"
   ]
  },
  {
   "cell_type": "code",
   "execution_count": 5,
   "metadata": {},
   "outputs": [
    {
     "name": "stdout",
     "output_type": "stream",
     "text": [
      "Enter the minute = 59\n",
      "This is Odd minute\n"
     ]
    }
   ],
   "source": [
    "n= int(input(\"Enter the minute = \"))\n",
    "for i in range (1,61):\n",
    "    if n%2==0:\n",
    "        pass\n",
    "    else :\n",
    "        print(\"This is Odd minute\")\n",
    "        break"
   ]
  },
  {
   "cell_type": "code",
   "execution_count": 11,
   "metadata": {},
   "outputs": [
    {
     "name": "stdout",
     "output_type": "stream",
     "text": [
      "minute : 53\n",
      "This is Odd minute\n"
     ]
    }
   ],
   "source": [
    "#CODE HERE"
   ]
  },
  {
   "cell_type": "markdown",
   "metadata": {},
   "source": [
    "> if today is satarday then print 'Party !!!' or if sunday print take rest other wise print work , work, work"
   ]
  },
  {
   "cell_type": "code",
   "execution_count": 5,
   "metadata": {},
   "outputs": [
    {
     "name": "stdout",
     "output_type": "stream",
     "text": [
      "What's day today ?\n",
      "tuesday\n",
      "Work !!!\n"
     ]
    }
   ],
   "source": [
    "#way1\n",
    "day = input(\"What's day today ?\\n\")\n",
    "if day == ('saturday'):\n",
    "    print('Party !!!')\n",
    "elif day == ('sunday'):\n",
    "    print('Take Rest !!!')\n",
    "else :\n",
    "    print(\"Work !!!\")"
   ]
  },
  {
   "cell_type": "code",
   "execution_count": 63,
   "metadata": {},
   "outputs": [
    {
     "name": "stdout",
     "output_type": "stream",
     "text": [
      "work\n",
      "work\n",
      "work\n",
      "work\n",
      "work\n",
      "party !!!\n",
      "take rest\n"
     ]
    }
   ],
   "source": [
    "#way2\n",
    "list = ['monday','tuesday','wednesday','thursday','friday','saturday','sunday']\n",
    "\n",
    "for i in list:\n",
    "    if i==('monday'):\n",
    "        print( 'work' )\n",
    "    elif i==('tuesday'):\n",
    "        print( 'work' )\n",
    "    elif i==('wednesday'):\n",
    "        print( 'work' )\n",
    "    elif i==('thursday'):\n",
    "        print( 'work' )\n",
    "    elif i==('friday'):\n",
    "        print( 'work' )\n",
    "    elif i==('saturday'):\n",
    "        print('party !!!')\n",
    "    else :\n",
    "        print(\"take rest\")\n",
    "        \n",
    "    \n",
    "\n"
   ]
  },
  {
   "cell_type": "markdown",
   "metadata": {},
   "source": [
    "> Write a program which will find all such numbers which are divisible by 7 but are not a multiple of 5, between 2000 and 3200 (both included). The numbers obtained should be printed in a comma-separated sequence on a single line."
   ]
  },
  {
   "cell_type": "code",
   "execution_count": 31,
   "metadata": {},
   "outputs": [
    {
     "name": "stdout",
     "output_type": "stream",
     "text": [
      "2002 , 2009 , 2016 , 2023 , 2037 , 2044 , 2051 , 2058 , 2072 , 2079 , 2086 , 2093 , 2107 , 2114 , 2121 , 2128 , 2142 , 2149 , 2156 , 2163 , 2177 , 2184 , 2191 , 2198 , 2212 , 2219 , 2226 , 2233 , 2247 , 2254 , 2261 , 2268 , 2282 , 2289 , 2296 , 2303 , 2317 , 2324 , 2331 , 2338 , 2352 , 2359 , 2366 , 2373 , 2387 , 2394 , 2401 , 2408 , 2422 , 2429 , 2436 , 2443 , 2457 , 2464 , 2471 , 2478 , 2492 , 2499 , 2506 , 2513 , 2527 , 2534 , 2541 , 2548 , 2562 , 2569 , 2576 , 2583 , 2597 , 2604 , 2611 , 2618 , 2632 , 2639 , 2646 , 2653 , 2667 , 2674 , 2681 , 2688 , 2702 , 2709 , 2716 , 2723 , 2737 , 2744 , 2751 , 2758 , 2772 , 2779 , 2786 , 2793 , 2807 , 2814 , 2821 , 2828 , 2842 , 2849 , 2856 , 2863 , 2877 , 2884 , 2891 , 2898 , 2912 , 2919 , 2926 , 2933 , 2947 , 2954 , 2961 , 2968 , 2982 , 2989 , 2996 , 3003 , 3017 , 3024 , 3031 , 3038 , 3052 , 3059 , 3066 , 3073 , 3087 , 3094 , 3101 , 3108 , 3122 , 3129 , 3136 , 3143 , 3157 , 3164 , 3171 , 3178 , 3192 , 3199 , "
     ]
    }
   ],
   "source": [
    "for i in range(2000,3201):\n",
    "    if i%7==0 and i%5!=0 :\n",
    "        print(i , end= \" , \")"
   ]
  },
  {
   "cell_type": "code",
   "execution_count": 20,
   "metadata": {},
   "outputs": [],
   "source": [
    "#CODE HERE"
   ]
  },
  {
   "cell_type": "code",
   "execution_count": 21,
   "metadata": {},
   "outputs": [],
   "source": [
    "#CODE HERE"
   ]
  },
  {
   "cell_type": "markdown",
   "metadata": {},
   "source": [
    "> Write a program which can compute the factorial of a given numbers.\n",
    "The results should be printed in a comma-separated sequence on a single line.\n",
    "Suppose the following input is supplied to the program:\n",
    "8\n",
    "Then, the output should be:\n",
    "40320"
   ]
  },
  {
   "cell_type": "code",
   "execution_count": 12,
   "metadata": {},
   "outputs": [
    {
     "name": "stdout",
     "output_type": "stream",
     "text": [
      "enter the number for which you want fctorial: 8\n"
     ]
    },
    {
     "data": {
      "text/plain": [
       "40320"
      ]
     },
     "execution_count": 12,
     "metadata": {},
     "output_type": "execute_result"
    }
   ],
   "source": [
    "def fact(n):\n",
    "\n",
    "    if n<=1:\n",
    "        return 1\n",
    "    else :\n",
    "        val=n*fact(n-1)\n",
    "    return val\n",
    "\n",
    "fact(n=int(input(\"enter the number for which you want fctorial: \")))"
   ]
  },
  {
   "cell_type": "code",
   "execution_count": 15,
   "metadata": {},
   "outputs": [
    {
     "data": {
      "text/plain": [
       "40320"
      ]
     },
     "execution_count": 15,
     "metadata": {},
     "output_type": "execute_result"
    }
   ],
   "source": [
    "fact(8)"
   ]
  },
  {
   "cell_type": "code",
   "execution_count": 22,
   "metadata": {},
   "outputs": [],
   "source": [
    "#CODE HERE"
   ]
  },
  {
   "cell_type": "markdown",
   "metadata": {},
   "source": [
    "> With a given integral number n, write a program to generate a dictionary that contains (i, i*i) such that is an integral number between 1 and n (both included). and then the program should print the dictionary.\n",
    "Suppose the following input is supplied to the program:\n",
    "8\n",
    "Then, the output should be:\n",
    "{1: 1, 2: 4, 3: 9, 4: 16, 5: 25, 6: 36, 7: 49, 8: 64}\n",
    "\n",
    "*Hint* : use dict()"
   ]
  },
  {
   "cell_type": "code",
   "execution_count": 32,
   "metadata": {},
   "outputs": [
    {
     "name": "stdout",
     "output_type": "stream",
     "text": [
      "8\n",
      "{1: 1, 2: 4, 3: 9, 4: 16, 5: 25, 6: 36, 7: 49, 8: 64}\n"
     ]
    }
   ],
   "source": [
    "#way1\n",
    "num = int(input())\n",
    "list1={}\n",
    "for i in range (1,num+1):\n",
    "    if i>0:\n",
    "        list1[i] = (i*i)\n",
    "print(list1)"
   ]
  },
  {
   "cell_type": "code",
   "execution_count": null,
   "metadata": {},
   "outputs": [],
   "source": [
    "#way2\n",
    "num = int(input)\n",
    "list1=[]\n",
    "for i in range (1,num):\n",
    "    if i>0:\n",
    "        list1.append(i)\n",
    "       \n",
    "\n",
    "list2=[]\n",
    "for i in range (1,num):\n",
    "    if i>0:\n",
    "       \n",
    "\n",
    "\n",
    "dict(zip(list1,list2))"
   ]
  },
  {
   "cell_type": "code",
   "execution_count": 23,
   "metadata": {},
   "outputs": [],
   "source": [
    "#CODE HERE"
   ]
  },
  {
   "cell_type": "markdown",
   "metadata": {},
   "source": [
    "> create user defined fuction for \n",
    "- addition \"add\"\n",
    "- subtraction \"sub\"\n",
    "- multiplication \"mul\"\n",
    "- division \"div\"\n",
    "- power \"pow\""
   ]
  },
  {
   "cell_type": "code",
   "execution_count": 42,
   "metadata": {},
   "outputs": [],
   "source": [
    "#way1\n",
    "def calculator():\n",
    "    num = input(\"Input function : (Add ,Sub, Mul, Div, Pow) : \")\n",
    "    a = int(input('Input 1st value : '))\n",
    "    b = int(input('Input 2nd value : '))\n",
    "    if num.lower() == 'add':\n",
    "        print(a+b)\n",
    "    elif num == 'sub':\n",
    "        print(a-b)\n",
    "    elif num == 'mul':\n",
    "        print(a*b)\n",
    "    elif num == 'div':\n",
    "        print(a/b)\n",
    "    elif num == 'pow' or num == 'Pow':\n",
    "        print(a**b)"
   ]
  },
  {
   "cell_type": "code",
   "execution_count": 27,
   "metadata": {},
   "outputs": [
    {
     "name": "stdout",
     "output_type": "stream",
     "text": [
      "enter first number : 8\n",
      "enter second number : 6\n",
      "Addition of first & second number is = 14\n",
      "enter first number : 8\n",
      "enter second number : 6\n",
      "Substraction of second number from first number is = 2\n",
      "enter first number : 8\n",
      "enter second number : 6\n",
      "Multiplication of first & second number is = 48\n",
      "enter first number : 8\n",
      "enter second number : 6\n",
      "Division of second number from first number is = 1.3333333333333333\n",
      "enter first number : 8\n",
      "enter second number : 6\n",
      "first number to the power of second number is = 262144\n"
     ]
    }
   ],
   "source": [
    "##way2\n",
    "#Addition( + )\n",
    "p= int(input(\"enter first number : \"))\n",
    "b= int(input(\"enter second number : \"))\n",
    "def add(p,b):\n",
    "    print(\"Addition of first & second number is =\" ,p+b)\n",
    "add(p,b) \n",
    "\n",
    "\n",
    "#Subtraction( - )\n",
    "p= int(input(\"enter first number : \"))\n",
    "b= int(input(\"enter second number : \"))\n",
    "def Subtraction(p,b):\n",
    "    n = p-b\n",
    "    print(\"Substraction of second number from first number is =\" , n)\n",
    "Subtraction(p,b) \n",
    "\n",
    "\n",
    "#Multiplication( * )\n",
    "p= int(input(\"enter first number : \"))\n",
    "b= int(input(\"enter second number : \"))\n",
    "def Multiplication(p,b):\n",
    "    n = p*b\n",
    "    print(\"Multiplication of first & second number is =\"  , n)\n",
    "Multiplication(p,b) \n",
    "\n",
    "\n",
    "#Division( * )\n",
    "p= int(input(\"enter first number : \"))\n",
    "b= int(input(\"enter second number : \"))\n",
    "def Division(p,b):\n",
    "    n = p/b\n",
    "    print(\"Division of second number from first number is =\" , n)\n",
    "Division(p,b)\n",
    "\n",
    "\n",
    "#Power( ** )\n",
    "p= int(input(\"enter first number : \"))\n",
    "b= int(input(\"enter second number : \"))\n",
    "def Power(p,b):\n",
    "    n = p**b\n",
    "    print(\"first number to the power of second number is =\" , n)\n",
    "Power(p,b)"
   ]
  },
  {
   "cell_type": "code",
   "execution_count": 43,
   "metadata": {},
   "outputs": [
    {
     "name": "stdout",
     "output_type": "stream",
     "text": [
      "Input function : (Add ,Sub, Mul, Div, Pow) : ADD\n",
      "Input 1st value : 2\n",
      "Input 2nd value : 5\n",
      "7\n"
     ]
    }
   ],
   "source": [
    "calculator()"
   ]
  },
  {
   "cell_type": "code",
   "execution_count": 18,
   "metadata": {},
   "outputs": [
    {
     "name": "stdout",
     "output_type": "stream",
     "text": [
      "Please enter the value : 8\n",
      "Please enter the value : 6\n",
      "Enter the keyword {add, sub, mul, div, pow}:pow\n",
      "==============================\n",
      "Power of 8 by 6 is : 262144\n"
     ]
    }
   ],
   "source": [
    "#CODE HERE"
   ]
  },
  {
   "cell_type": "markdown",
   "metadata": {},
   "source": [
    "### Write a Python program that accepts a string and calculate the number of digits and letters.\n",
    "- Input\n",
    "\n",
    "    - Hello321Bye360\n",
    "- Output\n",
    "\n",
    "    - Digit - 6\n",
    "\n",
    "    - Letter - 8"
   ]
  },
  {
   "cell_type": "code",
   "execution_count": 1,
   "metadata": {},
   "outputs": [
    {
     "name": "stdout",
     "output_type": "stream",
     "text": [
      "ENter the text: innomatics1231239746\n",
      "Digit =  10\n",
      "Letter =  10\n"
     ]
    }
   ],
   "source": [
    "a = 0\n",
    "b = 0\n",
    "word = input(\"ENter the text: \")\n",
    "for i in word:\n",
    "    if i.isalpha():\n",
    "        a = a+1\n",
    "    else:\n",
    "        b = b+1\n",
    "print('Digit = ',b)\n",
    "print('Letter = ',a)"
   ]
  },
  {
   "cell_type": "code",
   "execution_count": 3,
   "metadata": {},
   "outputs": [
    {
     "name": "stdout",
     "output_type": "stream",
     "text": [
      "ENter the text: innomatics1231239746\n",
      "Digit - 10\n",
      "Letter - 10\n"
     ]
    }
   ],
   "source": [
    "# CODE HERE\n",
    "word = input(\"ENter the text: \")\n"
   ]
  },
  {
   "cell_type": "markdown",
   "metadata": {},
   "source": [
    "### With a given tuple (1,2,3,4,5,6,7,8,9,10), write a program to print the first half values in one line and the last half values in one line."
   ]
  },
  {
   "cell_type": "code",
   "execution_count": 49,
   "metadata": {},
   "outputs": [
    {
     "name": "stdout",
     "output_type": "stream",
     "text": [
      "1 2 3 4 5\n",
      "6 7 8 9 10\n"
     ]
    }
   ],
   "source": [
    "t =(1,2,3,4,5,6,7,8,9,10)\n",
    "u=[]\n",
    "v=[]\n",
    "for i in t:\n",
    "    if i<6:\n",
    "        u.append(i)\n",
    "    else:\n",
    "        v.append(i)\n",
    "print(*u)\n",
    "print(*v)"
   ]
  },
  {
   "cell_type": "code",
   "execution_count": 1,
   "metadata": {},
   "outputs": [
    {
     "name": "stdout",
     "output_type": "stream",
     "text": [
      "1 2 3 4 5 \n",
      "6 7 8 9 10 "
     ]
    }
   ],
   "source": [
    "# METHOD - 1\n"
   ]
  },
  {
   "cell_type": "code",
   "execution_count": 3,
   "metadata": {},
   "outputs": [
    {
     "name": "stdout",
     "output_type": "stream",
     "text": [
      "(1, 2, 3, 4, 5) (6, 7, 8, 9, 10)\n"
     ]
    }
   ],
   "source": [
    "t =(1,2,3,4,5,6,7,8,9,10)\n",
    "u= []\n",
    "v= []\n",
    "for i in t:\n",
    "    if i<6:\n",
    "        u.append(i)\n",
    "    else:\n",
    "        v.append(i)\n",
    "print(tuple(u),tuple(v))"
   ]
  },
  {
   "cell_type": "code",
   "execution_count": 2,
   "metadata": {},
   "outputs": [
    {
     "name": "stdout",
     "output_type": "stream",
     "text": [
      "(1, 2, 3, 4, 5) (6, 7, 8, 9, 10)\n"
     ]
    }
   ],
   "source": [
    "# METHOD - 2\n"
   ]
  },
  {
   "cell_type": "code",
   "execution_count": 20,
   "metadata": {},
   "outputs": [
    {
     "name": "stdout",
     "output_type": "stream",
     "text": [
      "[1, 2, 3, 4, 5]\n",
      "[6, 7, 8, 9, 10]\n"
     ]
    }
   ],
   "source": [
    "t =(1,2,3,4,5,6,7,8,9,10)\n",
    "u=[]\n",
    "v=[]\n",
    "for i in t:\n",
    "    if i<6:\n",
    "        u.append(i)\n",
    "    else:\n",
    "        v.append(i)\n",
    "print(u)\n",
    "print(v)"
   ]
  },
  {
   "cell_type": "code",
   "execution_count": 3,
   "metadata": {},
   "outputs": [
    {
     "name": "stdout",
     "output_type": "stream",
     "text": [
      "[1, 2, 3, 4, 5]\n",
      "[6, 7, 8, 9, 10]\n"
     ]
    }
   ],
   "source": [
    "# METHOD - 3\n"
   ]
  },
  {
   "cell_type": "markdown",
   "metadata": {},
   "source": [
    "### Write a program to generate and print another tuple whose values are even numbers in the given tuple (1,2,3,4,5,6,7,8,9,10)"
   ]
  },
  {
   "cell_type": "code",
   "execution_count": 70,
   "metadata": {},
   "outputs": [
    {
     "name": "stdout",
     "output_type": "stream",
     "text": [
      "(2, 4, 6, 8, 10)\n"
     ]
    }
   ],
   "source": [
    "a=(1,2,3,4,5,6,7,8,9,10)\n",
    "b =[]\n",
    "for i in a:\n",
    "    if i%2==0:\n",
    "        b.append(i)\n",
    "print(tuple(b))"
   ]
  },
  {
   "cell_type": "code",
   "execution_count": 4,
   "metadata": {},
   "outputs": [
    {
     "name": "stdout",
     "output_type": "stream",
     "text": [
      "(2, 4, 6, 8, 10)\n"
     ]
    }
   ],
   "source": []
  },
  {
   "cell_type": "markdown",
   "metadata": {},
   "source": [
    "### Write a program which accepts a string as input to print \"Yes\" if the string is \"yes\" or \"YES\" or \"Yes\", otherwise print \"No\""
   ]
  },
  {
   "cell_type": "code",
   "execution_count": 75,
   "metadata": {},
   "outputs": [
    {
     "name": "stdout",
     "output_type": "stream",
     "text": [
      "Please type something. --> YES\n",
      "Yes\n"
     ]
    }
   ],
   "source": [
    "text = input(\"Please type something. --> \")\n",
    "\n",
    "if text == 'YES' or text == 'yes' or text == 'Yes':\n",
    "    print(\"Yes\")\n",
    "else:\n",
    "    print('No')"
   ]
  },
  {
   "cell_type": "code",
   "execution_count": 6,
   "metadata": {},
   "outputs": [
    {
     "name": "stdout",
     "output_type": "stream",
     "text": [
      "Please type something. --> yes\n",
      "Yes\n"
     ]
    }
   ],
   "source": [
    "text = input(\"Please type something. --> \")\n"
   ]
  },
  {
   "cell_type": "markdown",
   "metadata": {},
   "source": [
    "### Please write a program to generate a list with 5 random numbers between 100 and 200 inclusive."
   ]
  },
  {
   "cell_type": "code",
   "execution_count": 89,
   "metadata": {},
   "outputs": [
    {
     "name": "stdout",
     "output_type": "stream",
     "text": [
      "[185, 124, 162, 172, 110]\n"
     ]
    }
   ],
   "source": [
    "import random\n",
    "b = []\n",
    "for i in range(1,6):\n",
    "    a= random.randint(100,201)\n",
    "    b.append(a)\n",
    "print(b)"
   ]
  },
  {
   "cell_type": "code",
   "execution_count": 40,
   "metadata": {},
   "outputs": [
    {
     "name": "stdout",
     "output_type": "stream",
     "text": [
      "166 171 129 194 154\n"
     ]
    }
   ],
   "source": [
    "import random\n",
    "a= random.randint(100,201)\n",
    "b= random.randint(100,201)\n",
    "c= random.randint(100,201)\n",
    "d= random.randint(100,201)\n",
    "e= random.randint(100,201)\n",
    "print(a,b,c,d,e)"
   ]
  },
  {
   "cell_type": "code",
   "execution_count": 7,
   "metadata": {},
   "outputs": [
    {
     "name": "stdout",
     "output_type": "stream",
     "text": [
      "[139, 188, 145, 194, 143]\n"
     ]
    }
   ],
   "source": [
    "import random\n"
   ]
  },
  {
   "cell_type": "markdown",
   "metadata": {},
   "source": [
    "### Please generate a random float where the value is between 5 and 95 using Python module."
   ]
  },
  {
   "cell_type": "code",
   "execution_count": 104,
   "metadata": {},
   "outputs": [
    {
     "name": "stdout",
     "output_type": "stream",
     "text": [
      "69.91737061388807\n"
     ]
    }
   ],
   "source": [
    "import random\n",
    "a= random.uniform(5,95)\n",
    "print(a)"
   ]
  },
  {
   "cell_type": "code",
   "execution_count": 146,
   "metadata": {},
   "outputs": [
    {
     "data": {
      "text/plain": [
       "5.571918878081068"
      ]
     },
     "execution_count": 146,
     "metadata": {},
     "output_type": "execute_result"
    }
   ],
   "source": [
    "random.vonmisesvariate(5,4)"
   ]
  },
  {
   "cell_type": "markdown",
   "metadata": {},
   "source": [
    "### [1,1,1,1,3,3,4,4,4,5,6,7,8,8,8]\n",
    "#### 1. from the above list print the uniques values\n",
    "#### 2. count how many times each number exist\n",
    "#### 3. Print the number which is occured more number of times"
   ]
  },
  {
   "cell_type": "code",
   "execution_count": 318,
   "metadata": {},
   "outputs": [
    {
     "data": {
      "text/plain": [
       "{1, 3, 4, 5, 6, 7, 8}"
      ]
     },
     "execution_count": 318,
     "metadata": {},
     "output_type": "execute_result"
    }
   ],
   "source": [
    "#1. from the above list print the uniques values\n",
    "a=[1,1,1,1,3,3,4,4,4,5,6,7,8,8,8]\n",
    "b=set(a)\n",
    "b"
   ]
  },
  {
   "cell_type": "code",
   "execution_count": 319,
   "metadata": {},
   "outputs": [
    {
     "data": {
      "text/plain": [
       "[1, 1, 1, 1, 3, 3, 4, 4, 4, 5, 6, 7, 8, 8, 8]"
      ]
     },
     "execution_count": 319,
     "metadata": {},
     "output_type": "execute_result"
    }
   ],
   "source": [
    "a"
   ]
  },
  {
   "cell_type": "code",
   "execution_count": 320,
   "metadata": {},
   "outputs": [
    {
     "data": {
      "text/plain": [
       "5"
      ]
     },
     "execution_count": 320,
     "metadata": {},
     "output_type": "execute_result"
    }
   ],
   "source": [
    "a[9]"
   ]
  },
  {
   "cell_type": "code",
   "execution_count": 316,
   "metadata": {},
   "outputs": [
    {
     "name": "stdout",
     "output_type": "stream",
     "text": [
      "counting 1 :  4 times\n",
      "counting 3 :  2 times\n",
      "counting 4 :  3 times\n",
      "counting 5 :  1 times\n",
      "counting 6 :  1 times\n",
      "counting 7 :  1 times\n",
      "counting 8 :  3 times\n"
     ]
    }
   ],
   "source": [
    "#2. count how many times each number exist\n",
    "#way1\n",
    "a=[1,1,1,1,3,3,4,4,4,5,6,7,8,8,8]\n",
    "b=a.count(1)\n",
    "print(\"counting 1 : \", b ,\"times\")\n",
    "c=a.count(3)\n",
    "print(\"counting 3 : \", c ,\"times\")\n",
    "d=a.count(4)\n",
    "print(\"counting 4 : \", d ,\"times\")\n",
    "e=a.count(5)\n",
    "print(\"counting 5 : \", e ,\"times\")\n",
    "f=a.count(6)\n",
    "print(\"counting 6 : \", f ,\"times\")\n",
    "g=a.count(7)\n",
    "print(\"counting 7 : \", g ,\"times\")\n",
    "h=a.count(8)\n",
    "print(\"counting 8 : \", h ,\"times\")"
   ]
  },
  {
   "cell_type": "code",
   "execution_count": 321,
   "metadata": {},
   "outputs": [
    {
     "name": "stdout",
     "output_type": "stream",
     "text": [
      "{1: 4, 3: 2, 4: 3, 5: 1, 6: 1, 7: 1, 8: 3}\n"
     ]
    }
   ],
   "source": [
    "#way2\n",
    "c = {}\n",
    "for i in a:\n",
    "    if i in c.fromkeys(a): \n",
    "        c[i] = a.count(i)\n",
    "        \n",
    "print(c)"
   ]
  },
  {
   "cell_type": "markdown",
   "metadata": {},
   "source": [
    "# 3. Print the number which is occured more number of times "
   ]
  },
  {
   "cell_type": "code",
   "execution_count": 324,
   "metadata": {},
   "outputs": [
    {
     "name": "stdout",
     "output_type": "stream",
     "text": [
      "1\n"
     ]
    }
   ],
   "source": [
    "for i in c:\n",
    "    mx = max(c.values())\n",
    "    value = {i for i in c if c[i] == mx}\n",
    "print(*value)"
   ]
  },
  {
   "cell_type": "markdown",
   "metadata": {},
   "source": [
    "# [Innomatics Research Labs](https:/innomatics.in/)\n",
    "[www.innomatics.in](https:/innomatics.in/)"
   ]
  },
  {
   "cell_type": "code",
   "execution_count": null,
   "metadata": {},
   "outputs": [],
   "source": []
  }
 ],
 "metadata": {
  "kernelspec": {
   "display_name": "Python 3 (ipykernel)",
   "language": "python",
   "name": "python3"
  },
  "language_info": {
   "codemirror_mode": {
    "name": "ipython",
    "version": 3
   },
   "file_extension": ".py",
   "mimetype": "text/x-python",
   "name": "python",
   "nbconvert_exporter": "python",
   "pygments_lexer": "ipython3",
   "version": "3.11.4"
  }
 },
 "nbformat": 4,
 "nbformat_minor": 2
}
