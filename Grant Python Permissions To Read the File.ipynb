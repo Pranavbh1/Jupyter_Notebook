{
 "cells": [
  {
   "cell_type": "markdown",
   "id": "cdca8921",
   "metadata": {},
   "source": [
    "##### – Grant Python Permissions To Read the File\n",
    "If you have “File_A.txt” that’s not accessible to your user account and your Python file (“File_B.py”), you can change the file permissions of “File_A.txt” or update the “file permissions” of the Python file, “File_B.py”.\n",
    "\n",
    "On Windows, you can use the following steps to update the privilege of your Python file:\n",
    "\n",
    "Open Windows explorer and navigate to the location of the Python file.\n",
    "Right-click on it and select “Properties” to open a dialog window\n",
    "Select the “Security” tab and choose your account username under “Group or user names”.\n",
    "Click on “Edit” and set the permissions that are required. This will be “Full Control”, “Modify”, “Read & execute”, “Read” and “Write”.\n",
    "Save your changes using the “Apply” button and click on “OK” to confirm."
   ]
  }
 ],
 "metadata": {
  "kernelspec": {
   "display_name": "Python 3 (ipykernel)",
   "language": "python",
   "name": "python3"
  },
  "language_info": {
   "codemirror_mode": {
    "name": "ipython",
    "version": 3
   },
   "file_extension": ".py",
   "mimetype": "text/x-python",
   "name": "python",
   "nbconvert_exporter": "python",
   "pygments_lexer": "ipython3",
   "version": "3.11.4"
  }
 },
 "nbformat": 4,
 "nbformat_minor": 5
}
