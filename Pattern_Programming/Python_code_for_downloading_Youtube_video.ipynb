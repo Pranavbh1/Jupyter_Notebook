{
 "cells": [
  {
   "cell_type": "markdown",
   "id": "eb70eb79",
   "metadata": {},
   "source": [
    "# Pranav Bhawsar"
   ]
  },
  {
   "cell_type": "code",
   "execution_count": 5,
   "id": "38944cbd",
   "metadata": {},
   "outputs": [
    {
     "name": "stdout",
     "output_type": "stream",
     "text": [
      "Collecting pytube\n",
      "  Downloading pytube-15.0.0-py3-none-any.whl (57 kB)\n",
      "     ---------------------------------------- 0.0/57.6 kB ? eta -:--:--\n",
      "     ----------------------------------- ---- 51.2/57.6 kB 1.3 MB/s eta 0:00:01\n",
      "     ---------------------------------------- 57.6/57.6 kB 1.0 MB/s eta 0:00:00\n",
      "Installing collected packages: pytube\n",
      "Successfully installed pytube-15.0.0\n",
      "Note: you may need to restart the kernel to use updated packages.\n"
     ]
    }
   ],
   "source": [
    "pip install pytube"
   ]
  },
  {
   "cell_type": "code",
   "execution_count": 11,
   "id": "abe211e5",
   "metadata": {},
   "outputs": [],
   "source": [
    "from pytube import YouTube\n",
    "\n",
    "def download_youtube_video (url, save_path):\n",
    "    try:\n",
    "        # Create a YouTube object\n",
    "        yt = YouTube(url) \n",
    "\n",
    "        # Choose the highest resolution stream (you can modify this as needed) stream = yt.streams.get_highest_resolution()\n",
    "        stream = yt.streams.get_highest_resolution()\n",
    "        # Download the video to the specified path stream.download (output_path=save_path)\n",
    "        stream.download(output_path=save_path)\n",
    "\n",
    "        print (f\"Video downloaded successfully to {save_path}/{yt.title}.mp4\")\n",
    "\n",
    "    except Exception as e:\n",
    "        print (f\"An error occurred: {str(e)}\")\n",
    "\n",
    "## Calling Function:\n",
    "\n",
    "# download_youtube_video (video_url, save_directory)\n",
    "\n"
   ]
  },
  {
   "cell_type": "code",
   "execution_count": 13,
   "id": "60c238d4",
   "metadata": {},
   "outputs": [
    {
     "name": "stdout",
     "output_type": "stream",
     "text": [
      "Video downloaded successfully to E:\\innomatics\\Python_class\\Self/Khaab.mp4\n"
     ]
    }
   ],
   "source": [
    "video_url = 'https://www.youtube.com/watch?v=2eliQ_KR8yA&list=RD2eliQ_KR8yA&start_radio=1' \n",
    "save_directory = r'E:\\innomatics\\Python_class\\Self'\n",
    "\n",
    "download_youtube_video(video_url, save_directory)"
   ]
  }
 ],
 "metadata": {
  "kernelspec": {
   "display_name": "Python 3 (ipykernel)",
   "language": "python",
   "name": "python3"
  },
  "language_info": {
   "codemirror_mode": {
    "name": "ipython",
    "version": 3
   },
   "file_extension": ".py",
   "mimetype": "text/x-python",
   "name": "python",
   "nbconvert_exporter": "python",
   "pygments_lexer": "ipython3",
   "version": "3.11.4"
  }
 },
 "nbformat": 4,
 "nbformat_minor": 5
}
