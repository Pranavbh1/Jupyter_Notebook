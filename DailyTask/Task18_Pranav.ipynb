{
 "cells": [
  {
   "cell_type": "code",
   "execution_count": 3,
   "id": "d6c28730",
   "metadata": {},
   "outputs": [],
   "source": [
    "def average_grade():\n",
    "    try:\n",
    "        total_std = int(input(\"Enter total number of students:  \"))\n",
    "        if total_std <= 0 :\n",
    "            raise ValueError('Total student must be more than 0')\n",
    "\n",
    "        totalgrade = 0\n",
    "        for _ in range(total_std):\n",
    "            name_std = input(\"Enter the name of student: \")\n",
    "            sub1 = int(input(\"Enter grade of subject 1, out of 100:  \"))\n",
    "            sub2 = int(input(\"Enter grade of subject 2, out of 100:  \"))\n",
    "            sub3 = int(input(\"Enter grade of subject 3, out of 100:  \"))\n",
    "\n",
    "            if not (1 <= sub1 <= 100 and 1 <= sub2 <= 100 and 1 <= sub3 <= 100):\n",
    "                raise ValueError(\"Grades should be within the range 1-100\")\n",
    "\n",
    "            avg_grade = (sub1 + sub2 + sub3) / 3\n",
    "            print(f\"Average grade for {name_std} is {avg_grade}\")\n",
    "            totalgrade += avg_grade\n",
    "\n",
    "        print(f\"Average grade for all students is {totalgrade / total_std}\")\n",
    "\n",
    "    except ValueError as ve:\n",
    "        print(ve)"
   ]
  },
  {
   "cell_type": "code",
   "execution_count": 4,
   "id": "ca959272",
   "metadata": {},
   "outputs": [
    {
     "name": "stdout",
     "output_type": "stream",
     "text": [
      "Enter total number of students:  -\n",
      "invalid literal for int() with base 10: '-'\n"
     ]
    }
   ],
   "source": [
    "average_grade()"
   ]
  },
  {
   "cell_type": "code",
   "execution_count": null,
   "id": "04b729ee",
   "metadata": {},
   "outputs": [],
   "source": [
    "def average_grade():\n",
    "    try:\n",
    "        total_std = int(input(\"Enter total number of students:  \")) #given int so that user will not enter alphabets\n",
    "        if total_std > 0 :\n",
    "            name_std = input(\"Enter the name of student: \")\n",
    "            sub1 = int(input(\"Enter number of subject 1  , out of 100:  \"))\n",
    "            sub2 = int(input(\"Enter number of subject 2  , out of 100:  \"))\n",
    "            sub3 = int(input(\"Enter number of subject 3  , out of 100:  \"))\n",
    "            #if name_std.isnumeric():\n",
    "             #   raise NumericError#(\"Name of student must be in alphabet\")\n",
    "            marks_range = range(1,100)\n",
    "            if sub1 or sub2 or sub3 not in marks_range:  #sub1<=0 or sub2<=0 or sub3<=0 : #or sub1>100 or sub2>100 or sub3>100:\n",
    "                raise NumericError(\"Marks of Students should not be negative and should not be more than 100\")\n",
    "            #break\n",
    "            elif sub1.isnull() and sub2.isnull() and sub3.isnull():\n",
    "                raise ZeroDivisionError(\"It will return in raising the problem in formulating average of particular student.\")\n",
    "                #break\n",
    "        else:\n",
    "            raise ValueError('total student will more 0')\n",
    "            #break\n",
    "        #break\n",
    "    except ValueError:\n",
    "        print(\"Can't be negative\")\n",
    "    #except NumericError:\n",
    "     #   print(\"Name of student must be in alphabet\")\n",
    "    #except ValueError01:\n",
    "     #   print(\"Can't be less then zero and more than 100\")\n",
    "    #except ZeroDivisionError:\n",
    "     #   print(\"Can't be null\")\n",
    "\n",
    "average_grade()"
   ]
  },
  {
   "cell_type": "code",
   "execution_count": 40,
   "id": "ab84c568",
   "metadata": {},
   "outputs": [
    {
     "name": "stdout",
     "output_type": "stream",
     "text": [
      "Enter total number of students:  10\n",
      "Enter the name of student: pratik\n",
      "Enter number of subject 1  , out of 100:  \n",
      "Can't be negative\n"
     ]
    }
   ],
   "source": [
    "def average_grade():\n",
    "    try:\n",
    "        total_std = int(input(\"Enter total number of students:  \"))\n",
    "        if total_std > 0:\n",
    "            name_std = input(\"Enter the name of student: \")\n",
    "            sub1 = int(input(\"Enter number of subject 1  , out of 100:  \"))\n",
    "            sub2 = int(input(\"Enter number of subject 2  , out of 100:  \"))\n",
    "            sub3 = int(input(\"Enter number of subject 3  , out of 100:  \"))\n",
    "            if sub1<=0 or sub2<=0 or sub3<=0 : #or sub1>100 or sub2>100 or sub3>100:\n",
    "                raise ValueError\n",
    "            elif sub1.isnull() and sub2.isnull() and sub3.isnull():\n",
    "                raise ZeroDivisionError\n",
    "            #else:\n",
    "             #   raise ValueError\n",
    "        else:\n",
    "            raise ValueError\n",
    "    except ValueError:\n",
    "        print(\"Can't be negative\")\n",
    "    except ValueError01:\n",
    "        print(\"Can't be less then zero and more than 100\")\n",
    "    except ZeroDivisionError:\n",
    "        print(\"Can't be null\")\n",
    "\n",
    "average_grade()"
   ]
  },
  {
   "cell_type": "code",
   "execution_count": null,
   "id": "43be8c18",
   "metadata": {},
   "outputs": [],
   "source": [
    "def average_grade():\n",
    "    try:\n",
    "        total_std = int(input(\"Enter total number of students:  \")) #given int so that user will not enter alphabets\n",
    "        if total_std > 0 :\n",
    "            name_std = input(\"Enter the name of student: \")\n",
    "            sub1 = int(input(\"Enter number of subject 1  , out of 100:  \"))\n",
    "            sub2 = int(input(\"Enter number of subject 2  , out of 100:  \"))\n",
    "            sub3 = int(input(\"Enter number of subject 3  , out of 100:  \"))\n",
    "            if name_std.isnumeric():\n",
    "                raise ValueError(\"Name of student must be in alphabet\")\n",
    "            #break\n",
    "                marks_range = range(1,100)\n",
    "                if sub1 or sub2 or sub3 not in marks_range:  #sub1<=0 or sub2<=0 or sub3<=0 : #or sub1>100 or sub2>100 or sub3>100:\n",
    "                    raise ValueError(\"Marks of Students should not be negative and should not be more than 100\")\n",
    "                #break\n",
    "                elif sub1.isnull() and sub2.isnull() and sub3.isnull():\n",
    "                    raise ZeroDivisionError(\"It will return in raising the problem in formulating average of particular student.\")\n",
    "                #break\n",
    "        else:\n",
    "            raise ValueError('total student will more 0')\n",
    "        break\n",
    "        #break\n",
    "    except ValueError:\n",
    "        print(\"Can't be negative\")\n",
    "    #except ValueError01:\n",
    "     #   print(\"Can't be less then zero and more than 100\")\n",
    "    #except ZeroDivisionError:\n",
    "     #   print(\"Can't be null\")\n",
    "\n",
    "average_grade()\n"
   ]
  },
  {
   "cell_type": "code",
   "execution_count": 19,
   "id": "7a73cca5",
   "metadata": {},
   "outputs": [],
   "source": [
    "            \n",
    "\n",
    "        #    raise ValueError\n",
    "       # print(\"average of student naming\" ,b , \" = \", (c+d+e)/3)\n",
    "    #except Exception as msg :\n",
    "     #   print(msg)\n",
    "    #else:\n",
    "     #   print(\"There is no error occured during excecution\")\n",
    "        #else part will run only there is no exception\n",
    "    # finally:\n",
    "     #   print(\"exception handling is done successfully\")\n",
    "        # finally is exceuted irrespective of exception"
   ]
  },
  {
   "cell_type": "code",
   "execution_count": 9,
   "id": "490cc628",
   "metadata": {},
   "outputs": [],
   "source": [
    "class NumericError(Exception):\n",
    "    pass\n",
    "\n",
    "def average_grade():\n",
    "    try:\n",
    "        total_std = int(input(\"Enter total number of students:  \"))\n",
    "        if total_std <= 0 :\n",
    "            raise ValueError('Total student must be more than 0')\n",
    "\n",
    "        totalgrade = 0\n",
    "        for _ in range(total_std):\n",
    "            name_std = input(\"Enter the name of student: \")\n",
    "            sub1 = int(input(\"Enter grade of subject 1, out of 100:  \"))\n",
    "            sub2 = int(input(\"Enter grade of subject 2, out of 100:  \"))\n",
    "            sub3 = int(input(\"Enter grade of subject 3, out of 100:  \"))\n",
    "\n",
    "            if not (1 <= sub1 <= 100 and 1 <= sub2 <= 100 and 1 <= sub3 <= 100):\n",
    "                raise NumericError(\"Grades should be within the range 1-100\")\n",
    "\n",
    "            avg_grade = (sub1 + sub2 + sub3) / 3\n",
    "            print(f\"Average grade for {name_std} is {avg_grade}\")\n",
    "            total_grade += avg_grade\n",
    "\n",
    "        print(f\"Average grade for all students is {total_grade / total_std}\")\n",
    "\n",
    "    except ValueError as ve:\n",
    "        print(ve)\n",
    "    except NumericError as ne:\n",
    "        print(ne)"
   ]
  },
  {
   "cell_type": "code",
   "execution_count": 10,
   "id": "7424473c",
   "metadata": {},
   "outputs": [
    {
     "name": "stdout",
     "output_type": "stream",
     "text": [
      "Enter total number of students:  -10\n",
      "Total student must be more than 0\n"
     ]
    }
   ],
   "source": [
    "average_grade()\n"
   ]
  },
  {
   "cell_type": "code",
   "execution_count": null,
   "id": "b6e8e81a",
   "metadata": {},
   "outputs": [],
   "source": [
    "average_grade()"
   ]
  },
  {
   "cell_type": "code",
   "execution_count": 9,
   "id": "cd4251b6",
   "metadata": {},
   "outputs": [],
   "source": [
    "def average_grade():\n",
    "    try:\n",
    "        total_std = int(input(\"Enter total number of students:  \"))\n",
    "        if total_std <= 0 :\n",
    "            raise ValueError('Total student must be more than 0')\n",
    "\n",
    "        totalgrade = 0\n",
    "        for _ in range(total_std):\n",
    "            name_std = input(\"Enter the name of student: \")\n",
    "            sub1 = int(input(\"Enter grade of subject 1, out of 100:  \"))\n",
    "            sub2 = int(input(\"Enter grade of subject 2, out of 100:  \"))\n",
    "            sub3 = int(input(\"Enter grade of subject 3, out of 100:  \"))\n",
    "\n",
    "            if not (1 <= sub1 <= 100 and 1 <= sub2 <= 100 and 1 <= sub3 <= 100):\n",
    "                raise ValueError(\"Grades should be within the range 1-100\")\n",
    "\n",
    "            avg_grade = (sub1 + sub2 + sub3) / 3\n",
    "            print(f\"Average grade for {name_std} is {avg_grade}\")\n",
    "            totalgrade += avg_grade\n",
    "\n",
    "        print(f\"Average grade for all students is {totalgrade / total_std}\")\n",
    "\n",
    "    except ValueError as ve:\n",
    "        print(ve)"
   ]
  },
  {
   "cell_type": "code",
   "execution_count": 10,
   "id": "b4122a8f",
   "metadata": {},
   "outputs": [
    {
     "name": "stdout",
     "output_type": "stream",
     "text": [
      "Enter total number of students:  2\n",
      "Enter the name of student: 0\n",
      "Enter grade of subject 1, out of 100:  -1\n",
      "Enter grade of subject 2, out of 100:  5\n",
      "Enter grade of subject 3, out of 100:  6\n",
      "Grades should be within the range 1-100\n"
     ]
    }
   ],
   "source": [
    "average_grade()"
   ]
  },
  {
   "cell_type": "code",
   "execution_count": null,
   "id": "96ba6c0b",
   "metadata": {},
   "outputs": [],
   "source": []
  }
 ],
 "metadata": {
  "kernelspec": {
   "display_name": "Python 3 (ipykernel)",
   "language": "python",
   "name": "python3"
  },
  "language_info": {
   "codemirror_mode": {
    "name": "ipython",
    "version": 3
   },
   "file_extension": ".py",
   "mimetype": "text/x-python",
   "name": "python",
   "nbconvert_exporter": "python",
   "pygments_lexer": "ipython3",
   "version": "3.11.4"
  }
 },
 "nbformat": 4,
 "nbformat_minor": 5
}
