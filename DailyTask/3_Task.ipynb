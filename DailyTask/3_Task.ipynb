{
 "cells": [
  {
   "cell_type": "markdown",
   "id": "47d7cb6a",
   "metadata": {},
   "source": [
    "##### 1 ) Write a python program that takes two numbers as input and performs bitwise AND ( & ) operation on them ."
   ]
  },
  {
   "cell_type": "code",
   "execution_count": 1,
   "id": "941ee7ad",
   "metadata": {},
   "outputs": [
    {
     "name": "stdout",
     "output_type": "stream",
     "text": [
      "1291118056342\n"
     ]
    }
   ],
   "source": [
    "num1 = 5689165626262\n",
    "num2 = 79614662124995623165566621662\n",
    "print ( num1 & num2 )"
   ]
  },
  {
   "cell_type": "code",
   "execution_count": 2,
   "id": "16c4741b",
   "metadata": {},
   "outputs": [
    {
     "name": "stdout",
     "output_type": "stream",
     "text": [
      "2\n"
     ]
    }
   ],
   "source": [
    "a = 2\n",
    "b = 3\n",
    "print ( a & b )"
   ]
  },
  {
   "cell_type": "markdown",
   "id": "28023f44",
   "metadata": {},
   "source": [
    "##### 2 ) Write a python program that takes two numbers as input and check if the first number is greater than second number ."
   ]
  },
  {
   "cell_type": "code",
   "execution_count": 3,
   "id": "610223e7",
   "metadata": {},
   "outputs": [
    {
     "data": {
      "text/plain": [
       "True"
      ]
     },
     "execution_count": 3,
     "metadata": {},
     "output_type": "execute_result"
    }
   ],
   "source": [
    "x , y = 456 , 123\n",
    "x > y "
   ]
  },
  {
   "cell_type": "markdown",
   "id": "09b96f25",
   "metadata": {},
   "source": [
    "##### 3 ) Write a python program to calculate average of three numbers using arithmetic operators"
   ]
  },
  {
   "cell_type": "code",
   "execution_count": 4,
   "id": "d5e8a5f9",
   "metadata": {},
   "outputs": [
    {
     "name": "stdout",
     "output_type": "stream",
     "text": [
      "9.666666666666666\n"
     ]
    }
   ],
   "source": [
    "l = 5\n",
    "m = 9\n",
    "n = 15\n",
    "print ((l + m + n)/3)"
   ]
  },
  {
   "cell_type": "markdown",
   "id": "1699c69e",
   "metadata": {},
   "source": [
    "##### 4 ) Write a python program that checks if a given element is present in the list using the in operator ."
   ]
  },
  {
   "cell_type": "code",
   "execution_count": 5,
   "id": "70bf9c37",
   "metadata": {},
   "outputs": [
    {
     "data": {
      "text/plain": [
       "True"
      ]
     },
     "execution_count": 5,
     "metadata": {},
     "output_type": "execute_result"
    }
   ],
   "source": [
    "scientist = \"Pranav bhawsar\"\n",
    "\"nav\" in scientist"
   ]
  },
  {
   "cell_type": "code",
   "execution_count": 6,
   "id": "dfebe6ee",
   "metadata": {},
   "outputs": [
    {
     "data": {
      "text/plain": [
       "False"
      ]
     },
     "execution_count": 6,
     "metadata": {},
     "output_type": "execute_result"
    }
   ],
   "source": [
    "\"Bhawsar\" in scientist"
   ]
  },
  {
   "cell_type": "markdown",
   "id": "1379a686",
   "metadata": {},
   "source": [
    "##### 5 ) Write a python program that compares two variables using the 'is' operator and check if they refer to same object"
   ]
  },
  {
   "cell_type": "code",
   "execution_count": 9,
   "id": "7ff499fc",
   "metadata": {},
   "outputs": [],
   "source": [
    "p = 5\n",
    "q = 6"
   ]
  },
  {
   "cell_type": "code",
   "execution_count": 10,
   "id": "22fe37b5",
   "metadata": {},
   "outputs": [
    {
     "data": {
      "text/plain": [
       "140717687477160"
      ]
     },
     "execution_count": 10,
     "metadata": {},
     "output_type": "execute_result"
    }
   ],
   "source": [
    "id ( p )"
   ]
  },
  {
   "cell_type": "code",
   "execution_count": null,
   "id": "36078c4f",
   "metadata": {},
   "outputs": [],
   "source": [
    "id ( q )\n",
    "140713402471368\n",
    "\n",
    "False\n",
    "\n",
    "\n",
    "g = 5.0\n",
    "h = 5.0\n",
    "g is f"
   ]
  },
  {
   "cell_type": "code",
   "execution_count": null,
   "id": "e3914f26",
   "metadata": {},
   "outputs": [],
   "source": [
    "p is q"
   ]
  },
  {
   "cell_type": "code",
   "execution_count": null,
   "id": "f445d0fb",
   "metadata": {},
   "outputs": [],
   "source": [
    "q is p"
   ]
  }
 ],
 "metadata": {
  "kernelspec": {
   "display_name": "Python 3 (ipykernel)",
   "language": "python",
   "name": "python3"
  },
  "language_info": {
   "codemirror_mode": {
    "name": "ipython",
    "version": 3
   },
   "file_extension": ".py",
   "mimetype": "text/x-python",
   "name": "python",
   "nbconvert_exporter": "python",
   "pygments_lexer": "ipython3",
   "version": "3.11.4"
  }
 },
 "nbformat": 4,
 "nbformat_minor": 5
}
