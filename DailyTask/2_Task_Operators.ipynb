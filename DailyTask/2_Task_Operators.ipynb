{
 "cells": [
  {
   "cell_type": "markdown",
   "id": "04056cc7",
   "metadata": {},
   "source": [
    "# Definition :- Symbols that are used to do certain operations in python programming language are known as OPERATORS."
   ]
  },
  {
   "cell_type": "markdown",
   "id": "2e70651a",
   "metadata": {},
   "source": [
    "## Total 6 types operations are there:-"
   ]
  },
  {
   "cell_type": "markdown",
   "id": "7137e3f9",
   "metadata": {},
   "source": [
    "#### 1) Arithmetic operation"
   ]
  },
  {
   "cell_type": "raw",
   "id": "6ca752cc",
   "metadata": {},
   "source": [
    "⁂ (+) Addition\n",
    "⁂ (–) Subtraction\n",
    "⁂ (*) Multiplication\n",
    "⁂ (/) Division Operator\n",
    "⁂ (%) Modulo Operator\n",
    "⁂ (//) Floor Division Operator\n",
    "⁂ (**) Exponent Operator OR Power Operator"
   ]
  },
  {
   "cell_type": "markdown",
   "id": "7dcfbdc1",
   "metadata": {},
   "source": [
    "##### For integers"
   ]
  },
  {
   "cell_type": "code",
   "execution_count": 2,
   "id": "75698fff",
   "metadata": {},
   "outputs": [],
   "source": [
    "a , b = 20 , 10 "
   ]
  },
  {
   "cell_type": "markdown",
   "id": "178d3353",
   "metadata": {},
   "source": [
    "Case 1 :- Addition ( + )"
   ]
  },
  {
   "cell_type": "code",
   "execution_count": 4,
   "id": "b5ebf3a0",
   "metadata": {},
   "outputs": [
    {
     "name": "stdout",
     "output_type": "stream",
     "text": [
      "30\n"
     ]
    }
   ],
   "source": [
    "print ( a + b )"
   ]
  },
  {
   "cell_type": "markdown",
   "id": "c458560c",
   "metadata": {},
   "source": [
    "Case 2 :- Substraction ( - )"
   ]
  },
  {
   "cell_type": "code",
   "execution_count": 5,
   "id": "e80940ff",
   "metadata": {},
   "outputs": [
    {
     "name": "stdout",
     "output_type": "stream",
     "text": [
      "10\n"
     ]
    }
   ],
   "source": [
    "print ( a - b )"
   ]
  },
  {
   "cell_type": "markdown",
   "id": "8aa69f15",
   "metadata": {},
   "source": [
    "Case 3 :- Multiplication ( * )`"
   ]
  },
  {
   "cell_type": "code",
   "execution_count": 6,
   "id": "cc10709f",
   "metadata": {},
   "outputs": [
    {
     "name": "stdout",
     "output_type": "stream",
     "text": [
      "200\n"
     ]
    }
   ],
   "source": [
    "print ( a * b )\n"
   ]
  },
  {
   "cell_type": "markdown",
   "id": "10a478b2",
   "metadata": {},
   "source": [
    "Case 4 :- Divisor ( / )"
   ]
  },
  {
   "cell_type": "code",
   "execution_count": 9,
   "id": "4f92602e",
   "metadata": {},
   "outputs": [
    {
     "name": "stdout",
     "output_type": "stream",
     "text": [
      "2.0\n"
     ]
    }
   ],
   "source": [
    "print ( a / b )"
   ]
  },
  {
   "cell_type": "markdown",
   "id": "a939af53",
   "metadata": {},
   "source": [
    "Case 5 :- Floor Division ( // )"
   ]
  },
  {
   "cell_type": "code",
   "execution_count": 10,
   "id": "2b385370",
   "metadata": {},
   "outputs": [
    {
     "name": "stdout",
     "output_type": "stream",
     "text": [
      "2\n"
     ]
    }
   ],
   "source": [
    "print ( a // b )"
   ]
  },
  {
   "cell_type": "markdown",
   "id": "82560775",
   "metadata": {},
   "source": [
    "Case 6 :- Modulo ( % )"
   ]
  },
  {
   "cell_type": "code",
   "execution_count": 11,
   "id": "dc14792c",
   "metadata": {},
   "outputs": [
    {
     "name": "stdout",
     "output_type": "stream",
     "text": [
      "0\n"
     ]
    }
   ],
   "source": [
    "print ( a % b )"
   ]
  },
  {
   "cell_type": "markdown",
   "id": "38df725b",
   "metadata": {},
   "source": [
    "Case 7 :- Exponential / Power ( ** )"
   ]
  },
  {
   "cell_type": "code",
   "execution_count": 12,
   "id": "4bd309cb",
   "metadata": {},
   "outputs": [
    {
     "name": "stdout",
     "output_type": "stream",
     "text": [
      "10240000000000\n"
     ]
    }
   ],
   "source": [
    "print ( a ** b )"
   ]
  },
  {
   "cell_type": "markdown",
   "id": "f31392f1",
   "metadata": {},
   "source": [
    "##### For Float"
   ]
  },
  {
   "cell_type": "code",
   "execution_count": 13,
   "id": "5f6e6d10",
   "metadata": {},
   "outputs": [],
   "source": [
    "x , y = 1.2 , 3.6"
   ]
  },
  {
   "cell_type": "markdown",
   "id": "53502da0",
   "metadata": {},
   "source": [
    "Case 1 :- Addition ( + )"
   ]
  },
  {
   "cell_type": "code",
   "execution_count": 14,
   "id": "a4cc0271",
   "metadata": {},
   "outputs": [
    {
     "name": "stdout",
     "output_type": "stream",
     "text": [
      "4.8\n"
     ]
    }
   ],
   "source": [
    "print ( x + y )"
   ]
  },
  {
   "cell_type": "markdown",
   "id": "f636ff83",
   "metadata": {},
   "source": [
    "Case 2 :- Substraction ( - )"
   ]
  },
  {
   "cell_type": "code",
   "execution_count": 15,
   "id": "62cc7eb5",
   "metadata": {},
   "outputs": [
    {
     "name": "stdout",
     "output_type": "stream",
     "text": [
      "-2.4000000000000004\n"
     ]
    }
   ],
   "source": [
    "print ( x - y )"
   ]
  },
  {
   "cell_type": "markdown",
   "id": "a7913154",
   "metadata": {},
   "source": [
    "Case 3 :- Multiplication ( * )"
   ]
  },
  {
   "cell_type": "code",
   "execution_count": 16,
   "id": "ebc39986",
   "metadata": {},
   "outputs": [
    {
     "name": "stdout",
     "output_type": "stream",
     "text": [
      "4.32\n"
     ]
    }
   ],
   "source": [
    "print ( x * y )"
   ]
  },
  {
   "cell_type": "markdown",
   "id": "9c74cc68",
   "metadata": {},
   "source": [
    "Case 4 :- Divisor ( / )"
   ]
  },
  {
   "cell_type": "code",
   "execution_count": 17,
   "id": "c751da13",
   "metadata": {},
   "outputs": [
    {
     "name": "stdout",
     "output_type": "stream",
     "text": [
      "0.3333333333333333\n"
     ]
    }
   ],
   "source": [
    "print ( x / y )"
   ]
  },
  {
   "cell_type": "markdown",
   "id": "dbeadbe8",
   "metadata": {},
   "source": [
    "Case 5 :- Floor Division ( // )\n"
   ]
  },
  {
   "cell_type": "code",
   "execution_count": 18,
   "id": "0e45327c",
   "metadata": {},
   "outputs": [
    {
     "name": "stdout",
     "output_type": "stream",
     "text": [
      "0.0\n"
     ]
    }
   ],
   "source": [
    "print ( x // y )"
   ]
  },
  {
   "cell_type": "markdown",
   "id": "14d00bd6",
   "metadata": {},
   "source": [
    "Case 6 :- Modulo ( % )"
   ]
  },
  {
   "cell_type": "code",
   "execution_count": 19,
   "id": "886c4573",
   "metadata": {},
   "outputs": [
    {
     "name": "stdout",
     "output_type": "stream",
     "text": [
      "1.2\n"
     ]
    }
   ],
   "source": [
    "print ( x % y )"
   ]
  },
  {
   "cell_type": "markdown",
   "id": "45f3e543",
   "metadata": {},
   "source": [
    "Case 7 :- Exponential / Power ( ** )\n"
   ]
  },
  {
   "cell_type": "code",
   "execution_count": 20,
   "id": "0d737c0e",
   "metadata": {},
   "outputs": [
    {
     "name": "stdout",
     "output_type": "stream",
     "text": [
      "1.9277578743491417\n"
     ]
    }
   ],
   "source": [
    "print ( x ** y )"
   ]
  },
  {
   "cell_type": "markdown",
   "id": "8e255998",
   "metadata": {},
   "source": [
    "##### For Integer and Float"
   ]
  },
  {
   "cell_type": "code",
   "execution_count": 21,
   "id": "729c6db8",
   "metadata": {},
   "outputs": [
    {
     "data": {
      "text/plain": [
       "21.2"
      ]
     },
     "execution_count": 21,
     "metadata": {},
     "output_type": "execute_result"
    }
   ],
   "source": [
    "a + x   #Addition"
   ]
  },
  {
   "cell_type": "code",
   "execution_count": 22,
   "id": "a897361d",
   "metadata": {},
   "outputs": [
    {
     "data": {
      "text/plain": [
       "18.8"
      ]
     },
     "execution_count": 22,
     "metadata": {},
     "output_type": "execute_result"
    }
   ],
   "source": [
    "a - x   #Substraction"
   ]
  },
  {
   "cell_type": "code",
   "execution_count": 23,
   "id": "47b76c10",
   "metadata": {},
   "outputs": [
    {
     "data": {
      "text/plain": [
       "16.666666666666668"
      ]
     },
     "execution_count": 23,
     "metadata": {},
     "output_type": "execute_result"
    }
   ],
   "source": [
    "a / x   #Divisor"
   ]
  },
  {
   "cell_type": "code",
   "execution_count": 24,
   "id": "56f70bef",
   "metadata": {},
   "outputs": [
    {
     "data": {
      "text/plain": [
       "16.0"
      ]
     },
     "execution_count": 24,
     "metadata": {},
     "output_type": "execute_result"
    }
   ],
   "source": [
    "a // x  #Floor Divison"
   ]
  },
  {
   "cell_type": "code",
   "execution_count": 25,
   "id": "23e01c89",
   "metadata": {},
   "outputs": [
    {
     "data": {
      "text/plain": [
       "0.8000000000000007"
      ]
     },
     "execution_count": 25,
     "metadata": {},
     "output_type": "execute_result"
    }
   ],
   "source": [
    "a % x   #Modulo"
   ]
  },
  {
   "cell_type": "code",
   "execution_count": 26,
   "id": "43497d02",
   "metadata": {},
   "outputs": [
    {
     "data": {
      "text/plain": [
       "36.4112840605216"
      ]
     },
     "execution_count": 26,
     "metadata": {},
     "output_type": "execute_result"
    }
   ],
   "source": [
    "a ** x  #Exponenial/Power"
   ]
  },
  {
   "cell_type": "markdown",
   "id": "3524b337",
   "metadata": {},
   "source": [
    "##### For String ( Concatenation :- is the operation of joining character strings end-to-end )"
   ]
  },
  {
   "cell_type": "code",
   "execution_count": 27,
   "id": "2740ebe4",
   "metadata": {},
   "outputs": [],
   "source": [
    "c , d = \"Pranav\" , 'Bhawsar'"
   ]
  },
  {
   "cell_type": "code",
   "execution_count": 28,
   "id": "604935f2",
   "metadata": {},
   "outputs": [
    {
     "name": "stdout",
     "output_type": "stream",
     "text": [
      "PranavBhawsar\n"
     ]
    }
   ],
   "source": [
    "print ( c + d )  #Addition"
   ]
  },
  {
   "cell_type": "code",
   "execution_count": 29,
   "id": "972c0e64",
   "metadata": {},
   "outputs": [
    {
     "ename": "TypeError",
     "evalue": "unsupported operand type(s) for -: 'str' and 'str'",
     "output_type": "error",
     "traceback": [
      "\u001b[1;31m---------------------------------------------------------------------------\u001b[0m",
      "\u001b[1;31mTypeError\u001b[0m                                 Traceback (most recent call last)",
      "Cell \u001b[1;32mIn[29], line 1\u001b[0m\n\u001b[1;32m----> 1\u001b[0m \u001b[38;5;28mprint\u001b[39m ( c \u001b[38;5;241m-\u001b[39m d )\n",
      "\u001b[1;31mTypeError\u001b[0m: unsupported operand type(s) for -: 'str' and 'str'"
     ]
    }
   ],
   "source": [
    "print ( c - d )   #Substraction"
   ]
  },
  {
   "cell_type": "code",
   "execution_count": 33,
   "id": "91c6460e",
   "metadata": {},
   "outputs": [
    {
     "ename": "TypeError",
     "evalue": "unsupported operand type(s) for /: 'str' and 'str'",
     "output_type": "error",
     "traceback": [
      "\u001b[1;31m---------------------------------------------------------------------------\u001b[0m",
      "\u001b[1;31mTypeError\u001b[0m                                 Traceback (most recent call last)",
      "Cell \u001b[1;32mIn[33], line 1\u001b[0m\n\u001b[1;32m----> 1\u001b[0m c \u001b[38;5;241m/\u001b[39m d\n",
      "\u001b[1;31mTypeError\u001b[0m: unsupported operand type(s) for /: 'str' and 'str'"
     ]
    }
   ],
   "source": [
    "c / d   #Divisor"
   ]
  },
  {
   "cell_type": "code",
   "execution_count": 30,
   "id": "0d589e30",
   "metadata": {},
   "outputs": [
    {
     "ename": "TypeError",
     "evalue": "unsupported operand type(s) for //: 'str' and 'str'",
     "output_type": "error",
     "traceback": [
      "\u001b[1;31m---------------------------------------------------------------------------\u001b[0m",
      "\u001b[1;31mTypeError\u001b[0m                                 Traceback (most recent call last)",
      "Cell \u001b[1;32mIn[30], line 1\u001b[0m\n\u001b[1;32m----> 1\u001b[0m c \u001b[38;5;241m/\u001b[39m\u001b[38;5;241m/\u001b[39m d\n",
      "\u001b[1;31mTypeError\u001b[0m: unsupported operand type(s) for //: 'str' and 'str'"
     ]
    }
   ],
   "source": [
    "c // d  #Floor Divison"
   ]
  },
  {
   "cell_type": "code",
   "execution_count": 31,
   "id": "fa7fcd60",
   "metadata": {},
   "outputs": [
    {
     "ename": "TypeError",
     "evalue": "not all arguments converted during string formatting",
     "output_type": "error",
     "traceback": [
      "\u001b[1;31m---------------------------------------------------------------------------\u001b[0m",
      "\u001b[1;31mTypeError\u001b[0m                                 Traceback (most recent call last)",
      "Cell \u001b[1;32mIn[31], line 1\u001b[0m\n\u001b[1;32m----> 1\u001b[0m c \u001b[38;5;241m%\u001b[39m d\n",
      "\u001b[1;31mTypeError\u001b[0m: not all arguments converted during string formatting"
     ]
    }
   ],
   "source": [
    "c % d   #Modulo"
   ]
  },
  {
   "cell_type": "code",
   "execution_count": 32,
   "id": "1ca03376",
   "metadata": {},
   "outputs": [
    {
     "ename": "TypeError",
     "evalue": "unsupported operand type(s) for ** or pow(): 'str' and 'str'",
     "output_type": "error",
     "traceback": [
      "\u001b[1;31m---------------------------------------------------------------------------\u001b[0m",
      "\u001b[1;31mTypeError\u001b[0m                                 Traceback (most recent call last)",
      "Cell \u001b[1;32mIn[32], line 1\u001b[0m\n\u001b[1;32m----> 1\u001b[0m c \u001b[38;5;241m*\u001b[39m\u001b[38;5;241m*\u001b[39m d\n",
      "\u001b[1;31mTypeError\u001b[0m: unsupported operand type(s) for ** or pow(): 'str' and 'str'"
     ]
    }
   ],
   "source": [
    "c ** d  #Exponenial/Power"
   ]
  },
  {
   "cell_type": "markdown",
   "id": "ce636a2a",
   "metadata": {},
   "source": [
    "##### For String and Integer"
   ]
  },
  {
   "cell_type": "code",
   "execution_count": 34,
   "id": "4fec6d4c",
   "metadata": {},
   "outputs": [
    {
     "ename": "TypeError",
     "evalue": "can only concatenate str (not \"int\") to str",
     "output_type": "error",
     "traceback": [
      "\u001b[1;31m---------------------------------------------------------------------------\u001b[0m",
      "\u001b[1;31mTypeError\u001b[0m                                 Traceback (most recent call last)",
      "Cell \u001b[1;32mIn[34], line 1\u001b[0m\n\u001b[1;32m----> 1\u001b[0m \u001b[38;5;124m\"\u001b[39m\u001b[38;5;124mpranav\u001b[39m\u001b[38;5;124m\"\u001b[39m \u001b[38;5;241m+\u001b[39m \u001b[38;5;241m1\u001b[39m\n",
      "\u001b[1;31mTypeError\u001b[0m: can only concatenate str (not \"int\") to str"
     ]
    }
   ],
   "source": [
    "\"pranav\" + 1 "
   ]
  },
  {
   "cell_type": "code",
   "execution_count": 35,
   "id": "d33acffd",
   "metadata": {},
   "outputs": [
    {
     "ename": "TypeError",
     "evalue": "unsupported operand type(s) for -: 'str' and 'int'",
     "output_type": "error",
     "traceback": [
      "\u001b[1;31m---------------------------------------------------------------------------\u001b[0m",
      "\u001b[1;31mTypeError\u001b[0m                                 Traceback (most recent call last)",
      "Cell \u001b[1;32mIn[35], line 1\u001b[0m\n\u001b[1;32m----> 1\u001b[0m \u001b[38;5;124m'\u001b[39m\u001b[38;5;124mPranav\u001b[39m\u001b[38;5;124m'\u001b[39m \u001b[38;5;241m-\u001b[39m\u001b[38;5;241m1\u001b[39m\n",
      "\u001b[1;31mTypeError\u001b[0m: unsupported operand type(s) for -: 'str' and 'int'"
     ]
    }
   ],
   "source": [
    "'Pranav' -1"
   ]
  },
  {
   "cell_type": "code",
   "execution_count": 36,
   "id": "52ba3c02",
   "metadata": {},
   "outputs": [
    {
     "data": {
      "text/plain": [
       "'PranavPranavPranav'"
      ]
     },
     "execution_count": 36,
     "metadata": {},
     "output_type": "execute_result"
    }
   ],
   "source": [
    "'Pranav' * 3 #REpeatition"
   ]
  },
  {
   "cell_type": "code",
   "execution_count": 37,
   "id": "bbccee91",
   "metadata": {},
   "outputs": [
    {
     "ename": "TypeError",
     "evalue": "unsupported operand type(s) for /: 'str' and 'int'",
     "output_type": "error",
     "traceback": [
      "\u001b[1;31m---------------------------------------------------------------------------\u001b[0m",
      "\u001b[1;31mTypeError\u001b[0m                                 Traceback (most recent call last)",
      "Cell \u001b[1;32mIn[37], line 1\u001b[0m\n\u001b[1;32m----> 1\u001b[0m \u001b[38;5;124m'\u001b[39m\u001b[38;5;124mPranav\u001b[39m\u001b[38;5;124m'\u001b[39m \u001b[38;5;241m/\u001b[39m \u001b[38;5;241m3\u001b[39m\n",
      "\u001b[1;31mTypeError\u001b[0m: unsupported operand type(s) for /: 'str' and 'int'"
     ]
    }
   ],
   "source": [
    "'Pranav' / 3"
   ]
  },
  {
   "cell_type": "code",
   "execution_count": 38,
   "id": "a47d5516",
   "metadata": {},
   "outputs": [
    {
     "ename": "TypeError",
     "evalue": "unsupported operand type(s) for //: 'str' and 'int'",
     "output_type": "error",
     "traceback": [
      "\u001b[1;31m---------------------------------------------------------------------------\u001b[0m",
      "\u001b[1;31mTypeError\u001b[0m                                 Traceback (most recent call last)",
      "Cell \u001b[1;32mIn[38], line 1\u001b[0m\n\u001b[1;32m----> 1\u001b[0m \u001b[38;5;124m'\u001b[39m\u001b[38;5;124mPranav\u001b[39m\u001b[38;5;124m'\u001b[39m \u001b[38;5;241m/\u001b[39m\u001b[38;5;241m/\u001b[39m \u001b[38;5;241m3\u001b[39m\n",
      "\u001b[1;31mTypeError\u001b[0m: unsupported operand type(s) for //: 'str' and 'int'"
     ]
    }
   ],
   "source": [
    "'Pranav' // 3\n"
   ]
  },
  {
   "cell_type": "code",
   "execution_count": 39,
   "id": "7b00015f",
   "metadata": {},
   "outputs": [
    {
     "ename": "TypeError",
     "evalue": "unsupported operand type(s) for ** or pow(): 'str' and 'int'",
     "output_type": "error",
     "traceback": [
      "\u001b[1;31m---------------------------------------------------------------------------\u001b[0m",
      "\u001b[1;31mTypeError\u001b[0m                                 Traceback (most recent call last)",
      "Cell \u001b[1;32mIn[39], line 1\u001b[0m\n\u001b[1;32m----> 1\u001b[0m \u001b[38;5;124m'\u001b[39m\u001b[38;5;124mPranav\u001b[39m\u001b[38;5;124m'\u001b[39m \u001b[38;5;241m*\u001b[39m\u001b[38;5;241m*\u001b[39m \u001b[38;5;241m3\u001b[39m\n",
      "\u001b[1;31mTypeError\u001b[0m: unsupported operand type(s) for ** or pow(): 'str' and 'int'"
     ]
    }
   ],
   "source": [
    "'Pranav' ** 3\n"
   ]
  },
  {
   "cell_type": "code",
   "execution_count": 40,
   "id": "e51905e3",
   "metadata": {},
   "outputs": [
    {
     "data": {
      "text/plain": [
       "' Pranav Pranav Pranav Pranav Pranav Pranav Pranav Pranav Pranav Pranav'"
      ]
     },
     "execution_count": 40,
     "metadata": {},
     "output_type": "execute_result"
    }
   ],
   "source": [
    "' Pranav' * 10    #Repeatition\n"
   ]
  },
  {
   "cell_type": "markdown",
   "id": "8105af44",
   "metadata": {},
   "source": [
    "##### For String and Boolean"
   ]
  },
  {
   "cell_type": "code",
   "execution_count": 41,
   "id": "32f92949",
   "metadata": {},
   "outputs": [
    {
     "ename": "TypeError",
     "evalue": "can only concatenate str (not \"bool\") to str",
     "output_type": "error",
     "traceback": [
      "\u001b[1;31m---------------------------------------------------------------------------\u001b[0m",
      "\u001b[1;31mTypeError\u001b[0m                                 Traceback (most recent call last)",
      "Cell \u001b[1;32mIn[41], line 1\u001b[0m\n\u001b[1;32m----> 1\u001b[0m \u001b[38;5;124m\"\u001b[39m\u001b[38;5;124mPranav\u001b[39m\u001b[38;5;124m\"\u001b[39m \u001b[38;5;241m+\u001b[39m \u001b[38;5;28;01mTrue\u001b[39;00m\n",
      "\u001b[1;31mTypeError\u001b[0m: can only concatenate str (not \"bool\") to str"
     ]
    }
   ],
   "source": [
    "\"Pranav\" + True"
   ]
  },
  {
   "cell_type": "markdown",
   "id": "22b0a0d2",
   "metadata": {},
   "source": [
    "##### For Boolean( True / False ) and Integer ( a ) / Float ( x ) / String ( c )"
   ]
  },
  {
   "cell_type": "code",
   "execution_count": 42,
   "id": "053b027e",
   "metadata": {},
   "outputs": [
    {
     "data": {
      "text/plain": [
       "21"
      ]
     },
     "execution_count": 42,
     "metadata": {},
     "output_type": "execute_result"
    }
   ],
   "source": [
    "True + a"
   ]
  },
  {
   "cell_type": "code",
   "execution_count": 43,
   "id": "1fa0b289",
   "metadata": {},
   "outputs": [
    {
     "data": {
      "text/plain": [
       "-19"
      ]
     },
     "execution_count": 43,
     "metadata": {},
     "output_type": "execute_result"
    }
   ],
   "source": [
    "True - a"
   ]
  },
  {
   "cell_type": "code",
   "execution_count": 44,
   "id": "3396a384",
   "metadata": {},
   "outputs": [
    {
     "data": {
      "text/plain": [
       "0.05"
      ]
     },
     "execution_count": 44,
     "metadata": {},
     "output_type": "execute_result"
    }
   ],
   "source": [
    "True / a"
   ]
  },
  {
   "cell_type": "code",
   "execution_count": 45,
   "id": "1363e2fe",
   "metadata": {},
   "outputs": [
    {
     "data": {
      "text/plain": [
       "0"
      ]
     },
     "execution_count": 45,
     "metadata": {},
     "output_type": "execute_result"
    }
   ],
   "source": [
    "True // a"
   ]
  },
  {
   "cell_type": "code",
   "execution_count": 46,
   "id": "9092b828",
   "metadata": {},
   "outputs": [
    {
     "data": {
      "text/plain": [
       "20"
      ]
     },
     "execution_count": 46,
     "metadata": {},
     "output_type": "execute_result"
    }
   ],
   "source": [
    "True * a"
   ]
  },
  {
   "cell_type": "code",
   "execution_count": 47,
   "id": "f0425704",
   "metadata": {},
   "outputs": [
    {
     "data": {
      "text/plain": [
       "1"
      ]
     },
     "execution_count": 47,
     "metadata": {},
     "output_type": "execute_result"
    }
   ],
   "source": [
    "True ** a"
   ]
  },
  {
   "cell_type": "code",
   "execution_count": 48,
   "id": "783f5442",
   "metadata": {},
   "outputs": [
    {
     "data": {
      "text/plain": [
       "1"
      ]
     },
     "execution_count": 48,
     "metadata": {},
     "output_type": "execute_result"
    }
   ],
   "source": [
    "True % a"
   ]
  },
  {
   "cell_type": "code",
   "execution_count": 49,
   "id": "abd57dd8",
   "metadata": {},
   "outputs": [
    {
     "data": {
      "text/plain": [
       "2.2"
      ]
     },
     "execution_count": 49,
     "metadata": {},
     "output_type": "execute_result"
    }
   ],
   "source": [
    "True + x"
   ]
  },
  {
   "cell_type": "code",
   "execution_count": 50,
   "id": "3eff8b7b",
   "metadata": {},
   "outputs": [
    {
     "data": {
      "text/plain": [
       "-0.19999999999999996"
      ]
     },
     "execution_count": 50,
     "metadata": {},
     "output_type": "execute_result"
    }
   ],
   "source": [
    "True - x"
   ]
  },
  {
   "cell_type": "code",
   "execution_count": 51,
   "id": "e4e01e77",
   "metadata": {},
   "outputs": [
    {
     "data": {
      "text/plain": [
       "1.2"
      ]
     },
     "execution_count": 51,
     "metadata": {},
     "output_type": "execute_result"
    }
   ],
   "source": [
    "True * x"
   ]
  },
  {
   "cell_type": "code",
   "execution_count": 52,
   "id": "872e8953",
   "metadata": {},
   "outputs": [
    {
     "data": {
      "text/plain": [
       "0.8333333333333334"
      ]
     },
     "execution_count": 52,
     "metadata": {},
     "output_type": "execute_result"
    }
   ],
   "source": [
    "True / x"
   ]
  },
  {
   "cell_type": "code",
   "execution_count": 53,
   "id": "8c3ccd6c",
   "metadata": {},
   "outputs": [
    {
     "data": {
      "text/plain": [
       "0.0"
      ]
     },
     "execution_count": 53,
     "metadata": {},
     "output_type": "execute_result"
    }
   ],
   "source": [
    "True // x"
   ]
  },
  {
   "cell_type": "code",
   "execution_count": 54,
   "id": "b3c925a6",
   "metadata": {},
   "outputs": [
    {
     "data": {
      "text/plain": [
       "1.0"
      ]
     },
     "execution_count": 54,
     "metadata": {},
     "output_type": "execute_result"
    }
   ],
   "source": [
    "True % x"
   ]
  },
  {
   "cell_type": "code",
   "execution_count": 55,
   "id": "ba7d9764",
   "metadata": {},
   "outputs": [
    {
     "ename": "TypeError",
     "evalue": "unsupported operand type(s) for +: 'bool' and 'str'",
     "output_type": "error",
     "traceback": [
      "\u001b[1;31m---------------------------------------------------------------------------\u001b[0m",
      "\u001b[1;31mTypeError\u001b[0m                                 Traceback (most recent call last)",
      "Cell \u001b[1;32mIn[55], line 1\u001b[0m\n\u001b[1;32m----> 1\u001b[0m \u001b[38;5;28;01mTrue\u001b[39;00m \u001b[38;5;241m+\u001b[39m c\n",
      "\u001b[1;31mTypeError\u001b[0m: unsupported operand type(s) for +: 'bool' and 'str'"
     ]
    }
   ],
   "source": [
    "True + c"
   ]
  },
  {
   "cell_type": "code",
   "execution_count": 56,
   "id": "4a8a3144",
   "metadata": {},
   "outputs": [
    {
     "ename": "TypeError",
     "evalue": "unsupported operand type(s) for -: 'bool' and 'str'",
     "output_type": "error",
     "traceback": [
      "\u001b[1;31m---------------------------------------------------------------------------\u001b[0m",
      "\u001b[1;31mTypeError\u001b[0m                                 Traceback (most recent call last)",
      "Cell \u001b[1;32mIn[56], line 1\u001b[0m\n\u001b[1;32m----> 1\u001b[0m \u001b[38;5;28;01mTrue\u001b[39;00m \u001b[38;5;241m-\u001b[39m c\n",
      "\u001b[1;31mTypeError\u001b[0m: unsupported operand type(s) for -: 'bool' and 'str'"
     ]
    }
   ],
   "source": [
    "True - c"
   ]
  },
  {
   "cell_type": "code",
   "execution_count": 57,
   "id": "ce8a85dc",
   "metadata": {},
   "outputs": [
    {
     "data": {
      "text/plain": [
       "'Pranav'"
      ]
     },
     "execution_count": 57,
     "metadata": {},
     "output_type": "execute_result"
    }
   ],
   "source": [
    "True * c"
   ]
  },
  {
   "cell_type": "code",
   "execution_count": 58,
   "id": "d5db5594",
   "metadata": {},
   "outputs": [
    {
     "ename": "TypeError",
     "evalue": "unsupported operand type(s) for /: 'bool' and 'str'",
     "output_type": "error",
     "traceback": [
      "\u001b[1;31m---------------------------------------------------------------------------\u001b[0m",
      "\u001b[1;31mTypeError\u001b[0m                                 Traceback (most recent call last)",
      "Cell \u001b[1;32mIn[58], line 1\u001b[0m\n\u001b[1;32m----> 1\u001b[0m \u001b[38;5;28;01mTrue\u001b[39;00m \u001b[38;5;241m/\u001b[39m c\n",
      "\u001b[1;31mTypeError\u001b[0m: unsupported operand type(s) for /: 'bool' and 'str'"
     ]
    }
   ],
   "source": [
    "True / c"
   ]
  },
  {
   "cell_type": "code",
   "execution_count": 59,
   "id": "e5072568",
   "metadata": {},
   "outputs": [
    {
     "ename": "TypeError",
     "evalue": "unsupported operand type(s) for //: 'bool' and 'str'",
     "output_type": "error",
     "traceback": [
      "\u001b[1;31m---------------------------------------------------------------------------\u001b[0m",
      "\u001b[1;31mTypeError\u001b[0m                                 Traceback (most recent call last)",
      "Cell \u001b[1;32mIn[59], line 1\u001b[0m\n\u001b[1;32m----> 1\u001b[0m \u001b[38;5;28;01mTrue\u001b[39;00m \u001b[38;5;241m/\u001b[39m\u001b[38;5;241m/\u001b[39m c\n",
      "\u001b[1;31mTypeError\u001b[0m: unsupported operand type(s) for //: 'bool' and 'str'"
     ]
    }
   ],
   "source": [
    "True // c"
   ]
  },
  {
   "cell_type": "code",
   "execution_count": 60,
   "id": "1b4fa9aa",
   "metadata": {},
   "outputs": [
    {
     "ename": "TypeError",
     "evalue": "unsupported operand type(s) for %: 'bool' and 'str'",
     "output_type": "error",
     "traceback": [
      "\u001b[1;31m---------------------------------------------------------------------------\u001b[0m",
      "\u001b[1;31mTypeError\u001b[0m                                 Traceback (most recent call last)",
      "Cell \u001b[1;32mIn[60], line 1\u001b[0m\n\u001b[1;32m----> 1\u001b[0m \u001b[38;5;28;01mTrue\u001b[39;00m \u001b[38;5;241m%\u001b[39m c\n",
      "\u001b[1;31mTypeError\u001b[0m: unsupported operand type(s) for %: 'bool' and 'str'"
     ]
    }
   ],
   "source": [
    "True % c"
   ]
  },
  {
   "cell_type": "markdown",
   "id": "cf178482",
   "metadata": {},
   "source": [
    "##### For Boolean and Boolean"
   ]
  },
  {
   "cell_type": "code",
   "execution_count": 61,
   "id": "b85d019e",
   "metadata": {},
   "outputs": [
    {
     "data": {
      "text/plain": [
       "2"
      ]
     },
     "execution_count": 61,
     "metadata": {},
     "output_type": "execute_result"
    }
   ],
   "source": [
    "True + True"
   ]
  },
  {
   "cell_type": "code",
   "execution_count": 62,
   "id": "c4580a4c",
   "metadata": {},
   "outputs": [
    {
     "data": {
      "text/plain": [
       "0"
      ]
     },
     "execution_count": 62,
     "metadata": {},
     "output_type": "execute_result"
    }
   ],
   "source": [
    "True - True"
   ]
  },
  {
   "cell_type": "code",
   "execution_count": 63,
   "id": "c7bd8a2e",
   "metadata": {},
   "outputs": [
    {
     "data": {
      "text/plain": [
       "1"
      ]
     },
     "execution_count": 63,
     "metadata": {},
     "output_type": "execute_result"
    }
   ],
   "source": [
    "True * True "
   ]
  },
  {
   "cell_type": "code",
   "execution_count": 64,
   "id": "116a0daa",
   "metadata": {},
   "outputs": [
    {
     "data": {
      "text/plain": [
       "1.0"
      ]
     },
     "execution_count": 64,
     "metadata": {},
     "output_type": "execute_result"
    }
   ],
   "source": [
    "True / True"
   ]
  },
  {
   "cell_type": "code",
   "execution_count": 65,
   "id": "e0314028",
   "metadata": {},
   "outputs": [
    {
     "data": {
      "text/plain": [
       "1"
      ]
     },
     "execution_count": 65,
     "metadata": {},
     "output_type": "execute_result"
    }
   ],
   "source": [
    "True // True"
   ]
  },
  {
   "cell_type": "code",
   "execution_count": 66,
   "id": "33dbae1e",
   "metadata": {},
   "outputs": [
    {
     "data": {
      "text/plain": [
       "0"
      ]
     },
     "execution_count": 66,
     "metadata": {},
     "output_type": "execute_result"
    }
   ],
   "source": [
    "True % True"
   ]
  },
  {
   "cell_type": "markdown",
   "id": "5b04d8ea",
   "metadata": {},
   "source": [
    "##### 2) Relational OR Comparative Operator"
   ]
  },
  {
   "cell_type": "raw",
   "id": "6ebe05bd",
   "metadata": {},
   "source": [
    " ( > ) ( Greator than)\n",
    " ( < ) ( Less Than )\n",
    " ( >= ) ( Greator than OR Equals to)\n",
    " ( <= ) ( Less than OR Equals to)\n",
    " ( == ) ( Equals to )\n",
    " ( != ) ( Not equals to )"
   ]
  },
  {
   "cell_type": "markdown",
   "id": "65c9119c",
   "metadata": {},
   "source": [
    "##### It always gives output in the form Boolean ( i.e. True OR False )"
   ]
  },
  {
   "cell_type": "code",
   "execution_count": 69,
   "id": "eaae3063",
   "metadata": {},
   "outputs": [],
   "source": [
    "f , g = 20 , 10"
   ]
  },
  {
   "cell_type": "code",
   "execution_count": 70,
   "id": "0c3361ff",
   "metadata": {},
   "outputs": [
    {
     "data": {
      "text/plain": [
       "True"
      ]
     },
     "execution_count": 70,
     "metadata": {},
     "output_type": "execute_result"
    }
   ],
   "source": [
    "f > g"
   ]
  },
  {
   "cell_type": "code",
   "execution_count": 71,
   "id": "8da6a34e",
   "metadata": {},
   "outputs": [
    {
     "data": {
      "text/plain": [
       "False"
      ]
     },
     "execution_count": 71,
     "metadata": {},
     "output_type": "execute_result"
    }
   ],
   "source": [
    "f < g"
   ]
  },
  {
   "cell_type": "code",
   "execution_count": 72,
   "id": "67ead9ed",
   "metadata": {},
   "outputs": [
    {
     "data": {
      "text/plain": [
       "True"
      ]
     },
     "execution_count": 72,
     "metadata": {},
     "output_type": "execute_result"
    }
   ],
   "source": [
    "f >= g"
   ]
  },
  {
   "cell_type": "code",
   "execution_count": 73,
   "id": "2f66b2eb",
   "metadata": {},
   "outputs": [
    {
     "data": {
      "text/plain": [
       "False"
      ]
     },
     "execution_count": 73,
     "metadata": {},
     "output_type": "execute_result"
    }
   ],
   "source": [
    "f <= g"
   ]
  },
  {
   "cell_type": "code",
   "execution_count": 74,
   "id": "ad25efc6",
   "metadata": {},
   "outputs": [
    {
     "data": {
      "text/plain": [
       "False"
      ]
     },
     "execution_count": 74,
     "metadata": {},
     "output_type": "execute_result"
    }
   ],
   "source": [
    "f == g"
   ]
  },
  {
   "cell_type": "code",
   "execution_count": 75,
   "id": "9f204150",
   "metadata": {},
   "outputs": [
    {
     "data": {
      "text/plain": [
       "True"
      ]
     },
     "execution_count": 75,
     "metadata": {},
     "output_type": "execute_result"
    }
   ],
   "source": [
    "f != g"
   ]
  },
  {
   "cell_type": "markdown",
   "id": "d02b8b8a",
   "metadata": {},
   "source": [
    "#### 3) Logical Operators"
   ]
  },
  {
   "cell_type": "raw",
   "id": "b3e94850",
   "metadata": {},
   "source": [
    "1. For and :- if all inputs are True , then only the output will be True\n",
    "2. And returns to last value(if two values are non zero)\n",
    "3. Remember:\n",
    "3.1. False,0,empty strings i.e. “ “ treated as False\n",
    "3.2. True, non zero value, strings i.e. “hello “ treated as True\n",
    "4. Boolean Always follows Truth Table\n",
    "5. integers denote as ( 0 ) and ( 1 )"
   ]
  },
  {
   "cell_type": "markdown",
   "id": "e35d30ca",
   "metadata": {},
   "source": [
    "##### For Boolean"
   ]
  },
  {
   "cell_type": "code",
   "execution_count": 76,
   "id": "d11fa25d",
   "metadata": {},
   "outputs": [
    {
     "data": {
      "text/plain": [
       "False"
      ]
     },
     "execution_count": 76,
     "metadata": {},
     "output_type": "execute_result"
    }
   ],
   "source": [
    "False and False"
   ]
  },
  {
   "cell_type": "code",
   "execution_count": 77,
   "id": "a568d109",
   "metadata": {},
   "outputs": [
    {
     "data": {
      "text/plain": [
       "False"
      ]
     },
     "execution_count": 77,
     "metadata": {},
     "output_type": "execute_result"
    }
   ],
   "source": [
    "False and True"
   ]
  },
  {
   "cell_type": "code",
   "execution_count": 78,
   "id": "e8a70387",
   "metadata": {},
   "outputs": [
    {
     "data": {
      "text/plain": [
       "False"
      ]
     },
     "execution_count": 78,
     "metadata": {},
     "output_type": "execute_result"
    }
   ],
   "source": [
    "True and False"
   ]
  },
  {
   "cell_type": "code",
   "execution_count": 79,
   "id": "307224b4",
   "metadata": {},
   "outputs": [
    {
     "data": {
      "text/plain": [
       "True"
      ]
     },
     "execution_count": 79,
     "metadata": {},
     "output_type": "execute_result"
    }
   ],
   "source": [
    "True and True"
   ]
  },
  {
   "cell_type": "markdown",
   "id": "fcbd299a",
   "metadata": {},
   "source": [
    "##### For Integer ( 0/False ) ( 1/True )"
   ]
  },
  {
   "cell_type": "code",
   "execution_count": 80,
   "id": "11f70437",
   "metadata": {},
   "outputs": [
    {
     "data": {
      "text/plain": [
       "0"
      ]
     },
     "execution_count": 80,
     "metadata": {},
     "output_type": "execute_result"
    }
   ],
   "source": [
    "0 and 0"
   ]
  },
  {
   "cell_type": "code",
   "execution_count": 81,
   "id": "961a42e0",
   "metadata": {},
   "outputs": [
    {
     "data": {
      "text/plain": [
       "0"
      ]
     },
     "execution_count": 81,
     "metadata": {},
     "output_type": "execute_result"
    }
   ],
   "source": [
    "0 and 1"
   ]
  },
  {
   "cell_type": "code",
   "execution_count": 82,
   "id": "3ab8d97e",
   "metadata": {},
   "outputs": [
    {
     "data": {
      "text/plain": [
       "0"
      ]
     },
     "execution_count": 82,
     "metadata": {},
     "output_type": "execute_result"
    }
   ],
   "source": [
    "1 and 0"
   ]
  },
  {
   "cell_type": "code",
   "execution_count": 83,
   "id": "edb3baf8",
   "metadata": {},
   "outputs": [
    {
     "data": {
      "text/plain": [
       "1"
      ]
     },
     "execution_count": 83,
     "metadata": {},
     "output_type": "execute_result"
    }
   ],
   "source": [
    "1 and 1"
   ]
  },
  {
   "cell_type": "code",
   "execution_count": 84,
   "id": "eca21bb3",
   "metadata": {},
   "outputs": [
    {
     "data": {
      "text/plain": [
       "' '"
      ]
     },
     "execution_count": 84,
     "metadata": {},
     "output_type": "execute_result"
    }
   ],
   "source": [
    "\" \" ##Empty String"
   ]
  },
  {
   "cell_type": "code",
   "execution_count": null,
   "id": "a6a3fa7b",
   "metadata": {},
   "outputs": [],
   "source": []
  }
 ],
 "metadata": {
  "kernelspec": {
   "display_name": "Python 3 (ipykernel)",
   "language": "python",
   "name": "python3"
  },
  "language_info": {
   "codemirror_mode": {
    "name": "ipython",
    "version": 3
   },
   "file_extension": ".py",
   "mimetype": "text/x-python",
   "name": "python",
   "nbconvert_exporter": "python",
   "pygments_lexer": "ipython3",
   "version": "3.11.4"
  }
 },
 "nbformat": 4,
 "nbformat_minor": 5
}
