{
 "cells": [
  {
   "cell_type": "markdown",
   "id": "21cad589",
   "metadata": {},
   "source": [
    "# File handling + Time module"
   ]
  },
  {
   "cell_type": "markdown",
   "id": "b687c603",
   "metadata": {},
   "source": [
    "### Task Description:"
   ]
  },
  {
   "cell_type": "markdown",
   "id": "5ee414da",
   "metadata": {},
   "source": [
    "Create a Python script that simulates a simple login system. The script should prompt the user to enter their username and password. If the entered username and password match the predefined credentials, the script should log a successful login event to a log file. If the credentials do not match, it should log a failed login attempt to the log file.\n",
    "Example Output\n",
    "Assuming the predefined credentials are `username: \"user123\"` and `password: \"pass123\"`, here's an example output of the script:\n",
    " \n",
    "\n"
   ]
  },
  {
   "cell_type": "code",
   "execution_count": 2,
   "id": "a147977f",
   "metadata": {},
   "outputs": [],
   "source": [
    "import time"
   ]
  },
  {
   "cell_type": "code",
   "execution_count": 6,
   "id": "8e59d913",
   "metadata": {},
   "outputs": [],
   "source": [
    "def LoginFile():                                               #creating Function\n",
    "    Username = \"Pranav1bhawsar\"                                       #Global\n",
    "    Password = \"Ina8200.h119498\"                                      #Global\n",
    "    User_name = input(\" Enter the  User_Name for login : \")           #Prompt_input\n",
    "    Pass_word = input(\" Enter the  Pass_word for login : \")           #Prompt_input\n",
    "\n",
    "\n",
    "    Login_file=open(\"Login_System.txt\",\"w+\")                  #Creating and Writing in file\n",
    "    Login_file.write(f\"Please enter your username : {User_name}\\n\")\n",
    "    Login_file.write(f\"Please enter your password : {Pass_word}\\n\")\n",
    "    now = time.asctime()\n",
    "\n",
    "    if Username == User_name and Pass_word == Pass_word :\n",
    "        with open(\"Login_System.txt\",\"a\") as Login_file:\n",
    "            Login_file.write(f\"Logged In Successfully for {User_name} ({now})\\n\")\n",
    "    else:\n",
    "        with open(\"Login_System.txt\",\"a\") as Login_file:\n",
    "            Login_file.write(f\"Failed Login Attempt for {User_name} ({now})\\n\")\n",
    "    Login_file.close() \n"
   ]
  },
  {
   "cell_type": "code",
   "execution_count": 9,
   "id": "cfc3893b",
   "metadata": {},
   "outputs": [
    {
     "name": "stdout",
     "output_type": "stream",
     "text": [
      " Enter the  User_Name for login : PranavBhawsar\n",
      " Enter the  Pass_word for login : pb123\n"
     ]
    }
   ],
   "source": [
    "LoginFile()                               #Calling the function"
   ]
  },
  {
   "cell_type": "code",
   "execution_count": 10,
   "id": "bc9d3412",
   "metadata": {},
   "outputs": [
    {
     "data": {
      "text/plain": [
       "['Please enter your username : PranavBhawsar\\n',\n",
       " 'Please enter your password : pb123\\n',\n",
       " 'Failed Login Attempt for PranavBhawsar (Fri Jul 28 12:06:52 2023)\\n']"
      ]
     },
     "execution_count": 10,
     "metadata": {},
     "output_type": "execute_result"
    }
   ],
   "source": [
    "f=open(\"Login_System.txt\",\"r\")\n",
    "f.readlines()"
   ]
  },
  {
   "cell_type": "code",
   "execution_count": 12,
   "id": "e71e9439",
   "metadata": {},
   "outputs": [
    {
     "name": "stdout",
     "output_type": "stream",
     "text": [
      " Enter the  User_Name for login : Pranav1bhawsar\n",
      " Enter the  Pass_word for login : Ina8200.h119498\n"
     ]
    }
   ],
   "source": [
    "LoginFile() "
   ]
  },
  {
   "cell_type": "code",
   "execution_count": 13,
   "id": "5be68c48",
   "metadata": {},
   "outputs": [
    {
     "data": {
      "text/plain": [
       "['Please enter your username : Pranav1bhawsar\\n',\n",
       " 'Please enter your password : Ina8200.h119498\\n',\n",
       " 'Logged In Successfully for Pranav1bhawsar (Fri Jul 28 12:09:23 2023)\\n']"
      ]
     },
     "execution_count": 13,
     "metadata": {},
     "output_type": "execute_result"
    }
   ],
   "source": [
    "f=open(\"Login_System.txt\",\"r\")\n",
    "f.readlines()"
   ]
  },
  {
   "cell_type": "code",
   "execution_count": 14,
   "id": "b7a591d6",
   "metadata": {},
   "outputs": [],
   "source": [
    "f.close()"
   ]
  },
  {
   "cell_type": "raw",
   "id": "bc17f2f5",
   "metadata": {},
   "source": [
    "# Modules:\n",
    "1.\tCreate any 5 of following modules\n",
    "a.\tRestaurant    **\n",
    "b.\tIPL\n",
    "c.\tMathematics\n",
    "d.\tData Science  **\n",
    "e.\tIndia\n",
    "f.\tShopping mall\n",
    "g.\tAmazon_price   **\n",
    "(** which are represented in bold letters is compulsory)\n"
   ]
  },
  {
   "cell_type": "code",
   "execution_count": 16,
   "id": "1fe249e0",
   "metadata": {},
   "outputs": [
    {
     "data": {
      "text/plain": [
       "'C:\\\\Users\\\\prana'"
      ]
     },
     "execution_count": 16,
     "metadata": {},
     "output_type": "execute_result"
    }
   ],
   "source": [
    "import os               #importing OS module\n",
    "os.getcwd()             #getting current working"
   ]
  },
  {
   "cell_type": "markdown",
   "id": "69f18358",
   "metadata": {},
   "source": [
    "# 1st_Module - Restaurant_Menu_card"
   ]
  },
  {
   "cell_type": "code",
   "execution_count": 22,
   "id": "09762e81",
   "metadata": {},
   "outputs": [],
   "source": [
    "import Restaurant_Menu_card"
   ]
  },
  {
   "cell_type": "code",
   "execution_count": 19,
   "id": "dd375ba9",
   "metadata": {},
   "outputs": [
    {
     "name": "stdout",
     "output_type": "stream",
     "text": [
      " Cheese Burger : 120 ₹ \n",
      " Schezwan Cheese Chutney Burger : 180 ₹ \n",
      " Potato Patty Burger : 100 ₹ \n"
     ]
    }
   ],
   "source": [
    "Restaurant_Menu_card.Hamburgers()"
   ]
  },
  {
   "cell_type": "code",
   "execution_count": 21,
   "id": "6e4cc742",
   "metadata": {},
   "outputs": [
    {
     "name": "stdout",
     "output_type": "stream",
     "text": [
      " Pav Bhaji : 200 ₹ \n",
      " Chole Bhature : 120 ₹ \n",
      " Peanut Chat : 60 ₹ \n"
     ]
    }
   ],
   "source": [
    "Restaurant_Menu_card.Snacks()"
   ]
  },
  {
   "cell_type": "markdown",
   "id": "8b541da9",
   "metadata": {},
   "source": [
    "# 2nd_Module - DataScience"
   ]
  },
  {
   "cell_type": "code",
   "execution_count": 25,
   "id": "810b2934",
   "metadata": {},
   "outputs": [],
   "source": [
    "import DataScience"
   ]
  },
  {
   "cell_type": "code",
   "execution_count": 26,
   "id": "15e9339a",
   "metadata": {},
   "outputs": [
    {
     "name": "stdout",
     "output_type": "stream",
     "text": [
      " Bengaluru : but its too expensive with plenty of opportunities\n",
      " Hyderabad : Studious environment \n",
      " Pune : Good working environment \n",
      " Indore :  Institutes are in developing stage. \n"
     ]
    }
   ],
   "source": [
    "DataScience.coaching_hubs()"
   ]
  },
  {
   "cell_type": "code",
   "execution_count": 27,
   "id": "99a33d4a",
   "metadata": {},
   "outputs": [
    {
     "name": "stdout",
     "output_type": "stream",
     "text": [
      "First India Statistiacal Institute of India : Kolkata : 1970 estb. \n"
     ]
    }
   ],
   "source": [
    "DataScience.History()"
   ]
  },
  {
   "cell_type": "code",
   "execution_count": 28,
   "id": "959681e2",
   "metadata": {},
   "outputs": [
    {
     "name": "stdout",
     "output_type": "stream",
     "text": [
      " Pyhton/R\n",
      " Data Visulisation\n",
      " Tableau \n",
      " SQL \n",
      " ML \n",
      " DL \n",
      " AI \n"
     ]
    }
   ],
   "source": [
    "DataScience.skills_reqiured()"
   ]
  },
  {
   "cell_type": "markdown",
   "id": "16e44f07",
   "metadata": {},
   "source": [
    "# 3rd_Module - AmazonPrice"
   ]
  },
  {
   "cell_type": "code",
   "execution_count": 29,
   "id": "b5e2f2cd",
   "metadata": {},
   "outputs": [],
   "source": [
    "import AmazonPrice"
   ]
  },
  {
   "cell_type": "code",
   "execution_count": 30,
   "id": "eafe93b5",
   "metadata": {},
   "outputs": [
    {
     "name": "stdout",
     "output_type": "stream",
     "text": [
      " Baby Clothes of 1 months \n",
      " Baby Powder \n",
      " Baby cream \n"
     ]
    }
   ],
   "source": [
    "AmazonPrice.BabyCare()"
   ]
  },
  {
   "cell_type": "code",
   "execution_count": 31,
   "id": "77063a53",
   "metadata": {},
   "outputs": [
    {
     "name": "stdout",
     "output_type": "stream",
     "text": [
      " Wooden Reck\n",
      " Indoor curtains \n",
      " Washing tools\n"
     ]
    }
   ],
   "source": [
    "AmazonPrice.Appliances()"
   ]
  },
  {
   "cell_type": "code",
   "execution_count": 32,
   "id": "e226c71b",
   "metadata": {},
   "outputs": [
    {
     "name": "stdout",
     "output_type": "stream",
     "text": [
      " Appliances \n",
      " HomeGoods\n",
      " BabyCare\n",
      " Electonic\n"
     ]
    }
   ],
   "source": [
    "AmazonPrice.Category()"
   ]
  },
  {
   "cell_type": "markdown",
   "id": "9189ccd2",
   "metadata": {},
   "source": [
    "# 4th_Module - India"
   ]
  },
  {
   "cell_type": "code",
   "execution_count": 33,
   "id": "effa0427",
   "metadata": {},
   "outputs": [],
   "source": [
    "import India"
   ]
  },
  {
   "cell_type": "code",
   "execution_count": 34,
   "id": "cb609cc8",
   "metadata": {},
   "outputs": [
    {
     "name": "stdout",
     "output_type": "stream",
     "text": [
      " Independent in 1947 \n",
      " Republic in 1950 \n"
     ]
    }
   ],
   "source": [
    "India.History()"
   ]
  },
  {
   "cell_type": "code",
   "execution_count": 35,
   "id": "9f62c3c5",
   "metadata": {},
   "outputs": [
    {
     "name": "stdout",
     "output_type": "stream",
     "text": [
      " New Delhi \n"
     ]
    }
   ],
   "source": [
    "India.NationalCapital()"
   ]
  },
  {
   "cell_type": "code",
   "execution_count": 36,
   "id": "42521a4a",
   "metadata": {},
   "outputs": [
    {
     "name": "stdout",
     "output_type": "stream",
     "text": [
      " Mumbai \n"
     ]
    }
   ],
   "source": [
    "India.FinancialCapital()"
   ]
  },
  {
   "cell_type": "markdown",
   "id": "1dc7fb8b",
   "metadata": {},
   "source": [
    "# 5th_Module : IPL"
   ]
  },
  {
   "cell_type": "code",
   "execution_count": 37,
   "id": "68d9fe17",
   "metadata": {},
   "outputs": [],
   "source": [
    "import IPL"
   ]
  },
  {
   "cell_type": "code",
   "execution_count": 38,
   "id": "07489e51",
   "metadata": {},
   "outputs": [
    {
     "name": "stdout",
     "output_type": "stream",
     "text": [
      "Chennai Super Kings.\n",
      "Royal Challengers Bangalore.\n",
      "Mumbai Indians.\n",
      "Kolkata Knight Riders.\n",
      "Sunrisers Hyderabad.\n",
      "Rajasthan Royals.\n",
      "Delhi Capitals.\n",
      "Gujarat Titans.\n"
     ]
    }
   ],
   "source": [
    "IPL.Teams()"
   ]
  }
 ],
 "metadata": {
  "kernelspec": {
   "display_name": "Python 3 (ipykernel)",
   "language": "python",
   "name": "python3"
  },
  "language_info": {
   "codemirror_mode": {
    "name": "ipython",
    "version": 3
   },
   "file_extension": ".py",
   "mimetype": "text/x-python",
   "name": "python",
   "nbconvert_exporter": "python",
   "pygments_lexer": "ipython3",
   "version": "3.11.4"
  }
 },
 "nbformat": 4,
 "nbformat_minor": 5
}
