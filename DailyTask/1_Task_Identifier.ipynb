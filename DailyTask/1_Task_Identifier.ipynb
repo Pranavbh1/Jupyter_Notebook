{
 "cells": [
  {
   "cell_type": "markdown",
   "id": "a15c7729",
   "metadata": {},
   "source": [
    "# identifiers in python is name given to an entity to identify a variable_function_class_module or other objects."
   ]
  },
  {
   "cell_type": "markdown",
   "id": "31d6463a",
   "metadata": {},
   "source": [
    "ex: a=10"
   ]
  },
  {
   "cell_type": "markdown",
   "id": "5a60f52f",
   "metadata": {},
   "source": [
    "## Cautions for identifiers"
   ]
  },
  {
   "cell_type": "code",
   "execution_count": null,
   "id": "af6677e1",
   "metadata": {},
   "outputs": [],
   "source": [
    "1. Alphanumeric values (Do's)\n",
    "\n",
    "\n",
    "\n",
    "\n",
    "\n",
    "\n",
    "\n"
   ]
  },
  {
   "cell_type": "code",
   "execution_count": null,
   "id": "7e4105d6",
   "metadata": {},
   "outputs": [],
   "source": [
    "i.e.: 0-9 , a-z , A-Z ex: A=100"
   ]
  },
  {
   "cell_type": "code",
   "execution_count": null,
   "id": "2953b5fa",
   "metadata": {},
   "outputs": [],
   "source": [
    "2. can use underscore (Do's)"
   ]
  },
  {
   "cell_type": "code",
   "execution_count": null,
   "id": "bd9bd90a",
   "metadata": {},
   "outputs": [],
   "source": [
    "i.e. (_)"
   ]
  },
  {
   "cell_type": "code",
   "execution_count": null,
   "id": "e1e9704e",
   "metadata": {},
   "outputs": [],
   "source": [
    "Roll_no=1"
   ]
  },
  {
   "cell_type": "code",
   "execution_count": null,
   "id": "4ab24e0e",
   "metadata": {},
   "outputs": [],
   "source": [
    "3.Identifier should not be keyword (Don't)"
   ]
  },
  {
   "cell_type": "code",
   "execution_count": null,
   "id": "09cef9a3",
   "metadata": {},
   "outputs": [],
   "source": [
    "import keyword\n",
    "print(keyword.kwlist)"
   ]
  },
  {
   "cell_type": "code",
   "execution_count": null,
   "id": "b14c3e26",
   "metadata": {},
   "outputs": [],
   "source": []
  },
  {
   "cell_type": "code",
   "execution_count": null,
   "id": "ca866b6d",
   "metadata": {},
   "outputs": [],
   "source": []
  }
 ],
 "metadata": {
  "kernelspec": {
   "display_name": "Python 3 (ipykernel)",
   "language": "python",
   "name": "python3"
  },
  "language_info": {
   "codemirror_mode": {
    "name": "ipython",
    "version": 3
   },
   "file_extension": ".py",
   "mimetype": "text/x-python",
   "name": "python",
   "nbconvert_exporter": "python",
   "pygments_lexer": "ipython3",
   "version": "3.11.4"
  }
 },
 "nbformat": 4,
 "nbformat_minor": 5
}
