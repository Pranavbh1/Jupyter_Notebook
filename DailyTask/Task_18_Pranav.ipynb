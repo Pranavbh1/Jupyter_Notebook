{
 "cells": [
  {
   "cell_type": "code",
   "execution_count": 3,
   "id": "85f6cfef",
   "metadata": {},
   "outputs": [],
   "source": [
    "def average_grade():\n",
    "    try:\n",
    "        total_std = int(input(\"Enter total number of students:  \"))\n",
    "        if total_std <= 0 :\n",
    "            raise ValueError('Total student must be more than 0')\n",
    "\n",
    "        totalgrade = 0\n",
    "        for _ in range(total_std):\n",
    "            name_std = input(\"Enter the name of student: \")\n",
    "            sub1 = int(input(\"Enter grade of subject 1, out of 100:  \"))\n",
    "            sub2 = int(input(\"Enter grade of subject 2, out of 100:  \"))\n",
    "            sub3 = int(input(\"Enter grade of subject 3, out of 100:  \"))\n",
    "\n",
    "            if not (1 <= sub1 <= 100 and 1 <= sub2 <= 100 and 1 <= sub3 <= 100):\n",
    "                raise ValueError(\"Grades should be within the range 1-100\")\n",
    "            if sub1=='' and sub2=='' and sub3=='':\n",
    "                raise ZeroDivisionError(\"It will return in raising the problem in formulating average of particular student.\")\n",
    "\n",
    "\n",
    "            avg_grade = (sub1 + sub2 + sub3) / 3\n",
    "            print(f\"Average grade for : {name_std} is {avg_grade}\")\n",
    "            totalgrade += avg_grade\n",
    "\n",
    "        print(f\"Average grade for all students is {totalgrade / total_std}\")\n",
    "\n",
    "    except ValueError as ve:\n",
    "        print(ve)"
   ]
  },
  {
   "cell_type": "code",
   "execution_count": 4,
   "id": "01a98c46",
   "metadata": {},
   "outputs": [
    {
     "name": "stdout",
     "output_type": "stream",
     "text": [
      "Enter total number of students:  2\n",
      "Enter the name of student: p\n",
      "Enter grade of subject 1, out of 100:  \n",
      "invalid literal for int() with base 10: ''\n"
     ]
    }
   ],
   "source": [
    "average_grade()"
   ]
  },
  {
   "cell_type": "code",
   "execution_count": null,
   "id": "2b65e999",
   "metadata": {},
   "outputs": [],
   "source": []
  }
 ],
 "metadata": {
  "kernelspec": {
   "display_name": "Python 3 (ipykernel)",
   "language": "python",
   "name": "python3"
  },
  "language_info": {
   "codemirror_mode": {
    "name": "ipython",
    "version": 3
   },
   "file_extension": ".py",
   "mimetype": "text/x-python",
   "name": "python",
   "nbconvert_exporter": "python",
   "pygments_lexer": "ipython3",
   "version": "3.11.4"
  }
 },
 "nbformat": 4,
 "nbformat_minor": 5
}
