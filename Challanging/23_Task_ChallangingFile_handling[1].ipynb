{
 "cells": [
  {
   "cell_type": "markdown",
   "id": "be6c9f31",
   "metadata": {},
   "source": [
    "## File Handling"
   ]
  },
  {
   "cell_type": "markdown",
   "id": "77ac12f8",
   "metadata": {},
   "source": [
    "File handling in Python allows you to work with files, reading data from them or writing data into them. Python provides built-in functions and modules to perform file operations. Here's a brief overview of file handling in Python:\n",
    "\n",
    "1. Opening a File:\n",
    "You can use the `open()` function to open a file. The `open()` function takes two arguments: the file path and the mode. The mode can be \"r\" (read), \"w\" (write), \"a\" (append), \"x\" (create), or \"b\" (binary). If the mode is not specified, \"r\" (read) is assumed.\n",
    "\n",
    "```python\n",
    "# Open a file for reading\n",
    "file = open('example.txt', 'r')\n",
    "\n",
    "# Open a file for writing\n",
    "file = open('example.txt', 'w')\n",
    "\n",
    "# Open a file for appending\n",
    "file = open('example.txt', 'a')\n",
    "```\n",
    "\n",
    "2. Reading from a File:\n",
    "You can read data from a file using various methods like `read()`, `readline()`, or `readlines()`.\n",
    "\n",
    "```python\n",
    "# Reading the entire content of the file\n",
    "content = file.read()\n",
    "\n",
    "# Reading a single line from the file\n",
    "line = file.readline()\n",
    "\n",
    "# Reading all lines and storing them as a list\n",
    "lines = file.readlines()\n",
    "```\n",
    "\n",
    "3. Writing to a File:\n",
    "You can write data into a file using the `write()` method.\n",
    "\n",
    "```python\n",
    "# Writing a single line to the file\n",
    "file.write(\"This is a new line.\")\n",
    "\n",
    "# Writing multiple lines to the file\n",
    "lines = [\"Line 1\\n\", \"Line 2\\n\", \"Line 3\\n\"]\n",
    "file.writelines(lines)\n",
    "```\n",
    "\n",
    "4. Closing a File:\n",
    "Always close the file after you are done with it to release system resources.\n",
    "\n",
    "```python\n",
    "file.close()\n",
    "```\n",
    "\n",
    "5. Using \"with\" Statement (Recommended):\n",
    "Python provides the `with` statement, which ensures that the file is properly closed after its suite finishes, even if an exception occurs.\n",
    "\n",
    "```python\n",
    "with open('example.txt', 'r') as file:\n",
    "    content = file.read()\n",
    "\n",
    "# The file is automatically closed after the \"with\" block.\n",
    "```\n",
    "\n",
    "6. File Modes:\n",
    "- \"r\": Read mode (default). The file is opened for reading.\n",
    "- \"w\": Write mode. The file is opened for writing. If the file already exists, its contents will be truncated. If the file doesn't exist, a new file will be created.\n",
    "- \"a\": Append mode. The file is opened for writing, but the new data is appended to the end of the file instead of overwriting it. If the file doesn't exist, a new file will be created.\n",
    "- \"x\": Exclusive creation mode. The file is opened for writing, but it must not exist already. If the file exists, an error will be raised.\n",
    "- \"b\": Binary mode. This mode is used for non-text files like images or binary data.\n",
    "\n",
    "Remember to handle exceptions while working with files to avoid potential errors.\n",
    "\n",
    "```python\n",
    "try:\n",
    "    with open('example.txt', 'r') as file:\n",
    "        content = file.read()\n",
    "except FileNotFoundError:\n",
    "    print(\"File not found.\")\n",
    "except IOError:\n",
    "    print(\"Error reading the file.\")\n",
    "```\n",
    "\n",
    "File handling in Python is a powerful feature that allows you to interact with files on your computer or server. It's essential to properly open, read, write, and close files to maintain data integrity and avoid resource leaks."
   ]
  },
  {
   "cell_type": "code",
   "execution_count": null,
   "id": "954139ad",
   "metadata": {},
   "outputs": [],
   "source": []
  },
  {
   "cell_type": "raw",
   "id": "f1d2e729",
   "metadata": {},
   "source": [
    "'r'       open for reading (default)\n",
    "'w'       open for writing, truncating the file first\n",
    "'x'       create a new file and open it for writing\n",
    "'a'       open for writing, appending to the end of the file if it exists\n",
    "'b'       binary mode\n",
    "'t'       text mode (default)\n",
    "'+'       open a disk file for updating (reading and writing)\n",
    "'U'       universal newline mode (deprecated)"
   ]
  },
  {
   "cell_type": "markdown",
   "id": "eb538682",
   "metadata": {},
   "source": [
    "## copy as path"
   ]
  },
  {
   "cell_type": "code",
   "execution_count": 2,
   "id": "fab7862b",
   "metadata": {},
   "outputs": [],
   "source": [
    "file = open(r\"C:\\Users\\LENOVO\\Desktop\\regex.txt\",\"r\")"
   ]
  },
  {
   "cell_type": "code",
   "execution_count": 10,
   "id": "d5c7122a",
   "metadata": {},
   "outputs": [],
   "source": [
    "file.read()\n",
    "file.close()"
   ]
  },
  {
   "cell_type": "code",
   "execution_count": 4,
   "id": "e89d36c1",
   "metadata": {},
   "outputs": [],
   "source": [
    "file1 = open(\"C:\\\\Users\\\\LENOVO\\\\Desktop\\\\regex.txt\",\"r\")"
   ]
  },
  {
   "cell_type": "code",
   "execution_count": 5,
   "id": "6bc84330",
   "metadata": {},
   "outputs": [
    {
     "data": {
      "text/plain": [
       "'\"Last week, we received a total of 100 applications for the job opening. \\nThe candidates had diverse backgrounds, with experience ranging from 2 to 10 years. \\nOut of these, 10 applicants stood out with exceptional qualifications and skills.\\n We shortlisted them for the next round of interviews.\\n If you have any questions or need further information, please don\\'t hesitate to contact us at info@company.com.\\n Alternatively, you can reach out to our HR manager, John Smith, at john.smith@company.com.\"\\n Why should you learn to write programs? 7746\\n12 1929 8827\\nWriting programs (or programming) is a very creative \\n7 and rewarding activity.  You can write programs for \\nmany reasons, ranging from making your living to solving\\n8837 a difficult data analysis problem to having fun to helping 128\\nsomeone else solve a problem.  This book assumes that \\neveryone needs to know how to program .\\nOur client phone numbers are  9493723883 ,9606626864\\nour email Ids innomatic@gmail.com,inoomatic2@gmail.com\\nrajesh_kl@company.com'"
      ]
     },
     "execution_count": 5,
     "metadata": {},
     "output_type": "execute_result"
    }
   ],
   "source": [
    "file1.read()\n",
    "file1.close()"
   ]
  },
  {
   "cell_type": "code",
   "execution_count": 7,
   "id": "b483e420",
   "metadata": {},
   "outputs": [
    {
     "data": {
      "text/plain": [
       "'C:\\\\Users\\\\LENOVO\\\\Training\\\\241'"
      ]
     },
     "execution_count": 7,
     "metadata": {},
     "output_type": "execute_result"
    }
   ],
   "source": [
    "import os\n",
    "os.getcwd()"
   ]
  },
  {
   "cell_type": "markdown",
   "id": "83a082ab",
   "metadata": {},
   "source": [
    "### file name"
   ]
  },
  {
   "cell_type": "code",
   "execution_count": 9,
   "id": "9e427244",
   "metadata": {},
   "outputs": [],
   "source": [
    "file3 = open('regex.txt','r')\n",
    "file3.close()"
   ]
  },
  {
   "cell_type": "markdown",
   "id": "3f40f252",
   "metadata": {},
   "source": [
    "## Modes"
   ]
  },
  {
   "cell_type": "raw",
   "id": "f4ef950d",
   "metadata": {},
   "source": [
    "'r'      open for reading (default)\n",
    "'w'       open for writing, truncating the file first\n",
    "'x'       create a new file and open it for writing\n",
    "'a'       open for writing, appending to the end of the file if it exists\n",
    "'b'       binary mode\n",
    "'t'       text mode (default)\n",
    "'+'       open a disk file for updating (reading and writing)\n",
    "'U'       universal newline mode (deprecated)"
   ]
  },
  {
   "cell_type": "markdown",
   "id": "5c1ecab6",
   "metadata": {},
   "source": [
    "### Creating file"
   ]
  },
  {
   "cell_type": "code",
   "execution_count": 11,
   "id": "0da22a26",
   "metadata": {},
   "outputs": [],
   "source": [
    "data = open(\"mail.txt\",'x')"
   ]
  },
  {
   "cell_type": "code",
   "execution_count": 13,
   "id": "7019d13d",
   "metadata": {},
   "outputs": [],
   "source": [
    "data.writelines(\"Hello I am Data Scientit.\\nCurrently learning file handling\") #adding data to file"
   ]
  },
  {
   "cell_type": "code",
   "execution_count": 14,
   "id": "a01c26d5",
   "metadata": {},
   "outputs": [],
   "source": [
    "data.close()"
   ]
  },
  {
   "cell_type": "markdown",
   "id": "c5ec07f6",
   "metadata": {},
   "source": [
    "## reading file"
   ]
  },
  {
   "cell_type": "code",
   "execution_count": 16,
   "id": "40edc17e",
   "metadata": {},
   "outputs": [],
   "source": [
    "file = open('mail.txt','r')"
   ]
  },
  {
   "cell_type": "code",
   "execution_count": 17,
   "id": "ee4152eb",
   "metadata": {},
   "outputs": [
    {
     "data": {
      "text/plain": [
       "['Hello I am Data Scientit.\\n', 'Currently learning file handling']"
      ]
     },
     "execution_count": 17,
     "metadata": {},
     "output_type": "execute_result"
    }
   ],
   "source": [
    "file.readlines()"
   ]
  },
  {
   "cell_type": "code",
   "execution_count": 18,
   "id": "c6084bfa",
   "metadata": {},
   "outputs": [
    {
     "ename": "UnsupportedOperation",
     "evalue": "not writable",
     "output_type": "error",
     "traceback": [
      "\u001b[1;31m---------------------------------------------------------------------------\u001b[0m",
      "\u001b[1;31mUnsupportedOperation\u001b[0m                      Traceback (most recent call last)",
      "Cell \u001b[1;32mIn[18], line 1\u001b[0m\n\u001b[1;32m----> 1\u001b[0m \u001b[43mfile\u001b[49m\u001b[38;5;241;43m.\u001b[39;49m\u001b[43mwritelines\u001b[49m\u001b[43m(\u001b[49m\u001b[38;5;124;43m\"\u001b[39;49m\u001b[38;5;124;43m I am also data analyst\u001b[39;49m\u001b[38;5;124;43m\"\u001b[39;49m\u001b[43m)\u001b[49m\n",
      "\u001b[1;31mUnsupportedOperation\u001b[0m: not writable"
     ]
    }
   ],
   "source": [
    "file.writelines(\" I am also data analyst\")"
   ]
  },
  {
   "cell_type": "code",
   "execution_count": 19,
   "id": "4f9d75b2",
   "metadata": {},
   "outputs": [],
   "source": [
    "file.close()"
   ]
  },
  {
   "cell_type": "markdown",
   "id": "53dae962",
   "metadata": {},
   "source": [
    "### Writing into file"
   ]
  },
  {
   "cell_type": "code",
   "execution_count": 34,
   "id": "eb3ec261",
   "metadata": {},
   "outputs": [],
   "source": [
    "data1 = open(\"mail.txt\",\"w\")"
   ]
  },
  {
   "cell_type": "code",
   "execution_count": 35,
   "id": "c766d65a",
   "metadata": {},
   "outputs": [],
   "source": [
    "data1.writelines(\"she is data engineer\")   #write always overwrites/deletes old/replaces old with new one"
   ]
  },
  {
   "cell_type": "code",
   "execution_count": 36,
   "id": "6f5e9b92",
   "metadata": {},
   "outputs": [],
   "source": [
    "data1.close()"
   ]
  },
  {
   "cell_type": "markdown",
   "id": "b669ac56",
   "metadata": {},
   "source": [
    "## Appending "
   ]
  },
  {
   "cell_type": "code",
   "execution_count": 37,
   "id": "10685d21",
   "metadata": {},
   "outputs": [],
   "source": [
    "data = open(\"mail.txt\",\"r\")"
   ]
  },
  {
   "cell_type": "code",
   "execution_count": 38,
   "id": "59f4e4f0",
   "metadata": {},
   "outputs": [
    {
     "data": {
      "text/plain": [
       "['she is data engineer']"
      ]
     },
     "execution_count": 38,
     "metadata": {},
     "output_type": "execute_result"
    }
   ],
   "source": [
    "data.readlines()"
   ]
  },
  {
   "cell_type": "code",
   "execution_count": 39,
   "id": "f9ea0917",
   "metadata": {},
   "outputs": [],
   "source": [
    "data.close()"
   ]
  },
  {
   "cell_type": "code",
   "execution_count": 44,
   "id": "5f22045a",
   "metadata": {},
   "outputs": [],
   "source": [
    "data = open(\"mail.txt\",\"a\")"
   ]
  },
  {
   "cell_type": "code",
   "execution_count": 45,
   "id": "1721a91d",
   "metadata": {},
   "outputs": [],
   "source": [
    "data.writelines(\"\\nShe is data engineer also\")"
   ]
  },
  {
   "cell_type": "code",
   "execution_count": 46,
   "id": "935e0488",
   "metadata": {},
   "outputs": [],
   "source": [
    "data.close()"
   ]
  },
  {
   "cell_type": "code",
   "execution_count": 48,
   "id": "51934f0f",
   "metadata": {},
   "outputs": [],
   "source": [
    "name = open('mail.txt')"
   ]
  },
  {
   "cell_type": "code",
   "execution_count": 49,
   "id": "53b32a07",
   "metadata": {},
   "outputs": [
    {
     "data": {
      "text/plain": [
       "'r'"
      ]
     },
     "execution_count": 49,
     "metadata": {},
     "output_type": "execute_result"
    }
   ],
   "source": [
    "name.mode  #to check the status of file mode"
   ]
  },
  {
   "cell_type": "markdown",
   "id": "a7ec0cd9",
   "metadata": {},
   "source": [
    "### Read & write"
   ]
  },
  {
   "cell_type": "code",
   "execution_count": 52,
   "id": "8d0d6813",
   "metadata": {},
   "outputs": [],
   "source": [
    "file = open('mail.txt','r+')"
   ]
  },
  {
   "cell_type": "code",
   "execution_count": 53,
   "id": "efb8611c",
   "metadata": {},
   "outputs": [
    {
     "data": {
      "text/plain": [
       "'r+'"
      ]
     },
     "execution_count": 53,
     "metadata": {},
     "output_type": "execute_result"
    }
   ],
   "source": [
    "file.mode"
   ]
  },
  {
   "cell_type": "code",
   "execution_count": 54,
   "id": "0e079fa3",
   "metadata": {},
   "outputs": [
    {
     "data": {
      "text/plain": [
       "['she is data engineerShe is data scientist also\\n',\n",
       " 'She is data engineer also']"
      ]
     },
     "execution_count": 54,
     "metadata": {},
     "output_type": "execute_result"
    }
   ],
   "source": [
    "file.readlines()"
   ]
  },
  {
   "cell_type": "code",
   "execution_count": 55,
   "id": "b378c98d",
   "metadata": {},
   "outputs": [],
   "source": [
    "file.writelines(\"Python programming\")"
   ]
  },
  {
   "cell_type": "code",
   "execution_count": 56,
   "id": "9c76d1f0",
   "metadata": {},
   "outputs": [],
   "source": [
    "file.close()"
   ]
  },
  {
   "cell_type": "markdown",
   "id": "4146e921",
   "metadata": {},
   "source": [
    "### write &read"
   ]
  },
  {
   "cell_type": "code",
   "execution_count": 57,
   "id": "938cbb47",
   "metadata": {},
   "outputs": [],
   "source": [
    "file1 = open(\"mail.txt\",\"w+\")"
   ]
  },
  {
   "cell_type": "code",
   "execution_count": 60,
   "id": "f05f952f",
   "metadata": {},
   "outputs": [],
   "source": [
    "file1.writelines(\"Hello\")   #w attributes are given first priority"
   ]
  },
  {
   "cell_type": "code",
   "execution_count": 61,
   "id": "f9f22974",
   "metadata": {},
   "outputs": [],
   "source": [
    "file1.close()"
   ]
  },
  {
   "cell_type": "markdown",
   "id": "63ae1e1c",
   "metadata": {},
   "source": [
    "#### a+"
   ]
  },
  {
   "cell_type": "code",
   "execution_count": 63,
   "id": "df6d69eb",
   "metadata": {},
   "outputs": [
    {
     "data": {
      "text/plain": [
       "'a+'"
      ]
     },
     "execution_count": 63,
     "metadata": {},
     "output_type": "execute_result"
    }
   ],
   "source": [
    "file2.mode"
   ]
  },
  {
   "cell_type": "code",
   "execution_count": 68,
   "id": "4ea09b05",
   "metadata": {},
   "outputs": [],
   "source": [
    "file2.writelines(\"Hello I am data scientist\")"
   ]
  },
  {
   "cell_type": "code",
   "execution_count": 70,
   "id": "e7cc3adc",
   "metadata": {},
   "outputs": [],
   "source": [
    "file2.close()"
   ]
  },
  {
   "cell_type": "markdown",
   "id": "9acbf6c3",
   "metadata": {},
   "source": [
    "## attributes of files`"
   ]
  },
  {
   "cell_type": "code",
   "execution_count": 71,
   "id": "24ed010f",
   "metadata": {},
   "outputs": [],
   "source": [
    "data = open(\"mail.txt\",\"r\")"
   ]
  },
  {
   "cell_type": "code",
   "execution_count": 72,
   "id": "e94840f3",
   "metadata": {},
   "outputs": [
    {
     "data": {
      "text/plain": [
       "False"
      ]
     },
     "execution_count": 72,
     "metadata": {},
     "output_type": "execute_result"
    }
   ],
   "source": [
    "data.closed"
   ]
  },
  {
   "cell_type": "code",
   "execution_count": 73,
   "id": "145709c1",
   "metadata": {},
   "outputs": [
    {
     "data": {
      "text/plain": [
       "'r'"
      ]
     },
     "execution_count": 73,
     "metadata": {},
     "output_type": "execute_result"
    }
   ],
   "source": [
    "data.mode"
   ]
  },
  {
   "cell_type": "code",
   "execution_count": 75,
   "id": "509c1301",
   "metadata": {},
   "outputs": [
    {
     "data": {
      "text/plain": [
       "True"
      ]
     },
     "execution_count": 75,
     "metadata": {},
     "output_type": "execute_result"
    }
   ],
   "source": [
    "data.readable()"
   ]
  },
  {
   "cell_type": "code",
   "execution_count": null,
   "id": "31a0ce35",
   "metadata": {},
   "outputs": [],
   "source": [
    "data."
   ]
  },
  {
   "cell_type": "code",
   "execution_count": 1,
   "id": "268d1fda",
   "metadata": {},
   "outputs": [
    {
     "data": {
      "text/plain": [
       "'C:\\\\Users\\\\prana\\\\Daily class jupyter file'"
      ]
     },
     "execution_count": 1,
     "metadata": {},
     "output_type": "execute_result"
    }
   ],
   "source": [
    "import os\n",
    "os.getcwd()"
   ]
  },
  {
   "cell_type": "code",
   "execution_count": null,
   "id": "72156dd7",
   "metadata": {},
   "outputs": [],
   "source": []
  }
 ],
 "metadata": {
  "kernelspec": {
   "display_name": "Python 3 (ipykernel)",
   "language": "python",
   "name": "python3"
  },
  "language_info": {
   "codemirror_mode": {
    "name": "ipython",
    "version": 3
   },
   "file_extension": ".py",
   "mimetype": "text/x-python",
   "name": "python",
   "nbconvert_exporter": "python",
   "pygments_lexer": "ipython3",
   "version": "3.11.4"
  }
 },
 "nbformat": 4,
 "nbformat_minor": 5
}
