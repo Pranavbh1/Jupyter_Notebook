{
 "cells": [
  {
   "cell_type": "markdown",
   "id": "9d22e81e",
   "metadata": {},
   "source": [
    "# Exception Handling"
   ]
  },
  {
   "cell_type": "code",
   "execution_count": null,
   "id": "790afb0f",
   "metadata": {},
   "outputs": [],
   "source": [
    "#risky code\n",
    "try:\n",
    "    #risky code\n",
    "except:\n",
    "    #handling/alternive\n",
    "else:\n",
    "    #if no exceptipn then else will run\n",
    "    \n",
    "finally:"
   ]
  },
  {
   "cell_type": "code",
   "execution_count": 6,
   "id": "5a31452f",
   "metadata": {},
   "outputs": [
    {
     "name": "stdout",
     "output_type": "stream",
     "text": [
      "a = 7\n",
      "b = 8\n",
      "7\n"
     ]
    }
   ],
   "source": [
    "try:\n",
    "    a=int(input(\"a = \", ))\n",
    "    b=int(input(\"b = \", ))\n",
    "    print(a%b)\n",
    "    \n",
    "except (ValueError,ZeroDivisionError):\n",
    "    print(\"Enter a valid number\")\n",
    "    \n"
   ]
  },
  {
   "cell_type": "code",
   "execution_count": null,
   "id": "e542acd4",
   "metadata": {},
   "outputs": [],
   "source": [
    "try:\n",
    "    a=int(input(\"a = \", ))\n",
    "    b=int(input(\"b = \", ))\n",
    "    print(a%b)\n",
    "    \n",
    "except Exception as msg:\n",
    "    print(msg)\n",
    "    "
   ]
  },
  {
   "cell_type": "code",
   "execution_count": 1,
   "id": "bd062803",
   "metadata": {},
   "outputs": [
    {
     "name": "stdout",
     "output_type": "stream",
     "text": [
      "a = 7\n",
      "b = 8\n",
      "7\n"
     ]
    }
   ],
   "source": [
    "a=int(input(\"a = \", ))\n",
    "b=int(input(\"b = \", ))\n",
    "print(a%b)"
   ]
  },
  {
   "cell_type": "code",
   "execution_count": 2,
   "id": "a92af5e1",
   "metadata": {},
   "outputs": [
    {
     "data": {
      "text/plain": [
       "4"
      ]
     },
     "execution_count": 2,
     "metadata": {},
     "output_type": "execute_result"
    }
   ],
   "source": [
    "4%5"
   ]
  },
  {
   "cell_type": "code",
   "execution_count": 5,
   "id": "0fc8f87e",
   "metadata": {},
   "outputs": [
    {
     "name": "stdout",
     "output_type": "stream",
     "text": [
      " a :1.25\n",
      " b :6.5\n",
      "1.256.5\n"
     ]
    }
   ],
   "source": [
    "try:\n",
    "    a=input(\" a :\", )\n",
    "    b=input(\" b :\", )\n",
    "    print(a+b)\n",
    "    \n",
    "except exception as msg:\n",
    "    print(msg)"
   ]
  },
  {
   "cell_type": "code",
   "execution_count": 3,
   "id": "4c09be25",
   "metadata": {},
   "outputs": [
    {
     "name": "stdout",
     "output_type": "stream",
     "text": [
      " a :pb\n",
      " b :6.5\n",
      "invalid literal for int() with base 10: '6.5'\n"
     ]
    }
   ],
   "source": [
    "try:\n",
    "    a=input(\" a :\", )\n",
    "    b=int(input(\" b :\", ))\n",
    "    print(a*b)\n",
    "    \n",
    "except Exception as msg:\n",
    "    print(msg)"
   ]
  },
  {
   "cell_type": "code",
   "execution_count": null,
   "id": "64b335a5",
   "metadata": {},
   "outputs": [],
   "source": [
    "try:\n",
    "    a=input(\" a :\", )\n",
    "    b=int(input(\" b :\", ))\n",
    "    print(a*b)\n",
    "    \n",
    "except Exception as msg:\n",
    "    print(msg)"
   ]
  },
  {
   "cell_type": "code",
   "execution_count": 10,
   "id": "b7744401",
   "metadata": {},
   "outputs": [
    {
     "name": "stdout",
     "output_type": "stream",
     "text": [
      "[Errno 17] File exists: 'E:\\\\innomatics\\\\Daily submitting task\\\\correct_it_task7.txt'\n"
     ]
    }
   ],
   "source": [
    "try:\n",
    "    file=open(r\"E:\\innomatics\\Daily submitting task\\correct_it_task7.txt\",'x')\n",
    "except Exception as msg:\n",
    "    print(msg)"
   ]
  },
  {
   "cell_type": "code",
   "execution_count": 11,
   "id": "c1004cc0",
   "metadata": {},
   "outputs": [
    {
     "ename": "FileExistsError",
     "evalue": "[Errno 17] File exists: 'E:\\\\innomatics\\\\Daily submitting task\\\\correct_it_task7.txt'",
     "output_type": "error",
     "traceback": [
      "\u001b[1;31m---------------------------------------------------------------------------\u001b[0m",
      "\u001b[1;31mFileExistsError\u001b[0m                           Traceback (most recent call last)",
      "Cell \u001b[1;32mIn[11], line 1\u001b[0m\n\u001b[1;32m----> 1\u001b[0m file\u001b[38;5;241m=\u001b[39m\u001b[38;5;28mopen\u001b[39m(\u001b[38;5;124m\"\u001b[39m\u001b[38;5;124mE:\u001b[39m\u001b[38;5;124m\\\u001b[39m\u001b[38;5;124minnomatics\u001b[39m\u001b[38;5;124m\\\u001b[39m\u001b[38;5;124mDaily submitting task\u001b[39m\u001b[38;5;124m\\\u001b[39m\u001b[38;5;124mcorrect_it_task7.txt\u001b[39m\u001b[38;5;124m\"\u001b[39m,\u001b[38;5;124m'\u001b[39m\u001b[38;5;124mx\u001b[39m\u001b[38;5;124m'\u001b[39m)\n",
      "File \u001b[1;32mE:\\innomatics\\softwares\\python\\extract\\envs\\PranavDS\\Lib\\site-packages\\IPython\\core\\interactiveshell.py:284\u001b[0m, in \u001b[0;36m_modified_open\u001b[1;34m(file, *args, **kwargs)\u001b[0m\n\u001b[0;32m    277\u001b[0m \u001b[38;5;28;01mif\u001b[39;00m file \u001b[38;5;129;01min\u001b[39;00m {\u001b[38;5;241m0\u001b[39m, \u001b[38;5;241m1\u001b[39m, \u001b[38;5;241m2\u001b[39m}:\n\u001b[0;32m    278\u001b[0m     \u001b[38;5;28;01mraise\u001b[39;00m \u001b[38;5;167;01mValueError\u001b[39;00m(\n\u001b[0;32m    279\u001b[0m         \u001b[38;5;124mf\u001b[39m\u001b[38;5;124m\"\u001b[39m\u001b[38;5;124mIPython won\u001b[39m\u001b[38;5;124m'\u001b[39m\u001b[38;5;124mt let you open fd=\u001b[39m\u001b[38;5;132;01m{\u001b[39;00mfile\u001b[38;5;132;01m}\u001b[39;00m\u001b[38;5;124m by default \u001b[39m\u001b[38;5;124m\"\u001b[39m\n\u001b[0;32m    280\u001b[0m         \u001b[38;5;124m\"\u001b[39m\u001b[38;5;124mas it is likely to crash IPython. If you know what you are doing, \u001b[39m\u001b[38;5;124m\"\u001b[39m\n\u001b[0;32m    281\u001b[0m         \u001b[38;5;124m\"\u001b[39m\u001b[38;5;124myou can use builtins\u001b[39m\u001b[38;5;124m'\u001b[39m\u001b[38;5;124m open.\u001b[39m\u001b[38;5;124m\"\u001b[39m\n\u001b[0;32m    282\u001b[0m     )\n\u001b[1;32m--> 284\u001b[0m \u001b[38;5;28;01mreturn\u001b[39;00m io_open(file, \u001b[38;5;241m*\u001b[39margs, \u001b[38;5;241m*\u001b[39m\u001b[38;5;241m*\u001b[39mkwargs)\n",
      "\u001b[1;31mFileExistsError\u001b[0m: [Errno 17] File exists: 'E:\\\\innomatics\\\\Daily submitting task\\\\correct_it_task7.txt'"
     ]
    }
   ],
   "source": [
    "file=open(\"E:\\innomatics\\Daily submitting task\\correct_it_task7.txt\",'x')"
   ]
  },
  {
   "cell_type": "code",
   "execution_count": 12,
   "id": "4955c543",
   "metadata": {},
   "outputs": [
    {
     "name": "stdout",
     "output_type": "stream",
     "text": [
      " a :5\n",
      " b :9\n",
      "output =  555555555\n",
      "Theree is no error occcured during execution\n",
      "Exception handling is done successfully\n"
     ]
    }
   ],
   "source": [
    "try:\n",
    "    a=input(\" a :\", )\n",
    "    b=int(input(\" b :\", ))\n",
    "    print(\"output = \" ,a*b)\n",
    "    \n",
    "except Exception as msg:\n",
    "    print(msg)\n",
    "else:\n",
    "    print(\"Theree is no error occcured during execution\")\n",
    "    #else part will run only if there is no exception\n",
    "finally:\n",
    "    print(\"Exception handling is done successfully\")\n",
    "    #finally is executed irrespective of exception\n",
    "    "
   ]
  },
  {
   "cell_type": "code",
   "execution_count": 14,
   "id": "3a676f27",
   "metadata": {},
   "outputs": [
    {
     "name": "stdout",
     "output_type": "stream",
     "text": [
      " a :5\n",
      " b :6\n",
      "output =  555555\n",
      "Exception handling is done successfully\n"
     ]
    }
   ],
   "source": [
    "try:\n",
    "    a=input(\" a :\", )\n",
    "    b=int(input(\" b :\", ))\n",
    "    print(\"output = \" ,a*b)\n",
    "    \n",
    "except Exception as msg:\n",
    "    print(msg)\n",
    "#else:\n",
    "    #print(\"Theree is no error occcured during execution\")\n",
    "    #else part will run only if there is no exception\n",
    "finally:\n",
    "    print(\"Exception handling is done successfully\")\n",
    "    #finally is executed irrespective of exception\n",
    "    "
   ]
  },
  {
   "cell_type": "code",
   "execution_count": 15,
   "id": "f45da0c3",
   "metadata": {},
   "outputs": [
    {
     "name": "stdout",
     "output_type": "stream",
     "text": [
      " a :5\n",
      " b :6\n",
      "output =  555555\n",
      "Theree is no error occcured during execution\n"
     ]
    }
   ],
   "source": [
    "try:\n",
    "    a=input(\" a :\", )\n",
    "    b=int(input(\" b :\", ))\n",
    "    print(\"output = \" ,a*b)\n",
    "    \n",
    "except Exception as msg:\n",
    "    print(msg)\n",
    "else:\n",
    "    print(\"Theree is no error occcured during execution\")\n",
    "    #else part will run only if there is no exception\n",
    "#finally:\n",
    "    #print(\"Exception handling is done successfully\")\n",
    "    #finally is executed irrespective of exception\n",
    "    "
   ]
  },
  {
   "cell_type": "code",
   "execution_count": 16,
   "id": "6eb38b03",
   "metadata": {},
   "outputs": [
    {
     "ename": "SyntaxError",
     "evalue": "expected 'except' or 'finally' block (3402815420.py, line 8)",
     "output_type": "error",
     "traceback": [
      "\u001b[1;36m  Cell \u001b[1;32mIn[16], line 8\u001b[1;36m\u001b[0m\n\u001b[1;33m    else:\u001b[0m\n\u001b[1;37m    ^\u001b[0m\n\u001b[1;31mSyntaxError\u001b[0m\u001b[1;31m:\u001b[0m expected 'except' or 'finally' block\n"
     ]
    }
   ],
   "source": [
    "try:\n",
    "    a=input(\" a :\", )\n",
    "    b=int(input(\" b :\", ))\n",
    "    print(\"output = \" ,a*b)\n",
    "    \n",
    "#except Exception as msg:\n",
    "    #print(msg)\n",
    "else:\n",
    "    print(\"Theree is no error occcured during execution\")\n",
    "    #else part will run only if there is no exception\n",
    "finally:\n",
    "    print(\"Exception handling is done successfully\")\n",
    "    #finally is executed irrespective of exception\n",
    "    "
   ]
  },
  {
   "cell_type": "code",
   "execution_count": 19,
   "id": "5de032ac",
   "metadata": {},
   "outputs": [
    {
     "name": "stdout",
     "output_type": "stream",
     "text": [
      " a :5\n",
      " b :6\n",
      "output =  555555\n",
      "Exception handling is done successfully\n"
     ]
    }
   ],
   "source": [
    "try:\n",
    "    a=input(\" a :\", )\n",
    "    b=int(input(\" b :\", ))\n",
    "    print(\"output = \" ,a*b)\n",
    "    \n",
    "#except Exception as msg:\n",
    "    #print(msg)\n",
    "#else:\n",
    "    #print(\"Theree is no error occcured during execution\")\n",
    "    #else part will run only if there is no exception'''\n",
    "finally:\n",
    "    print(\"Exception handling is done successfully\")\n",
    "    #finally is executed irrespective of exception\n",
    "    "
   ]
  },
  {
   "cell_type": "code",
   "execution_count": null,
   "id": "e32b5c15",
   "metadata": {},
   "outputs": [],
   "source": [
    "try:\n",
    "    a=input(\" a :\", )\n",
    "    b=int(input(\" b :\", ))\n",
    "    print(\"output = \" ,a*b)\n",
    "    \n",
    "except Exception as msg:\n",
    "    print(msg)\n",
    "else:\n",
    "    print(\"Theree is no error occcured during execution\")\n",
    "    #else part will run only if there is no exception\n",
    "finally:\n",
    "    print(\"Exception handling is done successfully\")\n",
    "    #finally is executed irrespective of exception\n",
    "    "
   ]
  },
  {
   "cell_type": "code",
   "execution_count": 20,
   "id": "b2c44e90",
   "metadata": {},
   "outputs": [],
   "source": [
    "def calculator():\n",
    "    num = input(\"Input function : (Add ,Sub, Mul, Div, Pow) : \")\n",
    "    a = int(input('Input 1st value : '))\n",
    "    b = int(input('Input 2nd value : '))\n",
    "    if num.lower() == 'add':\n",
    "        print(a+b)\n",
    "    elif num == 'sub':\n",
    "        print(a-b)\n",
    "    elif num == 'mul':\n",
    "        print(a*b)\n",
    "    elif num == 'div':\n",
    "        print(a/b)\n",
    "    elif num == 'pow' or num == 'Pow':\n",
    "        print(a**b)"
   ]
  },
  {
   "cell_type": "code",
   "execution_count": 10,
   "id": "ef913eab",
   "metadata": {},
   "outputs": [],
   "source": [
    "def division():\n",
    "    a = int(input('Input 1st value : '))\n",
    "    b = int(input('Input 2nd value : '))\n",
    "    if b==0:\n",
    "        raise ValueError(\"you should not enter zero as it will go for infinity\")\n",
    "        division()\n",
    "        \n",
    "    else:\n",
    "        print(\"multiplication is done\")\n",
    "    \n",
    "    "
   ]
  },
  {
   "cell_type": "code",
   "execution_count": 11,
   "id": "4eac5b65",
   "metadata": {},
   "outputs": [
    {
     "name": "stdout",
     "output_type": "stream",
     "text": [
      "Input 1st value : 5\n",
      "Input 2nd value : 0\n"
     ]
    },
    {
     "ename": "ValueError",
     "evalue": "you should not enter zero as it will go for infinity",
     "output_type": "error",
     "traceback": [
      "\u001b[1;31m---------------------------------------------------------------------------\u001b[0m",
      "\u001b[1;31mValueError\u001b[0m                                Traceback (most recent call last)",
      "Cell \u001b[1;32mIn[11], line 1\u001b[0m\n\u001b[1;32m----> 1\u001b[0m division()\n",
      "Cell \u001b[1;32mIn[10], line 5\u001b[0m, in \u001b[0;36mdivision\u001b[1;34m()\u001b[0m\n\u001b[0;32m      3\u001b[0m b \u001b[38;5;241m=\u001b[39m \u001b[38;5;28mint\u001b[39m(\u001b[38;5;28minput\u001b[39m(\u001b[38;5;124m'\u001b[39m\u001b[38;5;124mInput 2nd value : \u001b[39m\u001b[38;5;124m'\u001b[39m))\n\u001b[0;32m      4\u001b[0m \u001b[38;5;28;01mif\u001b[39;00m b\u001b[38;5;241m==\u001b[39m\u001b[38;5;241m0\u001b[39m:\n\u001b[1;32m----> 5\u001b[0m     \u001b[38;5;28;01mraise\u001b[39;00m \u001b[38;5;167;01mValueError\u001b[39;00m(\u001b[38;5;124m\"\u001b[39m\u001b[38;5;124myou should not enter zero as it will go for infinity\u001b[39m\u001b[38;5;124m\"\u001b[39m)\n\u001b[0;32m      6\u001b[0m     division()\n\u001b[0;32m      8\u001b[0m \u001b[38;5;28;01melse\u001b[39;00m:\n",
      "\u001b[1;31mValueError\u001b[0m: you should not enter zero as it will go for infinity"
     ]
    }
   ],
   "source": [
    "division()"
   ]
  },
  {
   "cell_type": "code",
   "execution_count": 34,
   "id": "bc065dfc",
   "metadata": {},
   "outputs": [
    {
     "name": "stdout",
     "output_type": "stream",
     "text": [
      "Input 1st value : 5\n",
      "Input 2nd value : 0\n",
      "multiplication is done\n"
     ]
    }
   ],
   "source": [
    "division()"
   ]
  },
  {
   "cell_type": "code",
   "execution_count": null,
   "id": "0a149caf",
   "metadata": {},
   "outputs": [],
   "source": []
  }
 ],
 "metadata": {
  "kernelspec": {
   "display_name": "Python 3 (ipykernel)",
   "language": "python",
   "name": "python3"
  },
  "language_info": {
   "codemirror_mode": {
    "name": "ipython",
    "version": 3
   },
   "file_extension": ".py",
   "mimetype": "text/x-python",
   "name": "python",
   "nbconvert_exporter": "python",
   "pygments_lexer": "ipython3",
   "version": "3.11.4"
  }
 },
 "nbformat": 4,
 "nbformat_minor": 5
}
