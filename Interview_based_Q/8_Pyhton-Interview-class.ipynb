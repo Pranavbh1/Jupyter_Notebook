{
 "cells": [
  {
   "cell_type": "code",
   "execution_count": 5,
   "id": "c677a493",
   "metadata": {},
   "outputs": [
    {
     "name": "stdout",
     "output_type": "stream",
     "text": [
      "1 2 3 4 5 6 7 8 9 10 11 12 13 14 15 16 17 18 19 20 "
     ]
    }
   ],
   "source": [
    "for i in range (1,21):\n",
    "    print(i , end =\" \")"
   ]
  },
  {
   "cell_type": "markdown",
   "id": "c007e64b",
   "metadata": {},
   "source": [
    "# Linear search"
   ]
  },
  {
   "cell_type": "code",
   "execution_count": null,
   "id": "364fdce7",
   "metadata": {},
   "outputs": [],
   "source": []
  },
  {
   "cell_type": "markdown",
   "id": "a0d82628",
   "metadata": {},
   "source": [
    "##### Positon =index+1"
   ]
  },
  {
   "cell_type": "code",
   "execution_count": 24,
   "id": "c5887674",
   "metadata": {},
   "outputs": [
    {
     "name": "stdout",
     "output_type": "stream",
     "text": [
      "5\n",
      "Position:: 5\n",
      "Index:: 4\n"
     ]
    }
   ],
   "source": [
    "x = int(input())\n",
    "n = [1,2,3,4,5,6,7,8,9,10,11,12,13,14,15,16,17,18,19,20]\n",
    "flag=0           #assigning flag to be initialised\n",
    "for i in range(len(n)):\n",
    "    if n[i] == x:\n",
    "        print( \"Position::\" , i+1)\n",
    "        print( \"Index::\" , i)\n",
    "        flag=1           # flag is 1 bacz we found our i in given range\n",
    "        break               #out of loop\n",
    "        \n",
    "if flag==0:\n",
    "    print('Element not found')\n"
   ]
  },
  {
   "cell_type": "code",
   "execution_count": 25,
   "id": "46ea36da",
   "metadata": {},
   "outputs": [
    {
     "name": "stdout",
     "output_type": "stream",
     "text": [
      "55\n",
      "Position:: 2\n",
      "Index:: 1\n"
     ]
    }
   ],
   "source": [
    "x = int(input())\n",
    "n = [20,55,59,47,26]\n",
    "flag=0           #assigning flag to be initialised\n",
    "for i in range(len(n)):        #for i in n\n",
    "    if n[i] == x:\n",
    "        print( \"Position::\" , i+1)    # print( \"Position::\" , i+1 , \"\\nIndex: \", i)\n",
    "        print( \"Index::\" , i)\n",
    "        flag=1           # flag is 1 bacz we found our i in given range\n",
    "        break               #out of loop\n",
    "        \n",
    "if flag==0:\n",
    "    print('Element not found')\n"
   ]
  },
  {
   "cell_type": "markdown",
   "id": "a0e4ba5c",
   "metadata": {},
   "source": [
    "##### Write a same code in function where you return the position and index if not return -1"
   ]
  },
  {
   "cell_type": "code",
   "execution_count": 19,
   "id": "d05201e6",
   "metadata": {},
   "outputs": [
    {
     "name": "stdout",
     "output_type": "stream",
     "text": [
      "-1\n",
      "-1\n"
     ]
    }
   ],
   "source": [
    "def check(x):\n",
    "    x = int(input())\n",
    "    n = [1,2,3,4,5,6,7,8,9,10,11,12,13,14,15,16,17,18,19,20]\n",
    "    for i in range(len(n)):        \n",
    "        if n[i] == x:\n",
    "            print( \"Position::\" , i+1)\n",
    "            print( \"Index::\" , i)\n",
    "            break               #out of loop\n",
    "    else :\n",
    "            print(\"-1\") \n",
    "        \n",
    "check(x)"
   ]
  },
  {
   "cell_type": "code",
   "execution_count": 35,
   "id": "b65b2708",
   "metadata": {},
   "outputs": [
    {
     "name": "stdout",
     "output_type": "stream",
     "text": [
      "12\n",
      "Position:: 12\n",
      "Index:: 11\n"
     ]
    }
   ],
   "source": [
    "x = int(input())\n",
    "n = [1,2,3,4,5,6,7,8,9,10,11,12,13,14,15,16,17,18,19,20]\n",
    "flag=0           #assigning flag to be initialised\n",
    "for i in range(10,15):        #start:stop:step ------> even/odd---------->start should be mid \n",
    "    if n[i] == x:\n",
    "        print( \"Position::\" , i+1)\n",
    "        print( \"Index::\" , i)\n",
    "        flag=1           # flag is 1 bacz we found our i in given range\n",
    "        break               #out of loop\n",
    "        \n",
    "if flag==0:\n",
    "    print('Element not found')\n"
   ]
  },
  {
   "cell_type": "code",
   "execution_count": 42,
   "id": "0feacfb9",
   "metadata": {},
   "outputs": [
    {
     "name": "stdout",
     "output_type": "stream",
     "text": [
      "5\n"
     ]
    },
    {
     "ename": "TypeError",
     "evalue": "argument of type 'int' is not iterable",
     "output_type": "error",
     "traceback": [
      "\u001b[1;31m---------------------------------------------------------------------------\u001b[0m",
      "\u001b[1;31mTypeError\u001b[0m                                 Traceback (most recent call last)",
      "Cell \u001b[1;32mIn[42], line 5\u001b[0m\n\u001b[0;32m      3\u001b[0m flag\u001b[38;5;241m=\u001b[39m\u001b[38;5;241m0\u001b[39m           \u001b[38;5;66;03m#assigning flag to be initialised\u001b[39;00m\n\u001b[0;32m      4\u001b[0m \u001b[38;5;28;01mfor\u001b[39;00m i \u001b[38;5;129;01min\u001b[39;00m \u001b[38;5;28mrange\u001b[39m(\u001b[38;5;28mint\u001b[39m(\u001b[38;5;28mlen\u001b[39m(n)\u001b[38;5;241m/\u001b[39m\u001b[38;5;241m2\u001b[39m),\u001b[38;5;28mlen\u001b[39m(n) ):\n\u001b[1;32m----> 5\u001b[0m     \u001b[38;5;28;01mif\u001b[39;00m x \u001b[38;5;129;01min\u001b[39;00m i:\n\u001b[0;32m      6\u001b[0m         \u001b[38;5;28mprint\u001b[39m( \u001b[38;5;124m\"\u001b[39m\u001b[38;5;124mPosition::\u001b[39m\u001b[38;5;124m\"\u001b[39m , i\u001b[38;5;241m+\u001b[39m\u001b[38;5;241m1\u001b[39m)\n\u001b[0;32m      7\u001b[0m         \u001b[38;5;28mprint\u001b[39m( \u001b[38;5;124m\"\u001b[39m\u001b[38;5;124mIndex::\u001b[39m\u001b[38;5;124m\"\u001b[39m , i)\n",
      "\u001b[1;31mTypeError\u001b[0m: argument of type 'int' is not iterable"
     ]
    }
   ],
   "source": [
    "x = (input())\n",
    "n = [1,2,3,4,5,6,7,8,9,10,11,12,13,14,15,16,17,18,19,20]\n",
    "flag=0           #assigning flag to be initialised\n",
    "for i in range(int(len(n)/2),len(n) ):\n",
    "    if :\n",
    "        print( \"Position::\" , i+1)\n",
    "        print( \"Index::\" , i)\n",
    "        flag=1           # flag is 1 bacz we found our i in given range\n",
    "        break               #out of loop\n",
    "        \n",
    "if flag==0:\n",
    "    print('Element not found')\n"
   ]
  },
  {
   "cell_type": "markdown",
   "id": "1523ff49",
   "metadata": {},
   "source": [
    "# Binary search  -  it works iff(if and inly if) data(list/tuple) is sorted"
   ]
  },
  {
   "cell_type": "code",
   "execution_count": 7,
   "id": "65fcfdb7",
   "metadata": {},
   "outputs": [
    {
     "name": "stdout",
     "output_type": "stream",
     "text": [
      "Enter the value you want to check :: 16\n",
      "Position ::  16 \n",
      "Index ::  15\n"
     ]
    }
   ],
   "source": [
    "x = int(input(\"Enter the value you want to check :: \"))\n",
    "n = [1,2,3,4,5,6,7,8,9,10,11,12,13,14,15,16,17,18,19,20]\n",
    "left,right=0,len(n)-1\n",
    "index_value = -1\n",
    "while left<=right:         #'=' bcaz when they overlaps\n",
    "    mid=(left+right)//2\n",
    "    if n[mid]==x:\n",
    "        index_value=mid\n",
    "        break\n",
    "    elif x>n[mid]:\n",
    "        left= mid+1   #'+1' bacz mid already is checked and for stopping the loop\n",
    "    else:\n",
    "        right=mid-1\n",
    "if index_value==-1:\n",
    "    print(\"Element not found\")\n",
    "else:\n",
    "    print(\"Position :: \",index_value+1,\"\\nIndex :: \",index_value)"
   ]
  },
  {
   "cell_type": "code",
   "execution_count": 30,
   "id": "44e9b0ac",
   "metadata": {},
   "outputs": [
    {
     "name": "stdout",
     "output_type": "stream",
     "text": [
      "enter the hrs ::3\n",
      "enter the mins ::30\n"
     ]
    }
   ],
   "source": [
    "hrs = 360/12\n",
    "min = 360/60\n",
    "input1 = int(input (\"enter the hrs ::\"))\n",
    "input2 = int(input (\"enter the mins ::\"))\n",
    "if input1==1:\n",
    "    b = input1*30\n",
    "    if input2==1:\n",
    "        a = input2*6\n",
    "        c=a-b\n",
    "        print(c)\n",
    "    else :\n",
    "        input2+=1\n",
    "else :\n",
    "    input1+=1\n",
    "    \n",
    "\n",
    "\n"
   ]
  },
  {
   "cell_type": "code",
   "execution_count": null,
   "id": "b1071dab",
   "metadata": {},
   "outputs": [],
   "source": [
    "n = input()\n",
    "time= [int(i,strip) for i in n.split(\":\")]\n",
    "hour_angle = (time[0]+(time[1]/60))*30\n",
    "minute_angle = time[1]*6\n",
    "smallest_angle=abs"
   ]
  },
  {
   "cell_type": "code",
   "execution_count": 34,
   "id": "062f2836",
   "metadata": {},
   "outputs": [
    {
     "name": "stdout",
     "output_type": "stream",
     "text": [
      "Enter the digit :: 135\n",
      "1\n",
      "3\n",
      "5\n"
     ]
    }
   ],
   "source": [
    "a =int(input(\"Enter the digit :: \"))\n",
    "for i in str(a) :\n",
    "    "
   ]
  }
 ],
 "metadata": {
  "kernelspec": {
   "display_name": "Python 3 (ipykernel)",
   "language": "python",
   "name": "python3"
  },
  "language_info": {
   "codemirror_mode": {
    "name": "ipython",
    "version": 3
   },
   "file_extension": ".py",
   "mimetype": "text/x-python",
   "name": "python",
   "nbconvert_exporter": "python",
   "pygments_lexer": "ipython3",
   "version": "3.11.4"
  }
 },
 "nbformat": 4,
 "nbformat_minor": 5
}
