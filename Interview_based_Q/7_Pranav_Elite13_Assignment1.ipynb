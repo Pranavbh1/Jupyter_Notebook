{
 "cells": [
  {
   "cell_type": "markdown",
   "id": "26d0272c",
   "metadata": {},
   "source": [
    "### PRANAV BHAWSAR - AI ELITE 13 (EX 241)"
   ]
  },
  {
   "cell_type": "markdown",
   "id": "892c023d",
   "metadata": {},
   "source": [
    "##### Q1(A)\n",
    "Given a list of integers as input and an integer to be searched. Check if the integer is present in the list, if it is present print its position and index.\n",
    "\n",
    " if not print Element not found\n",
    "\n",
    "NOTE: NO INBUILT PYTHON FUNCTIONS ARE ALLOWED\n",
    "\n",
    "Input:\n",
    "\n",
    "n = [1,2,3,4,5,6,7,8,9,10,11,12,13,14,15,16,17,18,19,20]\n",
    "\n",
    "x = 9\n",
    "\n",
    "\n",
    "\n",
    "Output:\n",
    "\n",
    "Position : 9\n",
    "\n",
    "Index : 8"
   ]
  },
  {
   "cell_type": "code",
   "execution_count": 3,
   "id": "1b3f05a1",
   "metadata": {},
   "outputs": [
    {
     "name": "stdout",
     "output_type": "stream",
     "text": [
      "9\n",
      "Position:: 9\n",
      "Index:: 8\n"
     ]
    }
   ],
   "source": [
    "x = int(input())\n",
    "n = [1,2,3,4,5,6,7,8,9,10,11,12,13,14,15,16,17,18,19,20]\n",
    "flag=0           #assigning flag to be initialised\n",
    "for i in range(len(n)):\n",
    "    if n[i] == x:\n",
    "        print( \"Position::\" , i+1)\n",
    "        print( \"Index::\" , i)\n",
    "        flag=1           # flag is 1 bacz we found our i in given range\n",
    "        break               #out of loop\n",
    "        \n",
    "if flag==0:\n",
    "    print('Element not found')\n"
   ]
  },
  {
   "cell_type": "markdown",
   "id": "323f1eef",
   "metadata": {},
   "source": [
    "##### Q1(B) Write the above program in a python function which will return the (position,index) if the element is found, if not return (-1)."
   ]
  },
  {
   "cell_type": "code",
   "execution_count": 5,
   "id": "de642921",
   "metadata": {},
   "outputs": [
    {
     "name": "stdout",
     "output_type": "stream",
     "text": [
      "21\n",
      "-1\n"
     ]
    }
   ],
   "source": [
    "def check(x):\n",
    "    x = int(input())\n",
    "    n = [1,2,3,4,5,6,7,8,9,10,11,12,13,14,15,16,17,18,19,20]\n",
    "    for i in range(len(n)):        \n",
    "        if n[i] == x:\n",
    "            print( \"Position::\" , i+1)\n",
    "            print( \"Index::\" , i)\n",
    "            break               #out of loop\n",
    "    else :\n",
    "            print(\"-1\") \n",
    "        \n",
    "check(x)"
   ]
  },
  {
   "cell_type": "markdown",
   "id": "a6db87ae",
   "metadata": {},
   "source": [
    "##### Q2)Given a list of integers as input find the maximum number from that list without using inbuilt methods of python\n",
    "\n",
    "Input : x = [1,2,3,4,5,6,7,8,9,12,21,15,65,62,83]\n",
    "\n",
    "Output : 83\n",
    "\n"
   ]
  },
  {
   "cell_type": "code",
   "execution_count": 5,
   "id": "f22a6a3a",
   "metadata": {},
   "outputs": [
    {
     "name": "stdout",
     "output_type": "stream",
     "text": [
      "Max value in the given list = 83\n"
     ]
    }
   ],
   "source": [
    "x = [1,2,3,4,5,6,7,8,9,12,21,15,65,62,83]\n",
    "#Index = 0\n",
    "Max = 1\n",
    "for i in x :\n",
    "    if i >= Max:\n",
    "        Max = i\n",
    "        #Index =x.index(Max)\n",
    "        i+=1\n",
    "#print(\"Index of Max value in given list =\" ,Index)\n",
    "print(\"Max value in the given list =\" , Max)"
   ]
  },
  {
   "cell_type": "markdown",
   "id": "e9ae63e1",
   "metadata": {},
   "source": [
    "##### Q3)Given a string consisting of alphabets only. count the occurrence of each alphabet in the string and return it in a dictionary.\n",
    "\n",
    "Input : \"Aaaabbbc\"\n",
    "\n",
    "Output : {\"a\":4,\"b\":3,\"c\":1}"
   ]
  },
  {
   "cell_type": "code",
   "execution_count": 8,
   "id": "933bca00",
   "metadata": {},
   "outputs": [
    {
     "name": "stdout",
     "output_type": "stream",
     "text": [
      "{'a': 3, 'b': 3, 'c': 1}\n"
     ]
    }
   ],
   "source": [
    "input1 = \"Aaaabbbc\"\n",
    "output = {}\n",
    "for i in input1.lower():\n",
    "    if i.isalpha:\n",
    "        output[i]=input1.count(i)\n",
    "        \n",
    "print(output)"
   ]
  }
 ],
 "metadata": {
  "kernelspec": {
   "display_name": "Python 3 (ipykernel)",
   "language": "python",
   "name": "python3"
  },
  "language_info": {
   "codemirror_mode": {
    "name": "ipython",
    "version": 3
   },
   "file_extension": ".py",
   "mimetype": "text/x-python",
   "name": "python",
   "nbconvert_exporter": "python",
   "pygments_lexer": "ipython3",
   "version": "3.11.4"
  }
 },
 "nbformat": 4,
 "nbformat_minor": 5
}
