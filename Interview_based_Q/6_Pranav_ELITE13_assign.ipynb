{
 "cells": [
  {
   "cell_type": "raw",
   "id": "c577e4d7",
   "metadata": {},
   "source": [
    "##### 1) Given the following code snippet, edit the code such that it generates a list sorted in\n",
    "descending order:\n",
    "    \n",
    "num = [5,1,3,4,6,2]\n",
    "n = len(num)\n",
    "min =0\n",
    "pos = 0\n",
    "for i in range(n):\n",
    "  print(\"Before: \",num)\n",
    "  min = num[i]\n",
    "  pos = i\n",
    "  for j in range(i+1,n):\n",
    "    if num[j]<min:\n",
    "      min = num[j]\n",
    "      pos = j\n",
    "  temp = num[i]\n",
    "  num[i] = min\n",
    "  num[pos] = temp\n",
    "  # a,b=b,a\n",
    "  print(\"After : \",num)\n",
    "  print()\n",
    "\n",
    "# print(num)"
   ]
  },
  {
   "cell_type": "code",
   "execution_count": 3,
   "id": "4ddf875b",
   "metadata": {},
   "outputs": [
    {
     "name": "stdout",
     "output_type": "stream",
     "text": [
      "Before:  [5, 1, 3, 4, 6, 2]\n",
      "After :  [6, 1, 3, 4, 5, 2]\n",
      "\n",
      "Before:  [6, 1, 3, 4, 5, 2]\n",
      "After :  [6, 5, 3, 4, 1, 2]\n",
      "\n",
      "Before:  [6, 5, 3, 4, 1, 2]\n",
      "After :  [6, 5, 4, 3, 1, 2]\n",
      "\n",
      "Before:  [6, 5, 4, 3, 1, 2]\n",
      "After :  [6, 5, 4, 3, 1, 2]\n",
      "\n",
      "Before:  [6, 5, 4, 3, 1, 2]\n",
      "After :  [6, 5, 4, 3, 2, 1]\n",
      "\n",
      "Before:  [6, 5, 4, 3, 2, 1]\n",
      "After :  [6, 5, 4, 3, 2, 1]\n",
      "\n"
     ]
    }
   ],
   "source": [
    "num = [5,1,3,4,6,2]\n",
    "n = len(num)\n",
    "max =0\n",
    "pos = 0\n",
    "for i in range(n):\n",
    "  print(\"Before: \",num)\n",
    "  max = num[i]\n",
    "  pos = i\n",
    "  for j in range(i+1,n):\n",
    "    if num[j]>max:\n",
    "      max = num[j]\n",
    "      pos = j\n",
    "  temp = num[i]\n",
    "  num[i] = max\n",
    "  num[pos] = temp\n",
    "  print(\"After : \",num)\n",
    "  print()\n",
    "\n",
    "# print(num)"
   ]
  },
  {
   "cell_type": "markdown",
   "id": "2ab3200a",
   "metadata": {},
   "source": [
    "##### 2) Given 3 numbers as input, come up with unique methods using which the 3 numbers can\n",
    "be swapped."
   ]
  },
  {
   "cell_type": "code",
   "execution_count": 8,
   "id": "09d9a9d2",
   "metadata": {},
   "outputs": [
    {
     "name": "stdout",
     "output_type": "stream",
     "text": [
      "33 11 22\n"
     ]
    }
   ],
   "source": [
    "a,b,c = 11,22,33\n",
    "a = a + b + c\n",
    "b = a - (b+c)\n",
    "c = a - (b+c)\n",
    "a = a - (b+c)\n",
    "print(a,b,c)"
   ]
  }
 ],
 "metadata": {
  "kernelspec": {
   "display_name": "Python 3 (ipykernel)",
   "language": "python",
   "name": "python3"
  },
  "language_info": {
   "codemirror_mode": {
    "name": "ipython",
    "version": 3
   },
   "file_extension": ".py",
   "mimetype": "text/x-python",
   "name": "python",
   "nbconvert_exporter": "python",
   "pygments_lexer": "ipython3",
   "version": "3.11.4"
  }
 },
 "nbformat": 4,
 "nbformat_minor": 5
}
