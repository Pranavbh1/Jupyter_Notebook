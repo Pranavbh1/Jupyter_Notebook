{
 "cells": [
  {
   "cell_type": "code",
   "execution_count": 1,
   "id": "f65af074",
   "metadata": {},
   "outputs": [
    {
     "data": {
      "text/plain": [
       "[1, 2, 3, 4, 5, 6]"
      ]
     },
     "execution_count": 1,
     "metadata": {},
     "output_type": "execute_result"
    }
   ],
   "source": [
    "num = [1,2,3,4,5]\n",
    "num.insert(len(num),6)\n",
    "num"
   ]
  },
  {
   "cell_type": "code",
   "execution_count": 2,
   "id": "fe26a105",
   "metadata": {},
   "outputs": [
    {
     "name": "stdout",
     "output_type": "stream",
     "text": [
      "False\n",
      "True\n"
     ]
    }
   ],
   "source": [
    "a = 257\n",
    "b = 257\n",
    "print(a is b)\n",
    "a = 3\n",
    "b = 3\n",
    "print(a is b)"
   ]
  },
  {
   "cell_type": "code",
   "execution_count": 3,
   "id": "22b1d892",
   "metadata": {},
   "outputs": [
    {
     "name": "stdout",
     "output_type": "stream",
     "text": [
      "* * * * * * * * * * \n",
      "*                 * \n",
      "*                 * \n",
      "*                 * \n",
      "* * * * * * * * * * \n"
     ]
    }
   ],
   "source": [
    "rows = 5\n",
    "columns = 10\n",
    "for i in range(rows):\n",
    "        for j in range(columns):\n",
    "            if i == 0 or i == rows - 1 or j == 0 or j == columns - 1:\n",
    "                print('*', end=' ')\n",
    "            else:\n",
    "                print(' ', end=' ')\n",
    "        print()"
   ]
  },
  {
   "cell_type": "code",
   "execution_count": 4,
   "id": "698f021d",
   "metadata": {},
   "outputs": [
    {
     "name": "stdout",
     "output_type": "stream",
     "text": [
      "80\n",
      "150\n",
      "[88, 99, 111, 112, 115, 122, 124, 126, 128, 132, 135, 144]\n"
     ]
    }
   ],
   "source": [
    "left = int(input())\n",
    "right = int(input())\n",
    "\n",
    "output = []\n",
    "\n",
    "for num in range(left,right+1):\n",
    "    flag = True\n",
    "    temp = num\n",
    "    while temp>0:\n",
    "        digit = temp%10\n",
    "        if digit==0 or num%digit!=0:\n",
    "            flag = False\n",
    "            break\n",
    "        temp//=10\n",
    "    if flag:\n",
    "        output.append(num)\n",
    "print(output)"
   ]
  },
  {
   "cell_type": "code",
   "execution_count": 1,
   "id": "e8c806fb",
   "metadata": {},
   "outputs": [
    {
     "name": "stdout",
     "output_type": "stream",
     "text": [
      "123215232157896523214569874523\n",
      "{3: 4, 2: 7, 5: 5, 4: 2, 7: 2, 8: 2, 9: 2, 6: 2, 1: 4}\n"
     ]
    }
   ],
   "source": [
    "number = int(input())\n",
    "digit_count = {}\n",
    "\n",
    "while number>0:\n",
    "    digit = number%10\n",
    "    if digit in digit_count:\n",
    "        digit_count[digit] += 1\n",
    "    else:\n",
    "        digit_count[digit]=1\n",
    "    number//=10\n",
    "print(digit_count)"
   ]
  },
  {
   "cell_type": "code",
   "execution_count": 3,
   "id": "872536f4",
   "metadata": {},
   "outputs": [
    {
     "name": "stdout",
     "output_type": "stream",
     "text": [
      "123456\n",
      "BARFOOBARFOOBARFOO\n"
     ]
    }
   ],
   "source": [
    "number = int(input())\n",
    "output = \"\"\n",
    "while number>0:\n",
    "    digit = number%10\n",
    "    if digit%2 == 0:\n",
    "        output = \"FOO\" + output\n",
    "    else:\n",
    "        output = \"BAR\" + output\n",
    "    number//=10\n",
    "print(output)"
   ]
  },
  {
   "cell_type": "code",
   "execution_count": 5,
   "id": "97505025",
   "metadata": {},
   "outputs": [
    {
     "name": "stdout",
     "output_type": "stream",
     "text": [
      "[1, 2, 3, 4, 5, 6]\n"
     ]
    }
   ],
   "source": [
    "l = [1,2,3,4,5,6]\n",
    "a = l[::]\n",
    "print(a)"
   ]
  },
  {
   "cell_type": "code",
   "execution_count": null,
   "id": "b8a21342",
   "metadata": {},
   "outputs": [],
   "source": []
  }
 ],
 "metadata": {
  "kernelspec": {
   "display_name": "Python 3 (ipykernel)",
   "language": "python",
   "name": "python3"
  },
  "language_info": {
   "codemirror_mode": {
    "name": "ipython",
    "version": 3
   },
   "file_extension": ".py",
   "mimetype": "text/x-python",
   "name": "python",
   "nbconvert_exporter": "python",
   "pygments_lexer": "ipython3",
   "version": "3.11.4"
  }
 },
 "nbformat": 4,
 "nbformat_minor": 5
}
