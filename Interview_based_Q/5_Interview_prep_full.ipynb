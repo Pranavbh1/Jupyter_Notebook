{
 "cells": [
  {
   "cell_type": "markdown",
   "id": "289bb04a",
   "metadata": {},
   "source": [
    "\n",
    "### 7/8/2023\n",
    "    "
   ]
  },
  {
   "cell_type": "markdown",
   "id": "ec2d9bab",
   "metadata": {},
   "source": [
    "Q-1: Given a list of integers as input and an integer to be searched. Check if the integer is present in the list, if it is present print its position and index.\n",
    "\n",
    " if not print Element not found\n",
    "\n",
    "NOTE: NO INBUILT PYTHON FUNCTIONS ARE ALLOWED\n",
    "\n",
    "Input:\n",
    "\n",
    "n = [1,2,3,4,5,6,7,8,9,10,11,12,13,14,15,16,17,18,19,20]\n",
    "\n",
    "x = 9"
   ]
  },
  {
   "cell_type": "code",
   "execution_count": 87,
   "id": "e1ddb12b",
   "metadata": {},
   "outputs": [
    {
     "name": "stdout",
     "output_type": "stream",
     "text": [
      "Element not found\n"
     ]
    }
   ],
   "source": [
    "#Linear search\n",
    "n =range(1,21, 1)\n",
    "z =list(n)\n",
    "flag =0\n",
    "for i in range(len(z)):\n",
    "    if z[i] == 54:\n",
    "        print(\"position:\", i+1,\"\\nIndex:\", i)\n",
    "        flag = 1\n",
    "        break\n",
    "if flag == 0:\n",
    "    print('Element not found')"
   ]
  },
  {
   "cell_type": "code",
   "execution_count": null,
   "id": "7c4369d4",
   "metadata": {},
   "outputs": [],
   "source": [
    "#Binary search\n",
    "n =range(1,21, 1)\n",
    "z =list(n)\n",
    "x = 33\n",
    "left,right = 0,len(n)-1\n",
    "index_value = -1\n",
    "while left< right:\n",
    "    mid = (left+right)//2\n",
    "    if z[mid]==x:\n",
    "        index_value = mid\n",
    "        break\n",
    "    elif x>z[mid]:\n",
    "        left = mid+1\n",
    "    else:\n",
    "        right = mid-1\n",
    "if index_value == -1:\n",
    "    print(\"Element not found\")\n",
    "else:\n",
    "    print(\"Position: \", index_value +1, \"\\nIndex:\", index_value)"
   ]
  },
  {
   "cell_type": "markdown",
   "id": "4486b1c2",
   "metadata": {},
   "source": [
    "Write the above program in a python function which will return the (position,index) if the element is found, if not return (-1)."
   ]
  },
  {
   "cell_type": "code",
   "execution_count": 59,
   "id": "01640e97",
   "metadata": {},
   "outputs": [
    {
     "data": {
      "text/plain": [
       "(2, 1)"
      ]
     },
     "execution_count": 59,
     "metadata": {},
     "output_type": "execute_result"
    }
   ],
   "source": [
    "# Daily task: write the same code in a function\n",
    "def findthenumber(lst,x):\n",
    "    for i in range(len(lst)):\n",
    "        if lst[i] == x:\n",
    "            return (i+1,i)\n",
    "            i+=1\n",
    "    return -1\n",
    "        \n",
    "findthenumber([1,23,34,45,54],23)     \n",
    "    "
   ]
  },
  {
   "cell_type": "markdown",
   "id": "f333fcd6",
   "metadata": {},
   "source": [
    "### 8/8/23"
   ]
  },
  {
   "cell_type": "code",
   "execution_count": 121,
   "id": "82f2f02d",
   "metadata": {},
   "outputs": [
    {
     "name": "stdout",
     "output_type": "stream",
     "text": [
      "time:8:30\n",
      "75.0\n"
     ]
    }
   ],
   "source": [
    "#smallest value between hours and minute handle:\n",
    "n= input('time:' )\n",
    "time = [int(i.strip()) for i in n.split(\":\")]\n",
    "h_angle = (time[0]+ (time[1]/60))*30 \n",
    "m_angle = (time[1]*6)\n",
    "if time[0] <=6:\n",
    "    smallestangle = abs(h_angle - m_angle)\n",
    "else:\n",
    "    smallestangle = abs(360 - h_angle - m_angle)\n",
    "    \n",
    "print(smallestangle)\n",
    "    \n",
    "\n"
   ]
  },
  {
   "cell_type": "code",
   "execution_count": 110,
   "id": "931a3494",
   "metadata": {},
   "outputs": [
    {
     "name": "stdout",
     "output_type": "stream",
     "text": [
      "6789\n",
      "9876\n"
     ]
    }
   ],
   "source": [
    "# program to reverse an integer \n",
    "x = int(input())\n",
    "revnum = 0\n",
    "while x != 0:\n",
    "    digit = x % 10\n",
    "    revnum = revnum*10 +digit\n",
    "    x = x//10\n",
    "print(revnum)\n",
    "\n",
    "    \n",
    "    \n"
   ]
  },
  {
   "cell_type": "code",
   "execution_count": 6,
   "id": "1f7dae7d",
   "metadata": {},
   "outputs": [
    {
     "name": "stdout",
     "output_type": "stream",
     "text": [
      "max.num:  87 index: 5\n"
     ]
    }
   ],
   "source": [
    "#Program for finding maximum num:\n",
    "def maxim(lst):\n",
    "    max_num = lst[0]  \n",
    "    for i in range(1,len(lst)):\n",
    "        if lst[i] > max_num:\n",
    "            max_num = lst[i]\n",
    "    return (print(\"max.num: \",max_num,\"index:\",i))\n",
    "\n",
    "maxim([1,45,76,54,32,87])\n"
   ]
  },
  {
   "cell_type": "markdown",
   "id": "52d7eb74",
   "metadata": {},
   "source": [
    "Q3: Given a string consisting of alphabets only. count the occurrence of each alphabet in the string and return it in a dictionary.\n",
    "\n",
    "Input : \"Aaaabbbc\"\n",
    "\n",
    "Output : {\"a\":4,\"b\":3,\"c\":1}"
   ]
  },
  {
   "cell_type": "code",
   "execution_count": 137,
   "id": "23fb52e4",
   "metadata": {},
   "outputs": [
    {
     "data": {
      "text/plain": [
       "{'a': 4, 'b': 3, 'c': 1}"
      ]
     },
     "execution_count": 137,
     "metadata": {},
     "output_type": "execute_result"
    }
   ],
   "source": [
    "def charcountdict(s):\n",
    "    char_count = {}\n",
    "    s = s.lower()\n",
    "    for char in s:\n",
    "        if char.isalpha() == True and char in char_count:\n",
    "            char_count[char] += 1\n",
    "        else:\n",
    "            char_count[char] = 1\n",
    "    \n",
    "    return char_count\n",
    "charcountdict('Aaaabbbc')"
   ]
  },
  {
   "cell_type": "markdown",
   "id": "107323c9",
   "metadata": {},
   "source": [
    "### 9/8/23"
   ]
  },
  {
   "cell_type": "code",
   "execution_count": 134,
   "id": "335fec9f",
   "metadata": {},
   "outputs": [
    {
     "name": "stdout",
     "output_type": "stream",
     "text": [
      "256\n",
      "13\n"
     ]
    }
   ],
   "source": [
    "#sum of the digits:\n",
    "num = int(input())\n",
    "sum = 0\n",
    "while num >0 :\n",
    "    sum += (num%10)\n",
    "    num =  num//10\n",
    "print(sum)"
   ]
  },
  {
   "cell_type": "code",
   "execution_count": 151,
   "id": "033c04b1",
   "metadata": {},
   "outputs": [
    {
     "name": "stdout",
     "output_type": "stream",
     "text": [
      "[(9, 5, 1), (9, 2, 4), (5, 3, 7), (5, 2, 8), (5, 6, 4), (3, 4, 8), (1, 6, 8), (2, 6, 7)]\n"
     ]
    }
   ],
   "source": [
    "nums = [9,5,3,1,2,6,4,7,8]\n",
    "x = []\n",
    "for i in range(0,len(nums)-2):\n",
    "    for j in range(i+1,len(nums)-1):\n",
    "        for k in range(j+1,len(nums)):\n",
    "            if nums[i] + nums[j] + nums[k] == 15:\n",
    "                x.append((nums[i],nums[j],nums[k]))\n",
    "print(x)\n",
    "\n"
   ]
  },
  {
   "cell_type": "code",
   "execution_count": 166,
   "id": "2f5c3d59",
   "metadata": {},
   "outputs": [
    {
     "name": "stdout",
     "output_type": "stream",
     "text": [
      "(1, 5, 9)\n",
      "(1, 6, 8)\n",
      "(2, 4, 9)\n",
      "(2, 5, 8)\n",
      "(2, 6, 7)\n",
      "(3, 4, 8)\n",
      "(3, 5, 7)\n",
      "(4, 5, 6)\n"
     ]
    }
   ],
   "source": [
    "nums = [9,5,3,1,2,6,4,7,8]\n",
    "x = []\n",
    "n = len(nums)\n",
    "nums.sort()\n",
    "target_sum = 15\n",
    "for i in range(0, n-2,1):\n",
    "    left = i+1\n",
    "    right = n-1\n",
    "    while left < right:\n",
    "        current_sum = nums[i]+nums[left]+nums[right]\n",
    "        if current_sum == target_sum:\n",
    "            x.append((nums[i],nums[left],nums[right]))\n",
    "            left+=1\n",
    "            right-=1\n",
    "        elif current_sum < target_sum:\n",
    "            left+=1\n",
    "        else:\n",
    "            right-=1\n",
    "if x:\n",
    "    for tpl in x:\n",
    "        print(tpl)\n",
    "else:\n",
    "    print(\"No triplets\")\n"
   ]
  },
  {
   "cell_type": "code",
   "execution_count": 34,
   "id": "cfd01545",
   "metadata": {},
   "outputs": [
    {
     "name": "stdout",
     "output_type": "stream",
     "text": [
      "[1, 2, 3, 4, 5, 6]\n"
     ]
    }
   ],
   "source": [
    "def ascending_order(lst):\n",
    "    for i in range(len(lst)):\n",
    "        min_index = i\n",
    "        for j in range(i + 1, len(lst)):\n",
    "            if lst[j] < lst[min_index]:\n",
    "                min_index = j\n",
    "        lst[i], lst[min_index] = lst[min_index], lst[i]\n",
    "\n",
    "original_list = [5, 1, 3, 4, 6, 2]\n",
    "selection_sort(original_list)\n",
    "print(original_list)\n"
   ]
  },
  {
   "cell_type": "code",
   "execution_count": 14,
   "id": "09106f27",
   "metadata": {},
   "outputs": [
    {
     "name": "stdout",
     "output_type": "stream",
     "text": [
      "Before: [5, 1, 3, 4, 6, 2]\n",
      "After:  [1, 5, 3, 4, 6, 2]\n",
      "Before: [1, 5, 3, 4, 6, 2]\n",
      "After:  [1, 2, 3, 4, 6, 5]\n",
      "Before: [1, 2, 3, 4, 6, 5]\n",
      "After:  [1, 2, 3, 4, 6, 5]\n",
      "Before: [1, 2, 3, 4, 6, 5]\n",
      "After:  [1, 2, 3, 4, 6, 5]\n",
      "Before: [1, 2, 3, 4, 6, 5]\n",
      "After:  [1, 2, 3, 4, 5, 6]\n",
      "Before: [1, 2, 3, 4, 5, 6]\n",
      "After:  [1, 2, 3, 4, 5, 6]\n",
      "[1, 2, 3, 4, 5, 6]\n"
     ]
    }
   ],
   "source": [
    "#ascending order sorting\n",
    "num = [5,1,3,4,6,2]\n",
    "min = 0\n",
    "n = len(num)\n",
    "pos = 0\n",
    "for i in range(n):\n",
    "    print(\"Before:\",num)\n",
    "    min = num[i]\n",
    "    pos = i\n",
    "    for j in range(i+1,n):\n",
    "        if num[j]<min:\n",
    "            min = num[j]\n",
    "            pos = j\n",
    "    temp = num[i]\n",
    "    num[i] = min\n",
    "    num[pos] = temp\n",
    "    print(\"After: \",num)\n",
    "print(num)"
   ]
  },
  {
   "cell_type": "code",
   "execution_count": 15,
   "id": "1313eedf",
   "metadata": {},
   "outputs": [
    {
     "name": "stdout",
     "output_type": "stream",
     "text": [
      "Before: [5, 1, 3, 4, 6, 2]\n",
      "After:  [6, 1, 3, 4, 5, 2]\n",
      "Before: [6, 1, 3, 4, 5, 2]\n",
      "After:  [6, 5, 3, 4, 1, 2]\n",
      "Before: [6, 5, 3, 4, 1, 2]\n",
      "After:  [6, 5, 4, 3, 1, 2]\n",
      "Before: [6, 5, 4, 3, 1, 2]\n",
      "After:  [6, 5, 4, 3, 1, 2]\n",
      "Before: [6, 5, 4, 3, 1, 2]\n",
      "After:  [6, 5, 4, 3, 2, 1]\n",
      "Before: [6, 5, 4, 3, 2, 1]\n",
      "After:  [6, 5, 4, 3, 2, 1]\n",
      "[6, 5, 4, 3, 2, 1]\n"
     ]
    }
   ],
   "source": [
    "#descending order sorting\n",
    "num = [5,1,3,4,6,2]\n",
    "max = 0\n",
    "n = len(num)\n",
    "pos = 0\n",
    "for i in range(n):\n",
    "    print(\"Before:\",num)\n",
    "    max = num[i]\n",
    "    pos = i\n",
    "    for j in range(i+1,n):\n",
    "        if num[j]>max:\n",
    "            max = num[j]\n",
    "            pos = j\n",
    "    temp = num[i]\n",
    "    num[i] = max\n",
    "    num[pos] = temp\n",
    "    print(\"After: \",num)\n",
    "print(num)"
   ]
  },
  {
   "cell_type": "code",
   "execution_count": 40,
   "id": "df9679df",
   "metadata": {},
   "outputs": [
    {
     "name": "stdout",
     "output_type": "stream",
     "text": [
      "[96, 8, 4, 3, 3, 2]\n"
     ]
    }
   ],
   "source": [
    "def descending_order(lst):\n",
    "    for i in range(len(lst)):\n",
    "        max_index = i\n",
    "        for j in range(i + 1, len(lst)):\n",
    "            if lst[j] > lst[max_index]:\n",
    "                max_index = j\n",
    "        lst[i], lst[max_index] = lst[max_index], lst[i]\n",
    "    return lst\n",
    "\n",
    "result = descending_order([2, 3, 4, 8, 96, 3])\n",
    "print(result)"
   ]
  },
  {
   "cell_type": "markdown",
   "id": "91442ca7",
   "metadata": {},
   "source": [
    "### 11/08/2023"
   ]
  },
  {
   "cell_type": "code",
   "execution_count": 53,
   "id": "d4465149",
   "metadata": {},
   "outputs": [
    {
     "name": "stdout",
     "output_type": "stream",
     "text": [
      "Before: [5, 1, 3, 4, 6, 2]\n",
      "After: [1, 5, 3, 4, 6, 2]\n",
      "Before: [1, 5, 3, 4, 6, 2]\n",
      "After: [1, 3, 5, 4, 6, 2]\n",
      "Before: [1, 3, 5, 4, 6, 2]\n",
      "After: [1, 3, 4, 5, 6, 2]\n",
      "Before: [1, 3, 4, 5, 6, 2]\n",
      "After: [1, 3, 4, 5, 6, 2]\n",
      "Before: [1, 3, 4, 5, 6, 2]\n",
      "After: [1, 3, 4, 5, 2, 6]\n",
      "\n",
      "Before: [1, 3, 4, 5, 2, 6]\n",
      "After: [1, 3, 4, 5, 2, 6]\n",
      "Before: [1, 3, 4, 5, 2, 6]\n",
      "After: [1, 3, 4, 5, 2, 6]\n",
      "Before: [1, 3, 4, 5, 2, 6]\n",
      "After: [1, 3, 4, 5, 2, 6]\n",
      "Before: [1, 3, 4, 5, 2, 6]\n",
      "After: [1, 3, 4, 2, 5, 6]\n",
      "\n",
      "Before: [1, 3, 4, 2, 5, 6]\n",
      "After: [1, 3, 4, 2, 5, 6]\n",
      "Before: [1, 3, 4, 2, 5, 6]\n",
      "After: [1, 3, 4, 2, 5, 6]\n",
      "Before: [1, 3, 4, 2, 5, 6]\n",
      "After: [1, 3, 2, 4, 5, 6]\n",
      "\n",
      "Before: [1, 3, 2, 4, 5, 6]\n",
      "After: [1, 3, 2, 4, 5, 6]\n",
      "Before: [1, 3, 2, 4, 5, 6]\n",
      "After: [1, 2, 3, 4, 5, 6]\n",
      "\n",
      "Before: [1, 2, 3, 4, 5, 6]\n",
      "After: [1, 2, 3, 4, 5, 6]\n",
      "\n",
      "\n",
      "[1, 2, 3, 4, 5, 6]\n"
     ]
    }
   ],
   "source": [
    "#ascending order -bubble sort\n",
    "num = [5,1,3,4,6,2]\n",
    "n = len(num)\n",
    "for i in range(n):\n",
    "    for j in range(0,n-1-i):\n",
    "        print(\"Before:\", num)\n",
    "        if num[j] > num[j+1]:\n",
    "            num[j],num[j+1] = num[j+1],num[j]\n",
    "        print(\"After:\", num)\n",
    "    print()\n",
    "print(num)\n",
    "            \n",
    "    "
   ]
  },
  {
   "cell_type": "code",
   "execution_count": 54,
   "id": "0489a6da",
   "metadata": {},
   "outputs": [
    {
     "name": "stdout",
     "output_type": "stream",
     "text": [
      "Before: [5, 1, 3, 4, 6, 2]\n",
      "After: [5, 1, 3, 4, 6, 2]\n",
      "Before: [5, 1, 3, 4, 6, 2]\n",
      "After: [5, 3, 1, 4, 6, 2]\n",
      "Before: [5, 3, 1, 4, 6, 2]\n",
      "After: [5, 3, 4, 1, 6, 2]\n",
      "Before: [5, 3, 4, 1, 6, 2]\n",
      "After: [5, 3, 4, 6, 1, 2]\n",
      "Before: [5, 3, 4, 6, 1, 2]\n",
      "After: [5, 3, 4, 6, 2, 1]\n",
      "\n",
      "Before: [5, 3, 4, 6, 2, 1]\n",
      "After: [5, 3, 4, 6, 2, 1]\n",
      "Before: [5, 3, 4, 6, 2, 1]\n",
      "After: [5, 4, 3, 6, 2, 1]\n",
      "Before: [5, 4, 3, 6, 2, 1]\n",
      "After: [5, 4, 6, 3, 2, 1]\n",
      "Before: [5, 4, 6, 3, 2, 1]\n",
      "After: [5, 4, 6, 3, 2, 1]\n",
      "\n",
      "Before: [5, 4, 6, 3, 2, 1]\n",
      "After: [5, 4, 6, 3, 2, 1]\n",
      "Before: [5, 4, 6, 3, 2, 1]\n",
      "After: [5, 6, 4, 3, 2, 1]\n",
      "Before: [5, 6, 4, 3, 2, 1]\n",
      "After: [5, 6, 4, 3, 2, 1]\n",
      "\n",
      "Before: [5, 6, 4, 3, 2, 1]\n",
      "After: [6, 5, 4, 3, 2, 1]\n",
      "Before: [6, 5, 4, 3, 2, 1]\n",
      "After: [6, 5, 4, 3, 2, 1]\n",
      "\n",
      "Before: [6, 5, 4, 3, 2, 1]\n",
      "After: [6, 5, 4, 3, 2, 1]\n",
      "\n",
      "\n",
      "[6, 5, 4, 3, 2, 1]\n"
     ]
    }
   ],
   "source": [
    "#Descending order -bubble sort\n",
    "num = [5,1,3,4,6,2]\n",
    "n = len(num)\n",
    "for i in range(n):\n",
    "    for j in range(0,n-1-i):\n",
    "        print(\"Before:\", num)\n",
    "        if num[j] < num[j+1]:\n",
    "            num[j],num[j+1] = num[j+1],num[j]\n",
    "        print(\"After:\", num)\n",
    "    print()\n",
    "print(num)"
   ]
  },
  {
   "cell_type": "code",
   "execution_count": 61,
   "id": "68a6b59c",
   "metadata": {},
   "outputs": [
    {
     "name": "stdout",
     "output_type": "stream",
     "text": [
      "0,1,1,2,3,5,8,13,21,34,"
     ]
    }
   ],
   "source": [
    "#fibonnaci sequence:\n",
    "def fib(n):\n",
    "    frst,nxt = 0,1\n",
    "    while (frst < n):\n",
    "        yield frst\n",
    "        frst,nxt = nxt,frst+nxt\n",
    "for i in fib(50):\n",
    "    print (i,end = \",\")\n",
    "    \n",
    "    \n",
    "    \n",
    "    \n"
   ]
  },
  {
   "cell_type": "code",
   "execution_count": 75,
   "id": "c72e75e0",
   "metadata": {},
   "outputs": [
    {
     "ename": "TypeError",
     "evalue": "'builtin_function_or_method' object is not iterable",
     "output_type": "error",
     "traceback": [
      "\u001b[1;31m---------------------------------------------------------------------------\u001b[0m",
      "\u001b[1;31mTypeError\u001b[0m                                 Traceback (most recent call last)",
      "Cell \u001b[1;32mIn[75], line 20\u001b[0m\n\u001b[0;32m     18\u001b[0m lst \u001b[38;5;241m=\u001b[39m [\u001b[38;5;241m1\u001b[39m,\u001b[38;5;241m1\u001b[39m,\u001b[38;5;241m2\u001b[39m,\u001b[38;5;241m4\u001b[39m,\u001b[38;5;241m4\u001b[39m,\u001b[38;5;241m4\u001b[39m,\u001b[38;5;241m5\u001b[39m,\u001b[38;5;241m6\u001b[39m,\u001b[38;5;241m5\u001b[39m,\u001b[38;5;241m7\u001b[39m] \n\u001b[0;32m     19\u001b[0m k \u001b[38;5;241m=\u001b[39m \u001b[38;5;241m4\u001b[39m\n\u001b[1;32m---> 20\u001b[0m result \u001b[38;5;241m=\u001b[39m \u001b[43mrepetetivelist\u001b[49m\u001b[43m(\u001b[49m\u001b[43mlst\u001b[49m\u001b[43m,\u001b[49m\u001b[43mk\u001b[49m\u001b[43m)\u001b[49m\n\u001b[0;32m     21\u001b[0m \u001b[38;5;28mprint\u001b[39m(result)\n",
      "Cell \u001b[1;32mIn[75], line 12\u001b[0m, in \u001b[0;36mrepetetivelist\u001b[1;34m(lst, k)\u001b[0m\n\u001b[0;32m      9\u001b[0m         ele_count[lst[i]] \u001b[38;5;241m=\u001b[39m \u001b[38;5;241m1\u001b[39m\n\u001b[0;32m     11\u001b[0m result \u001b[38;5;241m=\u001b[39m []\n\u001b[1;32m---> 12\u001b[0m \u001b[38;5;28;01mfor\u001b[39;00m element,count \u001b[38;5;129;01min\u001b[39;00m ele_count\u001b[38;5;241m.\u001b[39mitems:\n\u001b[0;32m     13\u001b[0m     \u001b[38;5;28;01mif\u001b[39;00m count\u001b[38;5;241m>\u001b[39mthreshold:\n\u001b[0;32m     14\u001b[0m         result\u001b[38;5;241m.\u001b[39mappend(element)\n",
      "\u001b[1;31mTypeError\u001b[0m: 'builtin_function_or_method' object is not iterable"
     ]
    }
   ],
   "source": [
    "def repetetivelist(lst,k):\n",
    "    n = len(lst)\n",
    "    threshold = n//k\n",
    "    ele_count = {}\n",
    "    for i in range(n):\n",
    "        if lst[i] in ele_count:\n",
    "            ele_count[lst[i]]+=1\n",
    "        else:\n",
    "            ele_count[lst[i]] = 1\n",
    "\n",
    "    result = []\n",
    "    for element,count in ele_count.items:\n",
    "        if count>threshold:\n",
    "            result.append(element)\n",
    "    return result\n",
    "\n",
    "\n",
    "lst = [1,1,2,4,4,4,5,6,5,7] \n",
    "k = 4\n",
    "result = repetetivelist(lst,k)\n",
    "print(result)\n",
    "        \n",
    " #make it a generator function       "
   ]
  },
  {
   "cell_type": "code",
   "execution_count": null,
   "id": "6a0b3946",
   "metadata": {},
   "outputs": [],
   "source": []
  }
 ],
 "metadata": {
  "kernelspec": {
   "display_name": "Python 3 (ipykernel)",
   "language": "python",
   "name": "python3"
  },
  "language_info": {
   "codemirror_mode": {
    "name": "ipython",
    "version": 3
   },
   "file_extension": ".py",
   "mimetype": "text/x-python",
   "name": "python",
   "nbconvert_exporter": "python",
   "pygments_lexer": "ipython3",
   "version": "3.11.4"
  }
 },
 "nbformat": 4,
 "nbformat_minor": 5
}
