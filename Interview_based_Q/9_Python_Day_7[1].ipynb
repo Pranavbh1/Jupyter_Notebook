{
 "cells": [
  {
   "cell_type": "code",
   "execution_count": null,
   "metadata": {
    "id": "n6Kqd3_JRNTZ"
   },
   "outputs": [],
   "source": [
    "n = [1,2,3,4,5,6,7,8,9,10,11,12,13,14,15,16,17,18,19,20]\n",
    "x = 13\n",
    "left , right = 0 ,len(n)-1\n",
    "index_value = -1\n",
    "while left<=right:\n",
    "  mid = (left+right)//2\n",
    "  if n[mid]==x:\n",
    "    index_value=mid\n",
    "    break\n",
    "  elif n[mid]<x:\n",
    "    left = mid + 1\n",
    "  else:\n",
    "    right = mid - 1\n",
    "if index_value == -1:\n",
    "  print(\"Element not found\")\n",
    "else:\n",
    "  print(\"Position =\",index_value+1,\"\\nIndex =\",index_value)"
   ]
  },
  {
   "cell_type": "markdown",
   "metadata": {
    "id": "aXEwTWZuSkUf"
   },
   "source": [
    "# Question 1 (Fundel, Smart Rotomac, Celebal Technologies and many more)\n",
    "Given a time(hours and minutes) and <br>tell me the smallest angle between the hours handle and minutes handle.<br>\n",
    "E.g.<br>\n",
    "Input: 3:30 <br>\n",
    "Output: 90"
   ]
  },
  {
   "cell_type": "markdown",
   "metadata": {},
   "source": [
    "##### Compliment angle means u  should not go above to 180"
   ]
  },
  {
   "cell_type": "code",
   "execution_count": 26,
   "metadata": {
    "colab": {
     "base_uri": "https://localhost:8080/"
    },
    "id": "Z8IMZ3ICSmIL",
    "outputId": "e97d7b18-2870-4f69-f0ea-671ccfda8b80"
   },
   "outputs": [
    {
     "name": "stdout",
     "output_type": "stream",
     "text": [
      "12:00\n",
      "0 Degrees\n"
     ]
    }
   ],
   "source": [
    "n = input()\n",
    "time = [int(i.strip()) for i in n.split(\":\")]\n",
    "hour_angle = (time[0] + (time[1]/60))*30\n",
    "minute_angle = time[1]*6\n",
    "smallest_angle = abs(hour_angle - minute_angle)\n",
    "if smallest_angle>180:\n",
    "    smallest_angle =abs(360-smallest_angle)\n",
    "print(int(smallest_angle),\"Degrees\")"
   ]
  },
  {
   "cell_type": "markdown",
   "metadata": {
    "id": "IEsGFbA9hZoZ"
   },
   "source": [
    "# Question 2\n",
    "Write a program in python to take an integer as input <br>and print the reverse of that number without using inuilt python functions."
   ]
  },
  {
   "cell_type": "code",
   "execution_count": 29,
   "metadata": {
    "colab": {
     "base_uri": "https://localhost:8080/"
    },
    "id": "rGFMRHASd8Ma",
    "outputId": "9db255c6-9944-459d-b0ac-e8df97d8a110"
   },
   "outputs": [
    {
     "name": "stdout",
     "output_type": "stream",
     "text": [
      "5556\n",
      "6555\n"
     ]
    }
   ],
   "source": [
    "num = int(input())\n",
    "rev_num = 0\n",
    "while num!=0:\n",
    "    digit = num % 10\n",
    "    rev_num = rev_num*10 + digit\n",
    "    num = num//10\n",
    "print(rev_num)\n",
    "\n"
   ]
  },
  {
   "cell_type": "markdown",
   "metadata": {},
   "source": [
    "#### given an integer (num) as input and find the sum of its digits"
   ]
  },
  {
   "cell_type": "code",
   "execution_count": 17,
   "metadata": {},
   "outputs": [
    {
     "name": "stdout",
     "output_type": "stream",
     "text": [
      "12345\n",
      "15\n"
     ]
    }
   ],
   "source": [
    "#Pranav_BHawsar\n",
    "num = int(input())\n",
    "sum1 = 0\n",
    "for i in str(num) :\n",
    "    sum1 = sum1+int(i)\n",
    "    \n",
    "print(sum1)\n",
    "\n",
    "#num%10\n",
    "#map()\n",
    "    \n",
    "    \n",
    "    "
   ]
  },
  {
   "cell_type": "code",
   "execution_count": 14,
   "metadata": {},
   "outputs": [
    {
     "ename": "SyntaxError",
     "evalue": "invalid syntax. Maybe you meant '==' or ':=' instead of '='? (4154720359.py, line 3)",
     "output_type": "error",
     "traceback": [
      "\u001b[1;36m  Cell \u001b[1;32mIn[14], line 3\u001b[1;36m\u001b[0m\n\u001b[1;33m    while sum1=0:\u001b[0m\n\u001b[1;37m          ^\u001b[0m\n\u001b[1;31mSyntaxError\u001b[0m\u001b[1;31m:\u001b[0m invalid syntax. Maybe you meant '==' or ':=' instead of '='?\n"
     ]
    }
   ],
   "source": [
    "num = int(input())\n",
    "sum1 = 0\n",
    "while sum1=0:\n",
    "    sum1 = i+i\n",
    "    \n",
    "print(sum1)\n",
    "    "
   ]
  },
  {
   "cell_type": "code",
   "execution_count": 12,
   "metadata": {},
   "outputs": [
    {
     "name": "stdout",
     "output_type": "stream",
     "text": [
      "(9, 4, 2)\n",
      "(5, 8, 2)\n",
      "(3, 8, 4)\n",
      "(1, 8, 6)\n",
      "(2, 8, 5)\n",
      "(6, 8, 1)\n",
      "(4, 8, 3)\n",
      "(7, 7, 1)\n",
      "(8, 4, 3)\n"
     ]
    }
   ],
   "source": [
    "nums =[9,5,3,1,2,6,4,7,8]\n",
    "target_sum = 15\n",
    "for i in nums :\n",
    "    for j in nums:\n",
    "        for k in nums:\n",
    "            if i+j+k == target_sum:  \n",
    "                a = (i,j,k)\n",
    "    print(a)"
   ]
  },
  {
   "cell_type": "code",
   "execution_count": 64,
   "metadata": {},
   "outputs": [
    {
     "name": "stdout",
     "output_type": "stream",
     "text": [
      "(1, 5, 9)\n",
      "(1, 6, 8)\n",
      "(2, 4, 9)\n",
      "(2, 5, 8)\n",
      "(2, 6, 7)\n",
      "(3, 4, 8)\n",
      "(3, 5, 7)\n",
      "(4, 5, 6)\n"
     ]
    }
   ],
   "source": [
    "nums =[9,5,3,1,2,6,4,7,8]\n",
    "target_sum = 15\n",
    "triplets = []\n",
    "\n",
    "n = len(nums)\n",
    "nums.sort()\n",
    "for i in range(n-2):\n",
    "    left = i+1\n",
    "    right = n-1\n",
    "    \n",
    "    while left<right :\n",
    "        current_sum = nums[i]+nums[left]+nums[right]\n",
    "        if current_sum == target_sum:\n",
    "            triplets.append((nums[i],nums[left],nums[right]))\n",
    "            left+=1\n",
    "            right-=1\n",
    "        elif current_sum<target_sum :\n",
    "            left = left +1\n",
    "            #triplets.append((nums[i],nums[left],nums[right]))\n",
    "        else :\n",
    "            right = right -1\n",
    "            #triplets.append((nums[i],nums[left],nums[right]))\n",
    "            \n",
    "if triplets:\n",
    "    for triplet in triplets:\n",
    "        print(triplet)\n",
    "else:\n",
    "    print(\"No triplets\")"
   ]
  },
  {
   "cell_type": "code",
   "execution_count": 21,
   "metadata": {},
   "outputs": [
    {
     "name": "stdout",
     "output_type": "stream",
     "text": [
      "[1, 2, 3, 4, 5, 6]\n"
     ]
    }
   ],
   "source": [
    "num= [5,1,3,4,6,22]\n",
    "sort1 = []\n",
    "n = len(num)\n",
    "for i in range(n):\n",
    "    left = i+1\n",
    "    right = n+1\n",
    "    if left<right:\n",
    "        sort1.append(left)\n",
    "print(sort1)"
   ]
  },
  {
   "cell_type": "code",
   "execution_count": 85,
   "metadata": {},
   "outputs": [
    {
     "name": "stdout",
     "output_type": "stream",
     "text": [
      "[1, 2, 3, 4, 5, 6, 7, 8, 9]\n"
     ]
    }
   ],
   "source": [
    "num= [9,5,3,1,2,6,4,7,8]\n",
    "sort1 = []\n",
    "n = len(num)\n",
    "for i in range(n):\n",
    "    left = i+1\n",
    "    right = n+1\n",
    "    if left<right:\n",
    "        sort1.append(left)\n",
    "print(sort1)"
   ]
  },
  {
   "cell_type": "code",
   "execution_count": 89,
   "metadata": {},
   "outputs": [
    {
     "name": "stdout",
     "output_type": "stream",
     "text": [
      "[1, 2, 3, 4, 5, 6]\n"
     ]
    }
   ],
   "source": [
    "num= [5,1,3,4,6,2]\n",
    "n = len(num)\n",
    "min = 0\n",
    "pos =  0    #index=IND\n",
    "for i in range(n):\n",
    "    min = num[i]\n",
    "    pos = i\n",
    "    for j in range(i+1,n):\n",
    "        if num[j]<min:\n",
    "            min = num[j]\n",
    "            pos = j\n",
    "    temp = num[i]\n",
    "    num[i] = min\n",
    "    num[pos]=temp\n",
    "    \n",
    "print(num)"
   ]
  },
  {
   "cell_type": "markdown",
   "metadata": {},
   "source": [
    "##### l.sort uses tim sort"
   ]
  },
  {
   "cell_type": "code",
   "execution_count": 91,
   "metadata": {},
   "outputs": [
    {
     "name": "stdout",
     "output_type": "stream",
     "text": [
      "1 2\n"
     ]
    }
   ],
   "source": [
    "#Swapping by 3 ways , temp , changing position , and this\n",
    "\n",
    "a = 2\n",
    "b = 1\n",
    "a = a +b\n",
    "b = a-b\n",
    "a= a-b\n",
    "print(a,b)"
   ]
  },
  {
   "cell_type": "code",
   "execution_count": null,
   "metadata": {},
   "outputs": [],
   "source": []
  }
 ],
 "metadata": {
  "colab": {
   "provenance": []
  },
  "kernelspec": {
   "display_name": "Python 3 (ipykernel)",
   "language": "python",
   "name": "python3"
  },
  "language_info": {
   "codemirror_mode": {
    "name": "ipython",
    "version": 3
   },
   "file_extension": ".py",
   "mimetype": "text/x-python",
   "name": "python",
   "nbconvert_exporter": "python",
   "pygments_lexer": "ipython3",
   "version": "3.11.4"
  }
 },
 "nbformat": 4,
 "nbformat_minor": 1
}
