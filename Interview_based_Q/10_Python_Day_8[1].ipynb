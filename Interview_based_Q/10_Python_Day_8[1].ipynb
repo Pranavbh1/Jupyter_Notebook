{
 "cells": [
  {
   "cell_type": "markdown",
   "metadata": {
    "id": "KWzVt4qsYITJ"
   },
   "source": [
    "# Question 1\n",
    "Given an intger (`num`) as input find the sum of its digits."
   ]
  },
  {
   "cell_type": "code",
   "execution_count": null,
   "metadata": {
    "colab": {
     "base_uri": "https://localhost:8080/"
    },
    "id": "HRFV-hKMX8Oh",
    "outputId": "8a4db786-8c16-4c03-ea25-6d12b68ab8c2"
   },
   "outputs": [
    {
     "name": "stdout",
     "output_type": "stream",
     "text": [
      "156\n",
      "12\n"
     ]
    }
   ],
   "source": [
    "num = int(input())\n",
    "digit_sum=0\n",
    "for digit in str(num):\n",
    "  digit_sum+=int(digit)\n",
    "print(digit_sum)\n",
    "# num%10"
   ]
  },
  {
   "cell_type": "markdown",
   "metadata": {
    "id": "0x6Zx2DrfFCg"
   },
   "source": [
    "# Question 2 (People Tech, Sapio, SMART Rotomac, Fundel and many more)\n",
    "Given a list of integers(`nums`) and a `target_sum` as input. <br>find all the triplets from the list whose sum is equal to the `target_sum`.<br>\n",
    "Input:<br>\n",
    "```\n",
    "nums = [9,5,3,1,2,6,4,7,8]\n",
    "target_sum = 15\n",
    "```\n",
    "<br>\n",
    "Output:\n",
    "\n",
    "```\n",
    "Triplets with the sum 15 are:\n",
    "(1, 5, 9)\n",
    "(1, 6, 8)\n",
    "(2, 4, 9)\n",
    "(2, 5, 8)\n",
    "(2, 6, 7)\n",
    "(3, 4, 8)\n",
    "(3, 5, 7)\n",
    "(4, 5, 6)\n",
    "```\n",
    "\n"
   ]
  },
  {
   "cell_type": "code",
   "execution_count": null,
   "metadata": {
    "colab": {
     "base_uri": "https://localhost:8080/"
    },
    "id": "JuXQCLeveaHz",
    "outputId": "43e2d21b-5342-442f-8612-465906ce10ca"
   },
   "outputs": [
    {
     "name": "stdout",
     "output_type": "stream",
     "text": [
      "(1, 5, 9)\n",
      "(1, 6, 8)\n",
      "(2, 4, 9)\n",
      "(2, 5, 8)\n",
      "(2, 6, 7)\n",
      "(3, 4, 8)\n",
      "(3, 5, 7)\n",
      "(4, 5, 6)\n"
     ]
    }
   ],
   "source": [
    "nums = [9,5,3,1,2,6,4,7,8]\n",
    "target_sum = 15\n",
    "triplets = []\n",
    "n = len(nums)\n",
    "nums.sort()\n",
    "for i in range(n-2):\n",
    "  left = i+1\n",
    "  right = n - 1\n",
    "  while left < right:\n",
    "    current_sum = nums[i]+nums[left]+nums[right]\n",
    "    if current_sum == target_sum:\n",
    "      triplets.append((nums[i],nums[left],nums[right]))\n",
    "      left += 1\n",
    "      right -= 1\n",
    "    elif current_sum < target_sum:\n",
    "      left += 1\n",
    "    else:\n",
    "      right -= 1\n",
    "if triplets:\n",
    "  for triplet in triplets:\n",
    "    print(triplet)\n",
    "else:\n",
    "  print(\"No triplets\")\n"
   ]
  },
  {
   "cell_type": "markdown",
   "metadata": {
    "id": "Kt7_yXPqrQkk"
   },
   "source": [
    "# Question 3\n",
    "Given a list of integers as input in python, <br>sort the list in ascending order without using any inbuilt function from python."
   ]
  },
  {
   "cell_type": "code",
   "execution_count": null,
   "metadata": {
    "colab": {
     "base_uri": "https://localhost:8080/"
    },
    "id": "nNr3lbFSqhne",
    "outputId": "69367484-d862-40cc-d664-87c538e6ac81"
   },
   "outputs": [
    {
     "name": "stdout",
     "output_type": "stream",
     "text": [
      "Before:  [5, 1, 3, 4, 6, 2]\n",
      "After :  [1, 5, 3, 4, 6, 2]\n",
      "\n",
      "Before:  [1, 5, 3, 4, 6, 2]\n",
      "After :  [1, 2, 3, 4, 6, 5]\n",
      "\n",
      "Before:  [1, 2, 3, 4, 6, 5]\n",
      "After :  [1, 2, 3, 4, 6, 5]\n",
      "\n",
      "Before:  [1, 2, 3, 4, 6, 5]\n",
      "After :  [1, 2, 3, 4, 6, 5]\n",
      "\n",
      "Before:  [1, 2, 3, 4, 6, 5]\n",
      "After :  [1, 2, 3, 4, 5, 6]\n",
      "\n",
      "Before:  [1, 2, 3, 4, 5, 6]\n",
      "After :  [1, 2, 3, 4, 5, 6]\n",
      "\n"
     ]
    }
   ],
   "source": [
    "num = [5,1,3,4,6,2]\n",
    "n = len(num)\n",
    "min =0\n",
    "pos = 0\n",
    "for i in range(n):\n",
    "  print(\"Before: \",num)\n",
    "  min = num[i]\n",
    "  pos = i\n",
    "  for j in range(i+1,n):\n",
    "    if num[j]<min:\n",
    "      min = num[j]\n",
    "      pos = j\n",
    "  temp = num[i]\n",
    "  num[i] = min\n",
    "  num[pos] = temp\n",
    "  # a,b=b,a\n",
    "  print(\"After : \",num)\n",
    "  print()\n",
    "\n",
    "# print(num)"
   ]
  },
  {
   "cell_type": "code",
   "execution_count": null,
   "metadata": {
    "colab": {
     "base_uri": "https://localhost:8080/"
    },
    "id": "KsenAJy9xhLn",
    "outputId": "da55e18c-0009-4160-e8db-aed6af10daf6"
   },
   "outputs": [
    {
     "name": "stdout",
     "output_type": "stream",
     "text": [
      "2 1\n"
     ]
    }
   ],
   "source": [
    "a = 1\n",
    "b = 2\n",
    "a = a+b\n",
    "b = a-b\n",
    "a = a-b\n",
    "print(a,b)"
   ]
  },
  {
   "cell_type": "code",
   "execution_count": null,
   "metadata": {
    "id": "EWs1GVA4y3OA"
   },
   "outputs": [],
   "source": []
  }
 ],
 "metadata": {
  "colab": {
   "provenance": []
  },
  "kernelspec": {
   "display_name": "Python 3 (ipykernel)",
   "language": "python",
   "name": "python3"
  },
  "language_info": {
   "codemirror_mode": {
    "name": "ipython",
    "version": 3
   },
   "file_extension": ".py",
   "mimetype": "text/x-python",
   "name": "python",
   "nbconvert_exporter": "python",
   "pygments_lexer": "ipython3",
   "version": "3.11.4"
  }
 },
 "nbformat": 4,
 "nbformat_minor": 1
}
