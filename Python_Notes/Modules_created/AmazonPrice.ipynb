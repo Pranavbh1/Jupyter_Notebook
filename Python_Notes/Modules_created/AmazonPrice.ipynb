{
 "cells": [
  {
   "cell_type": "code",
   "execution_count": 1,
   "id": "d3b6d593",
   "metadata": {},
   "outputs": [],
   "source": [
    "def Category():\n",
    "    print(\" Appliances \")\n",
    "    print(\" HomeGoods\")\n",
    "    print(\" BabyCare\")\n",
    "    print(\" Electonic\")\n",
    "    \n",
    "    \n",
    "    "
   ]
  },
  {
   "cell_type": "code",
   "execution_count": 2,
   "id": "d305fd40",
   "metadata": {},
   "outputs": [],
   "source": [
    "def Appliances():\n",
    "    ''' General things . '''\n",
    "    print(\" Wooden Reck\")\n",
    "    print(\" Indoor curtains \")\n",
    "    print(\" Washing tools\")"
   ]
  },
  {
   "cell_type": "code",
   "execution_count": 3,
   "id": "8144fe50",
   "metadata": {},
   "outputs": [],
   "source": [
    "def BabyCare():\n",
    "    print(\" Baby Clothes of 1 months \")\n",
    "    print(\" Baby Powder \")\n",
    "    print(\" Baby cream \")"
   ]
  },
  {
   "cell_type": "code",
   "execution_count": null,
   "id": "bab67def",
   "metadata": {},
   "outputs": [],
   "source": []
  }
 ],
 "metadata": {
  "kernelspec": {
   "display_name": "Python 3 (ipykernel)",
   "language": "python",
   "name": "python3"
  },
  "language_info": {
   "codemirror_mode": {
    "name": "ipython",
    "version": 3
   },
   "file_extension": ".py",
   "mimetype": "text/x-python",
   "name": "python",
   "nbconvert_exporter": "python",
   "pygments_lexer": "ipython3",
   "version": "3.11.4"
  }
 },
 "nbformat": 4,
 "nbformat_minor": 5
}
