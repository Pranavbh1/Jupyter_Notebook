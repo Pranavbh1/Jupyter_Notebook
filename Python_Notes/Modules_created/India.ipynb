{
 "cells": [
  {
   "cell_type": "code",
   "execution_count": 3,
   "id": "7f6d0922",
   "metadata": {},
   "outputs": [],
   "source": [
    "def History():\n",
    "    print(\" Independent in 1947 \")\n",
    "    print(\" Republic in 1950 \")"
   ]
  },
  {
   "cell_type": "code",
   "execution_count": 4,
   "id": "b1902269",
   "metadata": {},
   "outputs": [],
   "source": [
    "def NationalCapital():\n",
    "    print(\" New Delhi \")"
   ]
  },
  {
   "cell_type": "code",
   "execution_count": 5,
   "id": "093812e8",
   "metadata": {},
   "outputs": [],
   "source": [
    "def FinancialCapital():\n",
    "    print(\" Mumbai \")"
   ]
  },
  {
   "cell_type": "code",
   "execution_count": null,
   "id": "eacd2efe",
   "metadata": {},
   "outputs": [],
   "source": []
  }
 ],
 "metadata": {
  "kernelspec": {
   "display_name": "Python 3 (ipykernel)",
   "language": "python",
   "name": "python3"
  },
  "language_info": {
   "codemirror_mode": {
    "name": "ipython",
    "version": 3
   },
   "file_extension": ".py",
   "mimetype": "text/x-python",
   "name": "python",
   "nbconvert_exporter": "python",
   "pygments_lexer": "ipython3",
   "version": "3.11.4"
  }
 },
 "nbformat": 4,
 "nbformat_minor": 5
}
