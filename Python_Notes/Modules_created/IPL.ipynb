{
 "cells": [
  {
   "cell_type": "code",
   "execution_count": 2,
   "id": "5132fca4",
   "metadata": {},
   "outputs": [],
   "source": [
    "def Teams():\n",
    "    print(\"Chennai Super Kings.\")\n",
    "    print(\"Royal Challengers Bangalore.\")\n",
    "    print(\"Mumbai Indians.\")\n",
    "    print(\"Kolkata Knight Riders.\")\n",
    "    print(\"Sunrisers Hyderabad.\")\n",
    "    print(\"Rajasthan Royals.\")\n",
    "    print(\"Delhi Capitals.\")\n",
    "    print(\"Gujarat Titans.\")"
   ]
  },
  {
   "cell_type": "code",
   "execution_count": null,
   "id": "627ae45c",
   "metadata": {},
   "outputs": [],
   "source": []
  }
 ],
 "metadata": {
  "kernelspec": {
   "display_name": "Python 3 (ipykernel)",
   "language": "python",
   "name": "python3"
  },
  "language_info": {
   "codemirror_mode": {
    "name": "ipython",
    "version": 3
   },
   "file_extension": ".py",
   "mimetype": "text/x-python",
   "name": "python",
   "nbconvert_exporter": "python",
   "pygments_lexer": "ipython3",
   "version": "3.11.4"
  }
 },
 "nbformat": 4,
 "nbformat_minor": 5
}
