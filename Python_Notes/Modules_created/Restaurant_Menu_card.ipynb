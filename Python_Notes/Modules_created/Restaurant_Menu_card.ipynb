{
 "cells": [
  {
   "cell_type": "code",
   "execution_count": 3,
   "id": "c73a6d48",
   "metadata": {},
   "outputs": [],
   "source": [
    "def Hamburgers():\n",
    "    print(\" Cheese Burger : 120 ₹ \")\n",
    "    print(\" Schezwan Cheese Chutney Burger : 180 ₹ \")\n",
    "    print(\" Potato Patty Burger : 100 ₹ \")\n",
    "    "
   ]
  },
  {
   "cell_type": "code",
   "execution_count": 4,
   "id": "da94d61f",
   "metadata": {},
   "outputs": [],
   "source": [
    "def Sandwiches():\n",
    "    print(\" Panner Sandwich : 180 ₹ \")\n",
    "    print(\" Panner Tikka Sandwich : 280 ₹ \")\n",
    "    print(\" Corn & Cheese Sandwich : 180 ₹ \")"
   ]
  },
  {
   "cell_type": "code",
   "execution_count": 5,
   "id": "9b09bfe1",
   "metadata": {},
   "outputs": [],
   "source": [
    "def Snacks():\n",
    "    print(\" Pav Bhaji : 200 ₹ \")\n",
    "    print(\" Chole Bhature : 120 ₹ \")\n",
    "    print(\" Peanut Chat : 60 ₹ \")"
   ]
  }
 ],
 "metadata": {
  "kernelspec": {
   "display_name": "Python 3 (ipykernel)",
   "language": "python",
   "name": "python3"
  },
  "language_info": {
   "codemirror_mode": {
    "name": "ipython",
    "version": 3
   },
   "file_extension": ".py",
   "mimetype": "text/x-python",
   "name": "python",
   "nbconvert_exporter": "python",
   "pygments_lexer": "ipython3",
   "version": "3.11.4"
  }
 },
 "nbformat": 4,
 "nbformat_minor": 5
}
