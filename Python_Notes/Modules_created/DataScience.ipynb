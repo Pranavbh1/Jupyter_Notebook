{
 "cells": [
  {
   "cell_type": "code",
   "execution_count": 2,
   "id": "56d66014",
   "metadata": {},
   "outputs": [],
   "source": [
    "def History():\n",
    "    '''Data Science is purely based on statistical gambling .\n",
    "    Father of Statistics in INDIA : P.C.Mahalonobis'''\n",
    "    print(\"First India Statistiacal Institute of India : Kolkata : 1970 estb. \")"
   ]
  },
  {
   "cell_type": "code",
   "execution_count": 3,
   "id": "ae446c3e",
   "metadata": {},
   "outputs": [],
   "source": [
    "def skills_reqiured():\n",
    "    print(\" Pyhton/R\")\n",
    "    print(\" Data Visulisation\")\n",
    "    print(\" Tableau \")\n",
    "    print(\" SQL \")\n",
    "    print(\" ML \")\n",
    "    print(\" DL \")\n",
    "    print(\" AI \")\n",
    "    "
   ]
  },
  {
   "cell_type": "code",
   "execution_count": null,
   "id": "20533ad9",
   "metadata": {},
   "outputs": [],
   "source": [
    "def coaching_hubs():\n",
    "    print(\" Bengaluru : but its too expensive with plenty of opportunities\")\n",
    "    print(\" Hyderabad : Studious environment \")\n",
    "    print(\" Pune : Good working environment \")\n",
    "    print(\" Indore :  Institutes are in developing stage. \")"
   ]
  }
 ],
 "metadata": {
  "kernelspec": {
   "display_name": "Python 3 (ipykernel)",
   "language": "python",
   "name": "python3"
  },
  "language_info": {
   "codemirror_mode": {
    "name": "ipython",
    "version": 3
   },
   "file_extension": ".py",
   "mimetype": "text/x-python",
   "name": "python",
   "nbconvert_exporter": "python",
   "pygments_lexer": "ipython3",
   "version": "3.11.4"
  }
 },
 "nbformat": 4,
 "nbformat_minor": 5
}
