{
 "cells": [
  {
   "cell_type": "markdown",
   "id": "e339706b",
   "metadata": {},
   "source": [
    "In Python, a list is a built-in data type that represents an ordered collection of elements. Lists are versatile and commonly used because they can store elements of different data types, and they allow for dynamic resizing. \n",
    "1. Lists are `Mutable`, which means you can modify, add, or remove elements after they are created.\n",
    "2. Lists are `Ordered`\n",
    "3. Lists allows `Duplicates`\n",
    "4. lists follows `Index`"
   ]
  },
  {
   "cell_type": "code",
   "execution_count": 1,
   "id": "faa291a8",
   "metadata": {},
   "outputs": [],
   "source": [
    "list1 = []   #creating empty list"
   ]
  },
  {
   "cell_type": "code",
   "execution_count": 2,
   "id": "633eb772",
   "metadata": {},
   "outputs": [
    {
     "name": "stdout",
     "output_type": "stream",
     "text": [
      "[]\n"
     ]
    }
   ],
   "source": [
    "print(list1)"
   ]
  },
  {
   "cell_type": "code",
   "execution_count": 4,
   "id": "075a349d",
   "metadata": {},
   "outputs": [],
   "source": [
    "mobile_names = [\"Iphone\",\"Samsung\",\"Nokia\",\"redmi\",\"Moto\",\"oppo\"]"
   ]
  },
  {
   "cell_type": "code",
   "execution_count": 5,
   "id": "90745538",
   "metadata": {},
   "outputs": [
    {
     "name": "stdout",
     "output_type": "stream",
     "text": [
      "['Iphone', 'Samsung', 'Nokia', 'redmi', 'Moto', 'oppo']\n"
     ]
    }
   ],
   "source": [
    "print(mobile_names)"
   ]
  },
  {
   "cell_type": "code",
   "execution_count": 6,
   "id": "bc876e89",
   "metadata": {},
   "outputs": [
    {
     "data": {
      "text/plain": [
       "2464490677440"
      ]
     },
     "execution_count": 6,
     "metadata": {},
     "output_type": "execute_result"
    }
   ],
   "source": [
    "id(mobile_names)"
   ]
  },
  {
   "cell_type": "code",
   "execution_count": 7,
   "id": "79fdfeb2",
   "metadata": {},
   "outputs": [
    {
     "data": {
      "text/plain": [
       "list"
      ]
     },
     "execution_count": 7,
     "metadata": {},
     "output_type": "execute_result"
    }
   ],
   "source": [
    "type(mobile_names)"
   ]
  },
  {
   "cell_type": "code",
   "execution_count": 8,
   "id": "57e6c806",
   "metadata": {},
   "outputs": [
    {
     "data": {
      "text/plain": [
       "6"
      ]
     },
     "execution_count": 8,
     "metadata": {},
     "output_type": "execute_result"
    }
   ],
   "source": [
    "len(mobile_names)"
   ]
  },
  {
   "cell_type": "code",
   "execution_count": 9,
   "id": "5485e818",
   "metadata": {},
   "outputs": [
    {
     "data": {
      "text/plain": [
       "['Iphone', 'Samsung', 'Nokia', 'redmi', 'Moto', 'oppo']"
      ]
     },
     "execution_count": 9,
     "metadata": {},
     "output_type": "execute_result"
    }
   ],
   "source": [
    "mobile_names"
   ]
  },
  {
   "cell_type": "code",
   "execution_count": 10,
   "id": "29351bee",
   "metadata": {},
   "outputs": [
    {
     "data": {
      "text/plain": [
       "'Nokia'"
      ]
     },
     "execution_count": 10,
     "metadata": {},
     "output_type": "execute_result"
    }
   ],
   "source": [
    "mobile_names[2]  #indexing"
   ]
  },
  {
   "cell_type": "code",
   "execution_count": 13,
   "id": "00b2fc25",
   "metadata": {},
   "outputs": [
    {
     "data": {
      "text/plain": [
       "['oppo', 'Moto']"
      ]
     },
     "execution_count": 13,
     "metadata": {},
     "output_type": "execute_result"
    }
   ],
   "source": [
    "mobile_names[-1:-3:-1]   #reverse indexing"
   ]
  },
  {
   "cell_type": "code",
   "execution_count": 14,
   "id": "4a9ff1a2",
   "metadata": {},
   "outputs": [
    {
     "data": {
      "text/plain": [
       "['Moto', 'oppo']"
      ]
     },
     "execution_count": 14,
     "metadata": {},
     "output_type": "execute_result"
    }
   ],
   "source": [
    "mobile_names[4:6]"
   ]
  },
  {
   "cell_type": "code",
   "execution_count": 15,
   "id": "f08929e3",
   "metadata": {},
   "outputs": [
    {
     "data": {
      "text/plain": [
       "['Moto', 'oppo']"
      ]
     },
     "execution_count": 15,
     "metadata": {},
     "output_type": "execute_result"
    }
   ],
   "source": [
    "mobile_names[4:]"
   ]
  },
  {
   "cell_type": "code",
   "execution_count": 19,
   "id": "43504a67",
   "metadata": {},
   "outputs": [],
   "source": [
    "veg = [\"tomoto\",\"potato\",\"brinjal\",\"cabbage\",\"carrot\"]"
   ]
  },
  {
   "cell_type": "code",
   "execution_count": 21,
   "id": "8382ef53",
   "metadata": {},
   "outputs": [],
   "source": [
    "a = veg[1]"
   ]
  },
  {
   "cell_type": "code",
   "execution_count": 22,
   "id": "178b2007",
   "metadata": {},
   "outputs": [
    {
     "data": {
      "text/plain": [
       "'potato'"
      ]
     },
     "execution_count": 22,
     "metadata": {},
     "output_type": "execute_result"
    }
   ],
   "source": [
    "a"
   ]
  },
  {
   "cell_type": "code",
   "execution_count": 23,
   "id": "a8d382d4",
   "metadata": {},
   "outputs": [
    {
     "data": {
      "text/plain": [
       "True"
      ]
     },
     "execution_count": 23,
     "metadata": {},
     "output_type": "execute_result"
    }
   ],
   "source": [
    "a.startswith('p')"
   ]
  },
  {
   "cell_type": "markdown",
   "id": "590e7bf2",
   "metadata": {},
   "source": [
    "# Attributes of list"
   ]
  },
  {
   "cell_type": "code",
   "execution_count": 24,
   "id": "cdcdf12d",
   "metadata": {},
   "outputs": [],
   "source": [
    "list1 = [1,2,3,41,1,3,5]"
   ]
  },
  {
   "cell_type": "code",
   "execution_count": 26,
   "id": "ad1f6257",
   "metadata": {},
   "outputs": [
    {
     "name": "stdout",
     "output_type": "stream",
     "text": [
      "[1, 2, 3, 41, 1, 3, 5]\n"
     ]
    }
   ],
   "source": [
    "print(list1)   #duplicates are allowed"
   ]
  },
  {
   "cell_type": "code",
   "execution_count": 27,
   "id": "a12bab14",
   "metadata": {},
   "outputs": [
    {
     "data": {
      "text/plain": [
       "5"
      ]
     },
     "execution_count": 27,
     "metadata": {},
     "output_type": "execute_result"
    }
   ],
   "source": [
    "list1[-1]   #index based(ordered)"
   ]
  },
  {
   "cell_type": "code",
   "execution_count": 28,
   "id": "1685326b",
   "metadata": {},
   "outputs": [],
   "source": [
    "#Mutable"
   ]
  },
  {
   "cell_type": "code",
   "execution_count": 31,
   "id": "9d8c0c97",
   "metadata": {},
   "outputs": [],
   "source": [
    "orig = [1,2,3,4,5]   #original values with list"
   ]
  },
  {
   "cell_type": "code",
   "execution_count": 32,
   "id": "39764b2e",
   "metadata": {},
   "outputs": [],
   "source": [
    "orig.append(\"hello\")"
   ]
  },
  {
   "cell_type": "code",
   "execution_count": 33,
   "id": "f438e34e",
   "metadata": {},
   "outputs": [
    {
     "data": {
      "text/plain": [
       "[1, 2, 3, 4, 5, 'hello']"
      ]
     },
     "execution_count": 33,
     "metadata": {},
     "output_type": "execute_result"
    }
   ],
   "source": [
    "orig"
   ]
  },
  {
   "cell_type": "code",
   "execution_count": 34,
   "id": "d5ede1b2",
   "metadata": {},
   "outputs": [],
   "source": [
    "name  = \"Hello\"  #strings immutable"
   ]
  },
  {
   "cell_type": "code",
   "execution_count": 35,
   "id": "a0c0fe5e",
   "metadata": {},
   "outputs": [
    {
     "data": {
      "text/plain": [
       "'Iello'"
      ]
     },
     "execution_count": 35,
     "metadata": {},
     "output_type": "execute_result"
    }
   ],
   "source": [
    "name.replace(\"H\",\"I\")"
   ]
  },
  {
   "cell_type": "code",
   "execution_count": 36,
   "id": "bb5e1f1a",
   "metadata": {},
   "outputs": [
    {
     "data": {
      "text/plain": [
       "'Hello'"
      ]
     },
     "execution_count": 36,
     "metadata": {},
     "output_type": "execute_result"
    }
   ],
   "source": [
    "name"
   ]
  },
  {
   "cell_type": "code",
   "execution_count": 40,
   "id": "49a167a9",
   "metadata": {},
   "outputs": [],
   "source": [
    "list2 = [\"hello\",\"Ramesh\",\"How\",\"Are\"]  #original"
   ]
  },
  {
   "cell_type": "code",
   "execution_count": 41,
   "id": "d70436ff",
   "metadata": {},
   "outputs": [
    {
     "data": {
      "text/plain": [
       "4"
      ]
     },
     "execution_count": 41,
     "metadata": {},
     "output_type": "execute_result"
    }
   ],
   "source": [
    "len(list2)"
   ]
  },
  {
   "cell_type": "code",
   "execution_count": 42,
   "id": "112e92ef",
   "metadata": {},
   "outputs": [],
   "source": [
    "list2.append(\"you?\")"
   ]
  },
  {
   "cell_type": "code",
   "execution_count": 39,
   "id": "08ecb0dc",
   "metadata": {},
   "outputs": [
    {
     "data": {
      "text/plain": [
       "['hello', 'Ramesh', 'How', 'Are', 'you?']"
      ]
     },
     "execution_count": 39,
     "metadata": {},
     "output_type": "execute_result"
    }
   ],
   "source": [
    "list2"
   ]
  },
  {
   "cell_type": "code",
   "execution_count": 43,
   "id": "8cba81fb",
   "metadata": {},
   "outputs": [
    {
     "data": {
      "text/plain": [
       "5"
      ]
     },
     "execution_count": 43,
     "metadata": {},
     "output_type": "execute_result"
    }
   ],
   "source": [
    "len(list2)"
   ]
  },
  {
   "cell_type": "markdown",
   "id": "a319af33",
   "metadata": {},
   "source": [
    "# List methods"
   ]
  },
  {
   "cell_type": "code",
   "execution_count": 44,
   "id": "79643cc1",
   "metadata": {},
   "outputs": [],
   "source": [
    "num = [2,4,6,8,10,12]"
   ]
  },
  {
   "cell_type": "code",
   "execution_count": 47,
   "id": "82377907",
   "metadata": {},
   "outputs": [],
   "source": [
    "num.append(14)  #adding the element/value at the end of the list"
   ]
  },
  {
   "cell_type": "code",
   "execution_count": 49,
   "id": "c1ae7196",
   "metadata": {},
   "outputs": [
    {
     "data": {
      "text/plain": [
       "[2, 4, 6, 8, 10, 12, 14, 14]"
      ]
     },
     "execution_count": 49,
     "metadata": {},
     "output_type": "execute_result"
    }
   ],
   "source": [
    "num"
   ]
  },
  {
   "cell_type": "code",
   "execution_count": 52,
   "id": "c7abc11f",
   "metadata": {},
   "outputs": [],
   "source": [
    "num.clear()  #clears all the values and returns to empty list"
   ]
  },
  {
   "cell_type": "code",
   "execution_count": 53,
   "id": "a692fc7a",
   "metadata": {},
   "outputs": [
    {
     "data": {
      "text/plain": [
       "[]"
      ]
     },
     "execution_count": 53,
     "metadata": {},
     "output_type": "execute_result"
    }
   ],
   "source": [
    "num"
   ]
  },
  {
   "cell_type": "code",
   "execution_count": 54,
   "id": "06a0ac5d",
   "metadata": {},
   "outputs": [],
   "source": [
    "num = [1,3,5,7,9]"
   ]
  },
  {
   "cell_type": "code",
   "execution_count": 55,
   "id": "a2f202c8",
   "metadata": {},
   "outputs": [],
   "source": [
    "num1 = num.copy()  #copy of the original list"
   ]
  },
  {
   "cell_type": "code",
   "execution_count": 56,
   "id": "e68556bc",
   "metadata": {},
   "outputs": [],
   "source": [
    "num1.append(11)"
   ]
  },
  {
   "cell_type": "code",
   "execution_count": 57,
   "id": "e844f00b",
   "metadata": {},
   "outputs": [
    {
     "data": {
      "text/plain": [
       "[1, 3, 5, 7, 9, 11]"
      ]
     },
     "execution_count": 57,
     "metadata": {},
     "output_type": "execute_result"
    }
   ],
   "source": [
    "num1"
   ]
  },
  {
   "cell_type": "code",
   "execution_count": 58,
   "id": "2a70629d",
   "metadata": {},
   "outputs": [
    {
     "data": {
      "text/plain": [
       "[1, 3, 5, 7, 9]"
      ]
     },
     "execution_count": 58,
     "metadata": {},
     "output_type": "execute_result"
    }
   ],
   "source": [
    "num"
   ]
  },
  {
   "cell_type": "code",
   "execution_count": 59,
   "id": "906f7962",
   "metadata": {},
   "outputs": [
    {
     "data": {
      "text/plain": [
       "1"
      ]
     },
     "execution_count": 59,
     "metadata": {},
     "output_type": "execute_result"
    }
   ],
   "source": [
    "num.count(1)  #frequncy of occurance"
   ]
  },
  {
   "cell_type": "code",
   "execution_count": 62,
   "id": "ce5ed110",
   "metadata": {},
   "outputs": [],
   "source": [
    "num.extend([11,13,15,17])  #adding multiple elements(iterable)"
   ]
  },
  {
   "cell_type": "code",
   "execution_count": 63,
   "id": "4edc429d",
   "metadata": {},
   "outputs": [
    {
     "data": {
      "text/plain": [
       "[1, 3, 5, 7, 9, 11, 13, 15, 17, 11, 13, 15, 17]"
      ]
     },
     "execution_count": 63,
     "metadata": {},
     "output_type": "execute_result"
    }
   ],
   "source": [
    "num"
   ]
  },
  {
   "cell_type": "code",
   "execution_count": 64,
   "id": "a55c1bbf",
   "metadata": {},
   "outputs": [
    {
     "data": {
      "text/plain": [
       "1"
      ]
     },
     "execution_count": 64,
     "metadata": {},
     "output_type": "execute_result"
    }
   ],
   "source": [
    "num.index(3)"
   ]
  },
  {
   "cell_type": "code",
   "execution_count": 65,
   "id": "3fbce6b0",
   "metadata": {},
   "outputs": [
    {
     "data": {
      "text/plain": [
       "5"
      ]
     },
     "execution_count": 65,
     "metadata": {},
     "output_type": "execute_result"
    }
   ],
   "source": [
    "num.index(11)"
   ]
  },
  {
   "cell_type": "code",
   "execution_count": 66,
   "id": "e074ba3f",
   "metadata": {},
   "outputs": [
    {
     "data": {
      "text/plain": [
       "[1, 3, 5, 7, 9, 11, 13, 15, 17, 11, 13, 15, 17]"
      ]
     },
     "execution_count": 66,
     "metadata": {},
     "output_type": "execute_result"
    }
   ],
   "source": [
    "num"
   ]
  },
  {
   "cell_type": "code",
   "execution_count": 67,
   "id": "63b2b57d",
   "metadata": {},
   "outputs": [],
   "source": [
    "num.insert(5,10)"
   ]
  },
  {
   "cell_type": "code",
   "execution_count": 68,
   "id": "c860da51",
   "metadata": {},
   "outputs": [
    {
     "data": {
      "text/plain": [
       "[1, 3, 5, 7, 9, 10, 11, 13, 15, 17, 11, 13, 15, 17]"
      ]
     },
     "execution_count": 68,
     "metadata": {},
     "output_type": "execute_result"
    }
   ],
   "source": [
    "num"
   ]
  },
  {
   "cell_type": "code",
   "execution_count": 69,
   "id": "23fd11aa",
   "metadata": {},
   "outputs": [
    {
     "data": {
      "text/plain": [
       "7"
      ]
     },
     "execution_count": 69,
     "metadata": {},
     "output_type": "execute_result"
    }
   ],
   "source": [
    "num.pop(3)   #removing based on index number"
   ]
  },
  {
   "cell_type": "code",
   "execution_count": 70,
   "id": "a1896372",
   "metadata": {},
   "outputs": [
    {
     "data": {
      "text/plain": [
       "[1, 3, 5, 9, 10, 11, 13, 15, 17, 11, 13, 15, 17]"
      ]
     },
     "execution_count": 70,
     "metadata": {},
     "output_type": "execute_result"
    }
   ],
   "source": [
    "num"
   ]
  },
  {
   "cell_type": "code",
   "execution_count": 71,
   "id": "942a038d",
   "metadata": {},
   "outputs": [
    {
     "data": {
      "text/plain": [
       "17"
      ]
     },
     "execution_count": 71,
     "metadata": {},
     "output_type": "execute_result"
    }
   ],
   "source": [
    "num.pop(-1)"
   ]
  },
  {
   "cell_type": "code",
   "execution_count": 72,
   "id": "d65990a7",
   "metadata": {},
   "outputs": [
    {
     "data": {
      "text/plain": [
       "[1, 3, 5, 9, 10, 11, 13, 15, 17, 11, 13, 15]"
      ]
     },
     "execution_count": 72,
     "metadata": {},
     "output_type": "execute_result"
    }
   ],
   "source": [
    "num"
   ]
  },
  {
   "cell_type": "code",
   "execution_count": 73,
   "id": "5c09a485",
   "metadata": {},
   "outputs": [],
   "source": [
    "num.remove(10)"
   ]
  },
  {
   "cell_type": "code",
   "execution_count": 74,
   "id": "b14fbcce",
   "metadata": {},
   "outputs": [
    {
     "data": {
      "text/plain": [
       "[1, 3, 5, 9, 11, 13, 15, 17, 11, 13, 15]"
      ]
     },
     "execution_count": 74,
     "metadata": {},
     "output_type": "execute_result"
    }
   ],
   "source": [
    "num"
   ]
  },
  {
   "cell_type": "code",
   "execution_count": 75,
   "id": "a27f68af",
   "metadata": {},
   "outputs": [],
   "source": [
    "num.remove(11)"
   ]
  },
  {
   "cell_type": "code",
   "execution_count": 76,
   "id": "e2cf0742",
   "metadata": {},
   "outputs": [
    {
     "data": {
      "text/plain": [
       "[1, 3, 5, 9, 13, 15, 17, 11, 13, 15]"
      ]
     },
     "execution_count": 76,
     "metadata": {},
     "output_type": "execute_result"
    }
   ],
   "source": [
    "num"
   ]
  },
  {
   "cell_type": "code",
   "execution_count": 77,
   "id": "b6b1522f",
   "metadata": {},
   "outputs": [],
   "source": [
    "num.remove(11)"
   ]
  },
  {
   "cell_type": "code",
   "execution_count": 78,
   "id": "f474abe0",
   "metadata": {},
   "outputs": [
    {
     "data": {
      "text/plain": [
       "[1, 3, 5, 9, 13, 15, 17, 13, 15]"
      ]
     },
     "execution_count": 78,
     "metadata": {},
     "output_type": "execute_result"
    }
   ],
   "source": [
    "num"
   ]
  },
  {
   "cell_type": "code",
   "execution_count": 79,
   "id": "29bd7c68",
   "metadata": {},
   "outputs": [],
   "source": [
    "num.reverse()"
   ]
  },
  {
   "cell_type": "code",
   "execution_count": 80,
   "id": "e7b69fd8",
   "metadata": {},
   "outputs": [
    {
     "data": {
      "text/plain": [
       "[15, 13, 17, 15, 13, 9, 5, 3, 1]"
      ]
     },
     "execution_count": 80,
     "metadata": {},
     "output_type": "execute_result"
    }
   ],
   "source": [
    "num"
   ]
  },
  {
   "cell_type": "code",
   "execution_count": 81,
   "id": "6059e30b",
   "metadata": {},
   "outputs": [],
   "source": [
    "num.sort()"
   ]
  },
  {
   "cell_type": "code",
   "execution_count": 82,
   "id": "7225f33a",
   "metadata": {},
   "outputs": [
    {
     "data": {
      "text/plain": [
       "[1, 3, 5, 9, 13, 13, 15, 15, 17]"
      ]
     },
     "execution_count": 82,
     "metadata": {},
     "output_type": "execute_result"
    }
   ],
   "source": [
    "num"
   ]
  },
  {
   "cell_type": "code",
   "execution_count": 83,
   "id": "ce2099b3",
   "metadata": {},
   "outputs": [],
   "source": [
    "names = [\"a\",\"d\",\"b\",\"c\",\"z\",\"s\"]"
   ]
  },
  {
   "cell_type": "code",
   "execution_count": 84,
   "id": "e5dd8adb",
   "metadata": {},
   "outputs": [],
   "source": [
    "names.sort()"
   ]
  },
  {
   "cell_type": "code",
   "execution_count": 85,
   "id": "6a1c072e",
   "metadata": {},
   "outputs": [
    {
     "data": {
      "text/plain": [
       "['a', 'b', 'c', 'd', 's', 'z']"
      ]
     },
     "execution_count": 85,
     "metadata": {},
     "output_type": "execute_result"
    }
   ],
   "source": [
    "names"
   ]
  },
  {
   "cell_type": "code",
   "execution_count": 86,
   "id": "740e0f87",
   "metadata": {},
   "outputs": [],
   "source": [
    "details = []"
   ]
  },
  {
   "cell_type": "code",
   "execution_count": 90,
   "id": "6931bc6f",
   "metadata": {},
   "outputs": [
    {
     "name": "stdout",
     "output_type": "stream",
     "text": [
      "Enter your name:ramesh\n",
      "Enter yor marks67\n",
      "enter your city name: Vizag\n"
     ]
    }
   ],
   "source": [
    "name = input(\"Enter your name:\")\n",
    "marks = int(input(\"Enter yor marks\"))\n",
    "city = input(\"enter your city name: \")"
   ]
  },
  {
   "cell_type": "code",
   "execution_count": 91,
   "id": "3b578193",
   "metadata": {},
   "outputs": [],
   "source": [
    "details.append(name)\n",
    "details.append(marks)\n",
    "details.append(city)"
   ]
  },
  {
   "cell_type": "code",
   "execution_count": 92,
   "id": "20af3f22",
   "metadata": {},
   "outputs": [
    {
     "data": {
      "text/plain": [
       "['raj', 45, 'Hyderabad', 'ramesh', 67, 'Vizag']"
      ]
     },
     "execution_count": 92,
     "metadata": {},
     "output_type": "execute_result"
    }
   ],
   "source": [
    "details"
   ]
  },
  {
   "cell_type": "code",
   "execution_count": null,
   "id": "defead38",
   "metadata": {},
   "outputs": [],
   "source": []
  }
 ],
 "metadata": {
  "kernelspec": {
   "display_name": "Python 3 (ipykernel)",
   "language": "python",
   "name": "python3"
  },
  "language_info": {
   "codemirror_mode": {
    "name": "ipython",
    "version": 3
   },
   "file_extension": ".py",
   "mimetype": "text/x-python",
   "name": "python",
   "nbconvert_exporter": "python",
   "pygments_lexer": "ipython3",
   "version": "3.11.2"
  }
 },
 "nbformat": 4,
 "nbformat_minor": 5
}
