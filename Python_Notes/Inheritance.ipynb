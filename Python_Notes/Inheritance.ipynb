{
 "cells": [
  {
   "cell_type": "markdown",
   "id": "ab55f191",
   "metadata": {},
   "source": [
    "Inheritance is a fundamental concept in object-oriented programming (OOP) that allows you to create a new class that inherits attributes and methods from an existing class. In Python, inheritance allows you to define a new class (called the \"subclass\" or \"derived class\") based on an existing class (called the \"base class,\" \"superclass,\" or \"parent class\"). This enables you to reuse code and build upon the existing functionality in a modular and organized way.\n",
    "\n",
    "Inheritance in Python is established using the following syntax:\n",
    "\n",
    "```python\n",
    "class BaseClass:\n",
    "    # Base class attributes and methods\n",
    "\n",
    "class SubClass(BaseClass):\n",
    "    # Subclass attributes and methods\n",
    "```\n",
    "\n",
    "Here, `SubClass` is inheriting from `BaseClass`. This means that `SubClass` will have access to all the attributes and methods of `BaseClass`, and you can also add new attributes and methods specific to the `SubClass`.\n",
    "\n",
    "Key concepts and terms related to inheritance:\n",
    "\n",
    "1. **Base Class (Superclass/Parent Class):** The class whose attributes and methods are inherited by another class. It serves as a template for creating the subclass.\n",
    "\n",
    "2. **Subclass (Derived Class/Child Class):** The class that inherits attributes and methods from the base class. It can also add its own attributes and methods or override the inherited ones.\n",
    "\n",
    "\n",
    "\n",
    "Inheritance is a powerful tool for creating well-organized and modular code. It promotes code reuse, reduces redundancy, and allows for efficient updates and modifications. When designing classes, careful consideration should be given to the inheritance structure to ensure a clear and maintainable codebase."
   ]
  },
  {
   "cell_type": "markdown",
   "id": "bf56c659",
   "metadata": {},
   "source": [
    "## Types of Inheritance"
   ]
  },
  {
   "cell_type": "markdown",
   "id": "baded8b0",
   "metadata": {},
   "source": [
    "### Single Inheritance"
   ]
  },
  {
   "cell_type": "code",
   "execution_count": 27,
   "id": "af6b9c4e",
   "metadata": {},
   "outputs": [],
   "source": [
    "class parent:\n",
    "    def __init__(self,a,b):\n",
    "        self.a = a\n",
    "        self.b = b\n",
    "    def add(self):\n",
    "        print(self.a+self.b)\n",
    "    def mul(self):\n",
    "        print(self.a * self.b)"
   ]
  },
  {
   "cell_type": "code",
   "execution_count": 34,
   "id": "f7db7813",
   "metadata": {},
   "outputs": [],
   "source": [
    "class child(parent):\n",
    "    def wish(self):\n",
    "        print(\"Hello\")"
   ]
  },
  {
   "cell_type": "code",
   "execution_count": 37,
   "id": "4664b92f",
   "metadata": {},
   "outputs": [],
   "source": [
    "c= child(2,3)"
   ]
  },
  {
   "cell_type": "code",
   "execution_count": 38,
   "id": "09ec30f7",
   "metadata": {},
   "outputs": [
    {
     "name": "stdout",
     "output_type": "stream",
     "text": [
      "Hello\n"
     ]
    }
   ],
   "source": [
    "c.wish()"
   ]
  },
  {
   "cell_type": "code",
   "execution_count": 39,
   "id": "862db11c",
   "metadata": {},
   "outputs": [
    {
     "name": "stdout",
     "output_type": "stream",
     "text": [
      "5\n"
     ]
    }
   ],
   "source": [
    "c.add()"
   ]
  },
  {
   "cell_type": "code",
   "execution_count": 40,
   "id": "475556a9",
   "metadata": {},
   "outputs": [
    {
     "name": "stdout",
     "output_type": "stream",
     "text": [
      "6\n"
     ]
    }
   ],
   "source": [
    "c.mul()"
   ]
  },
  {
   "cell_type": "markdown",
   "id": "d0af402f",
   "metadata": {},
   "source": [
    "### Multiple Inheritance "
   ]
  },
  {
   "cell_type": "code",
   "execution_count": 64,
   "id": "1cda0dd8",
   "metadata": {},
   "outputs": [],
   "source": [
    "class father:\n",
    "    def method1(self):\n",
    "        print(\"I am Father\")\n",
    "\n",
    "        \n",
    "class mother:\n",
    "    def method1(self):\n",
    "        print(\" i am mother\")"
   ]
  },
  {
   "cell_type": "code",
   "execution_count": 65,
   "id": "04dd7333",
   "metadata": {},
   "outputs": [],
   "source": [
    "class child(mother,father):\n",
    "    def method(self):\n",
    "        print(\" I am child\")"
   ]
  },
  {
   "cell_type": "code",
   "execution_count": 66,
   "id": "a90157a6",
   "metadata": {},
   "outputs": [],
   "source": [
    "name = child()"
   ]
  },
  {
   "cell_type": "code",
   "execution_count": 53,
   "id": "503c6d7a",
   "metadata": {},
   "outputs": [
    {
     "name": "stdout",
     "output_type": "stream",
     "text": [
      " I am child\n"
     ]
    }
   ],
   "source": [
    "name.method3()"
   ]
  },
  {
   "cell_type": "code",
   "execution_count": 54,
   "id": "0f3f1410",
   "metadata": {},
   "outputs": [
    {
     "name": "stdout",
     "output_type": "stream",
     "text": [
      "I am Father\n"
     ]
    }
   ],
   "source": [
    "name.method1()"
   ]
  },
  {
   "cell_type": "code",
   "execution_count": 55,
   "id": "d1fea78d",
   "metadata": {},
   "outputs": [
    {
     "name": "stdout",
     "output_type": "stream",
     "text": [
      " i am mother\n"
     ]
    }
   ],
   "source": [
    "name.method2()"
   ]
  },
  {
   "cell_type": "code",
   "execution_count": 59,
   "id": "fa908f19",
   "metadata": {},
   "outputs": [
    {
     "data": {
      "text/plain": [
       "[__main__.child, __main__.mother, __main__.father, object]"
      ]
     },
     "execution_count": 59,
     "metadata": {},
     "output_type": "execute_result"
    }
   ],
   "source": [
    "child.mro()"
   ]
  },
  {
   "cell_type": "code",
   "execution_count": 67,
   "id": "10427f9f",
   "metadata": {},
   "outputs": [
    {
     "name": "stdout",
     "output_type": "stream",
     "text": [
      " i am mother\n"
     ]
    }
   ],
   "source": [
    "name.method1()"
   ]
  },
  {
   "cell_type": "markdown",
   "id": "56d4e1a9",
   "metadata": {},
   "source": [
    "### Multilevel Inheritance"
   ]
  },
  {
   "cell_type": "code",
   "execution_count": 82,
   "id": "00ac8393",
   "metadata": {},
   "outputs": [],
   "source": [
    "class grandparent:\n",
    "    def method1(self):\n",
    "        print(\"I am Grand Parent\")\n",
    "\n",
    "        \n",
    "class parent(grandparent):\n",
    "    def method2(self):\n",
    "        print(\" I am Parent\")\n",
    "        \n",
    "class child(parent):\n",
    "    def method3(self):\n",
    "        print(\" I am child\")"
   ]
  },
  {
   "cell_type": "code",
   "execution_count": 83,
   "id": "f3c8b4f7",
   "metadata": {},
   "outputs": [],
   "source": [
    "ch = child()\n",
    "p = parent()\n",
    "gp = grandparent()"
   ]
  },
  {
   "cell_type": "code",
   "execution_count": 84,
   "id": "d445e9ab",
   "metadata": {},
   "outputs": [
    {
     "name": "stdout",
     "output_type": "stream",
     "text": [
      "I am Grand Parent\n"
     ]
    }
   ],
   "source": [
    "p.method1()"
   ]
  },
  {
   "cell_type": "code",
   "execution_count": 86,
   "id": "9b8ee80e",
   "metadata": {},
   "outputs": [
    {
     "name": "stdout",
     "output_type": "stream",
     "text": [
      "I am Grand Parent\n"
     ]
    }
   ],
   "source": [
    "ch.method1()"
   ]
  },
  {
   "cell_type": "markdown",
   "id": "2fb4e6a0",
   "metadata": {},
   "source": [
    "### Hierarchical Inheritance"
   ]
  },
  {
   "cell_type": "code",
   "execution_count": 97,
   "id": "d9589670",
   "metadata": {},
   "outputs": [],
   "source": [
    "class parent:\n",
    "    def method(self):\n",
    "        print(\"I am Parent\")\n",
    "\n",
    "class child1(parent):\n",
    "    def method1(self):\n",
    "        print(\"I am child1\")\n",
    "        \n",
    "class child2(parent):\n",
    "    def method2(self):\n",
    "        print(\"I am child2\")"
   ]
  },
  {
   "cell_type": "code",
   "execution_count": 98,
   "id": "e690e6ee",
   "metadata": {},
   "outputs": [],
   "source": [
    "c1 = child1()"
   ]
  },
  {
   "cell_type": "code",
   "execution_count": 99,
   "id": "f63cd576",
   "metadata": {},
   "outputs": [
    {
     "name": "stdout",
     "output_type": "stream",
     "text": [
      "I am Parent\n"
     ]
    }
   ],
   "source": [
    "c1.method()"
   ]
  },
  {
   "cell_type": "code",
   "execution_count": 100,
   "id": "b89e8498",
   "metadata": {},
   "outputs": [],
   "source": [
    "c2 = child2()"
   ]
  },
  {
   "cell_type": "code",
   "execution_count": 102,
   "id": "feb3c9bf",
   "metadata": {},
   "outputs": [
    {
     "name": "stdout",
     "output_type": "stream",
     "text": [
      "I am Parent\n"
     ]
    }
   ],
   "source": [
    "c2.method()"
   ]
  },
  {
   "cell_type": "markdown",
   "id": "757a6da7",
   "metadata": {},
   "source": [
    "## Hybrid Inheritance"
   ]
  },
  {
   "cell_type": "code",
   "execution_count": 112,
   "id": "89dd5771",
   "metadata": {},
   "outputs": [],
   "source": [
    "class gp:\n",
    "    def m(self):\n",
    "        print(\"Grandparent\")\n",
    "    \n",
    "class p(gp):\n",
    "    def m1(self):\n",
    "        print(\"Parent\")\n",
    "    \n",
    "class p1:\n",
    "    def m2(self):\n",
    "        print(\"Parent2\")\n",
    "    \n",
    "class ch(p,p1):\n",
    "    def m3(self):\n",
    "        print(\"Child\")"
   ]
  },
  {
   "cell_type": "code",
   "execution_count": 113,
   "id": "0469fba8",
   "metadata": {},
   "outputs": [],
   "source": [
    "ch1 = ch()"
   ]
  },
  {
   "cell_type": "code",
   "execution_count": 114,
   "id": "fd8e6ca0",
   "metadata": {},
   "outputs": [
    {
     "name": "stdout",
     "output_type": "stream",
     "text": [
      "Parent2\n"
     ]
    }
   ],
   "source": [
    "ch1.m2()"
   ]
  },
  {
   "cell_type": "markdown",
   "id": "95eac1e2",
   "metadata": {},
   "source": [
    "## To remove the duplicate code(methods)"
   ]
  },
  {
   "cell_type": "code",
   "execution_count": 139,
   "id": "b12f9621",
   "metadata": {},
   "outputs": [],
   "source": [
    "class faculty(duplicate):\n",
    "    def __init__(self,desgn,salary):\n",
    "        self.desgn = desgn\n",
    "        self.salary = salary\n",
    "    def salary(self):\n",
    "        print(self.salary)\n",
    "    "
   ]
  },
  {
   "cell_type": "code",
   "execution_count": 140,
   "id": "ee4fbaf2",
   "metadata": {},
   "outputs": [],
   "source": [
    "class student(duplicate):\n",
    "    def __init__(self,year,fee):\n",
    "        self.year = year\n",
    "        self.fee = fee\n",
    "   \n",
    "    def fee(self):\n",
    "        print(self.fee)\n",
    "    "
   ]
  },
  {
   "cell_type": "code",
   "execution_count": 141,
   "id": "3d8afd23",
   "metadata": {},
   "outputs": [],
   "source": [
    "class duplicate:\n",
    "    def __init__(self,Name,Branch,phone,adress):\n",
    "        self.Name = Name\n",
    "        self.Branch = Branch\n",
    "        self.phone = phone\n",
    "        self.adress = adress\n",
    "    def details(self):\n",
    "        print(self.name,self.adress)\n",
    "    def phone(self):\n",
    "        print(self.phone)       "
   ]
  },
  {
   "cell_type": "code",
   "execution_count": 143,
   "id": "6015c3d6",
   "metadata": {},
   "outputs": [],
   "source": [
    "st = student(\"R\",\"ECE\")"
   ]
  },
  {
   "cell_type": "code",
   "execution_count": 127,
   "id": "ca4b2fa6",
   "metadata": {},
   "outputs": [
    {
     "name": "stdout",
     "output_type": "stream",
     "text": [
      "Rajesh Hyderabd\n"
     ]
    }
   ],
   "source": [
    "st.details()"
   ]
  },
  {
   "cell_type": "code",
   "execution_count": 137,
   "id": "961a6a82",
   "metadata": {},
   "outputs": [
    {
     "ename": "TypeError",
     "evalue": "faculty.__init__() takes 3 positional arguments but 7 were given",
     "output_type": "error",
     "traceback": [
      "\u001b[1;31m---------------------------------------------------------------------------\u001b[0m",
      "\u001b[1;31mTypeError\u001b[0m                                 Traceback (most recent call last)",
      "Cell \u001b[1;32mIn[137], line 1\u001b[0m\n\u001b[1;32m----> 1\u001b[0m faculty \u001b[38;5;241m=\u001b[39m faculty(\u001b[38;5;124m\"\u001b[39m\u001b[38;5;124mRamesh\u001b[39m\u001b[38;5;124m\"\u001b[39m,\u001b[38;5;124m\"\u001b[39m\u001b[38;5;124mCSE\u001b[39m\u001b[38;5;124m\"\u001b[39m,\u001b[38;5;124m\"\u001b[39m\u001b[38;5;124mProfessor\u001b[39m\u001b[38;5;124m\"\u001b[39m,\u001b[38;5;241m75000\u001b[39m,\u001b[38;5;241m4994249\u001b[39m,\u001b[38;5;124m\"\u001b[39m\u001b[38;5;124mSecunderbad\u001b[39m\u001b[38;5;124m\"\u001b[39m)\n",
      "\u001b[1;31mTypeError\u001b[0m: faculty.__init__() takes 3 positional arguments but 7 were given"
     ]
    }
   ],
   "source": [
    "faculty = faculty(\"Ramesh\",\"CSE\",\"Professor\",75000,4994249,\"Secunderbad\")"
   ]
  },
  {
   "cell_type": "code",
   "execution_count": 132,
   "id": "983cf713",
   "metadata": {},
   "outputs": [
    {
     "data": {
      "text/plain": [
       "4994249"
      ]
     },
     "execution_count": 132,
     "metadata": {},
     "output_type": "execute_result"
    }
   ],
   "source": [
    "faculty.phone"
   ]
  },
  {
   "cell_type": "code",
   "execution_count": null,
   "id": "b27437b4",
   "metadata": {},
   "outputs": [],
   "source": []
  }
 ],
 "metadata": {
  "kernelspec": {
   "display_name": "Python 3 (ipykernel)",
   "language": "python",
   "name": "python3"
  },
  "language_info": {
   "codemirror_mode": {
    "name": "ipython",
    "version": 3
   },
   "file_extension": ".py",
   "mimetype": "text/x-python",
   "name": "python",
   "nbconvert_exporter": "python",
   "pygments_lexer": "ipython3",
   "version": "3.11.2"
  }
 },
 "nbformat": 4,
 "nbformat_minor": 5
}
