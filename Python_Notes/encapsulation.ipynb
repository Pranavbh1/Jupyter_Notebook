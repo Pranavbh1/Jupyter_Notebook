{
 "cells": [
  {
   "cell_type": "markdown",
   "id": "e466c165",
   "metadata": {},
   "source": [
    "### Data Hiding"
   ]
  },
  {
   "cell_type": "code",
   "execution_count": 13,
   "id": "7a40eedb",
   "metadata": {},
   "outputs": [],
   "source": [
    "class A:\n",
    "    _value = \"Hello\"\n",
    "    def method(self):\n",
    "        print(self._value)\n",
    "\n",
    "class B(A):\n",
    "    def m(self):\n",
    "        print(self._value)"
   ]
  },
  {
   "cell_type": "code",
   "execution_count": 14,
   "id": "2b2fc7d7",
   "metadata": {},
   "outputs": [],
   "source": [
    "a = A()"
   ]
  },
  {
   "cell_type": "code",
   "execution_count": 15,
   "id": "976b05f1",
   "metadata": {},
   "outputs": [
    {
     "name": "stdout",
     "output_type": "stream",
     "text": [
      "Hello\n"
     ]
    }
   ],
   "source": [
    "a.method()"
   ]
  },
  {
   "cell_type": "code",
   "execution_count": 16,
   "id": "dcd2a8bc",
   "metadata": {},
   "outputs": [
    {
     "data": {
      "text/plain": [
       "'Hello'"
      ]
     },
     "execution_count": 16,
     "metadata": {},
     "output_type": "execute_result"
    }
   ],
   "source": [
    "a._value"
   ]
  },
  {
   "cell_type": "code",
   "execution_count": 17,
   "id": "ed01c036",
   "metadata": {},
   "outputs": [],
   "source": [
    "b = B()"
   ]
  },
  {
   "cell_type": "code",
   "execution_count": 18,
   "id": "8c2ae59c",
   "metadata": {},
   "outputs": [
    {
     "name": "stdout",
     "output_type": "stream",
     "text": [
      "Hello\n"
     ]
    }
   ],
   "source": [
    "b.m()"
   ]
  },
  {
   "cell_type": "code",
   "execution_count": 30,
   "id": "c646e5b5",
   "metadata": {},
   "outputs": [],
   "source": [
    "class val1:\n",
    "    __name = \"innomatics\"\n",
    "    def meth(self):\n",
    "        print(self.__name)\n",
    "\n",
    "class val2(val1):\n",
    "    def m2(self):\n",
    "        print(self.__name)"
   ]
  },
  {
   "cell_type": "code",
   "execution_count": 31,
   "id": "fc668e9c",
   "metadata": {},
   "outputs": [],
   "source": [
    "v  = val1()"
   ]
  },
  {
   "cell_type": "code",
   "execution_count": 32,
   "id": "aa76e68b",
   "metadata": {},
   "outputs": [
    {
     "name": "stdout",
     "output_type": "stream",
     "text": [
      "innomatics\n"
     ]
    }
   ],
   "source": [
    "v.meth()"
   ]
  },
  {
   "cell_type": "code",
   "execution_count": 33,
   "id": "39be4a71",
   "metadata": {},
   "outputs": [],
   "source": [
    "v2  =val2()"
   ]
  },
  {
   "cell_type": "code",
   "execution_count": 34,
   "id": "b51919ca",
   "metadata": {},
   "outputs": [
    {
     "ename": "AttributeError",
     "evalue": "'val2' object has no attribute '_val2__name'",
     "output_type": "error",
     "traceback": [
      "\u001b[1;31m---------------------------------------------------------------------------\u001b[0m",
      "\u001b[1;31mAttributeError\u001b[0m                            Traceback (most recent call last)",
      "Cell \u001b[1;32mIn[34], line 1\u001b[0m\n\u001b[1;32m----> 1\u001b[0m v2\u001b[38;5;241m.\u001b[39mm2()\n",
      "Cell \u001b[1;32mIn[30], line 8\u001b[0m, in \u001b[0;36mval2.m2\u001b[1;34m(self)\u001b[0m\n\u001b[0;32m      7\u001b[0m \u001b[38;5;28;01mdef\u001b[39;00m \u001b[38;5;21mm2\u001b[39m(\u001b[38;5;28mself\u001b[39m):\n\u001b[1;32m----> 8\u001b[0m     \u001b[38;5;28mprint\u001b[39m(\u001b[38;5;28mself\u001b[39m\u001b[38;5;241m.\u001b[39m__name)\n",
      "\u001b[1;31mAttributeError\u001b[0m: 'val2' object has no attribute '_val2__name'"
     ]
    }
   ],
   "source": [
    "v2.m2()"
   ]
  },
  {
   "cell_type": "markdown",
   "id": "e634efa5",
   "metadata": {},
   "source": [
    "### Name Mangling"
   ]
  },
  {
   "cell_type": "code",
   "execution_count": 54,
   "id": "3d0db646",
   "metadata": {},
   "outputs": [],
   "source": [
    "class sub:\n",
    "    a = 1\n",
    "    _b = 2\n",
    "    __c = 3\n",
    "    ___d = 4\n",
    "    ___e_ = 5\n",
    "    _____f__ = 6\n",
    "def v(self):\n",
    "    print(\"Name mangling\")\n",
    "    \n",
    "class div(sub):\n",
    "    def getPrivate(self):\n",
    "          print(self._sub__c)"
   ]
  },
  {
   "cell_type": "code",
   "execution_count": 55,
   "id": "ee3ab54a",
   "metadata": {},
   "outputs": [],
   "source": [
    "v = sub()"
   ]
  },
  {
   "cell_type": "code",
   "execution_count": 56,
   "id": "1205a6bb",
   "metadata": {},
   "outputs": [],
   "source": [
    "d = div()"
   ]
  },
  {
   "cell_type": "code",
   "execution_count": 57,
   "id": "f29556b6",
   "metadata": {},
   "outputs": [
    {
     "name": "stdout",
     "output_type": "stream",
     "text": [
      "3\n"
     ]
    }
   ],
   "source": [
    "d.getPrivate()"
   ]
  },
  {
   "cell_type": "code",
   "execution_count": 45,
   "id": "1a69ca89",
   "metadata": {},
   "outputs": [
    {
     "data": {
      "text/plain": [
       "['_____f__',\n",
       " '__class__',\n",
       " '__delattr__',\n",
       " '__dict__',\n",
       " '__dir__',\n",
       " '__doc__',\n",
       " '__eq__',\n",
       " '__format__',\n",
       " '__ge__',\n",
       " '__getattribute__',\n",
       " '__getstate__',\n",
       " '__gt__',\n",
       " '__hash__',\n",
       " '__init__',\n",
       " '__init_subclass__',\n",
       " '__le__',\n",
       " '__lt__',\n",
       " '__module__',\n",
       " '__ne__',\n",
       " '__new__',\n",
       " '__reduce__',\n",
       " '__reduce_ex__',\n",
       " '__repr__',\n",
       " '__setattr__',\n",
       " '__sizeof__',\n",
       " '__str__',\n",
       " '__subclasshook__',\n",
       " '__weakref__',\n",
       " '_b',\n",
       " '_sub___d',\n",
       " '_sub___e_',\n",
       " '_sub__c',\n",
       " 'a']"
      ]
     },
     "execution_count": 45,
     "metadata": {},
     "output_type": "execute_result"
    }
   ],
   "source": [
    "dir(v)"
   ]
  },
  {
   "cell_type": "code",
   "execution_count": 61,
   "id": "1e586b06",
   "metadata": {},
   "outputs": [],
   "source": [
    "from abc import ABC,abstractmethod"
   ]
  },
  {
   "cell_type": "code",
   "execution_count": 67,
   "id": "9d7cfce9",
   "metadata": {},
   "outputs": [],
   "source": [
    "class bank(ABC):\n",
    "    @abstractmethod\n",
    "    def method1(self):\n",
    "        print(\"Method1\")\n",
    "    def method2(self):\n",
    "        print(\"MEthod2\")"
   ]
  },
  {
   "cell_type": "code",
   "execution_count": 68,
   "id": "e2e6d987",
   "metadata": {},
   "outputs": [
    {
     "ename": "TypeError",
     "evalue": "Can't instantiate abstract class bank with abstract method method1",
     "output_type": "error",
     "traceback": [
      "\u001b[1;31m---------------------------------------------------------------------------\u001b[0m",
      "\u001b[1;31mTypeError\u001b[0m                                 Traceback (most recent call last)",
      "Cell \u001b[1;32mIn[68], line 1\u001b[0m\n\u001b[1;32m----> 1\u001b[0m ban  \u001b[38;5;241m=\u001b[39m bank()\n",
      "\u001b[1;31mTypeError\u001b[0m: Can't instantiate abstract class bank with abstract method method1"
     ]
    }
   ],
   "source": [
    "ban  = bank()"
   ]
  },
  {
   "cell_type": "code",
   "execution_count": 66,
   "id": "a5ceaffb",
   "metadata": {},
   "outputs": [
    {
     "name": "stdout",
     "output_type": "stream",
     "text": [
      "Method1\n"
     ]
    }
   ],
   "source": [
    "ban.method1()"
   ]
  },
  {
   "cell_type": "code",
   "execution_count": null,
   "id": "b3757f5b",
   "metadata": {},
   "outputs": [],
   "source": []
  }
 ],
 "metadata": {
  "kernelspec": {
   "display_name": "Python 3 (ipykernel)",
   "language": "python",
   "name": "python3"
  },
  "language_info": {
   "codemirror_mode": {
    "name": "ipython",
    "version": 3
   },
   "file_extension": ".py",
   "mimetype": "text/x-python",
   "name": "python",
   "nbconvert_exporter": "python",
   "pygments_lexer": "ipython3",
   "version": "3.11.2"
  }
 },
 "nbformat": 4,
 "nbformat_minor": 5
}
