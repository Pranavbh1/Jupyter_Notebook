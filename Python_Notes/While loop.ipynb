{
 "cells": [
  {
   "cell_type": "markdown",
   "id": "028c8e87",
   "metadata": {},
   "source": [
    "In Python, the while loop is a control flow statement that allows you to repeatedly execute a block of code as long as a certain condition remains true. It has the following syntax:\n",
    "\n",
    "```python\n",
    "while condition:\n",
    "    # Code block to be executed while the condition is true\n",
    "```\n",
    "\n",
    "Here's a breakdown of how the while loop works:\n",
    "\n",
    "1. The condition is a Boolean expression that is checked before each iteration of the loop. If the condition is true, the code block inside the loop is executed. If the condition is false, the loop is exited, and the program continues with the next statement after the loop.\n",
    "\n",
    "2. The code block, indented under the while statement, contains the statements that will be executed repeatedly as long as the condition remains true.\n",
    "\n",
    "3. After executing the code block, the program goes back to the beginning of the loop and re-evaluates the condition. If the condition is still true, the code block is executed again. This process continues until the condition becomes false.\n",
    "\n",
    "4. It's important to ensure that the code inside the loop modifies the variables or conditions that are being checked in the condition. Otherwise, you may end up with an infinite loop.\n",
    "\n",
    "Here's an example that demonstrates the usage of a while loop:\n",
    "\n",
    "```python\n",
    "count = 0\n",
    "\n",
    "while count < 5:\n",
    "    print(\"Count:\", count)\n",
    "    count += 1\n",
    "\n",
    "print(\"Loop finished\")\n",
    "```\n",
    "\n",
    "In this example, the loop will iterate as long as the value of the `count` variable is less than 5. Inside the loop, the current value of `count` is printed, and then `count` is incremented by 1 using the `+=` shorthand notation. The loop will repeat this process until `count` reaches 5, at which point the condition becomes false, and the loop is exited. Finally, the message \"Loop finished\" is printed.\n",
    "\n",
    "The while loop is useful when you want to repeat a block of code an unknown number of times until a specific condition is met. However, you should be cautious to ensure that the condition eventually becomes false to avoid infinite loops."
   ]
  },
  {
   "cell_type": "code",
   "execution_count": 2,
   "id": "4715b286",
   "metadata": {},
   "outputs": [
    {
     "name": "stdout",
     "output_type": "stream",
     "text": [
      "1\n",
      "2\n",
      "3\n",
      "4\n",
      "5\n",
      "6\n",
      "7\n",
      "8\n",
      "9\n",
      "10\n"
     ]
    }
   ],
   "source": [
    "for i in range(1,11):\n",
    "    print(i)"
   ]
  },
  {
   "cell_type": "code",
   "execution_count": 4,
   "id": "b7802931",
   "metadata": {},
   "outputs": [
    {
     "name": "stdout",
     "output_type": "stream",
     "text": [
      "1\n",
      "2\n",
      "3\n",
      "4\n",
      "5\n",
      "6\n",
      "7\n",
      "8\n",
      "9\n",
      "10\n"
     ]
    }
   ],
   "source": [
    "num = 1\n",
    "while num <=10:\n",
    "    print(num)\n",
    "    num = num + 1"
   ]
  },
  {
   "cell_type": "code",
   "execution_count": 17,
   "id": "4131eb6e",
   "metadata": {},
   "outputs": [
    {
     "name": "stdout",
     "output_type": "stream",
     "text": [
      "Guess the number :  4\n",
      "You have 2 attempts only\n",
      "Guess the number :  1\n",
      "You have 1 attempts only\n",
      "Guess the number :  3\n",
      "congatrulations!..You won\n"
     ]
    }
   ],
   "source": [
    "#number Guessing Game\n",
    "import random \n",
    "sys_num = random.randint(1,5)\n",
    "\n",
    "#Ask User to enter a number to guess\n",
    "\n",
    "\n",
    "attempts = 3\n",
    "\n",
    "while attempts >0:\n",
    "    user = int(input(\"Guess the number :  \"))\n",
    "    if sys_num ==user:\n",
    "        print(\"congatrulations!..You won\")\n",
    "        break\n",
    "    else:\n",
    "        attempts = attempts - 1\n",
    "        print(f\"You have {attempts} attempts only\")\n",
    "        if attempts ==0:\n",
    "            print(\"You've Lost\")\n",
    "            break"
   ]
  },
  {
   "cell_type": "code",
   "execution_count": 19,
   "id": "5194bec2",
   "metadata": {},
   "outputs": [
    {
     "data": {
      "text/plain": [
       "24"
      ]
     },
     "execution_count": 19,
     "metadata": {},
     "output_type": "execute_result"
    }
   ],
   "source": [
    "#Take innomatics Research Labs as input and find the index number of 'r'(Note: Don't use .find() method)\n",
    "name = \"Innomatics research Labs\"\n",
    "name.find(\"r\")\n",
    "len(name)"
   ]
  },
  {
   "cell_type": "code",
   "execution_count": 21,
   "id": "858e94f4",
   "metadata": {},
   "outputs": [
    {
     "name": "stdout",
     "output_type": "stream",
     "text": [
      "11\n"
     ]
    }
   ],
   "source": [
    "index = 0\n",
    "\n",
    "while index < len(name):\n",
    "    if name[index]==\"r\":\n",
    "        print(index)\n",
    "        break\n",
    "    else:\n",
    "        index = index+1"
   ]
  },
  {
   "cell_type": "markdown",
   "id": "61145ed2",
   "metadata": {},
   "source": [
    "# Transfer Statements"
   ]
  },
  {
   "cell_type": "markdown",
   "id": "de2296a4",
   "metadata": {},
   "source": [
    "\n",
    "\n",
    "1. break statement:\n",
    "   The \"break\" statement is used to exit or terminate the loop prematurely. When encountered, it immediately terminates the innermost loop in which it is present.\n",
    "   Example:\n",
    "   ```\n",
    "   for item in sequence:\n",
    "       if condition:\n",
    "           break  # exit the loop\n",
    "   ```\n",
    "\n",
    "2. continue statement:\n",
    "   The \"continue\" statement is used to skip the rest of the code inside a loop for the current iteration and move to the next iteration.\n",
    "   Example:\n",
    "   ```\n",
    "   for item in sequence:\n",
    "       if condition:\n",
    "           continue  # skip the rest of the code and move to the next iteration\n",
    "   ```\n",
    "\n",
    "3. pass statement:\n",
    "   The \"pass\" statement is used as a placeholder when you want to have an empty block of code. It is used to avoid syntax errors when no code needs to be executed in a particular block.\n",
    "   Example:\n",
    "   ```\n",
    "   if condition:\n",
    "       pass  # placeholder, no code to be executed\n",
    "   ```\n",
    "\n",
    "These transfer statements provide you with the ability to make decisions, create loops, and control the flow of execution in your Python programs. By using them effectively, you can design programs that perform the desired operations based on various conditions and requirements."
   ]
  },
  {
   "cell_type": "markdown",
   "id": "b90e895d",
   "metadata": {},
   "source": [
    "## Break"
   ]
  },
  {
   "cell_type": "code",
   "execution_count": 22,
   "id": "85ad05d5",
   "metadata": {},
   "outputs": [
    {
     "data": {
      "text/plain": [
       "'Innomatics research Labs'"
      ]
     },
     "execution_count": 22,
     "metadata": {},
     "output_type": "execute_result"
    }
   ],
   "source": [
    "name"
   ]
  },
  {
   "cell_type": "code",
   "execution_count": 27,
   "id": "8388e075",
   "metadata": {},
   "outputs": [
    {
     "name": "stdout",
     "output_type": "stream",
     "text": [
      "100\n",
      "200\n",
      "300\n"
     ]
    }
   ],
   "source": [
    "price = [100,200,300,400,500,600,150,200,250,350]\n",
    "for i in price:\n",
    "    if i >= 400:\n",
    "        break\n",
    "    else :\n",
    "        print(i)"
   ]
  },
  {
   "cell_type": "code",
   "execution_count": 28,
   "id": "2fba44f4",
   "metadata": {},
   "outputs": [
    {
     "name": "stdout",
     "output_type": "stream",
     "text": [
      "100\n",
      "200\n",
      "300\n",
      "150\n",
      "200\n",
      "250\n",
      "350\n"
     ]
    }
   ],
   "source": [
    "price = [100,200,300,400,500,600,150,200,250,350]\n",
    "for i in price:\n",
    "    if i >= 400:\n",
    "        continue  #skip current value\n",
    "      \n",
    "    else :\n",
    "        print(i)"
   ]
  },
  {
   "cell_type": "markdown",
   "id": "d5ea0bd4",
   "metadata": {},
   "source": [
    "## Pass"
   ]
  },
  {
   "cell_type": "code",
   "execution_count": 33,
   "id": "9d398b7b",
   "metadata": {},
   "outputs": [],
   "source": [
    "a = 100\n",
    "b =  200\n",
    "if a > b:\n",
    "    print(\"A is greater\")\n",
    "else:\n",
    "    pass"
   ]
  },
  {
   "cell_type": "code",
   "execution_count": null,
   "id": "90bc841f",
   "metadata": {},
   "outputs": [],
   "source": []
  }
 ],
 "metadata": {
  "kernelspec": {
   "display_name": "Python 3 (ipykernel)",
   "language": "python",
   "name": "python3"
  },
  "language_info": {
   "codemirror_mode": {
    "name": "ipython",
    "version": 3
   },
   "file_extension": ".py",
   "mimetype": "text/x-python",
   "name": "python",
   "nbconvert_exporter": "python",
   "pygments_lexer": "ipython3",
   "version": "3.11.2"
  }
 },
 "nbformat": 4,
 "nbformat_minor": 5
}
