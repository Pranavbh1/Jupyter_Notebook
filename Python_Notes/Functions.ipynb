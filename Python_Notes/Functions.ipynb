{
 "cells": [
  {
   "cell_type": "code",
   "execution_count": 4,
   "id": "63b25929",
   "metadata": {},
   "outputs": [
    {
     "name": "stdout",
     "output_type": "stream",
     "text": [
      "[1, 4, 9, 16, 25]\n"
     ]
    }
   ],
   "source": [
    "list1 = [1,2,3,4,5]\n",
    "list2 = []\n",
    "\n",
    "for i in list1:\n",
    "    list2.append(i*i)\n",
    "print(list2)"
   ]
  },
  {
   "cell_type": "code",
   "execution_count": 5,
   "id": "16a3bb70",
   "metadata": {},
   "outputs": [
    {
     "name": "stdout",
     "output_type": "stream",
     "text": [
      "['mango']\n"
     ]
    }
   ],
   "source": [
    "fruits = [\"apple\",\"ornage\",\"mango\",\"grapes\"]\n",
    "fruits_new = []\n",
    "for i in fruits:\n",
    "    if i.startswith(\"m\"):\n",
    "        fruits_new.append(i)\n",
    "print(fruits_new)"
   ]
  },
  {
   "cell_type": "code",
   "execution_count": null,
   "id": "2b83a6cd",
   "metadata": {},
   "outputs": [],
   "source": [
    "    first_value if condition  else second_value"
   ]
  },
  {
   "cell_type": "markdown",
   "id": "32854d4c",
   "metadata": {},
   "source": [
    "### List Comprahension"
   ]
  },
  {
   "cell_type": "markdown",
   "id": "5e0cdbc2",
   "metadata": {},
   "source": [
    "list1 =[1, 2, 3, 4, 5]"
   ]
  },
  {
   "cell_type": "markdown",
   "id": "1532aa60",
   "metadata": {},
   "source": [
    "#####  [ expression for items in collection]"
   ]
  },
  {
   "cell_type": "code",
   "execution_count": 8,
   "id": "fb3b61cc",
   "metadata": {},
   "outputs": [],
   "source": [
    "new_list =  [i*i  for i in list1]"
   ]
  },
  {
   "cell_type": "code",
   "execution_count": 9,
   "id": "8d9536e3",
   "metadata": {},
   "outputs": [
    {
     "data": {
      "text/plain": [
       "[1, 4, 9, 16, 25]"
      ]
     },
     "execution_count": 9,
     "metadata": {},
     "output_type": "execute_result"
    }
   ],
   "source": [
    "new_list"
   ]
  },
  {
   "cell_type": "code",
   "execution_count": 12,
   "id": "244626b5",
   "metadata": {},
   "outputs": [],
   "source": [
    "fruits = [\"apple\",\"ornage\",\"mango\",\"grapes\"]\n",
    "new = [i for i in fruits if i.startswith(\"g\") ]"
   ]
  },
  {
   "cell_type": "code",
   "execution_count": 13,
   "id": "838ff275",
   "metadata": {},
   "outputs": [
    {
     "data": {
      "text/plain": [
       "['grapes']"
      ]
     },
     "execution_count": 13,
     "metadata": {},
     "output_type": "execute_result"
    }
   ],
   "source": [
    "new"
   ]
  },
  {
   "cell_type": "code",
   "execution_count": null,
   "id": "104a3b84",
   "metadata": {},
   "outputs": [],
   "source": [
    "#take values from 10 to 20 in list and print only odd nuymbers using list comprahemsion method"
   ]
  },
  {
   "cell_type": "code",
   "execution_count": 14,
   "id": "93d24017",
   "metadata": {},
   "outputs": [],
   "source": [
    "numbers = [i for i in range(10,21)]"
   ]
  },
  {
   "cell_type": "code",
   "execution_count": 15,
   "id": "140ae50f",
   "metadata": {},
   "outputs": [
    {
     "data": {
      "text/plain": [
       "[10, 11, 12, 13, 14, 15, 16, 17, 18, 19, 20]"
      ]
     },
     "execution_count": 15,
     "metadata": {},
     "output_type": "execute_result"
    }
   ],
   "source": [
    "numbers"
   ]
  },
  {
   "cell_type": "code",
   "execution_count": 16,
   "id": "34043b1a",
   "metadata": {},
   "outputs": [],
   "source": [
    "val = []\n",
    "for i in numbers:\n",
    "    if i%3==0:\n",
    "        val.append(i)\n",
    "        "
   ]
  },
  {
   "cell_type": "code",
   "execution_count": 17,
   "id": "ebd3e7dc",
   "metadata": {},
   "outputs": [
    {
     "data": {
      "text/plain": [
       "[12, 15, 18]"
      ]
     },
     "execution_count": 17,
     "metadata": {},
     "output_type": "execute_result"
    }
   ],
   "source": [
    "val"
   ]
  },
  {
   "cell_type": "code",
   "execution_count": 19,
   "id": "6dd85a00",
   "metadata": {},
   "outputs": [
    {
     "data": {
      "text/plain": [
       "[32, 35, 38]"
      ]
     },
     "execution_count": 19,
     "metadata": {},
     "output_type": "execute_result"
    }
   ],
   "source": [
    "[ i+20  for i in numbers if i%3==0]"
   ]
  },
  {
   "cell_type": "markdown",
   "id": "062e029e",
   "metadata": {},
   "source": [
    "# Functions"
   ]
  },
  {
   "cell_type": "code",
   "execution_count": 20,
   "id": "f7599636",
   "metadata": {},
   "outputs": [
    {
     "name": "stdout",
     "output_type": "stream",
     "text": [
      "Hello\n",
      "Hello World\n",
      "Hello World. I am data scientist\n",
      "Hello World . I am data Analyst\n",
      "Hai.How are you?\n"
     ]
    }
   ],
   "source": [
    "print(\"Hello\")\n",
    "print(\"Hello World\")\n",
    "print(\"Hello World. I am data scientist\")\n",
    "print(\"Hello World . I am data Analyst\")\n",
    "print(\"Hai.How are you?\")"
   ]
  },
  {
   "cell_type": "code",
   "execution_count": 21,
   "id": "aabaa5b2",
   "metadata": {},
   "outputs": [
    {
     "name": "stdout",
     "output_type": "stream",
     "text": [
      "Hello\n",
      "Hello World\n",
      "Hello World. I am data scientist\n",
      "Hello World . I am data Analyst\n",
      "Hai.How are you?\n"
     ]
    }
   ],
   "source": [
    "print(\"Hello\")\n",
    "print(\"Hello World\")\n",
    "print(\"Hello World. I am data scientist\")\n",
    "print(\"Hello World . I am data Analyst\")\n",
    "print(\"Hai.How are you?\")"
   ]
  },
  {
   "cell_type": "code",
   "execution_count": 22,
   "id": "8a4c8620",
   "metadata": {},
   "outputs": [
    {
     "name": "stdout",
     "output_type": "stream",
     "text": [
      "Hello\n",
      "Hello World\n",
      "Hello World. I am data scientist\n",
      "Hello World . I am data Analyst\n",
      "Hai.How are you?\n"
     ]
    }
   ],
   "source": [
    "print(\"Hello\")\n",
    "print(\"Hello World\")\n",
    "print(\"Hello World. I am data scientist\")\n",
    "print(\"Hello World . I am data Analyst\")\n",
    "print(\"Hai.How are you?\")"
   ]
  },
  {
   "cell_type": "code",
   "execution_count": 23,
   "id": "074109c4",
   "metadata": {},
   "outputs": [
    {
     "name": "stdout",
     "output_type": "stream",
     "text": [
      "Hello\n",
      "Hello World\n",
      "Hello World. I am data scientist\n",
      "Hello World . I am data Analyst\n",
      "Hai.How are you?\n"
     ]
    }
   ],
   "source": [
    "print(\"Hello\")\n",
    "print(\"Hello World\")\n",
    "print(\"Hello World. I am data scientist\")\n",
    "print(\"Hello World . I am data Analyst\")\n",
    "print(\"Hai.How are you?\")"
   ]
  },
  {
   "cell_type": "code",
   "execution_count": null,
   "id": "f682807f",
   "metadata": {},
   "outputs": [],
   "source": [
    "#code length is more\n",
    "#code memory increases"
   ]
  },
  {
   "cell_type": "markdown",
   "id": "af570ca7",
   "metadata": {},
   "source": [
    "### creating a function"
   ]
  },
  {
   "cell_type": "code",
   "execution_count": 26,
   "id": "c08604bb",
   "metadata": {},
   "outputs": [],
   "source": [
    "def name():\n",
    "    print(\"Function is  succesfully created\")     #creating the function"
   ]
  },
  {
   "cell_type": "code",
   "execution_count": 27,
   "id": "6455b83d",
   "metadata": {},
   "outputs": [
    {
     "name": "stdout",
     "output_type": "stream",
     "text": [
      "Function is  succesfully created\n"
     ]
    }
   ],
   "source": [
    "name()  #calling the function"
   ]
  },
  {
   "cell_type": "code",
   "execution_count": 28,
   "id": "9b0b1bb3",
   "metadata": {},
   "outputs": [
    {
     "name": "stdout",
     "output_type": "stream",
     "text": [
      "Function is  succesfully created\n"
     ]
    }
   ],
   "source": [
    "name()"
   ]
  },
  {
   "cell_type": "code",
   "execution_count": 29,
   "id": "fcbd8aa9",
   "metadata": {},
   "outputs": [
    {
     "name": "stdout",
     "output_type": "stream",
     "text": [
      "Function is  succesfully created\n"
     ]
    }
   ],
   "source": [
    "name()"
   ]
  },
  {
   "cell_type": "code",
   "execution_count": 30,
   "id": "606c5467",
   "metadata": {},
   "outputs": [],
   "source": [
    "#sum of two numbers"
   ]
  },
  {
   "cell_type": "code",
   "execution_count": 31,
   "id": "ecc9dae4",
   "metadata": {},
   "outputs": [],
   "source": [
    "def add(a,b):\n",
    "    print(a+b)   #here a,b are arguments"
   ]
  },
  {
   "cell_type": "code",
   "execution_count": 33,
   "id": "0cfd200d",
   "metadata": {},
   "outputs": [
    {
     "name": "stdout",
     "output_type": "stream",
     "text": [
      "23\n"
     ]
    }
   ],
   "source": [
    "add(10,13)"
   ]
  },
  {
   "cell_type": "code",
   "execution_count": 34,
   "id": "d1e856b1",
   "metadata": {},
   "outputs": [],
   "source": [
    "def even(a):\n",
    "    if a%2==0:\n",
    "        print(\"Even\")\n",
    "    else:\n",
    "        print(\"Odd\")"
   ]
  },
  {
   "cell_type": "code",
   "execution_count": 37,
   "id": "348e970e",
   "metadata": {},
   "outputs": [
    {
     "name": "stdout",
     "output_type": "stream",
     "text": [
      "Even\n"
     ]
    }
   ],
   "source": [
    "even(28)"
   ]
  },
  {
   "cell_type": "code",
   "execution_count": 38,
   "id": "3146831e",
   "metadata": {},
   "outputs": [
    {
     "name": "stdout",
     "output_type": "stream",
     "text": [
      "Odd\n"
     ]
    }
   ],
   "source": [
    "even(21)"
   ]
  },
  {
   "cell_type": "code",
   "execution_count": 39,
   "id": "1ce9f2ec",
   "metadata": {},
   "outputs": [
    {
     "name": "stdout",
     "output_type": "stream",
     "text": [
      "Odd\n"
     ]
    }
   ],
   "source": [
    "even(101)"
   ]
  },
  {
   "cell_type": "markdown",
   "id": "39668b03",
   "metadata": {},
   "source": [
    "# Types of arguments"
   ]
  },
  {
   "cell_type": "markdown",
   "id": "1f4ba867",
   "metadata": {},
   "source": [
    "#### 1. Postion based arguments"
   ]
  },
  {
   "cell_type": "code",
   "execution_count": 40,
   "id": "2172ccfc",
   "metadata": {},
   "outputs": [],
   "source": [
    "def add(a,b,c):\n",
    "    print(a+b-c)"
   ]
  },
  {
   "cell_type": "code",
   "execution_count": 41,
   "id": "e3772ac0",
   "metadata": {},
   "outputs": [
    {
     "name": "stdout",
     "output_type": "stream",
     "text": [
      "-10\n"
     ]
    }
   ],
   "source": [
    "add(10,20,40)"
   ]
  },
  {
   "cell_type": "code",
   "execution_count": 42,
   "id": "379fd554",
   "metadata": {},
   "outputs": [
    {
     "name": "stdout",
     "output_type": "stream",
     "text": [
      "50\n"
     ]
    }
   ],
   "source": [
    "add(20,40,10)"
   ]
  },
  {
   "cell_type": "code",
   "execution_count": 43,
   "id": "1f6aac0f",
   "metadata": {},
   "outputs": [
    {
     "name": "stdout",
     "output_type": "stream",
     "text": [
      "2\n"
     ]
    }
   ],
   "source": [
    "def hai(c,b,a):\n",
    "    print(c-a+b)\n",
    "hai(1,3,2)"
   ]
  },
  {
   "cell_type": "code",
   "execution_count": 44,
   "id": "ff43428f",
   "metadata": {},
   "outputs": [
    {
     "name": "stdout",
     "output_type": "stream",
     "text": [
      "0\n"
     ]
    }
   ],
   "source": [
    "hai(2,1,3)"
   ]
  },
  {
   "cell_type": "code",
   "execution_count": 45,
   "id": "0e097bb3",
   "metadata": {},
   "outputs": [
    {
     "name": "stdout",
     "output_type": "stream",
     "text": [
      "2\n"
     ]
    }
   ],
   "source": [
    "hai(2,1,1)"
   ]
  },
  {
   "cell_type": "code",
   "execution_count": 47,
   "id": "8b3a6656",
   "metadata": {},
   "outputs": [
    {
     "ename": "TypeError",
     "evalue": "unsupported operand type(s) for -: 'int' and 'str'",
     "output_type": "error",
     "traceback": [
      "\u001b[1;31m---------------------------------------------------------------------------\u001b[0m",
      "\u001b[1;31mTypeError\u001b[0m                                 Traceback (most recent call last)",
      "Cell \u001b[1;32mIn[47], line 1\u001b[0m\n\u001b[1;32m----> 1\u001b[0m hai(\u001b[38;5;241m1\u001b[39m,\u001b[38;5;241m4\u001b[39m,\u001b[38;5;124m\"\u001b[39m\u001b[38;5;124mh\u001b[39m\u001b[38;5;124m\"\u001b[39m)\n",
      "Cell \u001b[1;32mIn[43], line 2\u001b[0m, in \u001b[0;36mhai\u001b[1;34m(c, b, a)\u001b[0m\n\u001b[0;32m      1\u001b[0m \u001b[38;5;28;01mdef\u001b[39;00m \u001b[38;5;21mhai\u001b[39m(c,b,a):\n\u001b[1;32m----> 2\u001b[0m     \u001b[38;5;28mprint\u001b[39m(c\u001b[38;5;241m-\u001b[39ma\u001b[38;5;241m+\u001b[39mb)\n",
      "\u001b[1;31mTypeError\u001b[0m: unsupported operand type(s) for -: 'int' and 'str'"
     ]
    }
   ],
   "source": [
    "hai(1,4,\"h\")"
   ]
  },
  {
   "cell_type": "code",
   "execution_count": 50,
   "id": "0c6ad9ee",
   "metadata": {},
   "outputs": [],
   "source": [
    "def concat(name1,name2):\n",
    "    print(name1 + name2)"
   ]
  },
  {
   "cell_type": "code",
   "execution_count": 52,
   "id": "64f963ee",
   "metadata": {},
   "outputs": [
    {
     "name": "stdout",
     "output_type": "stream",
     "text": [
      "enter first name: Scientist\n",
      "enter second name:  Data\n",
      "Scientist Data\n"
     ]
    }
   ],
   "source": [
    "name1 = input(\"enter first name: \")\n",
    "name2 = input(\"enter second name: \")\n",
    "concat(name1,name2)"
   ]
  },
  {
   "cell_type": "markdown",
   "id": "6093d365",
   "metadata": {},
   "source": [
    "# keyword Arguments"
   ]
  },
  {
   "cell_type": "code",
   "execution_count": 57,
   "id": "b2ef12d3",
   "metadata": {},
   "outputs": [],
   "source": [
    "def sub(a,b):\n",
    "    print(a-b)"
   ]
  },
  {
   "cell_type": "code",
   "execution_count": 58,
   "id": "f8e7939a",
   "metadata": {},
   "outputs": [
    {
     "name": "stdout",
     "output_type": "stream",
     "text": [
      "-10\n"
     ]
    }
   ],
   "source": [
    "sub(10,20)"
   ]
  },
  {
   "cell_type": "code",
   "execution_count": 59,
   "id": "da6c1ec7",
   "metadata": {},
   "outputs": [
    {
     "name": "stdout",
     "output_type": "stream",
     "text": [
      "10\n"
     ]
    }
   ],
   "source": [
    "sub(20,10)"
   ]
  },
  {
   "cell_type": "code",
   "execution_count": 60,
   "id": "f00a383c",
   "metadata": {},
   "outputs": [
    {
     "name": "stdout",
     "output_type": "stream",
     "text": [
      "10\n"
     ]
    }
   ],
   "source": [
    "sub(a = 20,b =10)"
   ]
  },
  {
   "cell_type": "code",
   "execution_count": 61,
   "id": "4a535a99",
   "metadata": {},
   "outputs": [
    {
     "name": "stdout",
     "output_type": "stream",
     "text": [
      "10\n"
     ]
    }
   ],
   "source": [
    "sub(b =10,a = 20)"
   ]
  },
  {
   "cell_type": "code",
   "execution_count": 62,
   "id": "8b57c319",
   "metadata": {},
   "outputs": [
    {
     "name": "stdout",
     "output_type": "stream",
     "text": [
      "B value45\n",
      "enter a value: 21\n",
      "-24\n"
     ]
    }
   ],
   "source": [
    "sub(b = int(input(\"B value\")),a = int(input(\"enter a value: \")))"
   ]
  },
  {
   "cell_type": "code",
   "execution_count": 63,
   "id": "0ab2c834",
   "metadata": {},
   "outputs": [],
   "source": [
    "def division(n,n1):\n",
    "    print(n/n1)\n",
    "    print(n//n1)\n",
    "    print(n%n1)"
   ]
  },
  {
   "cell_type": "code",
   "execution_count": 64,
   "id": "c0ca4ace",
   "metadata": {},
   "outputs": [
    {
     "name": "stdout",
     "output_type": "stream",
     "text": [
      "n value : 556\n",
      "n1 value : 56\n",
      "9.928571428571429\n",
      "9\n",
      "52\n"
     ]
    }
   ],
   "source": [
    "division(n = int(input('n value : ')),n1 = int(input('n1 value : ')))"
   ]
  },
  {
   "cell_type": "code",
   "execution_count": 65,
   "id": "c53b1c98",
   "metadata": {},
   "outputs": [],
   "source": [
    "#combination of postion and keyword arguments"
   ]
  },
  {
   "cell_type": "code",
   "execution_count": 66,
   "id": "5d1fdeab",
   "metadata": {},
   "outputs": [],
   "source": [
    "def div(n1,n2):\n",
    "    print(n1/n2)"
   ]
  },
  {
   "cell_type": "code",
   "execution_count": 68,
   "id": "a07dee2a",
   "metadata": {},
   "outputs": [
    {
     "name": "stdout",
     "output_type": "stream",
     "text": [
      "2.5\n"
     ]
    }
   ],
   "source": [
    "div(10,4) #postion"
   ]
  },
  {
   "cell_type": "code",
   "execution_count": 69,
   "id": "5dc3ae81",
   "metadata": {},
   "outputs": [
    {
     "name": "stdout",
     "output_type": "stream",
     "text": [
      "2.5\n"
     ]
    }
   ],
   "source": [
    "div(n1 = 10,n2 = 4)  #keyword"
   ]
  },
  {
   "cell_type": "code",
   "execution_count": 72,
   "id": "00623593",
   "metadata": {},
   "outputs": [
    {
     "name": "stdout",
     "output_type": "stream",
     "text": [
      "2.5\n"
     ]
    }
   ],
   "source": [
    "div(10,n2 = 4)   #both combination"
   ]
  },
  {
   "cell_type": "code",
   "execution_count": 74,
   "id": "0e209c62",
   "metadata": {},
   "outputs": [
    {
     "ename": "SyntaxError",
     "evalue": "positional argument follows keyword argument (905120293.py, line 1)",
     "output_type": "error",
     "traceback": [
      "\u001b[1;36m  Cell \u001b[1;32mIn[74], line 1\u001b[1;36m\u001b[0m\n\u001b[1;33m    div(n1 = 10, 4)  #both combination\u001b[0m\n\u001b[1;37m                  ^\u001b[0m\n\u001b[1;31mSyntaxError\u001b[0m\u001b[1;31m:\u001b[0m positional argument follows keyword argument\n"
     ]
    }
   ],
   "source": [
    "div(n1 = 10, 4)  #both combination\n",
    "\n",
    "#positional argument follows keyword argument"
   ]
  },
  {
   "cell_type": "markdown",
   "id": "04b30e95",
   "metadata": {},
   "source": [
    "## Default Arguments"
   ]
  },
  {
   "cell_type": "code",
   "execution_count": 1,
   "id": "dcfebba7",
   "metadata": {},
   "outputs": [],
   "source": [
    "def details(name,age,city,role):\n",
    "    print(name)\n",
    "    print(age)\n",
    "    print(city)\n",
    "    print(role)"
   ]
  },
  {
   "cell_type": "code",
   "execution_count": 6,
   "id": "33c8844a",
   "metadata": {},
   "outputs": [
    {
     "ename": "TypeError",
     "evalue": "details() missing 1 required positional argument: 'role'",
     "output_type": "error",
     "traceback": [
      "\u001b[1;31m---------------------------------------------------------------------------\u001b[0m",
      "\u001b[1;31mTypeError\u001b[0m                                 Traceback (most recent call last)",
      "Cell \u001b[1;32mIn[6], line 1\u001b[0m\n\u001b[1;32m----> 1\u001b[0m \u001b[43mdetails\u001b[49m\u001b[43m(\u001b[49m\u001b[38;5;124;43m\"\u001b[39;49m\u001b[38;5;124;43mRam\u001b[39;49m\u001b[38;5;124;43m\"\u001b[39;49m\u001b[43m,\u001b[49m\u001b[38;5;241;43m21\u001b[39;49m\u001b[43m,\u001b[49m\u001b[38;5;124;43m\"\u001b[39;49m\u001b[38;5;124;43mHYD\u001b[39;49m\u001b[38;5;124;43m\"\u001b[39;49m\u001b[43m)\u001b[49m\n",
      "\u001b[1;31mTypeError\u001b[0m: details() missing 1 required positional argument: 'role'"
     ]
    }
   ],
   "source": [
    "details(\"Ram\",21,\"HYD\")"
   ]
  },
  {
   "cell_type": "code",
   "execution_count": 7,
   "id": "b9de5aab",
   "metadata": {},
   "outputs": [],
   "source": [
    "def details(name,age,city,role=\"Data Analyst\"):\n",
    "    print(name)\n",
    "    print(age)\n",
    "    print(city)\n",
    "    print(role)"
   ]
  },
  {
   "cell_type": "code",
   "execution_count": 8,
   "id": "f750b365",
   "metadata": {},
   "outputs": [
    {
     "name": "stdout",
     "output_type": "stream",
     "text": [
      "ram\n",
      "20\n",
      "VJW\n",
      "Data Analyst\n"
     ]
    }
   ],
   "source": [
    "details(\"ram\",20,\"VJW\")"
   ]
  },
  {
   "cell_type": "code",
   "execution_count": 9,
   "id": "59fd33cc",
   "metadata": {},
   "outputs": [
    {
     "name": "stdout",
     "output_type": "stream",
     "text": [
      "ram\n",
      "20\n",
      "VJW\n",
      "Data Scientist\n"
     ]
    }
   ],
   "source": [
    "details(\"ram\",20,\"VJW\",\"Data Scientist\")"
   ]
  },
  {
   "cell_type": "code",
   "execution_count": 16,
   "id": "00b8b67d",
   "metadata": {},
   "outputs": [],
   "source": [
    "def wishes(name = \"user\"):\n",
    "    print(f\"Dear {name}.How are you? \")"
   ]
  },
  {
   "cell_type": "code",
   "execution_count": 19,
   "id": "e3f278f9",
   "metadata": {},
   "outputs": [
    {
     "name": "stdout",
     "output_type": "stream",
     "text": [
      "Dear user.How are you? \n"
     ]
    }
   ],
   "source": [
    "wishes()"
   ]
  },
  {
   "cell_type": "code",
   "execution_count": 20,
   "id": "5b109c41",
   "metadata": {},
   "outputs": [],
   "source": [
    "name = \"Python Prorgamming language\""
   ]
  },
  {
   "cell_type": "code",
   "execution_count": 22,
   "id": "f9897f7e",
   "metadata": {},
   "outputs": [
    {
     "data": {
      "text/plain": [
       "['Python P', 'og', 'amming language']"
      ]
     },
     "execution_count": 22,
     "metadata": {},
     "output_type": "execute_result"
    }
   ],
   "source": [
    "name.split('r')"
   ]
  },
  {
   "cell_type": "code",
   "execution_count": 27,
   "id": "002a000d",
   "metadata": {},
   "outputs": [],
   "source": [
    "def student(name,class1,city = \"HYD\",scool = \"HPS\"):\n",
    "    print(f\"name :{name}\")\n",
    "    print(f\"class :{class1}\")\n",
    "    print(f\"city :{city}\")\n",
    "    print(f\"school :{scool}\")"
   ]
  },
  {
   "cell_type": "code",
   "execution_count": 24,
   "id": "18221d4a",
   "metadata": {},
   "outputs": [
    {
     "name": "stdout",
     "output_type": "stream",
     "text": [
      "name :Ramesh\n",
      "class :8\n",
      "city :hyd\n",
      "school :HPS\n"
     ]
    }
   ],
   "source": [
    "student(\"Ramesh\",8,\"hyd\",\"HPS\")"
   ]
  },
  {
   "cell_type": "code",
   "execution_count": 25,
   "id": "747e1226",
   "metadata": {},
   "outputs": [
    {
     "name": "stdout",
     "output_type": "stream",
     "text": [
      "name :Rajani\n",
      "class :9\n",
      "city :hyd\n",
      "school :HPS\n"
     ]
    }
   ],
   "source": [
    "student(\"Rajani\",9,\"hyd\",\"HPS\")"
   ]
  },
  {
   "cell_type": "code",
   "execution_count": 28,
   "id": "2f5f6fe8",
   "metadata": {},
   "outputs": [
    {
     "name": "stdout",
     "output_type": "stream",
     "text": [
      "name :ramesh\n",
      "class :4\n",
      "city :HYD\n",
      "school :HPS\n"
     ]
    }
   ],
   "source": [
    "student(\"ramesh\",4)"
   ]
  },
  {
   "cell_type": "code",
   "execution_count": 31,
   "id": "6bec3991",
   "metadata": {},
   "outputs": [
    {
     "name": "stdout",
     "output_type": "stream",
     "text": [
      "name :ram\n",
      "class :5\n",
      "city :HPS\n",
      "school :HPS\n"
     ]
    }
   ],
   "source": [
    "student(\"ram\",5,\"HPS\")"
   ]
  },
  {
   "cell_type": "code",
   "execution_count": 36,
   "id": "ca0289d3",
   "metadata": {},
   "outputs": [],
   "source": [
    "def cricketer(name,age,ipl,country = \"India\"):\n",
    "    print(f\"{name },{age},{ipl},{country}\")"
   ]
  },
  {
   "cell_type": "code",
   "execution_count": 37,
   "id": "b5c7bb7a",
   "metadata": {},
   "outputs": [
    {
     "name": "stdout",
     "output_type": "stream",
     "text": [
      "Kohli,30,RCB,India\n"
     ]
    }
   ],
   "source": [
    "cricketer(\"Kohli\",30,\"RCB\",\"India\")"
   ]
  },
  {
   "cell_type": "code",
   "execution_count": 38,
   "id": "75e8c61e",
   "metadata": {},
   "outputs": [
    {
     "name": "stdout",
     "output_type": "stream",
     "text": [
      "Rohit,32,MI,India\n"
     ]
    }
   ],
   "source": [
    "cricketer( \"Rohit\",32,\"MI\",\"India\")"
   ]
  },
  {
   "cell_type": "code",
   "execution_count": 39,
   "id": "f3e93d37",
   "metadata": {},
   "outputs": [
    {
     "name": "stdout",
     "output_type": "stream",
     "text": [
      "Dhoni,34,CSK,India\n"
     ]
    }
   ],
   "source": [
    "cricketer(\"Dhoni\",34,\"CSK\")"
   ]
  },
  {
   "cell_type": "code",
   "execution_count": 40,
   "id": "2f0d3470",
   "metadata": {},
   "outputs": [],
   "source": [
    "def mul(a,b):\n",
    "    print(a*b)"
   ]
  },
  {
   "cell_type": "code",
   "execution_count": 42,
   "id": "8473bdbc",
   "metadata": {},
   "outputs": [
    {
     "ename": "TypeError",
     "evalue": "mul() takes 2 positional arguments but 4 were given",
     "output_type": "error",
     "traceback": [
      "\u001b[1;31m---------------------------------------------------------------------------\u001b[0m",
      "\u001b[1;31mTypeError\u001b[0m                                 Traceback (most recent call last)",
      "Cell \u001b[1;32mIn[42], line 1\u001b[0m\n\u001b[1;32m----> 1\u001b[0m \u001b[43mmul\u001b[49m\u001b[43m(\u001b[49m\u001b[38;5;241;43m10\u001b[39;49m\u001b[43m,\u001b[49m\u001b[38;5;241;43m20\u001b[39;49m\u001b[43m,\u001b[49m\u001b[38;5;241;43m30\u001b[39;49m\u001b[43m,\u001b[49m\u001b[38;5;241;43m40\u001b[39;49m\u001b[43m)\u001b[49m\n",
      "\u001b[1;31mTypeError\u001b[0m: mul() takes 2 positional arguments but 4 were given"
     ]
    }
   ],
   "source": [
    "mul(10,20,30,40)   "
   ]
  },
  {
   "cell_type": "markdown",
   "id": "13134f94",
   "metadata": {},
   "source": [
    "## Variable length arguments"
   ]
  },
  {
   "cell_type": "code",
   "execution_count": 56,
   "id": "26dfd1fd",
   "metadata": {},
   "outputs": [],
   "source": [
    "def mul(*n):         # *args-arguments\n",
    "    for i in n:\n",
    "        print(i**2)\n",
    "               \n",
    "    "
   ]
  },
  {
   "cell_type": "code",
   "execution_count": 58,
   "id": "a38af035",
   "metadata": {},
   "outputs": [
    {
     "name": "stdout",
     "output_type": "stream",
     "text": [
      "1\n",
      "4\n",
      "9\n",
      "16\n",
      "25\n",
      "36\n",
      "49\n",
      "64\n",
      "81\n",
      "100\n",
      "400\n",
      "900\n"
     ]
    }
   ],
   "source": [
    "mul(1,2,3,4,5,6,7,8,9,10,20,30)"
   ]
  },
  {
   "cell_type": "code",
   "execution_count": 59,
   "id": "1fc23bde",
   "metadata": {},
   "outputs": [],
   "source": [
    "def add(*num):\n",
    "    total = 0\n",
    "    for i in num:\n",
    "        total += i\n",
    "    print(total)"
   ]
  },
  {
   "cell_type": "code",
   "execution_count": 61,
   "id": "bd68f6c6",
   "metadata": {},
   "outputs": [
    {
     "name": "stdout",
     "output_type": "stream",
     "text": [
      "72\n"
     ]
    }
   ],
   "source": [
    "add(1,2,3,4,5,6,12,12,13,14)"
   ]
  },
  {
   "cell_type": "code",
   "execution_count": 64,
   "id": "dd40ef6f",
   "metadata": {},
   "outputs": [],
   "source": [
    "def key(**val):\n",
    "    for i,j in val.items():\n",
    "        print(j)\n",
    "        "
   ]
  },
  {
   "cell_type": "code",
   "execution_count": 65,
   "id": "83d43ff8",
   "metadata": {},
   "outputs": [
    {
     "name": "stdout",
     "output_type": "stream",
     "text": [
      "Ram\n",
      "21\n"
     ]
    }
   ],
   "source": [
    "key(name = \"Ram\",age = 21)"
   ]
  },
  {
   "cell_type": "markdown",
   "id": "5b08860d",
   "metadata": {},
   "source": [
    "# Function Variables"
   ]
  },
  {
   "cell_type": "markdown",
   "id": "ff795819",
   "metadata": {},
   "source": [
    "1. if variable is declared outside of the function is called global\n",
    "2. if variable is declared iniside the function is called local variable\n",
    "\n",
    "Note.Even we can declare global variable inside the function using global keyword"
   ]
  },
  {
   "cell_type": "code",
   "execution_count": 73,
   "id": "769d760c",
   "metadata": {},
   "outputs": [],
   "source": [
    "a = 10\n",
    "\n",
    "def f1():\n",
    "    print(a+2)\n",
    "    \n",
    "def f2():\n",
    "    print(a-2)"
   ]
  },
  {
   "cell_type": "code",
   "execution_count": 74,
   "id": "1c8955f0",
   "metadata": {},
   "outputs": [
    {
     "name": "stdout",
     "output_type": "stream",
     "text": [
      "12\n"
     ]
    }
   ],
   "source": [
    "f1()"
   ]
  },
  {
   "cell_type": "code",
   "execution_count": 75,
   "id": "115b5fba",
   "metadata": {},
   "outputs": [
    {
     "name": "stdout",
     "output_type": "stream",
     "text": [
      "8\n"
     ]
    }
   ],
   "source": [
    "f2()"
   ]
  },
  {
   "cell_type": "code",
   "execution_count": 76,
   "id": "3e33128c",
   "metadata": {},
   "outputs": [],
   "source": [
    "\n",
    "\n",
    "def f3():\n",
    "    b = 10\n",
    "    print(b*2)\n",
    "    \n",
    "def f4():\n",
    "    print(b-2)"
   ]
  },
  {
   "cell_type": "code",
   "execution_count": 77,
   "id": "8012154a",
   "metadata": {},
   "outputs": [
    {
     "name": "stdout",
     "output_type": "stream",
     "text": [
      "20\n"
     ]
    }
   ],
   "source": [
    "f3()"
   ]
  },
  {
   "cell_type": "code",
   "execution_count": 78,
   "id": "95e4d3a4",
   "metadata": {},
   "outputs": [
    {
     "ename": "NameError",
     "evalue": "name 'b' is not defined",
     "output_type": "error",
     "traceback": [
      "\u001b[1;31m---------------------------------------------------------------------------\u001b[0m",
      "\u001b[1;31mNameError\u001b[0m                                 Traceback (most recent call last)",
      "Cell \u001b[1;32mIn[78], line 1\u001b[0m\n\u001b[1;32m----> 1\u001b[0m \u001b[43mf4\u001b[49m\u001b[43m(\u001b[49m\u001b[43m)\u001b[49m\n",
      "Cell \u001b[1;32mIn[76], line 6\u001b[0m, in \u001b[0;36mf4\u001b[1;34m()\u001b[0m\n\u001b[0;32m      5\u001b[0m \u001b[38;5;28;01mdef\u001b[39;00m \u001b[38;5;21mf4\u001b[39m():\n\u001b[1;32m----> 6\u001b[0m     \u001b[38;5;28mprint\u001b[39m(\u001b[43mb\u001b[49m\u001b[38;5;241m-\u001b[39m\u001b[38;5;241m2\u001b[39m)\n",
      "\u001b[1;31mNameError\u001b[0m: name 'b' is not defined"
     ]
    }
   ],
   "source": [
    "f4()"
   ]
  },
  {
   "cell_type": "code",
   "execution_count": 79,
   "id": "3aaf8944",
   "metadata": {},
   "outputs": [],
   "source": [
    "c =100\n",
    "def f3():\n",
    "    c = 10\n",
    "    print(c*2)\n",
    "    \n",
    "def f4():\n",
    "    print(c-2)"
   ]
  },
  {
   "cell_type": "code",
   "execution_count": 80,
   "id": "a26f013c",
   "metadata": {},
   "outputs": [
    {
     "name": "stdout",
     "output_type": "stream",
     "text": [
      "20\n"
     ]
    }
   ],
   "source": [
    "f3()"
   ]
  },
  {
   "cell_type": "code",
   "execution_count": 81,
   "id": "0b8da29d",
   "metadata": {},
   "outputs": [
    {
     "name": "stdout",
     "output_type": "stream",
     "text": [
      "98\n"
     ]
    }
   ],
   "source": [
    "f4()"
   ]
  },
  {
   "cell_type": "code",
   "execution_count": null,
   "id": "ddc9209b",
   "metadata": {},
   "outputs": [],
   "source": [
    "x = 10\n",
    "\n",
    "def f5():\n",
    "    print(x**2)\n",
    "    \n",
    "def f6():\n",
    "    print(x-20)"
   ]
  },
  {
   "cell_type": "code",
   "execution_count": 97,
   "id": "db924ccc",
   "metadata": {},
   "outputs": [],
   "source": [
    "\n",
    "def f5():\n",
    "    global y\n",
    "    y = 10\n",
    "    print(y*2)\n",
    "    \n",
    "def f6():\n",
    "    print(y-20)"
   ]
  },
  {
   "cell_type": "code",
   "execution_count": 98,
   "id": "5ebb886a",
   "metadata": {},
   "outputs": [
    {
     "name": "stdout",
     "output_type": "stream",
     "text": [
      "20\n"
     ]
    }
   ],
   "source": [
    "f5()"
   ]
  },
  {
   "cell_type": "code",
   "execution_count": 99,
   "id": "af9a2e8f",
   "metadata": {},
   "outputs": [
    {
     "name": "stdout",
     "output_type": "stream",
     "text": [
      "-10\n"
     ]
    }
   ],
   "source": [
    "f6()"
   ]
  },
  {
   "cell_type": "markdown",
   "id": "88004888",
   "metadata": {},
   "source": [
    "# Lambda function"
   ]
  },
  {
   "cell_type": "markdown",
   "id": "fb8305e5",
   "metadata": {},
   "source": [
    "1. Nameless or Ananymous function\n",
    "2. function can be written in single line"
   ]
  },
  {
   "cell_type": "code",
   "execution_count": 102,
   "id": "f3113beb",
   "metadata": {},
   "outputs": [],
   "source": [
    "def square(n):\n",
    "    print(n**2)"
   ]
  },
  {
   "cell_type": "code",
   "execution_count": 103,
   "id": "30d6678e",
   "metadata": {},
   "outputs": [
    {
     "name": "stdout",
     "output_type": "stream",
     "text": [
      "9\n"
     ]
    }
   ],
   "source": [
    "square(3)"
   ]
  },
  {
   "cell_type": "markdown",
   "id": "fc5ccba6",
   "metadata": {},
   "source": [
    "#### lambda  argument_list : expression"
   ]
  },
  {
   "cell_type": "code",
   "execution_count": 104,
   "id": "a9663079",
   "metadata": {},
   "outputs": [],
   "source": [
    " c = lambda n : n**2"
   ]
  },
  {
   "cell_type": "code",
   "execution_count": 107,
   "id": "8af9fd22",
   "metadata": {},
   "outputs": [
    {
     "name": "stdout",
     "output_type": "stream",
     "text": [
      "49\n"
     ]
    }
   ],
   "source": [
    "print(c(7))"
   ]
  },
  {
   "cell_type": "code",
   "execution_count": 108,
   "id": "d13bba0e",
   "metadata": {},
   "outputs": [],
   "source": [
    "add = lambda a,b: a+b"
   ]
  },
  {
   "cell_type": "code",
   "execution_count": 109,
   "id": "74c5e225",
   "metadata": {},
   "outputs": [
    {
     "data": {
      "text/plain": [
       "7"
      ]
     },
     "execution_count": 109,
     "metadata": {},
     "output_type": "execute_result"
    }
   ],
   "source": [
    "add(1,6)"
   ]
  },
  {
   "cell_type": "code",
   "execution_count": 110,
   "id": "965cbc89",
   "metadata": {},
   "outputs": [],
   "source": [
    "#WPC to take 3 numbers as input and should be returned to multpilication of them\n",
    "\n",
    "mul = lambda x,y,z: x*y*z"
   ]
  },
  {
   "cell_type": "code",
   "execution_count": 111,
   "id": "3df66010",
   "metadata": {},
   "outputs": [
    {
     "data": {
      "text/plain": [
       "60"
      ]
     },
     "execution_count": 111,
     "metadata": {},
     "output_type": "execute_result"
    }
   ],
   "source": [
    "mul(3,4,5)"
   ]
  },
  {
   "cell_type": "markdown",
   "id": "bbc004d1",
   "metadata": {},
   "source": [
    "#### what is the differene betweeen return and print"
   ]
  },
  {
   "cell_type": "code",
   "execution_count": 141,
   "id": "5f50a0d7",
   "metadata": {},
   "outputs": [],
   "source": [
    "def add(a,b):\n",
    "    return (a+b)"
   ]
  },
  {
   "cell_type": "code",
   "execution_count": 142,
   "id": "b4faa53f",
   "metadata": {},
   "outputs": [
    {
     "data": {
      "text/plain": [
       "int"
      ]
     },
     "execution_count": 142,
     "metadata": {},
     "output_type": "execute_result"
    }
   ],
   "source": [
    "t = add(10,20)\n",
    "type(t)"
   ]
  },
  {
   "cell_type": "code",
   "execution_count": 132,
   "id": "14fe4206",
   "metadata": {},
   "outputs": [],
   "source": [
    "def add2(x,y):\n",
    "    return x+y"
   ]
  },
  {
   "cell_type": "code",
   "execution_count": 133,
   "id": "3c6fc74c",
   "metadata": {},
   "outputs": [],
   "source": [
    "c= add2(10,20)"
   ]
  },
  {
   "cell_type": "code",
   "execution_count": 134,
   "id": "d628bc81",
   "metadata": {},
   "outputs": [
    {
     "data": {
      "text/plain": [
       "30"
      ]
     },
     "execution_count": 134,
     "metadata": {},
     "output_type": "execute_result"
    }
   ],
   "source": [
    "c"
   ]
  },
  {
   "cell_type": "code",
   "execution_count": 135,
   "id": "d2eb5868",
   "metadata": {},
   "outputs": [
    {
     "name": "stdout",
     "output_type": "stream",
     "text": [
      "<class 'NoneType'>\n"
     ]
    }
   ],
   "source": [
    "print(type(t))"
   ]
  },
  {
   "cell_type": "code",
   "execution_count": 136,
   "id": "844c8f55",
   "metadata": {},
   "outputs": [
    {
     "name": "stdout",
     "output_type": "stream",
     "text": [
      "<class 'int'>\n"
     ]
    }
   ],
   "source": [
    "print(type(c))"
   ]
  },
  {
   "cell_type": "code",
   "execution_count": 137,
   "id": "0fef1421",
   "metadata": {},
   "outputs": [],
   "source": [
    "r = 10+30"
   ]
  },
  {
   "cell_type": "code",
   "execution_count": 138,
   "id": "1eb39fd4",
   "metadata": {},
   "outputs": [
    {
     "name": "stdout",
     "output_type": "stream",
     "text": [
      "<class 'int'>\n"
     ]
    }
   ],
   "source": [
    "print(type(r))"
   ]
  },
  {
   "cell_type": "code",
   "execution_count": null,
   "id": "22a0b41b",
   "metadata": {},
   "outputs": [],
   "source": []
  }
 ],
 "metadata": {
  "kernelspec": {
   "display_name": "Python 3 (ipykernel)",
   "language": "python",
   "name": "python3"
  },
  "language_info": {
   "codemirror_mode": {
    "name": "ipython",
    "version": 3
   },
   "file_extension": ".py",
   "mimetype": "text/x-python",
   "name": "python",
   "nbconvert_exporter": "python",
   "pygments_lexer": "ipython3",
   "version": "3.10.9"
  }
 },
 "nbformat": 4,
 "nbformat_minor": 5
}
