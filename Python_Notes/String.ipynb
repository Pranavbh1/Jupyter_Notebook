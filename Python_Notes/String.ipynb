{
 "cells": [
  {
   "cell_type": "markdown",
   "id": "612c7a5e",
   "metadata": {},
   "source": [
    "String : Textual Data"
   ]
  },
  {
   "cell_type": "markdown",
   "id": "af14a80a",
   "metadata": {},
   "source": [
    "In Python, the string data type is used to represent a sequence of characters. "
   ]
  },
  {
   "cell_type": "markdown",
   "id": "5598c92b",
   "metadata": {},
   "source": [
    "They are enclosed in either single quotes (' ') or double quotes (\" \")."
   ]
  },
  {
   "cell_type": "code",
   "execution_count": 5,
   "id": "857553ef",
   "metadata": {},
   "outputs": [],
   "source": [
    "name = 'Hello world'"
   ]
  },
  {
   "cell_type": "code",
   "execution_count": 6,
   "id": "09b97359",
   "metadata": {},
   "outputs": [],
   "source": [
    "name1 = \"Hello world\""
   ]
  },
  {
   "cell_type": "code",
   "execution_count": 7,
   "id": "8b309a18",
   "metadata": {},
   "outputs": [
    {
     "data": {
      "text/plain": [
       "True"
      ]
     },
     "execution_count": 7,
     "metadata": {},
     "output_type": "execute_result"
    }
   ],
   "source": [
    "name == name1"
   ]
  },
  {
   "cell_type": "code",
   "execution_count": 8,
   "id": "c4b4a948",
   "metadata": {},
   "outputs": [
    {
     "name": "stdout",
     "output_type": "stream",
     "text": [
      "Hello world\n"
     ]
    }
   ],
   "source": [
    "print(name)"
   ]
  },
  {
   "cell_type": "code",
   "execution_count": 9,
   "id": "04f8e295",
   "metadata": {},
   "outputs": [
    {
     "data": {
      "text/plain": [
       "str"
      ]
     },
     "execution_count": 9,
     "metadata": {},
     "output_type": "execute_result"
    }
   ],
   "source": [
    "type(name)"
   ]
  },
  {
   "cell_type": "code",
   "execution_count": 10,
   "id": "33a0aeca",
   "metadata": {},
   "outputs": [
    {
     "data": {
      "text/plain": [
       "1843936750640"
      ]
     },
     "execution_count": 10,
     "metadata": {},
     "output_type": "execute_result"
    }
   ],
   "source": [
    "id(name)"
   ]
  },
  {
   "cell_type": "code",
   "execution_count": 11,
   "id": "8a6fc4ab",
   "metadata": {},
   "outputs": [
    {
     "data": {
      "text/plain": [
       "11"
      ]
     },
     "execution_count": 11,
     "metadata": {},
     "output_type": "execute_result"
    }
   ],
   "source": [
    "len(name)"
   ]
  },
  {
   "cell_type": "markdown",
   "id": "518631e5",
   "metadata": {},
   "source": [
    "if both are same why do we use them instead of One?"
   ]
  },
  {
   "cell_type": "code",
   "execution_count": 16,
   "id": "15772c30",
   "metadata": {},
   "outputs": [
    {
     "ename": "SyntaxError",
     "evalue": "unterminated string literal (detected at line 1) (2657422760.py, line 1)",
     "output_type": "error",
     "traceback": [
      "\u001b[1;36m  Cell \u001b[1;32mIn[16], line 1\u001b[1;36m\u001b[0m\n\u001b[1;33m    val = 'This is ram's mobile'\u001b[0m\n\u001b[1;37m                               ^\u001b[0m\n\u001b[1;31mSyntaxError\u001b[0m\u001b[1;31m:\u001b[0m unterminated string literal (detected at line 1)\n"
     ]
    }
   ],
   "source": [
    "val = 'This is ram's mobile'"
   ]
  },
  {
   "cell_type": "code",
   "execution_count": 14,
   "id": "252f1575",
   "metadata": {},
   "outputs": [],
   "source": [
    "val = \"This is Ram's mobile\""
   ]
  },
  {
   "cell_type": "code",
   "execution_count": 15,
   "id": "29557ab4",
   "metadata": {},
   "outputs": [
    {
     "name": "stdout",
     "output_type": "stream",
     "text": [
      "This is Ram's mobile\n"
     ]
    }
   ],
   "source": [
    "print(val)"
   ]
  },
  {
   "cell_type": "code",
   "execution_count": 19,
   "id": "5dfa2436",
   "metadata": {},
   "outputs": [],
   "source": [
    "val2 = 'This is ram\\'s mobile'"
   ]
  },
  {
   "cell_type": "code",
   "execution_count": 21,
   "id": "65586530",
   "metadata": {},
   "outputs": [
    {
     "name": "stdout",
     "output_type": "stream",
     "text": [
      "This is ram's mobile\n"
     ]
    }
   ],
   "source": [
    "print(val2)"
   ]
  },
  {
   "cell_type": "code",
   "execution_count": 22,
   "id": "798c75ca",
   "metadata": {},
   "outputs": [
    {
     "name": "stdout",
     "output_type": "stream",
     "text": [
      "I love \"Python\" Programming\n"
     ]
    }
   ],
   "source": [
    "name = 'I love \"Python\" Programming'\n",
    "print(name)"
   ]
  },
  {
   "cell_type": "code",
   "execution_count": 26,
   "id": "79e78a75",
   "metadata": {},
   "outputs": [
    {
     "name": "stdout",
     "output_type": "stream",
     "text": [
      "I love \"Python\" Programming\n"
     ]
    }
   ],
   "source": [
    "name1 = \"I love \\\"Python\\\" Programming\"\n",
    "print(name1)"
   ]
  },
  {
   "cell_type": "markdown",
   "id": "d6a95492",
   "metadata": {},
   "source": [
    "### Escape Characaters"
   ]
  },
  {
   "cell_type": "raw",
   "id": "ddc0a8cd",
   "metadata": {},
   "source": [
    "\\n \tNew Line \n",
    "\\t \tHorizontal Tab \n",
    "\\b \tBack Space \n",
    "\\’ \tSingle Quote Double Quote \n",
    "\\\\ \tBack Slash Symbol…..etc\n"
   ]
  },
  {
   "cell_type": "code",
   "execution_count": 29,
   "id": "87056c07",
   "metadata": {},
   "outputs": [
    {
     "name": "stdout",
     "output_type": "stream",
     "text": [
      "Innomatics Research Labs\n"
     ]
    }
   ],
   "source": [
    "print(\"Innomatics Research Labs\")"
   ]
  },
  {
   "cell_type": "code",
   "execution_count": 30,
   "id": "699ab888",
   "metadata": {},
   "outputs": [
    {
     "name": "stdout",
     "output_type": "stream",
     "text": [
      "Innomatics \n",
      "Research \n",
      "Labs\n"
     ]
    }
   ],
   "source": [
    "print(\"Innomatics \\nResearch \\nLabs\")"
   ]
  },
  {
   "cell_type": "code",
   "execution_count": 33,
   "id": "bd90127b",
   "metadata": {},
   "outputs": [
    {
     "name": "stdout",
     "output_type": "stream",
     "text": [
      "Innomatics\tResearch\tLabs\n"
     ]
    }
   ],
   "source": [
    "# \\t\n",
    "print(\"Innomatics\\tResearch\\tLabs\")"
   ]
  },
  {
   "cell_type": "code",
   "execution_count": 34,
   "id": "66375778",
   "metadata": {},
   "outputs": [
    {
     "name": "stdout",
     "output_type": "stream",
     "text": [
      "Innomatics Research\b Labs\n"
     ]
    }
   ],
   "source": [
    "# \\b\n",
    "print(\"Innomatics Research\\b Labs\")"
   ]
  },
  {
   "cell_type": "code",
   "execution_count": 35,
   "id": "598732d0",
   "metadata": {},
   "outputs": [
    {
     "name": "stdout",
     "output_type": "stream",
     "text": [
      "Innomatic\bs Research\b Labs\n"
     ]
    }
   ],
   "source": [
    "print(\"Innomatic\\bs Research\\b Labs\")"
   ]
  },
  {
   "cell_type": "code",
   "execution_count": 36,
   "id": "95e93c2d",
   "metadata": {},
   "outputs": [
    {
     "name": "stdout",
     "output_type": "stream",
     "text": [
      "Innomatics \u000b",
      "research labs\n"
     ]
    }
   ],
   "source": [
    "# \\v\n",
    "print(\"Innomatics \\vresearch labs\")"
   ]
  },
  {
   "cell_type": "code",
   "execution_count": 42,
   "id": "a509d4bc",
   "metadata": {},
   "outputs": [
    {
     "name": "stdout",
     "output_type": "stream",
     "text": [
      "distance\\time\n"
     ]
    }
   ],
   "source": [
    "print(\"distance\\\\time\")\n"
   ]
  },
  {
   "cell_type": "code",
   "execution_count": 48,
   "id": "60bd2cdd",
   "metadata": {},
   "outputs": [
    {
     "name": "stdout",
     "output_type": "stream",
     "text": [
      "D:\templates\\Data Analysis Module\\IQR_v1.xlsx\n"
     ]
    }
   ],
   "source": [
    "print('D:\\templates\\Data Analysis Module\\IQR_v1.xlsx')"
   ]
  },
  {
   "cell_type": "code",
   "execution_count": 45,
   "id": "1cd78a3b",
   "metadata": {},
   "outputs": [
    {
     "name": "stdout",
     "output_type": "stream",
     "text": [
      "D:\\templates\\Data Analysis Module\\IQR_v1.xlsx\n"
     ]
    }
   ],
   "source": [
    "print(\"D:\\\\templates\\\\Data Analysis Module\\\\IQR_v1.xlsx\")"
   ]
  },
  {
   "cell_type": "code",
   "execution_count": 47,
   "id": "7bc325d4",
   "metadata": {},
   "outputs": [
    {
     "name": "stdout",
     "output_type": "stream",
     "text": [
      "D:\\templates\\Data Analysis Module\\IQR_v1.xlsx\n"
     ]
    }
   ],
   "source": [
    "print(r'D:\\templates\\Data Analysis Module\\IQR_v1.xlsx')"
   ]
  },
  {
   "cell_type": "markdown",
   "id": "f9250da3",
   "metadata": {},
   "source": [
    "### Indexing and Slicing"
   ]
  },
  {
   "cell_type": "markdown",
   "id": "b6cd2549",
   "metadata": {},
   "source": [
    "You can access individual characters in a string using indexing. In Python, indexing starts at 0, so the first character of a string has an index of 0."
   ]
  },
  {
   "cell_type": "raw",
   "id": "4b12057f",
   "metadata": {},
   "source": [
    "indexing -- Single element\n",
    "slicing   -- Group of elements"
   ]
  },
  {
   "cell_type": "raw",
   "id": "eb0f6bb2",
   "metadata": {},
   "source": [
    "##Indexing\n",
    "#syntax\n",
    "variable_name[index number]"
   ]
  },
  {
   "cell_type": "code",
   "execution_count": 49,
   "id": "a6abf096",
   "metadata": {},
   "outputs": [],
   "source": [
    "name = \"Hello\""
   ]
  },
  {
   "cell_type": "code",
   "execution_count": 50,
   "id": "0d73625e",
   "metadata": {},
   "outputs": [
    {
     "data": {
      "text/plain": [
       "'e'"
      ]
     },
     "execution_count": 50,
     "metadata": {},
     "output_type": "execute_result"
    }
   ],
   "source": [
    "name[1]"
   ]
  },
  {
   "cell_type": "code",
   "execution_count": 51,
   "id": "b8b929fd",
   "metadata": {},
   "outputs": [
    {
     "data": {
      "text/plain": [
       "'l'"
      ]
     },
     "execution_count": 51,
     "metadata": {},
     "output_type": "execute_result"
    }
   ],
   "source": [
    "name[2]"
   ]
  },
  {
   "cell_type": "code",
   "execution_count": 52,
   "id": "1e055e82",
   "metadata": {},
   "outputs": [
    {
     "data": {
      "text/plain": [
       "'l'"
      ]
     },
     "execution_count": 52,
     "metadata": {},
     "output_type": "execute_result"
    }
   ],
   "source": [
    "name[3]"
   ]
  },
  {
   "cell_type": "code",
   "execution_count": 53,
   "id": "f381d123",
   "metadata": {},
   "outputs": [
    {
     "data": {
      "text/plain": [
       "'o'"
      ]
     },
     "execution_count": 53,
     "metadata": {},
     "output_type": "execute_result"
    }
   ],
   "source": [
    "name[4]"
   ]
  },
  {
   "cell_type": "code",
   "execution_count": 54,
   "id": "659dbee1",
   "metadata": {},
   "outputs": [
    {
     "ename": "IndexError",
     "evalue": "string index out of range",
     "output_type": "error",
     "traceback": [
      "\u001b[1;31m---------------------------------------------------------------------------\u001b[0m",
      "\u001b[1;31mIndexError\u001b[0m                                Traceback (most recent call last)",
      "Cell \u001b[1;32mIn[54], line 1\u001b[0m\n\u001b[1;32m----> 1\u001b[0m name[\u001b[38;5;241m5\u001b[39m]\n",
      "\u001b[1;31mIndexError\u001b[0m: string index out of range"
     ]
    }
   ],
   "source": [
    "name[5]"
   ]
  },
  {
   "cell_type": "code",
   "execution_count": 66,
   "id": "b7a59b33",
   "metadata": {},
   "outputs": [],
   "source": [
    "var =    \"Innomatics Research labs\""
   ]
  },
  {
   "cell_type": "code",
   "execution_count": 67,
   "id": "6e4dd901",
   "metadata": {},
   "outputs": [
    {
     "data": {
      "text/plain": [
       "'I'"
      ]
     },
     "execution_count": 67,
     "metadata": {},
     "output_type": "execute_result"
    }
   ],
   "source": [
    "var[0]"
   ]
  },
  {
   "cell_type": "code",
   "execution_count": 69,
   "id": "cc1ca6ca",
   "metadata": {},
   "outputs": [
    {
     "data": {
      "text/plain": [
       "' '"
      ]
     },
     "execution_count": 69,
     "metadata": {},
     "output_type": "execute_result"
    }
   ],
   "source": [
    "var[10]"
   ]
  },
  {
   "cell_type": "code",
   "execution_count": 70,
   "id": "f908f4c5",
   "metadata": {},
   "outputs": [],
   "source": [
    "word = \"Hello World\""
   ]
  },
  {
   "cell_type": "code",
   "execution_count": 71,
   "id": "67ba82bd",
   "metadata": {},
   "outputs": [
    {
     "data": {
      "text/plain": [
       "'r'"
      ]
     },
     "execution_count": 71,
     "metadata": {},
     "output_type": "execute_result"
    }
   ],
   "source": [
    "word[8]  #forward indexing"
   ]
  },
  {
   "cell_type": "code",
   "execution_count": 72,
   "id": "f52b12eb",
   "metadata": {},
   "outputs": [
    {
     "data": {
      "text/plain": [
       "'r'"
      ]
     },
     "execution_count": 72,
     "metadata": {},
     "output_type": "execute_result"
    }
   ],
   "source": [
    "word[-3]"
   ]
  },
  {
   "cell_type": "code",
   "execution_count": 73,
   "id": "0879b3f9",
   "metadata": {},
   "outputs": [
    {
     "data": {
      "text/plain": [
       "'W'"
      ]
     },
     "execution_count": 73,
     "metadata": {},
     "output_type": "execute_result"
    }
   ],
   "source": [
    "word[6]"
   ]
  },
  {
   "cell_type": "code",
   "execution_count": 74,
   "id": "157256a4",
   "metadata": {},
   "outputs": [
    {
     "data": {
      "text/plain": [
       "'W'"
      ]
     },
     "execution_count": 74,
     "metadata": {},
     "output_type": "execute_result"
    }
   ],
   "source": [
    "word[-5]"
   ]
  },
  {
   "cell_type": "markdown",
   "id": "a63cfbd1",
   "metadata": {},
   "source": [
    "### Slicing"
   ]
  },
  {
   "cell_type": "markdown",
   "id": "61e4f79f",
   "metadata": {},
   "source": [
    "Strings also support slicing, which allows you to extract a portion of a string. Slicing uses the syntax **[start:stop:step]**, where start is the starting index, stop is the ending index (exclusive), and step is the increment"
   ]
  },
  {
   "cell_type": "markdown",
   "id": "6a093359",
   "metadata": {},
   "source": [
    "String slicing in Python allows you to extract a portion of a string by specifying a range of indices. It provides a way to create a new string that contains only a subset of the original string. The syntax for string slicing is [start:stop:step].\n",
    "\n",
    "1. **start** represents the starting index of the slice (inclusive).\n",
    "2. **stop** represents the ending index of the slice (exclusive).\n",
    "3. **step** represents the increment/Decrement between indices (optional)."
   ]
  },
  {
   "cell_type": "markdown",
   "id": "f9e5307c",
   "metadata": {},
   "source": [
    "\n",
    "**variable_name [Start : Stop : Step]**"
   ]
  },
  {
   "cell_type": "code",
   "execution_count": 1,
   "id": "3c7e8eae",
   "metadata": {},
   "outputs": [],
   "source": [
    "name = \"Hello World\"  "
   ]
  },
  {
   "cell_type": "code",
   "execution_count": 82,
   "id": "b6b080c9",
   "metadata": {},
   "outputs": [
    {
     "data": {
      "text/plain": [
       "'Hell'"
      ]
     },
     "execution_count": 82,
     "metadata": {},
     "output_type": "execute_result"
    }
   ],
   "source": [
    "name[0:4]"
   ]
  },
  {
   "cell_type": "code",
   "execution_count": 83,
   "id": "74cb55a1",
   "metadata": {},
   "outputs": [
    {
     "data": {
      "text/plain": [
       "'o W'"
      ]
     },
     "execution_count": 83,
     "metadata": {},
     "output_type": "execute_result"
    }
   ],
   "source": [
    "name[4:7]   #O W"
   ]
  },
  {
   "cell_type": "code",
   "execution_count": 12,
   "id": "9db66c3e",
   "metadata": {},
   "outputs": [
    {
     "data": {
      "text/plain": [
       "'World'"
      ]
     },
     "execution_count": 12,
     "metadata": {},
     "output_type": "execute_result"
    }
   ],
   "source": [
    "name[6:11] #forward slicing  #dlro"
   ]
  },
  {
   "cell_type": "code",
   "execution_count": 14,
   "id": "7cdebdce",
   "metadata": {},
   "outputs": [
    {
     "data": {
      "text/plain": [
       "'or'"
      ]
     },
     "execution_count": 14,
     "metadata": {},
     "output_type": "execute_result"
    }
   ],
   "source": [
    "name[7:9]"
   ]
  },
  {
   "cell_type": "code",
   "execution_count": 15,
   "id": "f8995bd2",
   "metadata": {},
   "outputs": [
    {
     "data": {
      "text/plain": [
       "'Hello World'"
      ]
     },
     "execution_count": 15,
     "metadata": {},
     "output_type": "execute_result"
    }
   ],
   "source": [
    "name"
   ]
  },
  {
   "cell_type": "code",
   "execution_count": 18,
   "id": "57865fa2",
   "metadata": {},
   "outputs": [
    {
     "data": {
      "text/plain": [
       "'World'"
      ]
     },
     "execution_count": 18,
     "metadata": {},
     "output_type": "execute_result"
    }
   ],
   "source": [
    "name[6:11]"
   ]
  },
  {
   "cell_type": "code",
   "execution_count": 19,
   "id": "d79da3b6",
   "metadata": {},
   "outputs": [
    {
     "data": {
      "text/plain": [
       "'World'"
      ]
     },
     "execution_count": 19,
     "metadata": {},
     "output_type": "execute_result"
    }
   ],
   "source": [
    "name[6:11:1]"
   ]
  },
  {
   "cell_type": "code",
   "execution_count": 20,
   "id": "e429051a",
   "metadata": {},
   "outputs": [
    {
     "data": {
      "text/plain": [
       "'oW'"
      ]
     },
     "execution_count": 20,
     "metadata": {},
     "output_type": "execute_result"
    }
   ],
   "source": [
    "name[4:8:2]"
   ]
  },
  {
   "cell_type": "code",
   "execution_count": 21,
   "id": "48ce24b9",
   "metadata": {},
   "outputs": [
    {
     "data": {
      "text/plain": [
       "'HloWrd'"
      ]
     },
     "execution_count": 21,
     "metadata": {},
     "output_type": "execute_result"
    }
   ],
   "source": [
    "name[0:11:2]"
   ]
  },
  {
   "cell_type": "code",
   "execution_count": 22,
   "id": "664b2d7e",
   "metadata": {},
   "outputs": [
    {
     "data": {
      "text/plain": [
       "'HloWrd'"
      ]
     },
     "execution_count": 22,
     "metadata": {},
     "output_type": "execute_result"
    }
   ],
   "source": [
    "name[:11:2]"
   ]
  },
  {
   "cell_type": "code",
   "execution_count": 23,
   "id": "aabd6f25",
   "metadata": {},
   "outputs": [
    {
     "data": {
      "text/plain": [
       "'HloWrd'"
      ]
     },
     "execution_count": 23,
     "metadata": {},
     "output_type": "execute_result"
    }
   ],
   "source": [
    "name[::2]"
   ]
  },
  {
   "cell_type": "code",
   "execution_count": 24,
   "id": "29e087e8",
   "metadata": {},
   "outputs": [
    {
     "data": {
      "text/plain": [
       "'HlWl'"
      ]
     },
     "execution_count": 24,
     "metadata": {},
     "output_type": "execute_result"
    }
   ],
   "source": [
    "name[::3]  #Hello World  hlwl"
   ]
  },
  {
   "cell_type": "code",
   "execution_count": 25,
   "id": "b0c73fdb",
   "metadata": {},
   "outputs": [
    {
     "data": {
      "text/plain": [
       "'roW ol'"
      ]
     },
     "execution_count": 25,
     "metadata": {},
     "output_type": "execute_result"
    }
   ],
   "source": [
    "name[-3:-9:-1]"
   ]
  },
  {
   "cell_type": "code",
   "execution_count": 26,
   "id": "910e4211",
   "metadata": {},
   "outputs": [
    {
     "data": {
      "text/plain": [
       "' Wo'"
      ]
     },
     "execution_count": 26,
     "metadata": {},
     "output_type": "execute_result"
    }
   ],
   "source": [
    "name[-6:-3:1]"
   ]
  },
  {
   "cell_type": "code",
   "execution_count": null,
   "id": "d685a86f",
   "metadata": {},
   "outputs": [],
   "source": [
    "#revrse the string"
   ]
  },
  {
   "cell_type": "code",
   "execution_count": 28,
   "id": "f9080b53",
   "metadata": {},
   "outputs": [
    {
     "data": {
      "text/plain": [
       "'dlroW olleH'"
      ]
     },
     "execution_count": 28,
     "metadata": {},
     "output_type": "execute_result"
    }
   ],
   "source": [
    "name[-1:-12:-1]"
   ]
  },
  {
   "cell_type": "code",
   "execution_count": 29,
   "id": "8d12b4bb",
   "metadata": {},
   "outputs": [
    {
     "data": {
      "text/plain": [
       "'dlroW olleH'"
      ]
     },
     "execution_count": 29,
     "metadata": {},
     "output_type": "execute_result"
    }
   ],
   "source": [
    "name[::-1]"
   ]
  },
  {
   "cell_type": "code",
   "execution_count": null,
   "id": "519a167f",
   "metadata": {},
   "outputs": [],
   "source": []
  }
 ],
 "metadata": {
  "kernelspec": {
   "display_name": "Python 3 (ipykernel)",
   "language": "python",
   "name": "python3"
  },
  "language_info": {
   "codemirror_mode": {
    "name": "ipython",
    "version": 3
   },
   "file_extension": ".py",
   "mimetype": "text/x-python",
   "name": "python",
   "nbconvert_exporter": "python",
   "pygments_lexer": "ipython3",
   "version": "3.11.2"
  }
 },
 "nbformat": 4,
 "nbformat_minor": 5
}
