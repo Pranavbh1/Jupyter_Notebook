{
 "cells": [
  {
   "cell_type": "markdown",
   "id": "d006d3b3",
   "metadata": {},
   "source": [
    "In Python, a for loop is a control flow statement used to iterate over a sequence of elements. It allows you to perform a specific set of actions repeatedly for each item in the sequence, such as a list, tuple, string, or any other iterable object."
   ]
  },
  {
   "cell_type": "markdown",
   "id": "25e92bb9",
   "metadata": {},
   "source": [
    "#### Synatx"
   ]
  },
  {
   "cell_type": "raw",
   "id": "c71d02ca",
   "metadata": {},
   "source": [
    "for item in sequence:\n",
    "    # Code block to be executed\n"
   ]
  },
  {
   "cell_type": "code",
   "execution_count": 3,
   "id": "9d441a96",
   "metadata": {},
   "outputs": [
    {
     "name": "stdout",
     "output_type": "stream",
     "text": [
      "Hello\n"
     ]
    },
    {
     "ename": "TypeError",
     "evalue": "unsupported operand type(s) for *: 'NoneType' and 'int'",
     "output_type": "error",
     "traceback": [
      "\u001b[1;31m---------------------------------------------------------------------------\u001b[0m",
      "\u001b[1;31mTypeError\u001b[0m                                 Traceback (most recent call last)",
      "Cell \u001b[1;32mIn[3], line 1\u001b[0m\n\u001b[1;32m----> 1\u001b[0m \u001b[38;5;28mprint\u001b[39m(\u001b[38;5;124m\"\u001b[39m\u001b[38;5;124mHello\u001b[39m\u001b[38;5;124m\"\u001b[39m ) \u001b[38;5;241m*\u001b[39m\u001b[38;5;241m10\u001b[39m\n",
      "\u001b[1;31mTypeError\u001b[0m: unsupported operand type(s) for *: 'NoneType' and 'int'"
     ]
    }
   ],
   "source": [
    "print(\"Hello\" ) *10"
   ]
  },
  {
   "cell_type": "code",
   "execution_count": 4,
   "id": "58fd32b7",
   "metadata": {},
   "outputs": [
    {
     "name": "stdout",
     "output_type": "stream",
     "text": [
      "hello\n",
      "hello\n",
      "hello\n",
      "hello\n",
      "hello\n",
      "hello\n",
      "hello\n",
      "hello\n",
      "hello\n",
      "hello\n"
     ]
    }
   ],
   "source": [
    "for i in range(0,10):\n",
    "    print(\"hello\")"
   ]
  },
  {
   "cell_type": "code",
   "execution_count": 6,
   "id": "b88ebd9a",
   "metadata": {},
   "outputs": [
    {
     "name": "stdout",
     "output_type": "stream",
     "text": [
      "1\n",
      "2\n",
      "3\n",
      "4\n",
      "5\n",
      "6\n",
      "7\n",
      "8\n",
      "9\n",
      "10\n"
     ]
    }
   ],
   "source": [
    "for i in range(1,11):\n",
    "    print(i)"
   ]
  },
  {
   "cell_type": "code",
   "execution_count": 7,
   "id": "4a74879e",
   "metadata": {},
   "outputs": [
    {
     "name": "stdout",
     "output_type": "stream",
     "text": [
      "h\n",
      "e\n",
      "l\n",
      "l\n",
      "o\n",
      " \n",
      "w\n",
      "o\n",
      "r\n",
      "l\n",
      "d\n"
     ]
    }
   ],
   "source": [
    "a = \"hello world\"\n",
    "for i in a:\n",
    "    print(i)"
   ]
  },
  {
   "cell_type": "code",
   "execution_count": 8,
   "id": "a59db8f9",
   "metadata": {},
   "outputs": [
    {
     "name": "stdout",
     "output_type": "stream",
     "text": [
      "10\n",
      "12\n",
      "14\n",
      "16\n",
      "13\n",
      "15\n",
      "25\n",
      "78\n"
     ]
    }
   ],
   "source": [
    "val = [10,12,14,16,13,15,25,78]\n",
    "for i in val:\n",
    "    print(i)"
   ]
  },
  {
   "cell_type": "code",
   "execution_count": 9,
   "id": "1893bfc1",
   "metadata": {},
   "outputs": [
    {
     "name": "stdout",
     "output_type": "stream",
     "text": [
      "29\n",
      "31\n",
      "72\n",
      "50\n",
      "42\n",
      "72\n"
     ]
    }
   ],
   "source": [
    "marks = [24,26,67,45,37,67]\n",
    "for i in marks:\n",
    "    print(i+5)"
   ]
  },
  {
   "cell_type": "code",
   "execution_count": 15,
   "id": "210cb8ba",
   "metadata": {},
   "outputs": [
    {
     "name": "stdout",
     "output_type": "stream",
     "text": [
      "24*26*76*8*"
     ]
    }
   ],
   "source": [
    "marks = [24,26,67,45,37,67,76,8,45]\n",
    "for i in marks:\n",
    "    if i%2 == 0:\n",
    "        print(i,end ='*')\n",
    "    "
   ]
  },
  {
   "cell_type": "code",
   "execution_count": 19,
   "id": "9fa4464e",
   "metadata": {},
   "outputs": [
    {
     "name": "stdout",
     "output_type": "stream",
     "text": [
      "*nn*m*t*cs R*s**rch L*bs"
     ]
    }
   ],
   "source": [
    "#Innomatics research labs as input and replace vowel with * \n",
    "\n",
    "name = \"Innomatics Research Labs\"\n",
    "vowels = ['a','e','i','o','u','A','E','I','O','U']\n",
    "\n",
    "for i in name:\n",
    "    if i in vowels:\n",
    "        print('*',end = '')\n",
    "    else:\n",
    "        print(i,end ='')"
   ]
  },
  {
   "cell_type": "code",
   "execution_count": null,
   "id": "c9e69e60",
   "metadata": {},
   "outputs": [],
   "source": []
  }
 ],
 "metadata": {
  "kernelspec": {
   "display_name": "Python 3 (ipykernel)",
   "language": "python",
   "name": "python3"
  },
  "language_info": {
   "codemirror_mode": {
    "name": "ipython",
    "version": 3
   },
   "file_extension": ".py",
   "mimetype": "text/x-python",
   "name": "python",
   "nbconvert_exporter": "python",
   "pygments_lexer": "ipython3",
   "version": "3.11.2"
  }
 },
 "nbformat": 4,
 "nbformat_minor": 5
}
