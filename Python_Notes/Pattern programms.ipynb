{
 "cells": [
  {
   "cell_type": "markdown",
   "id": "70652a3c",
   "metadata": {},
   "source": [
    "Pattern programming in Python involves creating various patterns using loops and other programming constructs. These patterns can be formed using symbols, numbers, or any other characters. Let's go through some common pattern examples step-by-step:"
   ]
  },
  {
   "cell_type": "code",
   "execution_count": 2,
   "id": "5a5181a6",
   "metadata": {},
   "outputs": [
    {
     "name": "stdout",
     "output_type": "stream",
     "text": [
      "Enter no of rows: 6\n",
      "0\n",
      "1\n",
      "2\n",
      "3\n",
      "4\n",
      "5\n"
     ]
    }
   ],
   "source": [
    "n = int(input(\"Enter no of rows: \"))\n",
    "for i in range(n):\n",
    "    print(\"*\"i)    #repetetion"
   ]
  },
  {
   "cell_type": "code",
   "execution_count": 9,
   "id": "a53c559e",
   "metadata": {},
   "outputs": [
    {
     "name": "stdout",
     "output_type": "stream",
     "text": [
      "enter no of rows10\n",
      "\n",
      "   *\n",
      "   *   *\n",
      "   *   *   *\n",
      "   *   *   *   *\n",
      "   *   *   *   *   *\n",
      "   *   *   *   *   *   *\n",
      "   *   *   *   *   *   *   *\n",
      "   *   *   *   *   *   *   *   *\n",
      "   *   *   *   *   *   *   *   *   *\n"
     ]
    }
   ],
   "source": [
    "n = int(input(\"enter no of rows\"))\n",
    "for i in range(n):\n",
    "    print('   *'*i)"
   ]
  },
  {
   "cell_type": "code",
   "execution_count": 13,
   "id": "e7a4e547",
   "metadata": {},
   "outputs": [
    {
     "name": "stdout",
     "output_type": "stream",
     "text": [
      "enter no of rows4\n",
      "\n",
      " 1\n",
      " 2 2\n",
      " 3 3 3\n",
      " 4 4 4 4\n"
     ]
    }
   ],
   "source": [
    "n = int(input(\"enter no of rows\"))\n",
    "for i in range(n+1):\n",
    "    print(f' {i}'*i)"
   ]
  },
  {
   "cell_type": "code",
   "execution_count": 15,
   "id": "507faec3",
   "metadata": {},
   "outputs": [
    {
     "name": "stdout",
     "output_type": "stream",
     "text": [
      "enter no of rows5\n",
      "\n",
      " a\n",
      " a a\n",
      " a a a\n",
      " a a a a\n",
      " a a a a a\n"
     ]
    }
   ],
   "source": [
    "n = int(input(\"enter no of rows\"))\n",
    "for i in range(n+1):\n",
    "    print(' a'*i)"
   ]
  },
  {
   "cell_type": "code",
   "execution_count": 18,
   "id": "92b67e0a",
   "metadata": {},
   "outputs": [
    {
     "name": "stdout",
     "output_type": "stream",
     "text": [
      "   *   *   *   *   *\n",
      "   *   *   *   *\n",
      "   *   *   *\n",
      "   *   *\n",
      "   *\n"
     ]
    }
   ],
   "source": [
    "#n = int(input(\"enter no of rows\"))\n",
    "for i in range(5):\n",
    "    print('   *'*(5-i))#range(5): 0,1,2,3,4\n"
   ]
  },
  {
   "cell_type": "code",
   "execution_count": 99,
   "id": "17305e09",
   "metadata": {},
   "outputs": [],
   "source": [
    "def triangle(n):\n",
    "    for i in range(n):  \n",
    "        print(' '*(n-i-1)+' *'*(i+1))"
   ]
  },
  {
   "cell_type": "code",
   "execution_count": 100,
   "id": "c61a9eea",
   "metadata": {},
   "outputs": [
    {
     "name": "stdout",
     "output_type": "stream",
     "text": [
      "      *\n",
      "     * *\n",
      "    * * *\n",
      "   * * * *\n",
      "  * * * * *\n",
      " * * * * * *\n"
     ]
    }
   ],
   "source": [
    "triangle(6)"
   ]
  },
  {
   "cell_type": "code",
   "execution_count": 101,
   "id": "a39cd33e",
   "metadata": {},
   "outputs": [
    {
     "name": "stdout",
     "output_type": "stream",
     "text": [
      "               *\n",
      "              * *\n",
      "             * * *\n",
      "            * * * *\n",
      "           * * * * *\n",
      "          * * * * * *\n",
      "         * * * * * * *\n",
      "        * * * * * * * *\n",
      "       * * * * * * * * *\n",
      "      * * * * * * * * * *\n",
      "     * * * * * * * * * * *\n",
      "    * * * * * * * * * * * *\n",
      "   * * * * * * * * * * * * *\n",
      "  * * * * * * * * * * * * * *\n",
      " * * * * * * * * * * * * * * *\n"
     ]
    }
   ],
   "source": [
    "triangle(15)"
   ]
  },
  {
   "cell_type": "code",
   "execution_count": 33,
   "id": "5bc7bd29",
   "metadata": {},
   "outputs": [
    {
     "name": "stdout",
     "output_type": "stream",
     "text": [
      "     a\n",
      "    a a\n",
      "   a a a\n",
      "  a a a a\n",
      " a a a a a\n"
     ]
    }
   ],
   "source": [
    "for i in range(5):  #n=5   #i :2\n",
    "    print(' '*(n-i-1)+' a'*(i+1))"
   ]
  },
  {
   "cell_type": "code",
   "execution_count": 37,
   "id": "a4c7e5b5",
   "metadata": {},
   "outputs": [
    {
     "name": "stdout",
     "output_type": "stream",
     "text": [
      " * * * * *\n",
      "  * * * *\n",
      "   * * *\n",
      "    * *\n",
      "     *\n"
     ]
    }
   ],
   "source": [
    "for i in range(5,0,-1):  #n=5   #i :4,3,2,1\n",
    "    print(' '*(n-i)+' *'*(i))"
   ]
  },
  {
   "cell_type": "code",
   "execution_count": 102,
   "id": "bda6b662",
   "metadata": {},
   "outputs": [],
   "source": [
    "def rhombus(n):\n",
    "    for i in range(n):  # n=5   #i :2\n",
    "        print('  '*(n-i)+' *'*(2*i-1))\n",
    "    for i in range(n-1,0,-1):  #n=5   #i :2\n",
    "        print('  '*(n-i)+' *'*(2*i-1))"
   ]
  },
  {
   "cell_type": "code",
   "execution_count": 103,
   "id": "7c6feb25",
   "metadata": {},
   "outputs": [
    {
     "name": "stdout",
     "output_type": "stream",
     "text": [
      "            \n",
      "           *\n",
      "         * * *\n",
      "       * * * * *\n",
      "     * * * * * * *\n",
      "   * * * * * * * * *\n",
      "   * * * * * * * * *\n",
      "     * * * * * * *\n",
      "       * * * * *\n",
      "         * * *\n",
      "           *\n"
     ]
    }
   ],
   "source": [
    "rhombus(6)"
   ]
  },
  {
   "cell_type": "code",
   "execution_count": 87,
   "id": "1434abcb",
   "metadata": {},
   "outputs": [
    {
     "name": "stdout",
     "output_type": "stream",
     "text": [
      "Enter row:5\n",
      "1 \n",
      "1 2 \n",
      "1 2 3 \n",
      "1 2 3 4 \n",
      "1 2 3 4 5 \n"
     ]
    }
   ],
   "source": [
    "n = int(input(\"Enter row:\"))\n",
    "for i in range(1,n+1):\n",
    "    for j in range(1,i+1):\n",
    "        print(j,end = ' ')\n",
    "    print()"
   ]
  },
  {
   "cell_type": "code",
   "execution_count": 106,
   "id": "719b4b33",
   "metadata": {},
   "outputs": [],
   "source": [
    "def pascal(n):\n",
    "    for i in range(1,n+1):\n",
    "        num = 1\n",
    "        for j in range(1,n-1+1):\n",
    "            print(\" \",end = ' ')\n",
    "        for k in range(1,i+1):\n",
    "            print(num,end =\" \")\n",
    "            num = num *(i-k) //k\n",
    "        print()"
   ]
  },
  {
   "cell_type": "code",
   "execution_count": 107,
   "id": "728e76d0",
   "metadata": {},
   "outputs": [
    {
     "name": "stdout",
     "output_type": "stream",
     "text": [
      "        1 \n",
      "        1 1 \n",
      "        1 2 1 \n",
      "        1 3 3 1 \n",
      "        1 4 6 4 1 \n"
     ]
    }
   ],
   "source": [
    "pascal(5)"
   ]
  },
  {
   "cell_type": "code",
   "execution_count": 1,
   "id": "a75a9142",
   "metadata": {},
   "outputs": [
    {
     "name": "stdout",
     "output_type": "stream",
     "text": [
      "*****\n",
      "*   *\n",
      "*   *\n",
      "*   *\n",
      "*****\n"
     ]
    }
   ],
   "source": [
    "def hollow_square_pattern(n):\n",
    "    for i in range(n):\n",
    "        if i == 0 or i == n - 1:\n",
    "            print('*' * n)\n",
    "        else:\n",
    "            print('*' + ' ' * (n - 2) + '*')\n",
    "\n",
    "hollow_square_pattern(5)\n"
   ]
  },
  {
   "cell_type": "code",
   "execution_count": 3,
   "id": "73fec993",
   "metadata": {},
   "outputs": [
    {
     "name": "stdout",
     "output_type": "stream",
     "text": [
      "     1 \n",
      "    1 1 \n",
      "   1 2 1 \n",
      "  1 3 3 1 \n",
      " 1 4 6 4 1 \n"
     ]
    }
   ],
   "source": [
    "def pascals_triangle(n):\n",
    "    for i in range(n):\n",
    "        for j in range(n - i):\n",
    "            print(\" \", end=\"\")\n",
    "        for j in range(i + 1):\n",
    "            print(binomial_coefficient(i, j), end=\" \")\n",
    "        print()\n",
    "\n",
    "def binomial_coefficient(n, k):\n",
    "    if k == 0 or k == n:\n",
    "        return 1\n",
    "    else:\n",
    "        return binomial_coefficient(n - 1, k - 1) + binomial_coefficient(n - 1, k)\n",
    "\n",
    "pascals_triangle(5)\n",
    "\n"
   ]
  },
  {
   "cell_type": "code",
   "execution_count": null,
   "id": "ec99797b",
   "metadata": {},
   "outputs": [],
   "source": []
  }
 ],
 "metadata": {
  "kernelspec": {
   "display_name": "Python 3 (ipykernel)",
   "language": "python",
   "name": "python3"
  },
  "language_info": {
   "codemirror_mode": {
    "name": "ipython",
    "version": 3
   },
   "file_extension": ".py",
   "mimetype": "text/x-python",
   "name": "python",
   "nbconvert_exporter": "python",
   "pygments_lexer": "ipython3",
   "version": "3.10.9"
  }
 },
 "nbformat": 4,
 "nbformat_minor": 5
}
