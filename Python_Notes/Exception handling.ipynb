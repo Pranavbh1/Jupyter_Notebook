{
 "cells": [
  {
   "cell_type": "markdown",
   "id": "ea859c6f",
   "metadata": {},
   "source": [
    "Exception handling in Python allows you to deal with errors or exceptional situations that may occur during the execution of a program. When an error occurs, it raises an exception, which, if not handled properly, can cause the program to terminate abruptly. By using exception handling, you can catch these exceptions and gracefully handle them, preventing the program from crashing and providing meaningful feedback to the user.\n",
    "\n",
    "In Python, exception handling is achieved using `try`, `except`, `else`, and `finally` blocks. The basic structure of a try-except block is as follows:\n",
    "\n",
    "```python\n",
    "try:\n",
    "    # Code that might raise an exception\n",
    "except SomeExceptionType:\n",
    "    # Code to handle the exception\n",
    "```\n",
    "\n",
    "Here's how it works:\n",
    "\n",
    "1. The code inside the `try` block is executed.\n",
    "2. If an exception occurs during the execution of the `try` block, Python immediately jumps to the corresponding `except` block that handles that specific exception.\n",
    "3. If no exception occurs, the `except` block is skipped, and the code inside the `else` block (if present) will be executed.\n",
    "4. The `finally` block (if present) is always executed, regardless of whether an exception occurred or not. It is typically used to perform cleanup actions.\n",
    "\n",
    "Let's see some examples of exception handling:\n",
    "\n",
    "1. Handling a specific exception:\n",
    "\n",
    "```python\n",
    "try:\n",
    "    num1 = int(input(\"Enter a number: \"))\n",
    "    num2 = int(input(\"Enter another number: \"))\n",
    "    result = num1 / num2\n",
    "    print(\"Result:\", result)\n",
    "except ZeroDivisionError:\n",
    "    print(\"Error: Cannot divide by zero.\")\n",
    "except ValueError:\n",
    "    print(\"Error: Invalid input. Please enter a valid number.\")\n",
    "```\n",
    "\n",
    "2. Handling multiple exceptions with one block:\n",
    "\n",
    "```python\n",
    "try:\n",
    "    # Some code that may raise different exceptions\n",
    "except (TypeError, ValueError) as e:\n",
    "    print(\"Error:\", e)\n",
    "```\n",
    "\n",
    "3. Using the `else` block (executed if no exception occurs):\n",
    "\n",
    "```python\n",
    "try:\n",
    "    file = open(\"example.txt\", \"r\")\n",
    "    content = file.read()\n",
    "except FileNotFoundError:\n",
    "    print(\"Error: File not found.\")\n",
    "else:\n",
    "    print(\"File contents:\", content)\n",
    "    file.close()\n",
    "```\n",
    "\n",
    "4. Using the `finally` block:\n",
    "\n",
    "```python\n",
    "try:\n",
    "    # Some code that may raise an exception\n",
    "except SomeExceptionType:\n",
    "    # Code to handle the exception\n",
    "finally:\n",
    "    # Code that will always run, regardless of an exception\n",
    "```\n",
    "\n",
    "5. Raising custom exceptions:\n",
    "\n",
    "```python\n",
    "def validate_age(age):\n",
    "    if age < 0:\n",
    "        raise ValueError(\"Age cannot be negative.\")\n",
    "    return age\n",
    "\n",
    "try:\n",
    "    user_age = int(input(\"Enter your age: \"))\n",
    "    valid_age = validate_age(user_age)\n",
    "    print(\"Your age is:\", valid_age)\n",
    "except ValueError as ve:\n",
    "    print(\"Error:\", ve)\n",
    "```\n",
    "\n",
    "Exception handling is essential in Python to make your programs more robust and user-friendly. It allows you to gracefully recover from errors and continue the execution of your code, providing a better user experience. Remember to handle specific exceptions and provide meaningful error messages to guide users in resolving issues."
   ]
  },
  {
   "cell_type": "code",
   "execution_count": 3,
   "id": "e7287e41",
   "metadata": {
    "collapsed": true
   },
   "outputs": [
    {
     "ename": "SyntaxError",
     "evalue": "invalid syntax. Maybe you meant '==' or ':=' instead of '='? (98162523.py, line 3)",
     "output_type": "error",
     "traceback": [
      "\u001b[1;36m  Cell \u001b[1;32mIn[3], line 3\u001b[1;36m\u001b[0m\n\u001b[1;33m    if a=10:\u001b[0m\n\u001b[1;37m       ^\u001b[0m\n\u001b[1;31mSyntaxError\u001b[0m\u001b[1;31m:\u001b[0m invalid syntax. Maybe you meant '==' or ':=' instead of '='?\n"
     ]
    }
   ],
   "source": [
    "a = 10\n",
    "\n",
    "if a=10:\n",
    "    print(\"hello\")\n",
    "else:\n",
    "    print(\"Bye\")"
   ]
  },
  {
   "cell_type": "code",
   "execution_count": 6,
   "id": "36b17aef",
   "metadata": {},
   "outputs": [
    {
     "name": "stdout",
     "output_type": "stream",
     "text": [
      "Hello\n"
     ]
    }
   ],
   "source": [
    "print(\"Hello\")"
   ]
  },
  {
   "cell_type": "code",
   "execution_count": 8,
   "id": "3e091620",
   "metadata": {},
   "outputs": [
    {
     "ename": "TypeError",
     "evalue": "can only concatenate str (not \"int\") to str",
     "output_type": "error",
     "traceback": [
      "\u001b[1;31m---------------------------------------------------------------------------\u001b[0m",
      "\u001b[1;31mTypeError\u001b[0m                                 Traceback (most recent call last)",
      "Cell \u001b[1;32mIn[8], line 2\u001b[0m\n\u001b[0;32m      1\u001b[0m a \u001b[38;5;241m=\u001b[39m \u001b[38;5;124m\"\u001b[39m\u001b[38;5;124mhello\u001b[39m\u001b[38;5;124m\"\u001b[39m\n\u001b[1;32m----> 2\u001b[0m a \u001b[38;5;241m+\u001b[39m \u001b[38;5;241m3\u001b[39m\n",
      "\u001b[1;31mTypeError\u001b[0m: can only concatenate str (not \"int\") to str"
     ]
    }
   ],
   "source": [
    "a = \"hello\"\n",
    "a + 3"
   ]
  },
  {
   "cell_type": "code",
   "execution_count": 12,
   "id": "1a8e1e13",
   "metadata": {},
   "outputs": [
    {
     "ename": "TypeError",
     "evalue": "unsupported operand type(s) for /: 'int' and 'str'",
     "output_type": "error",
     "traceback": [
      "\u001b[1;31m---------------------------------------------------------------------------\u001b[0m",
      "\u001b[1;31mTypeError\u001b[0m                                 Traceback (most recent call last)",
      "Cell \u001b[1;32mIn[12], line 2\u001b[0m\n\u001b[0;32m      1\u001b[0m a \u001b[38;5;241m=\u001b[39m \u001b[38;5;241m10\u001b[39m\n\u001b[1;32m----> 2\u001b[0m a \u001b[38;5;241m/\u001b[39m \u001b[38;5;124m'\u001b[39m\u001b[38;5;124mTrue\u001b[39m\u001b[38;5;124m'\u001b[39m\n",
      "\u001b[1;31mTypeError\u001b[0m: unsupported operand type(s) for /: 'int' and 'str'"
     ]
    }
   ],
   "source": [
    "a = 10\n",
    "a / 'True'"
   ]
  },
  {
   "cell_type": "markdown",
   "id": "01b1ff38",
   "metadata": {},
   "source": [
    "### Runtime Error"
   ]
  },
  {
   "cell_type": "code",
   "execution_count": 14,
   "id": "12c9d14a",
   "metadata": {},
   "outputs": [
    {
     "name": "stdout",
     "output_type": "stream",
     "text": [
      "Enter a number: 4\n",
      "Enter another number: two\n"
     ]
    },
    {
     "ename": "ValueError",
     "evalue": "invalid literal for int() with base 10: 'two'",
     "output_type": "error",
     "traceback": [
      "\u001b[1;31m---------------------------------------------------------------------------\u001b[0m",
      "\u001b[1;31mValueError\u001b[0m                                Traceback (most recent call last)",
      "Cell \u001b[1;32mIn[14], line 2\u001b[0m\n\u001b[0;32m      1\u001b[0m a \u001b[38;5;241m=\u001b[39m \u001b[38;5;28mint\u001b[39m(\u001b[38;5;28minput\u001b[39m(\u001b[38;5;124m\"\u001b[39m\u001b[38;5;124mEnter a number: \u001b[39m\u001b[38;5;124m\"\u001b[39m))\n\u001b[1;32m----> 2\u001b[0m b \u001b[38;5;241m=\u001b[39m \u001b[38;5;28mint\u001b[39m(\u001b[38;5;28minput\u001b[39m(\u001b[38;5;124m\"\u001b[39m\u001b[38;5;124mEnter another number: \u001b[39m\u001b[38;5;124m\"\u001b[39m))\n\u001b[0;32m      3\u001b[0m \u001b[38;5;28mprint\u001b[39m(a\u001b[38;5;241m+\u001b[39mb)\n",
      "\u001b[1;31mValueError\u001b[0m: invalid literal for int() with base 10: 'two'"
     ]
    }
   ],
   "source": [
    "a = int(input(\"Enter a number: \"))\n",
    "b = int(input(\"Enter another number: \"))\n",
    "print(a+b)"
   ]
  },
  {
   "cell_type": "code",
   "execution_count": 16,
   "id": "b51ea366",
   "metadata": {},
   "outputs": [
    {
     "name": "stdout",
     "output_type": "stream",
     "text": [
      "First line\n",
      "***********************************\n",
      "Enter a number: 3\n",
      "Enter another number: Two\n"
     ]
    },
    {
     "ename": "ValueError",
     "evalue": "invalid literal for int() with base 10: 'Two'",
     "output_type": "error",
     "traceback": [
      "\u001b[1;31m---------------------------------------------------------------------------\u001b[0m",
      "\u001b[1;31mValueError\u001b[0m                                Traceback (most recent call last)",
      "Cell \u001b[1;32mIn[16], line 5\u001b[0m\n\u001b[0;32m      2\u001b[0m \u001b[38;5;28mprint\u001b[39m(\u001b[38;5;124m\"\u001b[39m\u001b[38;5;124m***********************************\u001b[39m\u001b[38;5;124m\"\u001b[39m)\n\u001b[0;32m      4\u001b[0m a \u001b[38;5;241m=\u001b[39m \u001b[38;5;28mint\u001b[39m(\u001b[38;5;28minput\u001b[39m(\u001b[38;5;124m\"\u001b[39m\u001b[38;5;124mEnter a number: \u001b[39m\u001b[38;5;124m\"\u001b[39m))\n\u001b[1;32m----> 5\u001b[0m b \u001b[38;5;241m=\u001b[39m \u001b[38;5;28mint\u001b[39m(\u001b[38;5;28minput\u001b[39m(\u001b[38;5;124m\"\u001b[39m\u001b[38;5;124mEnter another number: \u001b[39m\u001b[38;5;124m\"\u001b[39m))\n\u001b[0;32m      6\u001b[0m \u001b[38;5;28mprint\u001b[39m(a\u001b[38;5;241m+\u001b[39mb)\n\u001b[0;32m      8\u001b[0m \u001b[38;5;28mprint\u001b[39m(\u001b[38;5;124m\"\u001b[39m\u001b[38;5;124maddition is done successfully\u001b[39m\u001b[38;5;124m\"\u001b[39m)\n",
      "\u001b[1;31mValueError\u001b[0m: invalid literal for int() with base 10: 'Two'"
     ]
    }
   ],
   "source": [
    "print(\"First line\")\n",
    "print(\"***********************************\")\n",
    "\n",
    "a = int(input(\"Enter a number: \"))\n",
    "b = int(input(\"Enter another number: \"))\n",
    "print(a+b)\n",
    "\n",
    "print(\"addition is done successfully\")\n",
    "print(\"***********************************\")"
   ]
  },
  {
   "cell_type": "code",
   "execution_count": null,
   "id": "5523690a",
   "metadata": {},
   "outputs": [],
   "source": [
    "#Risky code\n",
    "\n",
    "try:\n",
    "    #risky code\n",
    "except:\n",
    "    #Handling/alternative\n",
    "else:\n",
    "\n",
    "finally:"
   ]
  },
  {
   "cell_type": "code",
   "execution_count": 32,
   "id": "f68bc8fb",
   "metadata": {},
   "outputs": [
    {
     "name": "stdout",
     "output_type": "stream",
     "text": [
      "***********************************\n",
      "first number : 5\n",
      "Second number : 4.6\n",
      "Enter a valid number\n",
      "**************************************\n"
     ]
    }
   ],
   "source": [
    "print('***********************************')\n",
    "\n",
    "try:\n",
    "    a = int(input(\"first number : \"))\n",
    "    b = int(input(\"Second number : \"))\n",
    "    print(a/b)\n",
    "    \n",
    "except (ValueError,ZeroDivisionError) :\n",
    "    print(\"Enter a valid number\")\n",
    "\n",
    "print('**************************************')"
   ]
  },
  {
   "cell_type": "code",
   "execution_count": 37,
   "id": "47664bcd",
   "metadata": {},
   "outputs": [
    {
     "name": "stdout",
     "output_type": "stream",
     "text": [
      "first number : 5\n",
      "Second number : 0\n",
      "division by zero\n"
     ]
    }
   ],
   "source": [
    "try:\n",
    "    a = int(input(\"first number : \"))\n",
    "    b = int(input(\"Second number : \"))\n",
    "    print(a/b)\n",
    "    \n",
    "except Exception as msg :\n",
    "    print(msg)\n"
   ]
  },
  {
   "cell_type": "code",
   "execution_count": 38,
   "id": "851fcbc8",
   "metadata": {},
   "outputs": [
    {
     "name": "stdout",
     "output_type": "stream",
     "text": [
      "first number : 5\n",
      "Second number : 0\n"
     ]
    },
    {
     "ename": "ZeroDivisionError",
     "evalue": "division by zero",
     "output_type": "error",
     "traceback": [
      "\u001b[1;31m---------------------------------------------------------------------------\u001b[0m",
      "\u001b[1;31mZeroDivisionError\u001b[0m                         Traceback (most recent call last)",
      "Cell \u001b[1;32mIn[38], line 3\u001b[0m\n\u001b[0;32m      1\u001b[0m a \u001b[38;5;241m=\u001b[39m \u001b[38;5;28mint\u001b[39m(\u001b[38;5;28minput\u001b[39m(\u001b[38;5;124m\"\u001b[39m\u001b[38;5;124mfirst number : \u001b[39m\u001b[38;5;124m\"\u001b[39m))\n\u001b[0;32m      2\u001b[0m b \u001b[38;5;241m=\u001b[39m \u001b[38;5;28mint\u001b[39m(\u001b[38;5;28minput\u001b[39m(\u001b[38;5;124m\"\u001b[39m\u001b[38;5;124mSecond number : \u001b[39m\u001b[38;5;124m\"\u001b[39m))\n\u001b[1;32m----> 3\u001b[0m \u001b[38;5;28mprint\u001b[39m(a\u001b[38;5;241m/\u001b[39mb)\n",
      "\u001b[1;31mZeroDivisionError\u001b[0m: division by zero"
     ]
    }
   ],
   "source": [
    "a = int(input(\"first number : \"))\n",
    "b = int(input(\"Second number : \"))\n",
    "print(a/b)"
   ]
  },
  {
   "cell_type": "code",
   "execution_count": 53,
   "id": "745e4e5b",
   "metadata": {
    "scrolled": true
   },
   "outputs": [
    {
     "name": "stdout",
     "output_type": "stream",
     "text": [
      "first number : 5\n",
      "Second number : t\n",
      "invalid literal for int() with base 10: 't'\n",
      "exception handling is done successfully\n"
     ]
    }
   ],
   "source": [
    "try:\n",
    "    a = int(input(\"first number : \"))\n",
    "    b = int(input(\"Second number : \"))\n",
    "    print(a/b)\n",
    "    \n",
    "except Exception as msg :\n",
    "    print(msg)\n",
    "else:\n",
    "    print(\"There is no error occured during excecution\")\n",
    "    #else part will run only there is no exception\n",
    "finally:\n",
    "    print(\"exception handling is done successfully\")\n",
    "    #finally is exceuted irrespective of exception"
   ]
  },
  {
   "cell_type": "code",
   "execution_count": null,
   "id": "3a297b1f",
   "metadata": {},
   "outputs": [],
   "source": [
    "try:\n",
    "    a = int(input(\"first number : \"))\n",
    "    b = int(input(\"Second number : \"))\n",
    "    print(a/b)\n",
    "    \n",
    "except Exception as msg :\n",
    "    print(msg)\n",
    "else:\n",
    "    print(\"There is no error occured during excecution\")\n",
    "    #else part will run only there is no exception\n",
    "finally:\n",
    "    print(\"exception handling is done successfully\")\n",
    "    #finally is exceuted irrespective of exception"
   ]
  },
  {
   "cell_type": "code",
   "execution_count": 13,
   "id": "3fc84c6a",
   "metadata": {},
   "outputs": [],
   "source": [
    "def password():\n",
    "    pass1 = input(\"Enter your password\")\n",
    "    if len(pass1) < 8:\n",
    "        raise ValueError\n",
    "        \n",
    "    \n",
    "    else:\n",
    "        print(\"Password is correct\")"
   ]
  },
  {
   "cell_type": "code",
   "execution_count": 15,
   "id": "51173f6c",
   "metadata": {},
   "outputs": [
    {
     "name": "stdout",
     "output_type": "stream",
     "text": [
      "Enter your passworddewgd\n"
     ]
    },
    {
     "ename": "ValueError",
     "evalue": "",
     "output_type": "error",
     "traceback": [
      "\u001b[1;31m---------------------------------------------------------------------------\u001b[0m",
      "\u001b[1;31mValueError\u001b[0m                                Traceback (most recent call last)",
      "Cell \u001b[1;32mIn[15], line 1\u001b[0m\n\u001b[1;32m----> 1\u001b[0m password()\n",
      "Cell \u001b[1;32mIn[13], line 4\u001b[0m, in \u001b[0;36mpassword\u001b[1;34m()\u001b[0m\n\u001b[0;32m      2\u001b[0m pass1 \u001b[38;5;241m=\u001b[39m \u001b[38;5;28minput\u001b[39m(\u001b[38;5;124m\"\u001b[39m\u001b[38;5;124mEnter your password\u001b[39m\u001b[38;5;124m\"\u001b[39m)\n\u001b[0;32m      3\u001b[0m \u001b[38;5;28;01mif\u001b[39;00m \u001b[38;5;28mlen\u001b[39m(pass1) \u001b[38;5;241m<\u001b[39m \u001b[38;5;241m8\u001b[39m:\n\u001b[1;32m----> 4\u001b[0m     \u001b[38;5;28;01mraise\u001b[39;00m \u001b[38;5;167;01mValueError\u001b[39;00m\n\u001b[0;32m      7\u001b[0m \u001b[38;5;28;01melse\u001b[39;00m:\n\u001b[0;32m      8\u001b[0m     \u001b[38;5;28mprint\u001b[39m(\u001b[38;5;124m\"\u001b[39m\u001b[38;5;124mPassword is correct\u001b[39m\u001b[38;5;124m\"\u001b[39m)\n",
      "\u001b[1;31mValueError\u001b[0m: "
     ]
    }
   ],
   "source": [
    "password()"
   ]
  },
  {
   "cell_type": "code",
   "execution_count": 16,
   "id": "db396a4c",
   "metadata": {},
   "outputs": [
    {
     "name": "stdout",
     "output_type": "stream",
     "text": [
      "first number : 5\n",
      "Second number : 0\n"
     ]
    },
    {
     "ename": "ZeroDivisionError",
     "evalue": "division by zero",
     "output_type": "error",
     "traceback": [
      "\u001b[1;31m---------------------------------------------------------------------------\u001b[0m",
      "\u001b[1;31mZeroDivisionError\u001b[0m                         Traceback (most recent call last)",
      "Cell \u001b[1;32mIn[16], line 3\u001b[0m\n\u001b[0;32m      1\u001b[0m a \u001b[38;5;241m=\u001b[39m \u001b[38;5;28mint\u001b[39m(\u001b[38;5;28minput\u001b[39m(\u001b[38;5;124m\"\u001b[39m\u001b[38;5;124mfirst number : \u001b[39m\u001b[38;5;124m\"\u001b[39m))\n\u001b[0;32m      2\u001b[0m b \u001b[38;5;241m=\u001b[39m \u001b[38;5;28mint\u001b[39m(\u001b[38;5;28minput\u001b[39m(\u001b[38;5;124m\"\u001b[39m\u001b[38;5;124mSecond number : \u001b[39m\u001b[38;5;124m\"\u001b[39m))\n\u001b[1;32m----> 3\u001b[0m \u001b[38;5;28mprint\u001b[39m(a\u001b[38;5;241m/\u001b[39mb)\n",
      "\u001b[1;31mZeroDivisionError\u001b[0m: division by zero"
     ]
    }
   ],
   "source": [
    "\n",
    "a = int(input(\"first number : \"))\n",
    "b = int(input(\"Second number : \"))\n",
    "print(a/b)\n",
    "    \n"
   ]
  },
  {
   "cell_type": "code",
   "execution_count": 17,
   "id": "9192208f",
   "metadata": {},
   "outputs": [
    {
     "name": "stdout",
     "output_type": "stream",
     "text": [
      "first number : 5\n",
      "Second number : 0\n",
      "division by zero\n"
     ]
    }
   ],
   "source": [
    "try:\n",
    "    a = int(input(\"first number : \"))\n",
    "    b = int(input(\"Second number : \"))\n",
    "    print(a/b)\n",
    "    \n",
    "except Exception as msg :\n",
    "    print(msg)"
   ]
  },
  {
   "cell_type": "code",
   "execution_count": 18,
   "id": "58ffa23d",
   "metadata": {},
   "outputs": [],
   "source": [
    "import traceback"
   ]
  },
  {
   "cell_type": "code",
   "execution_count": 20,
   "id": "7df4f226",
   "metadata": {},
   "outputs": [
    {
     "name": "stdout",
     "output_type": "stream",
     "text": [
      "first number : 5\n",
      "Second number : 0\n",
      "None\n",
      "Exception handling\n"
     ]
    },
    {
     "name": "stderr",
     "output_type": "stream",
     "text": [
      "Traceback (most recent call last):\n",
      "  File \"C:\\Users\\LENOVO\\AppData\\Local\\Temp\\ipykernel_6256\\3592561743.py\", line 4, in <module>\n",
      "    print(a/b)\n",
      "          ~^~\n",
      "ZeroDivisionError: division by zero\n"
     ]
    }
   ],
   "source": [
    "try:\n",
    "    a = int(input(\"first number : \"))\n",
    "    b = int(input(\"Second number : \"))\n",
    "    print(a/b)\n",
    "    \n",
    "except :\n",
    "    print(traceback.print_exc())\n",
    "finally:\n",
    "    print(\"Exception handling\")"
   ]
  },
  {
   "cell_type": "code",
   "execution_count": null,
   "id": "0c10074e",
   "metadata": {},
   "outputs": [],
   "source": []
  }
 ],
 "metadata": {
  "kernelspec": {
   "display_name": "Python 3 (ipykernel)",
   "language": "python",
   "name": "python3"
  },
  "language_info": {
   "codemirror_mode": {
    "name": "ipython",
    "version": 3
   },
   "file_extension": ".py",
   "mimetype": "text/x-python",
   "name": "python",
   "nbconvert_exporter": "python",
   "pygments_lexer": "ipython3",
   "version": "3.11.2"
  }
 },
 "nbformat": 4,
 "nbformat_minor": 5
}
