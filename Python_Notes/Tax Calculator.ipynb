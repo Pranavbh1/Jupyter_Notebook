{
 "cells": [
  {
   "cell_type": "code",
   "execution_count": 6,
   "id": "6de76d9a",
   "metadata": {},
   "outputs": [
    {
     "name": "stdout",
     "output_type": "stream",
     "text": [
      "Enter your annual income(lakhs): 56\n",
      "Tax= 840000.0\n"
     ]
    }
   ],
   "source": [
    "income = float(input(\"Enter your annual income(lakhs): \"))\n",
    "#income = income *100   #converting lakhs to thounds\n",
    " income *tax\n",
    "if income > 0:\n",
    "    if income > 0 and income <=5:\n",
    "        print(\"No tax should be paid\")\n",
    "    elif income > 5 and income <=7:\n",
    "        print(\"Tax=\", (income*100000)*0.05)\n",
    "    elif income > 7 and income <=10:\n",
    "        print(\"Tax=\", (income*100000)*0.1)\n",
    "    else:\n",
    "        print(\"Tax=\", (income*100000)*0.15)\n",
    "else:\n",
    "    print(\"Invalid Income\")\n",
    "    "
   ]
  },
  {
   "cell_type": "code",
   "execution_count": 8,
   "id": "aa5ae16b",
   "metadata": {},
   "outputs": [],
   "source": [
    "a =\"Hel\"\n",
    "if a ==\"Hello\":\n",
    "    print(\"if statement is excuted\")"
   ]
  },
  {
   "cell_type": "code",
   "execution_count": 9,
   "id": "e4d3dde2",
   "metadata": {},
   "outputs": [
    {
     "name": "stdout",
     "output_type": "stream",
     "text": [
      "matched\n"
     ]
    }
   ],
   "source": [
    "a = \"Hello\"\n",
    "if a ==\"Helo\":\n",
    "    print(\"Not Matched\")  \n",
    "else:\n",
    "    print(\"matched\")\n",
    "    "
   ]
  },
  {
   "cell_type": "code",
   "execution_count": 11,
   "id": "0f4d7b8f",
   "metadata": {},
   "outputs": [
    {
     "name": "stdout",
     "output_type": "stream",
     "text": [
      "matched\n"
     ]
    }
   ],
   "source": [
    "a = \"Hello\"\n",
    "if a ==\"Helo\":\n",
    "    print(\"Not Matched\")  \n",
    "elif a ==\"Hello\":\n",
    "    print(\"matched\")"
   ]
  },
  {
   "cell_type": "code",
   "execution_count": 12,
   "id": "355a3b7a",
   "metadata": {},
   "outputs": [
    {
     "name": "stdout",
     "output_type": "stream",
     "text": [
      "enter a number : 78\n",
      "Even\n"
     ]
    }
   ],
   "source": [
    "num = int(input(\"enter a number : \"))\n",
    "if num%2==0:\n",
    "    print(\"Even\")\n",
    "else:\n",
    "    print(\"Odd\")"
   ]
  },
  {
   "cell_type": "markdown",
   "id": "e8c4a834",
   "metadata": {},
   "source": [
    "# Terenary operator"
   ]
  },
  {
   "cell_type": "markdown",
   "id": "4751e534",
   "metadata": {},
   "source": [
    "In Python, the ternary operator is a concise way to write conditional expressions. It allows you to evaluate a condition and return one value if the condition is true, and another value if the condition is false. The syntax of the ternary operator in Python is as follows:"
   ]
  },
  {
   "cell_type": "markdown",
   "id": "4dd84976",
   "metadata": {},
   "source": [
    "#### Syntax"
   ]
  },
  {
   "cell_type": "markdown",
   "id": "639de64b",
   "metadata": {},
   "source": [
    "#### value_if_true if condition else value_if_false\n"
   ]
  },
  {
   "cell_type": "code",
   "execution_count": 14,
   "id": "ae56fa2b",
   "metadata": {},
   "outputs": [
    {
     "name": "stdout",
     "output_type": "stream",
     "text": [
      "enter a number : 78\n",
      "Even\n"
     ]
    }
   ],
   "source": [
    "num = int(input(\"enter a number : \"))\n",
    "val = print(\"Even\")   if num%2 == 0 else  print(\"Odd\")"
   ]
  },
  {
   "cell_type": "code",
   "execution_count": 15,
   "id": "21337251",
   "metadata": {},
   "outputs": [
    {
     "name": "stdout",
     "output_type": "stream",
     "text": [
      "30\n"
     ]
    }
   ],
   "source": [
    "#print largest number\n",
    "a = 20\n",
    "b =30\n",
    "c  = a if a>b else b\n",
    "print(c)\n"
   ]
  },
  {
   "cell_type": "code",
   "execution_count": 2,
   "id": "8865dea2",
   "metadata": {},
   "outputs": [],
   "source": [
    "x = 30\n",
    "y = 20\n",
    "\n",
    "max_value = x if x > y else y\n",
    "print(max_value) \n"
   ]
  },
  {
   "cell_type": "code",
   "execution_count": null,
   "id": "f38abba2",
   "metadata": {},
   "outputs": [],
   "source": []
  }
 ],
 "metadata": {
  "kernelspec": {
   "display_name": "Python 3 (ipykernel)",
   "language": "python",
   "name": "python3"
  },
  "language_info": {
   "codemirror_mode": {
    "name": "ipython",
    "version": 3
   },
   "file_extension": ".py",
   "mimetype": "text/x-python",
   "name": "python",
   "nbconvert_exporter": "python",
   "pygments_lexer": "ipython3",
   "version": "3.11.2"
  }
 },
 "nbformat": 4,
 "nbformat_minor": 5
}
