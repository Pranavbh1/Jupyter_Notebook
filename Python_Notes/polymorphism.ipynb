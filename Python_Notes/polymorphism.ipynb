{
 "cells": [
  {
   "cell_type": "markdown",
   "id": "f324f253",
   "metadata": {},
   "source": [
    "### PolyMorphism"
   ]
  },
  {
   "cell_type": "code",
   "execution_count": 19,
   "id": "8069a251",
   "metadata": {},
   "outputs": [],
   "source": [
    "class sum:\n",
    "    def __init__(self,a):\n",
    "        self.a = a\n",
    "    def __add__(self,other):\n",
    "        return self.a + other.a"
   ]
  },
  {
   "cell_type": "code",
   "execution_count": 23,
   "id": "d1acf9bd",
   "metadata": {},
   "outputs": [],
   "source": [
    "c = sum(\"Hello \")"
   ]
  },
  {
   "cell_type": "code",
   "execution_count": 24,
   "id": "8edbd231",
   "metadata": {},
   "outputs": [],
   "source": [
    "d = sum(\" World\")"
   ]
  },
  {
   "cell_type": "code",
   "execution_count": 25,
   "id": "4aa9b37f",
   "metadata": {},
   "outputs": [
    {
     "data": {
      "text/plain": [
       "'Hello  World'"
      ]
     },
     "execution_count": 25,
     "metadata": {},
     "output_type": "execute_result"
    }
   ],
   "source": [
    "c + d"
   ]
  },
  {
   "cell_type": "code",
   "execution_count": 8,
   "id": "44120f8e",
   "metadata": {},
   "outputs": [
    {
     "data": {
      "text/plain": [
       "['__abs__',\n",
       " '__add__',\n",
       " '__and__',\n",
       " '__bool__',\n",
       " '__ceil__',\n",
       " '__class__',\n",
       " '__delattr__',\n",
       " '__dir__',\n",
       " '__divmod__',\n",
       " '__doc__',\n",
       " '__eq__',\n",
       " '__float__',\n",
       " '__floor__',\n",
       " '__floordiv__',\n",
       " '__format__',\n",
       " '__ge__',\n",
       " '__getattribute__',\n",
       " '__getnewargs__',\n",
       " '__getstate__',\n",
       " '__gt__',\n",
       " '__hash__',\n",
       " '__index__',\n",
       " '__init__',\n",
       " '__init_subclass__',\n",
       " '__int__',\n",
       " '__invert__',\n",
       " '__le__',\n",
       " '__lshift__',\n",
       " '__lt__',\n",
       " '__mod__',\n",
       " '__mul__',\n",
       " '__ne__',\n",
       " '__neg__',\n",
       " '__new__',\n",
       " '__or__',\n",
       " '__pos__',\n",
       " '__pow__',\n",
       " '__radd__',\n",
       " '__rand__',\n",
       " '__rdivmod__',\n",
       " '__reduce__',\n",
       " '__reduce_ex__',\n",
       " '__repr__',\n",
       " '__rfloordiv__',\n",
       " '__rlshift__',\n",
       " '__rmod__',\n",
       " '__rmul__',\n",
       " '__ror__',\n",
       " '__round__',\n",
       " '__rpow__',\n",
       " '__rrshift__',\n",
       " '__rshift__',\n",
       " '__rsub__',\n",
       " '__rtruediv__',\n",
       " '__rxor__',\n",
       " '__setattr__',\n",
       " '__sizeof__',\n",
       " '__str__',\n",
       " '__sub__',\n",
       " '__subclasshook__',\n",
       " '__truediv__',\n",
       " '__trunc__',\n",
       " '__xor__',\n",
       " 'as_integer_ratio',\n",
       " 'bit_count',\n",
       " 'bit_length',\n",
       " 'conjugate',\n",
       " 'denominator',\n",
       " 'from_bytes',\n",
       " 'imag',\n",
       " 'numerator',\n",
       " 'real',\n",
       " 'to_bytes']"
      ]
     },
     "execution_count": 8,
     "metadata": {},
     "output_type": "execute_result"
    }
   ],
   "source": [
    "dir(int)"
   ]
  },
  {
   "cell_type": "markdown",
   "id": "9c46d487",
   "metadata": {},
   "source": [
    "# Constructor Overloading"
   ]
  },
  {
   "cell_type": "code",
   "execution_count": 31,
   "id": "d834acbb",
   "metadata": {},
   "outputs": [],
   "source": [
    "class name:\n",
    "    def __init__(self):\n",
    "        print(\"No args\")\n",
    "    def __init__(self,a,b):\n",
    "        print(\"Two args\")\n",
    "    def __init__(self,a):\n",
    "        print(\"One args\")\n",
    "        "
   ]
  },
  {
   "cell_type": "code",
   "execution_count": 34,
   "id": "7b032e23",
   "metadata": {},
   "outputs": [
    {
     "name": "stdout",
     "output_type": "stream",
     "text": [
      "One args\n"
     ]
    }
   ],
   "source": [
    "d = name(2)"
   ]
  },
  {
   "cell_type": "code",
   "execution_count": 36,
   "id": "4e25887e",
   "metadata": {},
   "outputs": [],
   "source": [
    "def call (a = \"Hello\"):\n",
    "    print(a)"
   ]
  },
  {
   "cell_type": "code",
   "execution_count": 38,
   "id": "7d6bb750",
   "metadata": {},
   "outputs": [
    {
     "name": "stdout",
     "output_type": "stream",
     "text": [
      "Happy\n"
     ]
    }
   ],
   "source": [
    "call(\"Happy\")"
   ]
  },
  {
   "cell_type": "markdown",
   "id": "43f4a497",
   "metadata": {},
   "source": [
    "## Overriding"
   ]
  },
  {
   "cell_type": "markdown",
   "id": "c055f0b3",
   "metadata": {},
   "source": [
    "#### Method Overriding"
   ]
  },
  {
   "cell_type": "code",
   "execution_count": 67,
   "id": "a93069d1",
   "metadata": {},
   "outputs": [],
   "source": [
    "class a:\n",
    "    def method(self):\n",
    "        print(\"Class a\")\n",
    "class b(a):\n",
    "    def method(self):\n",
    "        super().method()\n",
    "        print(\" Class b\")"
   ]
  },
  {
   "cell_type": "code",
   "execution_count": 68,
   "id": "b5f09c64",
   "metadata": {},
   "outputs": [],
   "source": [
    "name = b()"
   ]
  },
  {
   "cell_type": "code",
   "execution_count": 69,
   "id": "cab2e91f",
   "metadata": {},
   "outputs": [
    {
     "name": "stdout",
     "output_type": "stream",
     "text": [
      "Class a\n",
      " Class b\n"
     ]
    }
   ],
   "source": [
    "name.method()"
   ]
  },
  {
   "cell_type": "markdown",
   "id": "afccaa6e",
   "metadata": {},
   "source": [
    "#### Constructor Overriding"
   ]
  },
  {
   "cell_type": "code",
   "execution_count": 78,
   "id": "35364e91",
   "metadata": {},
   "outputs": [],
   "source": [
    "class name:\n",
    "    def __init__(self):\n",
    "        print(\"Name constructor\")\n",
    "class thing(name):\n",
    "    def __init__(self):\n",
    "        super().__init__()\n",
    "        print(\"Thing Constructor\")"
   ]
  },
  {
   "cell_type": "code",
   "execution_count": 79,
   "id": "414d9b82",
   "metadata": {},
   "outputs": [
    {
     "name": "stdout",
     "output_type": "stream",
     "text": [
      "Name constructor\n",
      "Thing Constructor\n"
     ]
    }
   ],
   "source": [
    "t = thing()"
   ]
  },
  {
   "cell_type": "code",
   "execution_count": null,
   "id": "af2216b8",
   "metadata": {},
   "outputs": [],
   "source": []
  }
 ],
 "metadata": {
  "kernelspec": {
   "display_name": "Python 3 (ipykernel)",
   "language": "python",
   "name": "python3"
  },
  "language_info": {
   "codemirror_mode": {
    "name": "ipython",
    "version": 3
   },
   "file_extension": ".py",
   "mimetype": "text/x-python",
   "name": "python",
   "nbconvert_exporter": "python",
   "pygments_lexer": "ipython3",
   "version": "3.11.2"
  }
 },
 "nbformat": 4,
 "nbformat_minor": 5
}
