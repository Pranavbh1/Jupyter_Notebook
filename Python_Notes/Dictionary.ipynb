{
 "cells": [
  {
   "cell_type": "markdown",
   "id": "2bd68361",
   "metadata": {},
   "source": [
    "key : value "
   ]
  },
  {
   "cell_type": "code",
   "execution_count": 1,
   "id": "02a044bc",
   "metadata": {},
   "outputs": [],
   "source": [
    "dict1 =  {1:\"Raj\",2:\"Ram\",3:\"raghu\",4:\"rajesh\"} #normal way\n",
    "#   {Key: Value}"
   ]
  },
  {
   "cell_type": "code",
   "execution_count": 2,
   "id": "bc4b5b37",
   "metadata": {},
   "outputs": [
    {
     "data": {
      "text/plain": [
       "{1: 'Raj', 2: 'Ram', 3: 'raghu', 4: 'rajesh'}"
      ]
     },
     "execution_count": 2,
     "metadata": {},
     "output_type": "execute_result"
    }
   ],
   "source": [
    "dict1"
   ]
  },
  {
   "cell_type": "code",
   "execution_count": 3,
   "id": "3f38ed1d",
   "metadata": {},
   "outputs": [],
   "source": [
    "#dict([(key,Value)])\n",
    "\n",
    "\n",
    "dict2 = dict([(1,\"r\"),(2,\"B\"),(3,\"C\"),(4,\"H\"),(5,\"R\")]) "
   ]
  },
  {
   "cell_type": "code",
   "execution_count": 4,
   "id": "46d87ead",
   "metadata": {},
   "outputs": [
    {
     "data": {
      "text/plain": [
       "{1: 'r', 2: 'B', 3: 'C', 4: 'H', 5: 'R'}"
      ]
     },
     "execution_count": 4,
     "metadata": {},
     "output_type": "execute_result"
    }
   ],
   "source": [
    "dict2"
   ]
  },
  {
   "cell_type": "code",
   "execution_count": 5,
   "id": "70c6424d",
   "metadata": {},
   "outputs": [],
   "source": [
    "fruits = {\"Apple\": 60,\"Grape\":40,\"Mango\":20,\"Banana\":30}"
   ]
  },
  {
   "cell_type": "code",
   "execution_count": 6,
   "id": "1bc89f2f",
   "metadata": {},
   "outputs": [],
   "source": [
    "fruits1 =dict([(\"Apple\",60),(\"Grape\",40),(\"Mango\",20),(\"Banana\",30)])"
   ]
  },
  {
   "cell_type": "code",
   "execution_count": 7,
   "id": "e8f51215",
   "metadata": {},
   "outputs": [
    {
     "data": {
      "text/plain": [
       "{'Apple': 60, 'Grape': 40, 'Mango': 20, 'Banana': 30}"
      ]
     },
     "execution_count": 7,
     "metadata": {},
     "output_type": "execute_result"
    }
   ],
   "source": [
    "fruits"
   ]
  },
  {
   "cell_type": "code",
   "execution_count": 8,
   "id": "7b5fe983",
   "metadata": {},
   "outputs": [
    {
     "data": {
      "text/plain": [
       "{'Apple': 60, 'Grape': 40, 'Mango': 20, 'Banana': 30}"
      ]
     },
     "execution_count": 8,
     "metadata": {},
     "output_type": "execute_result"
    }
   ],
   "source": [
    "fruits1"
   ]
  },
  {
   "cell_type": "code",
   "execution_count": 10,
   "id": "e629d5ab",
   "metadata": {},
   "outputs": [],
   "source": [
    "list1 = [\"apple\",\"banana\",\"mango\",\"Grape\"]  #keys\n",
    "price = [30,40,50,60]    #values"
   ]
  },
  {
   "cell_type": "code",
   "execution_count": 12,
   "id": "f50b4cd0",
   "metadata": {},
   "outputs": [],
   "source": [
    "k = dict(zip(list1,price))"
   ]
  },
  {
   "cell_type": "code",
   "execution_count": 13,
   "id": "30b16d39",
   "metadata": {},
   "outputs": [
    {
     "data": {
      "text/plain": [
       "{'apple': 30, 'banana': 40, 'mango': 50, 'Grape': 60}"
      ]
     },
     "execution_count": 13,
     "metadata": {},
     "output_type": "execute_result"
    }
   ],
   "source": [
    "k"
   ]
  },
  {
   "cell_type": "code",
   "execution_count": 15,
   "id": "9fbce16f",
   "metadata": {},
   "outputs": [
    {
     "ename": "SyntaxError",
     "evalue": "expression cannot contain assignment, perhaps you meant \"==\"? (264002044.py, line 1)",
     "output_type": "error",
     "traceback": [
      "\u001b[1;36m  Cell \u001b[1;32mIn[15], line 1\u001b[1;36m\u001b[0m\n\u001b[1;33m    dict5 = dict(1 = \"Raj\",2 = \"Ram\",3 = \"Raghu\")\u001b[0m\n\u001b[1;37m                 ^\u001b[0m\n\u001b[1;31mSyntaxError\u001b[0m\u001b[1;31m:\u001b[0m expression cannot contain assignment, perhaps you meant \"==\"?\n"
     ]
    }
   ],
   "source": [
    "dict5 = dict(1 = \"Raj\",2 = \"Ram\",3 = \"Raghu\")"
   ]
  },
  {
   "cell_type": "code",
   "execution_count": 17,
   "id": "4d25b330",
   "metadata": {},
   "outputs": [
    {
     "data": {
      "text/plain": [
       "{'Apple': 60, 'Grape': 40, 'Mango': 20, 'Banana': 30}"
      ]
     },
     "execution_count": 17,
     "metadata": {},
     "output_type": "execute_result"
    }
   ],
   "source": [
    "fruits1"
   ]
  },
  {
   "cell_type": "code",
   "execution_count": 18,
   "id": "f8ee0d81",
   "metadata": {},
   "outputs": [],
   "source": [
    "fruits1[\"Orange\"] = 10"
   ]
  },
  {
   "cell_type": "code",
   "execution_count": 19,
   "id": "babee079",
   "metadata": {},
   "outputs": [
    {
     "data": {
      "text/plain": [
       "{'Apple': 60, 'Grape': 40, 'Mango': 20, 'Banana': 30, 'Orange': 10}"
      ]
     },
     "execution_count": 19,
     "metadata": {},
     "output_type": "execute_result"
    }
   ],
   "source": [
    "fruits1"
   ]
  },
  {
   "cell_type": "code",
   "execution_count": 22,
   "id": "deec85ab",
   "metadata": {},
   "outputs": [],
   "source": [
    "fruits1[\"KiWi\"] = [20,30,40]"
   ]
  },
  {
   "cell_type": "code",
   "execution_count": 23,
   "id": "09cbf930",
   "metadata": {},
   "outputs": [
    {
     "data": {
      "text/plain": [
       "{'Apple': 60,\n",
       " 'Grape': 40,\n",
       " 'Mango': 20,\n",
       " 'Banana': 30,\n",
       " 'Orange': 10,\n",
       " 'KiWi': [20, 30, 40]}"
      ]
     },
     "execution_count": 23,
     "metadata": {},
     "output_type": "execute_result"
    }
   ],
   "source": [
    "fruits1\n",
    "\n",
    "#var_name [Key] = value"
   ]
  },
  {
   "cell_type": "code",
   "execution_count": 24,
   "id": "74446cbe",
   "metadata": {},
   "outputs": [
    {
     "data": {
      "text/plain": [
       "{'Apple': 60,\n",
       " 'Grape': 40,\n",
       " 'Mango': 20,\n",
       " 'Banana': 30,\n",
       " 'Orange': 10,\n",
       " 'KiWi': [20, 30, 40]}"
      ]
     },
     "execution_count": 24,
     "metadata": {},
     "output_type": "execute_result"
    }
   ],
   "source": [
    "fruits1"
   ]
  },
  {
   "cell_type": "code",
   "execution_count": 27,
   "id": "931e23fd",
   "metadata": {},
   "outputs": [
    {
     "ename": "KeyError",
     "evalue": "1",
     "output_type": "error",
     "traceback": [
      "\u001b[1;31m---------------------------------------------------------------------------\u001b[0m",
      "\u001b[1;31mKeyError\u001b[0m                                  Traceback (most recent call last)",
      "Cell \u001b[1;32mIn[27], line 1\u001b[0m\n\u001b[1;32m----> 1\u001b[0m fruits1[\u001b[38;5;241m1\u001b[39m]\n",
      "\u001b[1;31mKeyError\u001b[0m: 1"
     ]
    }
   ],
   "source": [
    "fruits1[1]  #dict not follows index and not ordered"
   ]
  },
  {
   "cell_type": "code",
   "execution_count": 26,
   "id": "8eca302c",
   "metadata": {},
   "outputs": [
    {
     "data": {
      "text/plain": [
       "30"
      ]
     },
     "execution_count": 26,
     "metadata": {},
     "output_type": "execute_result"
    }
   ],
   "source": [
    "fruits1[\"Banana\"]"
   ]
  },
  {
   "cell_type": "code",
   "execution_count": 28,
   "id": "dbe84443",
   "metadata": {},
   "outputs": [],
   "source": [
    "fruits1[\"Banana\"] = [10,12,14,16]"
   ]
  },
  {
   "cell_type": "code",
   "execution_count": 29,
   "id": "7cbacbee",
   "metadata": {},
   "outputs": [
    {
     "data": {
      "text/plain": [
       "{'Apple': 60,\n",
       " 'Grape': 40,\n",
       " 'Mango': 20,\n",
       " 'Banana': [10, 12, 14, 16],\n",
       " 'Orange': 10,\n",
       " 'KiWi': [20, 30, 40]}"
      ]
     },
     "execution_count": 29,
     "metadata": {},
     "output_type": "execute_result"
    }
   ],
   "source": [
    "fruits1"
   ]
  },
  {
   "cell_type": "code",
   "execution_count": 30,
   "id": "4f0915d0",
   "metadata": {},
   "outputs": [
    {
     "data": {
      "text/plain": [
       "{'Apple': 60,\n",
       " 'Grape': 40,\n",
       " 'Mango': 20,\n",
       " 'Banana': [10, 12, 14, 16],\n",
       " 'Orange': 10,\n",
       " 'KiWi': [20, 30, 40]}"
      ]
     },
     "execution_count": 30,
     "metadata": {},
     "output_type": "execute_result"
    }
   ],
   "source": [
    "fruits1"
   ]
  },
  {
   "cell_type": "code",
   "execution_count": 32,
   "id": "14ecbd5b",
   "metadata": {},
   "outputs": [],
   "source": [
    "fr = fruits1.copy()"
   ]
  },
  {
   "cell_type": "code",
   "execution_count": 33,
   "id": "e7c334f1",
   "metadata": {},
   "outputs": [
    {
     "data": {
      "text/plain": [
       "{'Apple': 60,\n",
       " 'Grape': 40,\n",
       " 'Mango': 20,\n",
       " 'Banana': [10, 12, 14, 16],\n",
       " 'Orange': 10,\n",
       " 'KiWi': [20, 30, 40]}"
      ]
     },
     "execution_count": 33,
     "metadata": {},
     "output_type": "execute_result"
    }
   ],
   "source": [
    "fr"
   ]
  },
  {
   "cell_type": "code",
   "execution_count": 34,
   "id": "0d330e36",
   "metadata": {},
   "outputs": [
    {
     "data": {
      "text/plain": [
       "{'Apple': None, 'Orange': None}"
      ]
     },
     "execution_count": 34,
     "metadata": {},
     "output_type": "execute_result"
    }
   ],
   "source": [
    "fr.fromkeys([])"
   ]
  },
  {
   "cell_type": "code",
   "execution_count": 36,
   "id": "9c35030b",
   "metadata": {},
   "outputs": [],
   "source": [
    "frt = dict([(\"H\",1),(\"J\",2),(\"k\",3)])"
   ]
  },
  {
   "cell_type": "code",
   "execution_count": 37,
   "id": "186c807e",
   "metadata": {},
   "outputs": [
    {
     "data": {
      "text/plain": [
       "{'H': 1, 'J': 2, 'k': 3}"
      ]
     },
     "execution_count": 37,
     "metadata": {},
     "output_type": "execute_result"
    }
   ],
   "source": [
    "frt"
   ]
  },
  {
   "cell_type": "code",
   "execution_count": 39,
   "id": "03c294db",
   "metadata": {},
   "outputs": [
    {
     "data": {
      "text/plain": [
       "{'H': 'DATA SCIENCE', 'J': 'DATA SCIENCE', 'K': 'DATA SCIENCE'}"
      ]
     },
     "execution_count": 39,
     "metadata": {},
     "output_type": "execute_result"
    }
   ],
   "source": [
    "frt.fromkeys([\"H\",\"J\",\"K\"], \"DATA SCIENCE\")"
   ]
  },
  {
   "cell_type": "code",
   "execution_count": 41,
   "id": "7c566f3c",
   "metadata": {},
   "outputs": [
    {
     "data": {
      "text/plain": [
       "40"
      ]
     },
     "execution_count": 41,
     "metadata": {},
     "output_type": "execute_result"
    }
   ],
   "source": [
    "fr.get(\"Grape\")"
   ]
  },
  {
   "cell_type": "code",
   "execution_count": 42,
   "id": "9ed743c6",
   "metadata": {},
   "outputs": [
    {
     "data": {
      "text/plain": [
       "40"
      ]
     },
     "execution_count": 42,
     "metadata": {},
     "output_type": "execute_result"
    }
   ],
   "source": [
    "fr[\"Grape\"]"
   ]
  },
  {
   "cell_type": "code",
   "execution_count": 44,
   "id": "bd254d2e",
   "metadata": {},
   "outputs": [
    {
     "data": {
      "text/plain": [
       "dict_items([('Apple', 60), ('Grape', 40), ('Mango', 20), ('Banana', [10, 12, 14, 16]), ('Orange', 10), ('KiWi', [20, 30, 40])])"
      ]
     },
     "execution_count": 44,
     "metadata": {},
     "output_type": "execute_result"
    }
   ],
   "source": [
    "fr.items()"
   ]
  },
  {
   "cell_type": "code",
   "execution_count": 45,
   "id": "b8ced80e",
   "metadata": {},
   "outputs": [
    {
     "data": {
      "text/plain": [
       "dict_keys(['Apple', 'Grape', 'Mango', 'Banana', 'Orange', 'KiWi'])"
      ]
     },
     "execution_count": 45,
     "metadata": {},
     "output_type": "execute_result"
    }
   ],
   "source": [
    "fr.keys()"
   ]
  },
  {
   "cell_type": "code",
   "execution_count": 46,
   "id": "dd2b71a6",
   "metadata": {},
   "outputs": [
    {
     "data": {
      "text/plain": [
       "dict_values([60, 40, 20, [10, 12, 14, 16], 10, [20, 30, 40]])"
      ]
     },
     "execution_count": 46,
     "metadata": {},
     "output_type": "execute_result"
    }
   ],
   "source": [
    "fr.values()"
   ]
  },
  {
   "cell_type": "code",
   "execution_count": 47,
   "id": "17c851e4",
   "metadata": {},
   "outputs": [
    {
     "data": {
      "text/plain": [
       "[10, 12, 14, 16]"
      ]
     },
     "execution_count": 47,
     "metadata": {},
     "output_type": "execute_result"
    }
   ],
   "source": [
    "fr.pop(\"Banana\")"
   ]
  },
  {
   "cell_type": "code",
   "execution_count": 50,
   "id": "975d9306",
   "metadata": {},
   "outputs": [
    {
     "data": {
      "text/plain": [
       "('Orange', 10)"
      ]
     },
     "execution_count": 50,
     "metadata": {},
     "output_type": "execute_result"
    }
   ],
   "source": [
    "fr.popitem()  #removes last item"
   ]
  },
  {
   "cell_type": "code",
   "execution_count": 51,
   "id": "22f0eb12",
   "metadata": {},
   "outputs": [
    {
     "data": {
      "text/plain": [
       "{'Apple': 60, 'Grape': 40, 'Mango': 20}"
      ]
     },
     "execution_count": 51,
     "metadata": {},
     "output_type": "execute_result"
    }
   ],
   "source": [
    "fr"
   ]
  },
  {
   "cell_type": "code",
   "execution_count": 57,
   "id": "d4de799d",
   "metadata": {},
   "outputs": [],
   "source": [
    "fr.update({\"Mango\":40})"
   ]
  },
  {
   "cell_type": "code",
   "execution_count": 58,
   "id": "9378d711",
   "metadata": {},
   "outputs": [
    {
     "data": {
      "text/plain": [
       "{'Apple': 60, 'Grape': 40, 'Mango': 40}"
      ]
     },
     "execution_count": 58,
     "metadata": {},
     "output_type": "execute_result"
    }
   ],
   "source": [
    "fr"
   ]
  },
  {
   "cell_type": "code",
   "execution_count": 59,
   "id": "ae0f3eac",
   "metadata": {},
   "outputs": [],
   "source": [
    "fr.update({\"Apple\": 100})"
   ]
  },
  {
   "cell_type": "code",
   "execution_count": 60,
   "id": "504ec4f1",
   "metadata": {},
   "outputs": [
    {
     "data": {
      "text/plain": [
       "{'Apple': 100, 'Grape': 40, 'Mango': 40}"
      ]
     },
     "execution_count": 60,
     "metadata": {},
     "output_type": "execute_result"
    }
   ],
   "source": [
    "fr"
   ]
  },
  {
   "cell_type": "code",
   "execution_count": 61,
   "id": "22554b8b",
   "metadata": {},
   "outputs": [
    {
     "data": {
      "text/plain": [
       "dict_values([100, 40, 40])"
      ]
     },
     "execution_count": 61,
     "metadata": {},
     "output_type": "execute_result"
    }
   ],
   "source": [
    "fr.values()  #100,40,40"
   ]
  },
  {
   "cell_type": "code",
   "execution_count": 67,
   "id": "bc4329b4",
   "metadata": {},
   "outputs": [],
   "source": [
    "f = {1:\"H\",2:\"K\",1:\"J\",1:\"K\"}"
   ]
  },
  {
   "cell_type": "code",
   "execution_count": 68,
   "id": "c3ceb764",
   "metadata": {},
   "outputs": [
    {
     "data": {
      "text/plain": [
       "{1: 'K', 2: 'K'}"
      ]
     },
     "execution_count": 68,
     "metadata": {},
     "output_type": "execute_result"
    }
   ],
   "source": [
    "f "
   ]
  },
  {
   "cell_type": "markdown",
   "id": "e58eb5e1",
   "metadata": {},
   "source": [
    "## Type Casting"
   ]
  },
  {
   "cell_type": "markdown",
   "id": "9b17655b",
   "metadata": {},
   "source": [
    "#### list to Other"
   ]
  },
  {
   "cell_type": "code",
   "execution_count": 71,
   "id": "a70a996e",
   "metadata": {},
   "outputs": [],
   "source": [
    "list1 = [1,2,3,4,6,7,1,5,6]  "
   ]
  },
  {
   "cell_type": "code",
   "execution_count": 73,
   "id": "251e26ce",
   "metadata": {},
   "outputs": [
    {
     "data": {
      "text/plain": [
       "list"
      ]
     },
     "execution_count": 73,
     "metadata": {},
     "output_type": "execute_result"
    }
   ],
   "source": [
    "type(list1)"
   ]
  },
  {
   "cell_type": "code",
   "execution_count": 74,
   "id": "e96930ae",
   "metadata": {},
   "outputs": [],
   "source": [
    "a = tuple(list1)"
   ]
  },
  {
   "cell_type": "code",
   "execution_count": 76,
   "id": "624eec1d",
   "metadata": {},
   "outputs": [
    {
     "data": {
      "text/plain": [
       "tuple"
      ]
     },
     "execution_count": 76,
     "metadata": {},
     "output_type": "execute_result"
    }
   ],
   "source": [
    "type(a)"
   ]
  },
  {
   "cell_type": "code",
   "execution_count": 77,
   "id": "7b9259fe",
   "metadata": {},
   "outputs": [],
   "source": [
    "to_set = set(list1)"
   ]
  },
  {
   "cell_type": "code",
   "execution_count": 79,
   "id": "ab854a47",
   "metadata": {},
   "outputs": [
    {
     "data": {
      "text/plain": [
       "{1, 2, 3, 4, 5, 6, 7}"
      ]
     },
     "execution_count": 79,
     "metadata": {},
     "output_type": "execute_result"
    }
   ],
   "source": [
    "to_set"
   ]
  },
  {
   "cell_type": "markdown",
   "id": "1f8f7725",
   "metadata": {},
   "source": [
    "### Tuple to others"
   ]
  },
  {
   "cell_type": "code",
   "execution_count": null,
   "id": "475ec9ee",
   "metadata": {},
   "outputs": [],
   "source": []
  }
 ],
 "metadata": {
  "kernelspec": {
   "display_name": "Python 3 (ipykernel)",
   "language": "python",
   "name": "python3"
  },
  "language_info": {
   "codemirror_mode": {
    "name": "ipython",
    "version": 3
   },
   "file_extension": ".py",
   "mimetype": "text/x-python",
   "name": "python",
   "nbconvert_exporter": "python",
   "pygments_lexer": "ipython3",
   "version": "3.11.2"
  }
 },
 "nbformat": 4,
 "nbformat_minor": 5
}
