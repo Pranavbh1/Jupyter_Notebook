{
 "cells": [
  {
   "cell_type": "code",
   "execution_count": 1,
   "id": "8203a172",
   "metadata": {},
   "outputs": [],
   "source": [
    "a = 4"
   ]
  },
  {
   "cell_type": "code",
   "execution_count": 4,
   "id": "f60cb464",
   "metadata": {},
   "outputs": [
    {
     "name": "stdout",
     "output_type": "stream",
     "text": [
      "<class 'int'>\n"
     ]
    }
   ],
   "source": [
    "print(type(a))"
   ]
  },
  {
   "cell_type": "code",
   "execution_count": 5,
   "id": "1e001d55",
   "metadata": {},
   "outputs": [],
   "source": [
    "b = 4"
   ]
  },
  {
   "cell_type": "code",
   "execution_count": 6,
   "id": "f5a0f0e3",
   "metadata": {},
   "outputs": [],
   "source": [
    "c =4"
   ]
  },
  {
   "cell_type": "code",
   "execution_count": 7,
   "id": "007d4575",
   "metadata": {},
   "outputs": [],
   "source": [
    "dv = 4"
   ]
  },
  {
   "cell_type": "markdown",
   "id": "9488ef2f",
   "metadata": {},
   "source": [
    "In Python, object-oriented programming (OOP) is a powerful paradigm that allows you to model real-world entities and concepts in the form of objects. These objects are instances of classes, which act as blueprints or templates defining the properties and behaviors of the objects. Methods are functions defined within classes that describe the actions or behaviors the objects can perform. Let's delve into each of these concepts in more detail:\n",
    "\n",
    "1. Class:\n",
    "A class is a user-defined data type in Python that serves as a blueprint for creating objects. It defines the structure and behavior of the objects that belong to it. Classes encapsulate data (attributes) and functions (methods) related to a specific concept or entity. By using classes, you can organize and group related data and behavior in a clean and modular way.\n",
    "\n",
    "In Python, a class is declared using the `class` keyword, followed by the name of the class (by convention, class names start with an uppercase letter). Here's a basic example of a class:\n",
    "\n",
    "```python\n",
    "class Car:\n",
    "    def __init__(self, make, model):\n",
    "        self.make = make\n",
    "        self.model = model\n",
    "\n",
    "    def drive(self):\n",
    "        print(f\"The {self.make} {self.model} is driving.\")\n",
    "```\n",
    "\n",
    "In this example, we've defined a `Car` class with two attributes (`make` and `model`) and a method `drive()`.\n",
    "\n",
    "2. Object (Instance):\n",
    "An object, also known as an instance, is a specific instantiation of a class. It represents a real-world entity based on the blueprint provided by the class. When you create an object, it inherits the attributes and methods defined in the class. Each object has its own unique data, but the methods are shared across all instances of the class.\n",
    "\n",
    "To create an object, you call the class as if it were a function, and it returns a new instance of the class. Here's how you create an object of the `Car` class:\n",
    "\n",
    "```python\n",
    "my_car = Car(\"Toyota\", \"Corolla\")\n",
    "```\n",
    "\n",
    "In this case, `my_car` is an object of the `Car` class with the attributes `make=\"Toyota\"` and `model=\"Corolla\"`.\n",
    "\n",
    "3. Method:\n",
    "A method is a function defined inside a class that operates on the object's attributes and can modify its state or perform specific actions. Methods allow objects to exhibit behaviors that are meaningful for the specific class.\n",
    "\n",
    "In our `Car` class example, the `drive()` method is defined to simulate the action of a car being driven. When called on an instance of the `Car` class, it will print a message indicating the car's make and model.\n",
    "\n",
    "```python\n",
    "my_car.drive()  # Output: \"The Toyota Corolla is driving.\"\n",
    "```\n",
    "\n",
    "Methods have access to the instance they are called on through the `self` parameter, which is the first parameter of any method within the class. It refers to the instance itself, allowing the method to access and modify the object's attributes.\n",
    "\n",
    "In summary, classes are used to define blueprints for objects, objects are instances of classes with their own unique data, and methods are functions that describe the actions an object can perform. Python's object-oriented approach promotes code reusability, modularity, and easier maintenance, making it a powerful paradigm for building complex applications."
   ]
  },
  {
   "cell_type": "markdown",
   "id": "7a7d4677",
   "metadata": {},
   "source": [
    "## Creating Class"
   ]
  },
  {
   "cell_type": "code",
   "execution_count": 9,
   "id": "9a578c65",
   "metadata": {},
   "outputs": [],
   "source": [
    "class sample:\n",
    "    pass"
   ]
  },
  {
   "cell_type": "markdown",
   "id": "d1464744",
   "metadata": {},
   "source": [
    "#### Bank application`"
   ]
  },
  {
   "cell_type": "markdown",
   "id": "2c0a59a4",
   "metadata": {},
   "source": [
    "attributes:\n",
    "1. Name\n",
    "2. Account No\n",
    "3. Ifsc\n",
    "4. Branch\n",
    "5. Balance\n",
    "\n",
    "  Actions:\n",
    "  \n",
    " 1. Deposit\n",
    " 2. Withdraw\n",
    " 3. Transfer\n",
    " 4. Check_Balance"
   ]
  },
  {
   "cell_type": "code",
   "execution_count": 29,
   "id": "8c3e3a54",
   "metadata": {},
   "outputs": [],
   "source": [
    "class bank:\n",
    "    ''' This is the bank application'''    \n",
    "    #attributes,Behavoiur,Variables\n",
    "    def __init__(self,name,accountno,ifsc,branch,balance):\n",
    "        self.name = name\n",
    "        self.accountno = accountno\n",
    "        self.ifsc = ifsc\n",
    "        self.branch = branch\n",
    "        self.balance = balance\n",
    "    #actions,functions,methods\n",
    "    def deposit(self):\n",
    "        \n",
    "        amount = int(input(\"Enter the amount to deposit:: \"))\n",
    "        self.balance = self.balance + amount\n",
    "        print(\"Sucessfuly deposited\")\n",
    "    def withdraw(self):\n",
    "        amount = int(input(\"Enter the amount to withdraw:: \"))\n",
    "        if self.balance < amount:\n",
    "            print(\"Insufficient fund in you account\")\n",
    "        else:\n",
    "            self.balance = self.balance - amount\n",
    "            print(\"withdraw is sucessful. please Take the money\")\n",
    "    def checkbal(self):\n",
    "        print(f\"you have {self.balance} in your account\")\n",
    "    \n",
    "    def customerdetails(self):\n",
    "        print(f'{self.name}\\n,{self.accountno}\\n,{self.branch}\\n')"
   ]
  },
  {
   "cell_type": "markdown",
   "id": "484fb6d1",
   "metadata": {},
   "source": [
    "##### Creating Object"
   ]
  },
  {
   "cell_type": "code",
   "execution_count": 34,
   "id": "95af95f9",
   "metadata": {},
   "outputs": [],
   "source": [
    "kohli = bank(\"Virat kohli\",'IC23134','Ic12',\"Mumbai\",100000)"
   ]
  },
  {
   "cell_type": "code",
   "execution_count": 35,
   "id": "8fccde66",
   "metadata": {},
   "outputs": [],
   "source": [
    "dhoni = bank(\"Dhoni\",\"Hdfc3012\",\"fsskdiu\",\"Ranchi\",150000)"
   ]
  },
  {
   "cell_type": "code",
   "execution_count": 37,
   "id": "27181498",
   "metadata": {},
   "outputs": [
    {
     "data": {
      "text/plain": [
       "'Dhoni'"
      ]
     },
     "execution_count": 37,
     "metadata": {},
     "output_type": "execute_result"
    }
   ],
   "source": [
    "dhoni.name"
   ]
  },
  {
   "cell_type": "code",
   "execution_count": 38,
   "id": "047febc9",
   "metadata": {},
   "outputs": [
    {
     "data": {
      "text/plain": [
       "'Ranchi'"
      ]
     },
     "execution_count": 38,
     "metadata": {},
     "output_type": "execute_result"
    }
   ],
   "source": [
    "dhoni.branch"
   ]
  },
  {
   "cell_type": "code",
   "execution_count": 41,
   "id": "cb4bfeda",
   "metadata": {},
   "outputs": [
    {
     "name": "stdout",
     "output_type": "stream",
     "text": [
      "you have 150000 in your account\n"
     ]
    }
   ],
   "source": [
    "dhoni.checkbal()"
   ]
  },
  {
   "cell_type": "code",
   "execution_count": 31,
   "id": "53a468f2",
   "metadata": {},
   "outputs": [
    {
     "name": "stdout",
     "output_type": "stream",
     "text": [
      "you have 100000 in your account\n"
     ]
    }
   ],
   "source": []
  },
  {
   "cell_type": "code",
   "execution_count": null,
   "id": "069e3697",
   "metadata": {},
   "outputs": [],
   "source": []
  }
 ],
 "metadata": {
  "kernelspec": {
   "display_name": "Python 3 (ipykernel)",
   "language": "python",
   "name": "python3"
  },
  "language_info": {
   "codemirror_mode": {
    "name": "ipython",
    "version": 3
   },
   "file_extension": ".py",
   "mimetype": "text/x-python",
   "name": "python",
   "nbconvert_exporter": "python",
   "pygments_lexer": "ipython3",
   "version": "3.11.2"
  }
 },
 "nbformat": 4,
 "nbformat_minor": 5
}
