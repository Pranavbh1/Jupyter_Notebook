{
 "cells": [
  {
   "cell_type": "markdown",
   "id": "31c834fa",
   "metadata": {},
   "source": [
    "In Python, a module is a file containing Python code that defines functions, classes, and variables. It serves as a container for organizing related code, making it easier to manage and reuse in different parts of your program. Modules allow you to break down complex programs into smaller, more manageable pieces, promoting code organization, readability, and maintainability.\n",
    "\n",
    "Uses of Python modules:\n",
    "\n",
    "1. **Code Organization:** Modules help in organizing code into logical units, making it easier to navigate and maintain larger projects. Each module can focus on a specific task or functionality, improving the overall structure of your codebase.\n",
    "\n",
    "2. **Code Reusability:** By encapsulating code within modules, you can reuse it across multiple programs. This promotes the \"Don't Repeat Yourself\" (DRY) principle, reducing duplication and making it easier to update and improve functionality.\n",
    "\n",
    "3. **Namespace Separation:** Modules create their own namespaces, meaning that functions, classes, and variables defined in one module won't conflict with those in another module. This avoids naming clashes and keeps the code clean and isolated.\n",
    "\n",
    "4. **Standard Library Modules:** Python's standard library includes a vast collection of modules covering a wide range of functionalities, from file handling to networking, mathematics, regular expressions, and more. These modules save you time and effort by providing pre-built solutions for common tasks.\n",
    "\n",
    "5. **Third-party Modules:** Python's extensive ecosystem allows developers to create and share their own modules, known as third-party modules or libraries. These modules extend Python's capabilities and can be easily installed and imported to enhance your projects with additional functionality.\n",
    "\n",
    "6. **Encapsulation:** Modules enable encapsulation, a programming concept that hides the implementation details of certain functionalities. By only exposing necessary functions and classes, you can make your code more maintainable and protect internal mechanisms.\n",
    "\n",
    "7. **Collaboration and Code Sharing:** Using modules, teams of developers can work on different parts of a project simultaneously. Modules facilitate code sharing and integration, enabling efficient collaboration among developers.\n",
    "\n",
    "8. **Project Modularity:** When building larger applications, breaking the project into multiple modules allows different team members to work on different components independently. This modularity also makes testing and debugging more manageable.\n",
    "\n",
    "9. **Performance Optimization:** Importing only the necessary modules and functions reduces memory usage and improves performance. Python loads modules into memory when they are first imported, so importing only what you need can lead to faster program startup times.\n",
    "\n",
    "In summary, Python modules are a fundamental feature of the language that promote code organization, reusability, and maintainability. They allow you to divide complex projects into smaller, manageable pieces, fostering efficient collaboration and facilitating code sharing within the Python community. Whether using built-in modules or third-party ones, leveraging Python modules can significantly enhance the development process and the overall quality of your software projects."
   ]
  },
  {
   "cell_type": "code",
   "execution_count": 1,
   "id": "931c42f4",
   "metadata": {},
   "outputs": [],
   "source": [
    "#math module"
   ]
  },
  {
   "cell_type": "code",
   "execution_count": null,
   "id": "0a07a423",
   "metadata": {},
   "outputs": [],
   "source": []
  },
  {
   "cell_type": "code",
   "execution_count": 6,
   "id": "9d87f38c",
   "metadata": {},
   "outputs": [],
   "source": [
    "import math as m"
   ]
  },
  {
   "cell_type": "code",
   "execution_count": 3,
   "id": "7b584fa8",
   "metadata": {},
   "outputs": [
    {
     "data": {
      "text/plain": [
       "['__doc__',\n",
       " '__loader__',\n",
       " '__name__',\n",
       " '__package__',\n",
       " '__spec__',\n",
       " 'acos',\n",
       " 'acosh',\n",
       " 'asin',\n",
       " 'asinh',\n",
       " 'atan',\n",
       " 'atan2',\n",
       " 'atanh',\n",
       " 'cbrt',\n",
       " 'ceil',\n",
       " 'comb',\n",
       " 'copysign',\n",
       " 'cos',\n",
       " 'cosh',\n",
       " 'degrees',\n",
       " 'dist',\n",
       " 'e',\n",
       " 'erf',\n",
       " 'erfc',\n",
       " 'exp',\n",
       " 'exp2',\n",
       " 'expm1',\n",
       " 'fabs',\n",
       " 'factorial',\n",
       " 'floor',\n",
       " 'fmod',\n",
       " 'frexp',\n",
       " 'fsum',\n",
       " 'gamma',\n",
       " 'gcd',\n",
       " 'hypot',\n",
       " 'inf',\n",
       " 'isclose',\n",
       " 'isfinite',\n",
       " 'isinf',\n",
       " 'isnan',\n",
       " 'isqrt',\n",
       " 'lcm',\n",
       " 'ldexp',\n",
       " 'lgamma',\n",
       " 'log',\n",
       " 'log10',\n",
       " 'log1p',\n",
       " 'log2',\n",
       " 'modf',\n",
       " 'nan',\n",
       " 'nextafter',\n",
       " 'perm',\n",
       " 'pi',\n",
       " 'pow',\n",
       " 'prod',\n",
       " 'radians',\n",
       " 'remainder',\n",
       " 'sin',\n",
       " 'sinh',\n",
       " 'sqrt',\n",
       " 'tan',\n",
       " 'tanh',\n",
       " 'tau',\n",
       " 'trunc',\n",
       " 'ulp']"
      ]
     },
     "execution_count": 3,
     "metadata": {},
     "output_type": "execute_result"
    }
   ],
   "source": [
    "dir(math)"
   ]
  },
  {
   "cell_type": "code",
   "execution_count": 7,
   "id": "4e622a91",
   "metadata": {},
   "outputs": [
    {
     "data": {
      "text/plain": [
       "120"
      ]
     },
     "execution_count": 7,
     "metadata": {},
     "output_type": "execute_result"
    }
   ],
   "source": [
    "m.factorial(5)"
   ]
  },
  {
   "cell_type": "code",
   "execution_count": 11,
   "id": "d56f2233",
   "metadata": {},
   "outputs": [],
   "source": [
    "from math import pi"
   ]
  },
  {
   "cell_type": "code",
   "execution_count": 14,
   "id": "81f8818f",
   "metadata": {},
   "outputs": [],
   "source": [
    "import math"
   ]
  },
  {
   "cell_type": "code",
   "execution_count": 15,
   "id": "9ddf4b59",
   "metadata": {},
   "outputs": [
    {
     "data": {
      "text/plain": [
       "7"
      ]
     },
     "execution_count": 15,
     "metadata": {},
     "output_type": "execute_result"
    }
   ],
   "source": [
    "math.ceil(6.5)"
   ]
  },
  {
   "cell_type": "code",
   "execution_count": 1,
   "id": "2dd1bff1",
   "metadata": {},
   "outputs": [
    {
     "name": "stdout",
     "output_type": "stream",
     "text": [
      "5.0\n",
      "625.0\n",
      "72004899337.38588\n",
      "0.7071067811865476\n",
      "0.7071067811865476\n",
      "3.141592653589793\n",
      "2.718281828459045\n"
     ]
    }
   ],
   "source": [
    "import math\n",
    "\n",
    "x = 25\n",
    "y = 2\n",
    "\n",
    "# Square root\n",
    "print(math.sqrt(x))  # Output: 5.0\n",
    "\n",
    "# Power\n",
    "print(math.pow(x, y))  # Output: 625.0\n",
    "\n",
    "# Exponential\n",
    "print(math.exp(x))  # Output: 72004899337.38589\n",
    "\n",
    "# Sine and Cosine\n",
    "angle_rad = math.radians(45)\n",
    "print(math.sin(angle_rad))  # Output: 0.7071067811865475\n",
    "print(math.cos(angle_rad))  # Output: 0.7071067811865476\n",
    "\n",
    "# Constants\n",
    "print(math.pi)  # Output: 3.141592653589793\n",
    "print(math.e)   # Output: 2.718281828459045\n"
   ]
  },
  {
   "cell_type": "code",
   "execution_count": 16,
   "id": "7cf65b28",
   "metadata": {},
   "outputs": [
    {
     "data": {
      "text/plain": [
       "6"
      ]
     },
     "execution_count": 16,
     "metadata": {},
     "output_type": "execute_result"
    }
   ],
   "source": [
    "math.floor(6.5)"
   ]
  },
  {
   "cell_type": "code",
   "execution_count": 17,
   "id": "d3f98855",
   "metadata": {},
   "outputs": [
    {
     "data": {
      "text/plain": [
       "8.0"
      ]
     },
     "execution_count": 17,
     "metadata": {},
     "output_type": "execute_result"
    }
   ],
   "source": [
    "math.pow(2,3)"
   ]
  },
  {
   "cell_type": "markdown",
   "id": "d62137ec",
   "metadata": {},
   "source": [
    "## OS module"
   ]
  },
  {
   "cell_type": "markdown",
   "id": "fa91ee4b",
   "metadata": {},
   "source": [
    "The `os` module is another built-in module in Python that provides a way to interact with the operating system. It allows you to perform various operations related to the operating system, such as file and directory manipulation, environment variables, process handling, and more. The `os` module is an essential tool for writing platform-independent code that can work seamlessly across different operating systems.\n",
    "\n",
    "To use the `os` module, you need to import it first using the `import` statement:\n",
    "\n",
    "```python\n",
    "import os\n",
    "```\n",
    "\n",
    "Here are some of the commonly used functions and features of the `os` module:\n",
    "\n",
    "**Working with Files and Directories:**\n",
    "\n",
    "1. `os.getcwd()`: Returns the current working directory as a string.\n",
    "2. `os.chdir(path)`: Changes the current working directory to the specified path.\n",
    "3. `os.listdir(path)`: Returns a list of all files and directories in the given path.\n",
    "4. `os.mkdir(path)`: Creates a new directory at the specified path.\n",
    "5. `os.makedirs(path)`: Creates a new directory and all intermediate directories along the path if they do not exist.\n",
    "6. `os.remove(path)`: Deletes the file at the specified path.\n",
    "7. `os.rmdir(path)`: Deletes the directory at the specified path (only works for empty directories).\n",
    "8. `os.removedirs(path)`: Deletes a directory and all intermediate directories if they are empty.\n",
    "9. `os.rename(old, new)`: Renames a file or directory from `old` to `new`.\n",
    "\n",
    "**Working with Environment Variables:**\n",
    "\n",
    "1. `os.environ`: A dictionary containing the environment variables of the current process.\n",
    "2. `os.getenv(var_name)`: Returns the value of the environment variable `var_name`.\n",
    "3. `os.putenv(var_name, value)`: Sets the value of the environment variable `var_name` to `value`.\n",
    "\n",
    "**Miscellaneous Functions:**\n",
    "\n",
    "1. `os.system(command)`: Executes the shell command in the underlying operating system.\n",
    "2. `os.path.join(path1, path2, ...)`: Joins one or more path components intelligently.\n",
    "3. `os.path.exists(path)`: Returns `True` if the specified path exists, `False` otherwise.\n",
    "4. `os.path.isfile(path)`: Returns `True` if the specified path points to a regular file, `False` otherwise.\n",
    "5. `os.path.isdir(path)`: Returns `True` if the specified path points to a directory, `False` otherwise.\n",
    "\n",
    "Here's an example demonstrating the usage of some functions from the `os` module:\n",
    "\n",
    "```python\n",
    "import os\n",
    "\n",
    "# Working with Files and Directories\n",
    "print(os.getcwd())  # Output: Current working directory path\n",
    "os.mkdir(\"new_directory\")\n",
    "os.rename(\"new_directory\", \"renamed_directory\")\n",
    "os.remove(\"file_to_delete.txt\")\n",
    "\n",
    "# Working with Environment Variables\n",
    "print(os.environ['HOME'])  # Output: The value of the HOME environment variable\n",
    "\n",
    "# Miscellaneous Functions\n",
    "path1 = \"/path/to/folder\"\n",
    "path2 = \"file.txt\"\n",
    "print(os.path.join(path1, path2))  # Output: \"/path/to/folder/file.txt\"\n",
    "print(os.path.exists(\"/path/to/file\"))  # Output: True or False\n",
    "print(os.path.isfile(\"/path/to/file\"))  # Output: True or False\n",
    "```\n",
    "\n",
    "The `os` module is a powerful tool for working with files, directories, and system-related tasks, making it an essential module for various Python applications, including file management, automation scripts, and system administration tasks."
   ]
  },
  {
   "cell_type": "code",
   "execution_count": 18,
   "id": "05f9890b",
   "metadata": {},
   "outputs": [],
   "source": [
    "import time"
   ]
  },
  {
   "cell_type": "markdown",
   "id": "d9bdf1a3",
   "metadata": {},
   "source": [
    "The `time` module is a built-in module in Python that provides various functions for working with time-related tasks. It allows you to measure time intervals, work with timestamps, and handle time-related calculations. The `time` module is essential for tasks that involve timing, scheduling, or measuring the performance of code.\n",
    "\n",
    "To use the `time` module, you need to import it first using the `import` statement:\n",
    "\n",
    "```python\n",
    "import time\n",
    "```\n",
    "\n",
    "Here are some of the commonly used functions and features of the `time` module:\n",
    "\n",
    "**Getting the Current Time:**\n",
    "\n",
    "1. `time.time()`: Returns the current time in seconds since the epoch (January 1, 1970, 00:00:00 UTC). It is often used for timing purposes.\n",
    "\n",
    "**Working with Local Time:**\n",
    "\n",
    "2. `time.localtime([timestamp])`: Converts a timestamp (seconds since the epoch) into a time tuple representing the local time (year, month, day, hour, minute, second, day of the week, day of the year, daylight saving time).\n",
    "\n",
    "3. `time.asctime([time_tuple])`: Converts a time tuple into a string representation of the local time in a human-readable format.\n",
    "\n",
    "**Working with Formatted Time:**\n",
    "\n",
    "4. `time.strftime(format_string, [time_tuple])`: Converts a time tuple into a string representation of the time according to the specified format. The `format_string` follows the directives specified by the `strftime()` method.\n",
    "\n",
    "**Sleeping:**\n",
    "\n",
    "5. `time.sleep(seconds)`: Suspends the execution of the current thread for the given number of seconds.\n",
    "\n",
    "Here's an example demonstrating the usage of some functions from the `time` module:\n",
    "\n",
    "```python\n",
    "import time\n",
    "\n",
    "# Getting the Current Time\n",
    "current_time = time.time()\n",
    "print(current_time)  # Output: A floating-point number representing the current time in seconds\n",
    "\n",
    "# Working with Local Time\n",
    "local_time_tuple = time.localtime(current_time)\n",
    "print(local_time_tuple)  # Output: A time tuple representing the local time\n",
    "\n",
    "# Working with Formatted Time\n",
    "formatted_time = time.strftime(\"%Y-%m-%d %H:%M:%S\", local_time_tuple)\n",
    "print(formatted_time)  # Output: A string representing the local time in the specified format\n",
    "\n",
    "# Sleeping\n",
    "print(\"Start\")\n",
    "time.sleep(2)  # Pauses the execution for 2 seconds\n",
    "print(\"End\")\n",
    "```\n",
    "\n",
    "The `time` module is useful in various scenarios, such as timing code execution, creating timestamped logs, scheduling tasks, and working with date and time data. However, for more advanced time-related tasks, like dealing with time zones or performing more complex date/time calculations, you might want to consider using the `datetime` module, which provides additional functionalities for handling dates and times in Python."
   ]
  },
  {
   "cell_type": "markdown",
   "id": "4c063387",
   "metadata": {},
   "source": [
    "## log file"
   ]
  },
  {
   "cell_type": "markdown",
   "id": "2d09a86e",
   "metadata": {},
   "source": [
    "### time+file handling"
   ]
  },
  {
   "cell_type": "code",
   "execution_count": 57,
   "id": "cd536547",
   "metadata": {},
   "outputs": [],
   "source": [
    "log = open(\"log.txt\",'w+')"
   ]
  },
  {
   "cell_type": "code",
   "execution_count": 25,
   "id": "27795ddc",
   "metadata": {},
   "outputs": [
    {
     "data": {
      "text/plain": [
       "136"
      ]
     },
     "execution_count": 25,
     "metadata": {},
     "output_type": "execute_result"
    }
   ],
   "source": [
    "log.write(f\"the time is now{time.localtime()}\")"
   ]
  },
  {
   "cell_type": "code",
   "execution_count": 58,
   "id": "3556aa58",
   "metadata": {},
   "outputs": [],
   "source": [
    "now = time.strftime(\"%d %b %Y: %H:%M:%S\")"
   ]
  },
  {
   "cell_type": "code",
   "execution_count": 59,
   "id": "33dfb496",
   "metadata": {},
   "outputs": [
    {
     "data": {
      "text/plain": [
       "58"
      ]
     },
     "execution_count": 59,
     "metadata": {},
     "output_type": "execute_result"
    }
   ],
   "source": [
    "log.write(f\"{now}  : I am eating\\n\")\n",
    "log.write(f\"{now}  : I am learning python programming\\n\")"
   ]
  },
  {
   "cell_type": "code",
   "execution_count": 60,
   "id": "30d8982f",
   "metadata": {},
   "outputs": [],
   "source": [
    "log.close()"
   ]
  },
  {
   "cell_type": "markdown",
   "id": "c592c93a",
   "metadata": {},
   "source": [
    "## Creating module"
   ]
  },
  {
   "cell_type": "markdown",
   "id": "a3cfd3cf",
   "metadata": {},
   "source": [
    "Creating a module in Python is a straightforward process. A module is simply a Python file containing functions, classes, or variables that you want to make available for use in other Python scripts. Here's a step-by-step guide to creating your own Python module:\n",
    "\n",
    "1. **Create a Python File:**\n",
    "Start by creating a new Python file with a `.py` extension. This file will serve as your module. For example, let's create a simple module named `my_module.py`.\n",
    "\n",
    "2. **Define Functions or Variables:**\n",
    "Inside the `my_module.py` file, define the functions, classes, or variables that you want to include in the module. For example:\n",
    "\n",
    "```python\n",
    "# my_module.py\n",
    "\n",
    "def greet(name):\n",
    "    return f\"Hello, {name}!\"\n",
    "\n",
    "def add(a, b):\n",
    "    return a + b\n",
    "\n",
    "PI = 3.1415926\n",
    "```\n",
    "\n",
    "In this example, we have defined two functions (`greet()` and `add()`) and a variable `PI`.\n",
    "\n",
    "3. **Use the Module in Other Scripts:**\n",
    "Now that you have created your module, you can use it in other Python scripts. To do this, place the `my_module.py` file in the same directory as your script, and then use the `import` statement to import the module.\n",
    "\n",
    "For example, create a new Python script named `main.py`:\n",
    "\n",
    "```python\n",
    "# main.py\n",
    "\n",
    "import my_module\n",
    "\n",
    "result = my_module.greet(\"Alice\")\n",
    "print(result)\n",
    "\n",
    "sum_result = my_module.add(5, 3)\n",
    "print(sum_result)\n",
    "\n",
    "print(my_module.PI)\n",
    "```\n",
    "\n",
    "4. **Run the Script:**\n",
    "Run the `main.py` script, and it will import and use the functions and variables defined in the `my_module.py` module. You should see the following output:\n",
    "\n",
    "```\n",
    "Hello, Alice!\n",
    "8\n",
    "3.1415926\n",
    "```\n",
    "\n",
    "And that's it! You've successfully created and used a Python module.\n",
    "\n",
    "It's essential to remember that the module and the script using it should be in the same directory or in a directory included in the Python path. If the module is in a different location, you can include its path in the script using the `sys.path.append()` method before importing the module.\n",
    "\n",
    "```python\n",
    "import sys\n",
    "sys.path.append(\"/path/to/module/directory\")\n",
    "import my_module\n",
    "```\n",
    "\n",
    "By creating modules, you can organize your code into reusable units, promoting code clarity and maintainability in your projects. As your Python projects grow in complexity, using modules becomes crucial for managing and scaling your code effectively."
   ]
  },
  {
   "cell_type": "code",
   "execution_count": 65,
   "id": "88c8c3ec",
   "metadata": {},
   "outputs": [],
   "source": [
    "import innomatics"
   ]
  },
  {
   "cell_type": "code",
   "execution_count": 66,
   "id": "165d1c77",
   "metadata": {},
   "outputs": [
    {
     "name": "stdout",
     "output_type": "stream",
     "text": [
      "JNTU\n",
      "Gachibowli\n"
     ]
    }
   ],
   "source": [
    "innomatics.place()"
   ]
  },
  {
   "cell_type": "code",
   "execution_count": 67,
   "id": "67d79c8b",
   "metadata": {},
   "outputs": [
    {
     "name": "stdout",
     "output_type": "stream",
     "text": [
      "Data science\n",
      "Data Analysis\n",
      "AI\n",
      "SQL\n",
      "Tableau\n"
     ]
    }
   ],
   "source": [
    "innomatics.course()"
   ]
  },
  {
   "cell_type": "code",
   "execution_count": null,
   "id": "c547ffc3",
   "metadata": {},
   "outputs": [],
   "source": []
  }
 ],
 "metadata": {
  "kernelspec": {
   "display_name": "Python 3 (ipykernel)",
   "language": "python",
   "name": "python3"
  },
  "language_info": {
   "codemirror_mode": {
    "name": "ipython",
    "version": 3
   },
   "file_extension": ".py",
   "mimetype": "text/x-python",
   "name": "python",
   "nbconvert_exporter": "python",
   "pygments_lexer": "ipython3",
   "version": "3.11.2"
  }
 },
 "nbformat": 4,
 "nbformat_minor": 5
}
