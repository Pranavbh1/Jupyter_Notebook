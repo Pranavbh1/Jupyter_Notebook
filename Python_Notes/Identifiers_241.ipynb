{
 "cells": [
  {
   "cell_type": "markdown",
   "id": "0f1bf066",
   "metadata": {},
   "source": [
    "allowed characters"
   ]
  },
  {
   "cell_type": "markdown",
   "id": "2e188ba0",
   "metadata": {},
   "source": [
    "a-z,A-Z,0-9,_"
   ]
  },
  {
   "cell_type": "markdown",
   "id": "2f55b478",
   "metadata": {},
   "source": [
    "Not Allowed"
   ]
  },
  {
   "cell_type": "markdown",
   "id": "5ea59a43",
   "metadata": {},
   "source": [
    "special characters(except underscore),keywords"
   ]
  },
  {
   "cell_type": "code",
   "execution_count": 2,
   "id": "9b747506",
   "metadata": {},
   "outputs": [],
   "source": [
    "name = \"Python\""
   ]
  },
  {
   "cell_type": "code",
   "execution_count": 3,
   "id": "21ace202",
   "metadata": {},
   "outputs": [],
   "source": [
    "NUMBER = 4"
   ]
  },
  {
   "cell_type": "code",
   "execution_count": 4,
   "id": "ed741926",
   "metadata": {},
   "outputs": [],
   "source": [
    "Loan = 45000"
   ]
  },
  {
   "cell_type": "code",
   "execution_count": 5,
   "id": "2319b813",
   "metadata": {},
   "outputs": [],
   "source": [
    "##"
   ]
  },
  {
   "cell_type": "code",
   "execution_count": 6,
   "id": "afd088e4",
   "metadata": {},
   "outputs": [
    {
     "ename": "SyntaxError",
     "evalue": "invalid decimal literal (4058953598.py, line 1)",
     "output_type": "error",
     "traceback": [
      "\u001b[1;36m  Cell \u001b[1;32mIn[6], line 1\u001b[1;36m\u001b[0m\n\u001b[1;33m    1Loan = 45000\u001b[0m\n\u001b[1;37m    ^\u001b[0m\n\u001b[1;31mSyntaxError\u001b[0m\u001b[1;31m:\u001b[0m invalid decimal literal\n"
     ]
    }
   ],
   "source": [
    "1Loan = 45000"
   ]
  },
  {
   "cell_type": "code",
   "execution_count": 7,
   "id": "8546e238",
   "metadata": {},
   "outputs": [],
   "source": [
    "loan2 = 45000"
   ]
  },
  {
   "cell_type": "code",
   "execution_count": 8,
   "id": "f81a6f1d",
   "metadata": {},
   "outputs": [],
   "source": [
    "loa3n = 4500"
   ]
  },
  {
   "cell_type": "code",
   "execution_count": 9,
   "id": "636c0018",
   "metadata": {},
   "outputs": [],
   "source": [
    "## should not contain keywords"
   ]
  },
  {
   "cell_type": "code",
   "execution_count": 12,
   "id": "5a96922e",
   "metadata": {},
   "outputs": [
    {
     "data": {
      "text/plain": [
       "['False',\n",
       " 'None',\n",
       " 'True',\n",
       " 'and',\n",
       " 'as',\n",
       " 'assert',\n",
       " 'async',\n",
       " 'await',\n",
       " 'break',\n",
       " 'class',\n",
       " 'continue',\n",
       " 'def',\n",
       " 'del',\n",
       " 'elif',\n",
       " 'else',\n",
       " 'except',\n",
       " 'finally',\n",
       " 'for',\n",
       " 'from',\n",
       " 'global',\n",
       " 'if',\n",
       " 'import',\n",
       " 'in',\n",
       " 'is',\n",
       " 'lambda',\n",
       " 'nonlocal',\n",
       " 'not',\n",
       " 'or',\n",
       " 'pass',\n",
       " 'raise',\n",
       " 'return',\n",
       " 'try',\n",
       " 'while',\n",
       " 'with',\n",
       " 'yield']"
      ]
     },
     "execution_count": 12,
     "metadata": {},
     "output_type": "execute_result"
    }
   ],
   "source": [
    "import keyword\n",
    "keyword.kwlist"
   ]
  },
  {
   "cell_type": "markdown",
   "id": "e5aa503c",
   "metadata": {},
   "source": [
    "'False',\n",
    " 'None',\n",
    " 'True',\n",
    " 'and',\n",
    " 'as',\n",
    " 'assert',\n",
    " 'async',\n",
    " 'await',\n",
    " 'break',\n",
    " 'class',\n",
    " 'continue',\n",
    " 'def',\n",
    " 'del',\n",
    " 'elif',\n",
    " 'else',\n",
    " 'except',\n",
    " 'finally',\n",
    " 'for',\n",
    " 'from',\n",
    " 'global',\n",
    " 'if',\n",
    " 'import',\n",
    " 'in',\n",
    " 'is',\n",
    " 'lambda',\n",
    " 'nonlocal',\n",
    " 'not',\n",
    " 'or',\n",
    " 'pass',\n",
    " 'raise',\n",
    " 'return',\n",
    " 'try',\n",
    " 'while',\n",
    " 'with',\n",
    " 'yield'"
   ]
  },
  {
   "cell_type": "code",
   "execution_count": 13,
   "id": "bb79a69d",
   "metadata": {},
   "outputs": [
    {
     "ename": "SyntaxError",
     "evalue": "cannot assign to False (714153054.py, line 1)",
     "output_type": "error",
     "traceback": [
      "\u001b[1;36m  Cell \u001b[1;32mIn[13], line 1\u001b[1;36m\u001b[0m\n\u001b[1;33m    False  = 10\u001b[0m\n\u001b[1;37m    ^\u001b[0m\n\u001b[1;31mSyntaxError\u001b[0m\u001b[1;31m:\u001b[0m cannot assign to False\n"
     ]
    }
   ],
   "source": [
    "False  = 10"
   ]
  },
  {
   "cell_type": "code",
   "execution_count": 14,
   "id": "116bc3fa",
   "metadata": {},
   "outputs": [
    {
     "ename": "SyntaxError",
     "evalue": "invalid syntax (479540663.py, line 1)",
     "output_type": "error",
     "traceback": [
      "\u001b[1;36m  Cell \u001b[1;32mIn[14], line 1\u001b[1;36m\u001b[0m\n\u001b[1;33m    while = \"Hello\"\u001b[0m\n\u001b[1;37m          ^\u001b[0m\n\u001b[1;31mSyntaxError\u001b[0m\u001b[1;31m:\u001b[0m invalid syntax\n"
     ]
    }
   ],
   "source": [
    "while = \"Hello\""
   ]
  },
  {
   "cell_type": "code",
   "execution_count": 15,
   "id": "743162fc",
   "metadata": {},
   "outputs": [
    {
     "data": {
      "text/plain": [
       "35"
      ]
     },
     "execution_count": 15,
     "metadata": {},
     "output_type": "execute_result"
    }
   ],
   "source": [
    "len(keyword.kwlist)"
   ]
  },
  {
   "cell_type": "code",
   "execution_count": 18,
   "id": "b729f2d7",
   "metadata": {},
   "outputs": [
    {
     "ename": "NameError",
     "evalue": "name 'py' is not defined",
     "output_type": "error",
     "traceback": [
      "\u001b[1;31m---------------------------------------------------------------------------\u001b[0m",
      "\u001b[1;31mNameError\u001b[0m                                 Traceback (most recent call last)",
      "Cell \u001b[1;32mIn[18], line 1\u001b[0m\n\u001b[1;32m----> 1\u001b[0m py\u001b[38;5;241m.\u001b[39m__version__\n",
      "\u001b[1;31mNameError\u001b[0m: name 'py' is not defined"
     ]
    }
   ],
   "source": [
    "continue = "
   ]
  },
  {
   "cell_type": "code",
   "execution_count": 19,
   "id": "14245869",
   "metadata": {},
   "outputs": [],
   "source": [
    "true = 30"
   ]
  },
  {
   "cell_type": "code",
   "execution_count": 20,
   "id": "c2c8d1a7",
   "metadata": {},
   "outputs": [
    {
     "ename": "SyntaxError",
     "evalue": "cannot assign to True (2600424155.py, line 1)",
     "output_type": "error",
     "traceback": [
      "\u001b[1;36m  Cell \u001b[1;32mIn[20], line 1\u001b[1;36m\u001b[0m\n\u001b[1;33m    True = 40\u001b[0m\n\u001b[1;37m    ^\u001b[0m\n\u001b[1;31mSyntaxError\u001b[0m\u001b[1;31m:\u001b[0m cannot assign to True\n"
     ]
    }
   ],
   "source": [
    "True = 40"
   ]
  },
  {
   "cell_type": "code",
   "execution_count": 21,
   "id": "b25bd9d4",
   "metadata": {},
   "outputs": [],
   "source": [
    "select = 509"
   ]
  },
  {
   "cell_type": "code",
   "execution_count": 22,
   "id": "de321469",
   "metadata": {},
   "outputs": [
    {
     "data": {
      "text/plain": [
       "509"
      ]
     },
     "execution_count": 22,
     "metadata": {},
     "output_type": "execute_result"
    }
   ],
   "source": [
    "select"
   ]
  },
  {
   "cell_type": "code",
   "execution_count": 23,
   "id": "3f964cb3",
   "metadata": {},
   "outputs": [
    {
     "ename": "NameError",
     "evalue": "name 'SELECT' is not defined",
     "output_type": "error",
     "traceback": [
      "\u001b[1;31m---------------------------------------------------------------------------\u001b[0m",
      "\u001b[1;31mNameError\u001b[0m                                 Traceback (most recent call last)",
      "Cell \u001b[1;32mIn[23], line 1\u001b[0m\n\u001b[1;32m----> 1\u001b[0m SELECT\n",
      "\u001b[1;31mNameError\u001b[0m: name 'SELECT' is not defined"
     ]
    }
   ],
   "source": [
    "SELECT"
   ]
  },
  {
   "cell_type": "code",
   "execution_count": 24,
   "id": "06b60461",
   "metadata": {},
   "outputs": [],
   "source": [
    "name = \"Pratik\""
   ]
  },
  {
   "cell_type": "code",
   "execution_count": 25,
   "id": "f1b136b8",
   "metadata": {},
   "outputs": [
    {
     "data": {
      "text/plain": [
       "'Pratik'"
      ]
     },
     "execution_count": 25,
     "metadata": {},
     "output_type": "execute_result"
    }
   ],
   "source": [
    "name"
   ]
  },
  {
   "cell_type": "code",
   "execution_count": 27,
   "id": "807c4713",
   "metadata": {},
   "outputs": [],
   "source": [
    "student_name = \"Pranav\""
   ]
  },
  {
   "cell_type": "code",
   "execution_count": 28,
   "id": "e4c9c3e5",
   "metadata": {},
   "outputs": [
    {
     "data": {
      "text/plain": [
       "'Pranav'"
      ]
     },
     "execution_count": 28,
     "metadata": {},
     "output_type": "execute_result"
    }
   ],
   "source": [
    "student_name"
   ]
  },
  {
   "cell_type": "code",
   "execution_count": 29,
   "id": "02049417",
   "metadata": {},
   "outputs": [],
   "source": [
    "marks = 45"
   ]
  },
  {
   "cell_type": "code",
   "execution_count": 30,
   "id": "93a46db2",
   "metadata": {},
   "outputs": [
    {
     "ename": "SyntaxError",
     "evalue": "invalid syntax (1145847158.py, line 1)",
     "output_type": "error",
     "traceback": [
      "\u001b[1;36m  Cell \u001b[1;32mIn[30], line 1\u001b[1;36m\u001b[0m\n\u001b[1;33m    maths$marks = 45\u001b[0m\n\u001b[1;37m         ^\u001b[0m\n\u001b[1;31mSyntaxError\u001b[0m\u001b[1;31m:\u001b[0m invalid syntax\n"
     ]
    }
   ],
   "source": [
    "maths$marks = 45"
   ]
  },
  {
   "cell_type": "code",
   "execution_count": 32,
   "id": "9561cbae",
   "metadata": {},
   "outputs": [],
   "source": [
    "__marks = 45"
   ]
  },
  {
   "cell_type": "code",
   "execution_count": 33,
   "id": "6d2410fe",
   "metadata": {},
   "outputs": [],
   "source": [
    "marks4 = 67"
   ]
  },
  {
   "cell_type": "code",
   "execution_count": 36,
   "id": "06691943",
   "metadata": {},
   "outputs": [],
   "source": [
    "fjkSDJKSJKCSJDSJFUEWHDEdkaskjEDFUEWHDFJSDUFSDJDNSDJNDSDUWHDUHWEDJHWJDJSDJKJJHDUJEHDJEWDJHESDHEWJDHEWJDEWHDDHDDSJDDSJDSDHEWJDHJEWHDJEWDEWDSUDDSDSDFEERFJDFKJKDFJIFDIFREFIJFJDSFIUESFUSDDUDSJDUS = 10"
   ]
  },
  {
   "cell_type": "code",
   "execution_count": 37,
   "id": "78732519",
   "metadata": {},
   "outputs": [],
   "source": [
    "add =100"
   ]
  },
  {
   "cell_type": "code",
   "execution_count": 38,
   "id": "122d5b5d",
   "metadata": {},
   "outputs": [],
   "source": [
    "ADD = 20"
   ]
  },
  {
   "cell_type": "code",
   "execution_count": 39,
   "id": "eaee2ce4",
   "metadata": {},
   "outputs": [],
   "source": [
    "Add = 23"
   ]
  },
  {
   "cell_type": "markdown",
   "id": "b0e838ce",
   "metadata": {},
   "source": [
    "How can we assign variable names?"
   ]
  },
  {
   "cell_type": "markdown",
   "id": "8700abdb",
   "metadata": {},
   "source": [
    "dos:"
   ]
  },
  {
   "cell_type": "code",
   "execution_count": null,
   "id": "90971a77",
   "metadata": {},
   "outputs": [],
   "source": []
  },
  {
   "cell_type": "code",
   "execution_count": null,
   "id": "d7e11f84",
   "metadata": {},
   "outputs": [],
   "source": []
  },
  {
   "cell_type": "code",
   "execution_count": 40,
   "id": "8d1ad971",
   "metadata": {},
   "outputs": [
    {
     "ename": "SyntaxError",
     "evalue": "invalid decimal literal (1611579372.py, line 1)",
     "output_type": "error",
     "traceback": [
      "\u001b[1;36m  Cell \u001b[1;32mIn[40], line 1\u001b[1;36m\u001b[0m\n\u001b[1;33m    1marks = 24\u001b[0m\n\u001b[1;37m    ^\u001b[0m\n\u001b[1;31mSyntaxError\u001b[0m\u001b[1;31m:\u001b[0m invalid decimal literal\n"
     ]
    }
   ],
   "source": [
    "1marks = 24"
   ]
  },
  {
   "cell_type": "code",
   "execution_count": null,
   "id": "2e5eaa33",
   "metadata": {},
   "outputs": [],
   "source": []
  }
 ],
 "metadata": {
  "kernelspec": {
   "display_name": "Python 3 (ipykernel)",
   "language": "python",
   "name": "python3"
  },
  "language_info": {
   "codemirror_mode": {
    "name": "ipython",
    "version": 3
   },
   "file_extension": ".py",
   "mimetype": "text/x-python",
   "name": "python",
   "nbconvert_exporter": "python",
   "pygments_lexer": "ipython3",
   "version": "3.11.2"
  }
 },
 "nbformat": 4,
 "nbformat_minor": 5
}
