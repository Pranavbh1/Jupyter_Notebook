{
 "cells": [
  {
   "cell_type": "code",
   "execution_count": 1,
   "id": "4759e67f",
   "metadata": {},
   "outputs": [],
   "source": [
    "list1 = [1,2,3,10,15,17]"
   ]
  },
  {
   "cell_type": "code",
   "execution_count": 2,
   "id": "880d18c7",
   "metadata": {},
   "outputs": [
    {
     "data": {
      "text/plain": [
       "48"
      ]
     },
     "execution_count": 2,
     "metadata": {},
     "output_type": "execute_result"
    }
   ],
   "source": [
    "sum(list1)  ##adds all the elements inside list"
   ]
  },
  {
   "cell_type": "code",
   "execution_count": 3,
   "id": "8dcddb51",
   "metadata": {},
   "outputs": [
    {
     "data": {
      "text/plain": [
       "17"
      ]
     },
     "execution_count": 3,
     "metadata": {},
     "output_type": "execute_result"
    }
   ],
   "source": [
    "max(list1)  #returns to maximum value"
   ]
  },
  {
   "cell_type": "code",
   "execution_count": 4,
   "id": "9ab5eed7",
   "metadata": {},
   "outputs": [
    {
     "data": {
      "text/plain": [
       "1"
      ]
     },
     "execution_count": 4,
     "metadata": {},
     "output_type": "execute_result"
    }
   ],
   "source": [
    "min(list1)  #returns to minimum value"
   ]
  },
  {
   "cell_type": "code",
   "execution_count": 5,
   "id": "d5fdd0d0",
   "metadata": {},
   "outputs": [
    {
     "data": {
      "text/plain": [
       "6"
      ]
     },
     "execution_count": 5,
     "metadata": {},
     "output_type": "execute_result"
    }
   ],
   "source": [
    "len(list1)"
   ]
  },
  {
   "cell_type": "code",
   "execution_count": 7,
   "id": "b3325101",
   "metadata": {},
   "outputs": [],
   "source": [
    "average = sum(list1)/ len(list1)"
   ]
  },
  {
   "cell_type": "code",
   "execution_count": 8,
   "id": "58558d29",
   "metadata": {},
   "outputs": [
    {
     "data": {
      "text/plain": [
       "8.0"
      ]
     },
     "execution_count": 8,
     "metadata": {},
     "output_type": "execute_result"
    }
   ],
   "source": [
    "average"
   ]
  },
  {
   "cell_type": "markdown",
   "id": "aad7e502",
   "metadata": {},
   "source": [
    "# Basic Operators"
   ]
  },
  {
   "cell_type": "code",
   "execution_count": 9,
   "id": "e09abb06",
   "metadata": {},
   "outputs": [],
   "source": [
    "list1 = [1,2,3,4,[6,7,8]]"
   ]
  },
  {
   "cell_type": "code",
   "execution_count": 10,
   "id": "02bd639b",
   "metadata": {},
   "outputs": [
    {
     "data": {
      "text/plain": [
       "[1, 2, 3, 4, [6, 7, 8]]"
      ]
     },
     "execution_count": 10,
     "metadata": {},
     "output_type": "execute_result"
    }
   ],
   "source": [
    "list1"
   ]
  },
  {
   "cell_type": "code",
   "execution_count": 11,
   "id": "6808521f",
   "metadata": {},
   "outputs": [
    {
     "data": {
      "text/plain": [
       "[6, 7, 8]"
      ]
     },
     "execution_count": 11,
     "metadata": {},
     "output_type": "execute_result"
    }
   ],
   "source": [
    "list1[-1]"
   ]
  },
  {
   "cell_type": "code",
   "execution_count": 13,
   "id": "f99a9968",
   "metadata": {},
   "outputs": [
    {
     "data": {
      "text/plain": [
       "6"
      ]
     },
     "execution_count": 13,
     "metadata": {},
     "output_type": "execute_result"
    }
   ],
   "source": [
    "list1[4][0]"
   ]
  },
  {
   "cell_type": "code",
   "execution_count": 14,
   "id": "de2ac387",
   "metadata": {},
   "outputs": [
    {
     "data": {
      "text/plain": [
       "8"
      ]
     },
     "execution_count": 14,
     "metadata": {},
     "output_type": "execute_result"
    }
   ],
   "source": [
    "list1[4][2]"
   ]
  },
  {
   "cell_type": "code",
   "execution_count": 15,
   "id": "36c5313c",
   "metadata": {},
   "outputs": [],
   "source": [
    "list1 = [1,2,3,4]\n",
    "list2 = [7,8,9,10]"
   ]
  },
  {
   "cell_type": "code",
   "execution_count": 17,
   "id": "a19d1ee3",
   "metadata": {},
   "outputs": [
    {
     "data": {
      "text/plain": [
       "[7, 8, 9, 10, 1, 2, 3, 4]"
      ]
     },
     "execution_count": 17,
     "metadata": {},
     "output_type": "execute_result"
    }
   ],
   "source": [
    "list2 +list1"
   ]
  },
  {
   "cell_type": "code",
   "execution_count": 18,
   "id": "69d213a2",
   "metadata": {},
   "outputs": [
    {
     "data": {
      "text/plain": [
       "[1, 2, 3, 4]"
      ]
     },
     "execution_count": 18,
     "metadata": {},
     "output_type": "execute_result"
    }
   ],
   "source": [
    "list1"
   ]
  },
  {
   "cell_type": "code",
   "execution_count": 19,
   "id": "390bbe7d",
   "metadata": {},
   "outputs": [
    {
     "data": {
      "text/plain": [
       "[1, 2, 3, 4, 1, 2, 3, 4]"
      ]
     },
     "execution_count": 19,
     "metadata": {},
     "output_type": "execute_result"
    }
   ],
   "source": [
    "list1 *2"
   ]
  },
  {
   "cell_type": "markdown",
   "id": "d5072b6c",
   "metadata": {},
   "source": [
    "### Membership operator"
   ]
  },
  {
   "cell_type": "code",
   "execution_count": 25,
   "id": "a17b7eb0",
   "metadata": {},
   "outputs": [
    {
     "data": {
      "text/plain": [
       "[1, 2, 3, 4]"
      ]
     },
     "execution_count": 25,
     "metadata": {},
     "output_type": "execute_result"
    }
   ],
   "source": [
    "list1"
   ]
  },
  {
   "cell_type": "code",
   "execution_count": 26,
   "id": "1f2ee22e",
   "metadata": {},
   "outputs": [
    {
     "data": {
      "text/plain": [
       "True"
      ]
     },
     "execution_count": 26,
     "metadata": {},
     "output_type": "execute_result"
    }
   ],
   "source": [
    "1 in list1"
   ]
  },
  {
   "cell_type": "code",
   "execution_count": 27,
   "id": "be3ba863",
   "metadata": {},
   "outputs": [
    {
     "data": {
      "text/plain": [
       "False"
      ]
     },
     "execution_count": 27,
     "metadata": {},
     "output_type": "execute_result"
    }
   ],
   "source": [
    "10 in list1"
   ]
  },
  {
   "cell_type": "code",
   "execution_count": 28,
   "id": "523bd367",
   "metadata": {},
   "outputs": [
    {
     "data": {
      "text/plain": [
       "False"
      ]
     },
     "execution_count": 28,
     "metadata": {},
     "output_type": "execute_result"
    }
   ],
   "source": [
    "'4' in list1"
   ]
  },
  {
   "cell_type": "code",
   "execution_count": 29,
   "id": "5450ee7b",
   "metadata": {},
   "outputs": [
    {
     "data": {
      "text/plain": [
       "False"
      ]
     },
     "execution_count": 29,
     "metadata": {},
     "output_type": "execute_result"
    }
   ],
   "source": [
    "4 not in list1"
   ]
  },
  {
   "cell_type": "markdown",
   "id": "a4224a13",
   "metadata": {},
   "source": [
    "## Identity operators"
   ]
  },
  {
   "cell_type": "code",
   "execution_count": 32,
   "id": "e0dd87f4",
   "metadata": {},
   "outputs": [],
   "source": [
    "list1 = [1,2,3,4]"
   ]
  },
  {
   "cell_type": "code",
   "execution_count": 33,
   "id": "4c46170f",
   "metadata": {},
   "outputs": [],
   "source": [
    "list2 = [1,2,3,4]"
   ]
  },
  {
   "cell_type": "code",
   "execution_count": 34,
   "id": "a97a131f",
   "metadata": {},
   "outputs": [
    {
     "data": {
      "text/plain": [
       "False"
      ]
     },
     "execution_count": 34,
     "metadata": {},
     "output_type": "execute_result"
    }
   ],
   "source": [
    "list1 is list2"
   ]
  },
  {
   "cell_type": "code",
   "execution_count": 35,
   "id": "e169ef8d",
   "metadata": {},
   "outputs": [
    {
     "data": {
      "text/plain": [
       "2003250750848"
      ]
     },
     "execution_count": 35,
     "metadata": {},
     "output_type": "execute_result"
    }
   ],
   "source": [
    "id(list1)"
   ]
  },
  {
   "cell_type": "code",
   "execution_count": 36,
   "id": "a422d90f",
   "metadata": {},
   "outputs": [
    {
     "data": {
      "text/plain": [
       "2003250732480"
      ]
     },
     "execution_count": 36,
     "metadata": {},
     "output_type": "execute_result"
    }
   ],
   "source": [
    "id(list2)"
   ]
  },
  {
   "cell_type": "code",
   "execution_count": 37,
   "id": "3ef20ef9",
   "metadata": {},
   "outputs": [
    {
     "data": {
      "text/plain": [
       "1"
      ]
     },
     "execution_count": 37,
     "metadata": {},
     "output_type": "execute_result"
    }
   ],
   "source": [
    "list1[0]"
   ]
  },
  {
   "cell_type": "code",
   "execution_count": 38,
   "id": "81ba0258",
   "metadata": {},
   "outputs": [
    {
     "data": {
      "text/plain": [
       "1"
      ]
     },
     "execution_count": 38,
     "metadata": {},
     "output_type": "execute_result"
    }
   ],
   "source": [
    "list2[0]"
   ]
  },
  {
   "cell_type": "code",
   "execution_count": 39,
   "id": "71349e11",
   "metadata": {},
   "outputs": [
    {
     "data": {
      "text/plain": [
       "True"
      ]
     },
     "execution_count": 39,
     "metadata": {},
     "output_type": "execute_result"
    }
   ],
   "source": [
    "list1[0] is list2[0]"
   ]
  },
  {
   "cell_type": "code",
   "execution_count": 40,
   "id": "d419e4fa",
   "metadata": {},
   "outputs": [],
   "source": [
    "list3 = [1.2,2.3,2,3]\n",
    "list4 = [1,1.2,2.4,4]"
   ]
  },
  {
   "cell_type": "code",
   "execution_count": 41,
   "id": "357bdebc",
   "metadata": {},
   "outputs": [
    {
     "data": {
      "text/plain": [
       "1.2"
      ]
     },
     "execution_count": 41,
     "metadata": {},
     "output_type": "execute_result"
    }
   ],
   "source": [
    "list3[0]"
   ]
  },
  {
   "cell_type": "code",
   "execution_count": 42,
   "id": "3b92be71",
   "metadata": {},
   "outputs": [
    {
     "data": {
      "text/plain": [
       "1.2"
      ]
     },
     "execution_count": 42,
     "metadata": {},
     "output_type": "execute_result"
    }
   ],
   "source": [
    "list4[1]"
   ]
  },
  {
   "cell_type": "code",
   "execution_count": 43,
   "id": "b055fe6d",
   "metadata": {},
   "outputs": [
    {
     "data": {
      "text/plain": [
       "False"
      ]
     },
     "execution_count": 43,
     "metadata": {},
     "output_type": "execute_result"
    }
   ],
   "source": [
    "list3[0] is list4[1]"
   ]
  },
  {
   "cell_type": "markdown",
   "id": "54c5b8c6",
   "metadata": {},
   "source": [
    "# Tuple"
   ]
  },
  {
   "cell_type": "markdown",
   "id": "1656b875",
   "metadata": {},
   "source": [
    "1. Immutable\n",
    "2. Ordered\n",
    "3. Duplicates are allowed\n",
    "4. index/slicing "
   ]
  },
  {
   "cell_type": "markdown",
   "id": "91930cd8",
   "metadata": {},
   "source": [
    "#### representation"
   ]
  },
  {
   "cell_type": "code",
   "execution_count": 44,
   "id": "7f19ecd8",
   "metadata": {},
   "outputs": [],
   "source": [
    "t = (1,2,3,4)  #using parathesis"
   ]
  },
  {
   "cell_type": "code",
   "execution_count": 45,
   "id": "c96b0bcd",
   "metadata": {},
   "outputs": [
    {
     "data": {
      "text/plain": [
       "tuple"
      ]
     },
     "execution_count": 45,
     "metadata": {},
     "output_type": "execute_result"
    }
   ],
   "source": [
    "type(t)"
   ]
  },
  {
   "cell_type": "code",
   "execution_count": 47,
   "id": "78ca5c54",
   "metadata": {},
   "outputs": [],
   "source": [
    "t1 = tuple([6,7,8,9]) #from list"
   ]
  },
  {
   "cell_type": "code",
   "execution_count": 48,
   "id": "2a5a7c67",
   "metadata": {},
   "outputs": [
    {
     "data": {
      "text/plain": [
       "tuple"
      ]
     },
     "execution_count": 48,
     "metadata": {},
     "output_type": "execute_result"
    }
   ],
   "source": [
    "type(t1)"
   ]
  },
  {
   "cell_type": "code",
   "execution_count": 49,
   "id": "a2f17e46",
   "metadata": {},
   "outputs": [],
   "source": [
    "val = 3,4,5,6   #packing"
   ]
  },
  {
   "cell_type": "code",
   "execution_count": 50,
   "id": "7c0861a3",
   "metadata": {},
   "outputs": [
    {
     "data": {
      "text/plain": [
       "tuple"
      ]
     },
     "execution_count": 50,
     "metadata": {},
     "output_type": "execute_result"
    }
   ],
   "source": [
    "type(val)"
   ]
  },
  {
   "cell_type": "markdown",
   "id": "e163fabe",
   "metadata": {},
   "source": [
    "#### Methods/Functions on Tuple"
   ]
  },
  {
   "cell_type": "code",
   "execution_count": 52,
   "id": "89ff29a1",
   "metadata": {},
   "outputs": [],
   "source": [
    "names = (\"Ramesh\",\"suresh\",\"Rajesh\",\"Prakash\",\"suresh\",\"Rajesh\")"
   ]
  },
  {
   "cell_type": "code",
   "execution_count": 53,
   "id": "a2bc329d",
   "metadata": {},
   "outputs": [
    {
     "data": {
      "text/plain": [
       "2"
      ]
     },
     "execution_count": 53,
     "metadata": {},
     "output_type": "execute_result"
    }
   ],
   "source": [
    "names.count(\"Rajesh\")"
   ]
  },
  {
   "cell_type": "code",
   "execution_count": 56,
   "id": "b675f87f",
   "metadata": {},
   "outputs": [
    {
     "data": {
      "text/plain": [
       "4"
      ]
     },
     "execution_count": 56,
     "metadata": {},
     "output_type": "execute_result"
    }
   ],
   "source": [
    "names.index(\"suresh\",2,)"
   ]
  },
  {
   "cell_type": "code",
   "execution_count": 57,
   "id": "6aa521d9",
   "metadata": {},
   "outputs": [],
   "source": [
    "x = 1"
   ]
  },
  {
   "cell_type": "code",
   "execution_count": 58,
   "id": "f0394f8a",
   "metadata": {},
   "outputs": [
    {
     "name": "stdout",
     "output_type": "stream",
     "text": [
      "3\n"
     ]
    }
   ],
   "source": [
    "x = x+2\n",
    "print(x)"
   ]
  },
  {
   "cell_type": "code",
   "execution_count": 59,
   "id": "33e31f55",
   "metadata": {},
   "outputs": [],
   "source": [
    "x += 2"
   ]
  },
  {
   "cell_type": "code",
   "execution_count": 60,
   "id": "068dc4b3",
   "metadata": {},
   "outputs": [
    {
     "name": "stdout",
     "output_type": "stream",
     "text": [
      "5\n"
     ]
    }
   ],
   "source": [
    "print(x)"
   ]
  },
  {
   "cell_type": "code",
   "execution_count": 62,
   "id": "1744d5ba",
   "metadata": {},
   "outputs": [],
   "source": [
    "name = ()\n",
    "name1 = tuple()"
   ]
  },
  {
   "cell_type": "code",
   "execution_count": 63,
   "id": "eb234507",
   "metadata": {},
   "outputs": [
    {
     "name": "stdout",
     "output_type": "stream",
     "text": [
      "()\n"
     ]
    }
   ],
   "source": [
    "print(name1)"
   ]
  },
  {
   "cell_type": "code",
   "execution_count": 64,
   "id": "aab9eb83",
   "metadata": {},
   "outputs": [
    {
     "name": "stdout",
     "output_type": "stream",
     "text": [
      "()\n"
     ]
    }
   ],
   "source": [
    "print(name)"
   ]
  },
  {
   "cell_type": "markdown",
   "id": "c4e6c558",
   "metadata": {},
   "source": [
    "## SET data type"
   ]
  },
  {
   "cell_type": "code",
   "execution_count": 65,
   "id": "75dc6fdd",
   "metadata": {},
   "outputs": [],
   "source": [
    "names = {\"raj\",\"rakesh\",\"ram\"}"
   ]
  },
  {
   "cell_type": "code",
   "execution_count": 67,
   "id": "0b88a990",
   "metadata": {},
   "outputs": [
    {
     "data": {
      "text/plain": [
       "set"
      ]
     },
     "execution_count": 67,
     "metadata": {},
     "output_type": "execute_result"
    }
   ],
   "source": [
    "type(names)"
   ]
  },
  {
   "cell_type": "code",
   "execution_count": 68,
   "id": "9f36fbba",
   "metadata": {},
   "outputs": [
    {
     "data": {
      "text/plain": [
       "3"
      ]
     },
     "execution_count": 68,
     "metadata": {},
     "output_type": "execute_result"
    }
   ],
   "source": [
    "len(names)"
   ]
  },
  {
   "cell_type": "markdown",
   "id": "cc428a8d",
   "metadata": {},
   "source": [
    "### Methods/Functions"
   ]
  },
  {
   "cell_type": "code",
   "execution_count": 69,
   "id": "5e8a1985",
   "metadata": {},
   "outputs": [],
   "source": [
    "names.add(\"rk\")  #Mutable"
   ]
  },
  {
   "cell_type": "code",
   "execution_count": 70,
   "id": "4a88d45e",
   "metadata": {},
   "outputs": [
    {
     "data": {
      "text/plain": [
       "{'raj', 'rakesh', 'ram', 'rk'}"
      ]
     },
     "execution_count": 70,
     "metadata": {},
     "output_type": "execute_result"
    }
   ],
   "source": [
    "names"
   ]
  },
  {
   "cell_type": "code",
   "execution_count": 71,
   "id": "20b5c82f",
   "metadata": {},
   "outputs": [],
   "source": [
    "names.add(\"raj\")"
   ]
  },
  {
   "cell_type": "code",
   "execution_count": 73,
   "id": "f1972193",
   "metadata": {},
   "outputs": [
    {
     "data": {
      "text/plain": [
       "{'raj', 'rakesh', 'ram', 'rk'}"
      ]
     },
     "execution_count": 73,
     "metadata": {},
     "output_type": "execute_result"
    }
   ],
   "source": [
    "names  #duplicates are not allowed"
   ]
  },
  {
   "cell_type": "code",
   "execution_count": 74,
   "id": "954d0c9a",
   "metadata": {},
   "outputs": [
    {
     "ename": "TypeError",
     "evalue": "'set' object is not subscriptable",
     "output_type": "error",
     "traceback": [
      "\u001b[1;31m---------------------------------------------------------------------------\u001b[0m",
      "\u001b[1;31mTypeError\u001b[0m                                 Traceback (most recent call last)",
      "Cell \u001b[1;32mIn[74], line 1\u001b[0m\n\u001b[1;32m----> 1\u001b[0m names[\u001b[38;5;241m0\u001b[39m]\n",
      "\u001b[1;31mTypeError\u001b[0m: 'set' object is not subscriptable"
     ]
    }
   ],
   "source": [
    "names[0]   #unorderd"
   ]
  },
  {
   "cell_type": "markdown",
   "id": "5b399265",
   "metadata": {},
   "source": [
    "### Methods"
   ]
  },
  {
   "cell_type": "code",
   "execution_count": 75,
   "id": "52727841",
   "metadata": {},
   "outputs": [
    {
     "data": {
      "text/plain": [
       "{'raj', 'rakesh', 'ram', 'rk'}"
      ]
     },
     "execution_count": 75,
     "metadata": {},
     "output_type": "execute_result"
    }
   ],
   "source": [
    "names"
   ]
  },
  {
   "cell_type": "code",
   "execution_count": 76,
   "id": "b0603ebd",
   "metadata": {},
   "outputs": [],
   "source": [
    "name = names.copy()"
   ]
  },
  {
   "cell_type": "code",
   "execution_count": 80,
   "id": "95f2b48e",
   "metadata": {},
   "outputs": [],
   "source": [
    "names3 = {\"rk\",\"ramesh\",\"suresh\",\"Prakash\"}"
   ]
  },
  {
   "cell_type": "code",
   "execution_count": 81,
   "id": "a640a0ac",
   "metadata": {},
   "outputs": [
    {
     "data": {
      "text/plain": [
       "{'raj', 'rakesh', 'ram'}"
      ]
     },
     "execution_count": 81,
     "metadata": {},
     "output_type": "execute_result"
    }
   ],
   "source": [
    "name.difference(names3)  #removes common elements and returns to first set"
   ]
  },
  {
   "cell_type": "code",
   "execution_count": 82,
   "id": "37324222",
   "metadata": {},
   "outputs": [
    {
     "data": {
      "text/plain": [
       "{'Prakash', 'ramesh', 'suresh'}"
      ]
     },
     "execution_count": 82,
     "metadata": {},
     "output_type": "execute_result"
    }
   ],
   "source": [
    "names3.difference(names)"
   ]
  },
  {
   "cell_type": "code",
   "execution_count": 83,
   "id": "186c481e",
   "metadata": {},
   "outputs": [
    {
     "data": {
      "text/plain": [
       "{'raj', 'rakesh', 'ram', 'rk'}"
      ]
     },
     "execution_count": 83,
     "metadata": {},
     "output_type": "execute_result"
    }
   ],
   "source": [
    "names"
   ]
  },
  {
   "cell_type": "code",
   "execution_count": 84,
   "id": "c2c5ecb2",
   "metadata": {},
   "outputs": [],
   "source": [
    "names.discard(\"rk\")  #if there is no value it doesnt raise any error"
   ]
  },
  {
   "cell_type": "code",
   "execution_count": 85,
   "id": "88d40951",
   "metadata": {},
   "outputs": [
    {
     "data": {
      "text/plain": [
       "{'raj', 'rakesh', 'ram'}"
      ]
     },
     "execution_count": 85,
     "metadata": {},
     "output_type": "execute_result"
    }
   ],
   "source": [
    "names"
   ]
  },
  {
   "cell_type": "code",
   "execution_count": 86,
   "id": "a6be9b25",
   "metadata": {},
   "outputs": [],
   "source": [
    "names.discard(\"rk\")"
   ]
  },
  {
   "cell_type": "code",
   "execution_count": 87,
   "id": "672ec71e",
   "metadata": {},
   "outputs": [
    {
     "data": {
      "text/plain": [
       "{'raj', 'rakesh', 'ram'}"
      ]
     },
     "execution_count": 87,
     "metadata": {},
     "output_type": "execute_result"
    }
   ],
   "source": [
    "names"
   ]
  },
  {
   "cell_type": "code",
   "execution_count": 88,
   "id": "26f6369a",
   "metadata": {},
   "outputs": [
    {
     "ename": "KeyError",
     "evalue": "'rk'",
     "output_type": "error",
     "traceback": [
      "\u001b[1;31m---------------------------------------------------------------------------\u001b[0m",
      "\u001b[1;31mKeyError\u001b[0m                                  Traceback (most recent call last)",
      "Cell \u001b[1;32mIn[88], line 1\u001b[0m\n\u001b[1;32m----> 1\u001b[0m names\u001b[38;5;241m.\u001b[39mremove(\u001b[38;5;124m\"\u001b[39m\u001b[38;5;124mrk\u001b[39m\u001b[38;5;124m\"\u001b[39m)\n",
      "\u001b[1;31mKeyError\u001b[0m: 'rk'"
     ]
    }
   ],
   "source": [
    "names.remove(\"rk\")   #if there is no value it returns to  key error"
   ]
  },
  {
   "cell_type": "code",
   "execution_count": 90,
   "id": "cd3e3663",
   "metadata": {},
   "outputs": [],
   "source": [
    "num = {1,2,3,4,5,6,7,8,9}"
   ]
  },
  {
   "cell_type": "code",
   "execution_count": 91,
   "id": "0fb2fdfe",
   "metadata": {},
   "outputs": [],
   "source": [
    "num.discard(2)"
   ]
  },
  {
   "cell_type": "code",
   "execution_count": 92,
   "id": "90df3adb",
   "metadata": {},
   "outputs": [
    {
     "data": {
      "text/plain": [
       "{1, 3, 4, 5, 6, 7, 8, 9}"
      ]
     },
     "execution_count": 92,
     "metadata": {},
     "output_type": "execute_result"
    }
   ],
   "source": [
    "num"
   ]
  },
  {
   "cell_type": "code",
   "execution_count": 93,
   "id": "74a632c2",
   "metadata": {},
   "outputs": [],
   "source": [
    "num.discard(100)"
   ]
  },
  {
   "cell_type": "code",
   "execution_count": 94,
   "id": "cb57f1fe",
   "metadata": {},
   "outputs": [
    {
     "data": {
      "text/plain": [
       "{1, 3, 4, 5, 6, 7, 8, 9}"
      ]
     },
     "execution_count": 94,
     "metadata": {},
     "output_type": "execute_result"
    }
   ],
   "source": [
    "num"
   ]
  },
  {
   "cell_type": "code",
   "execution_count": 95,
   "id": "bfc69c37",
   "metadata": {},
   "outputs": [],
   "source": [
    "num.remove(8)"
   ]
  },
  {
   "cell_type": "code",
   "execution_count": 96,
   "id": "1f09ce46",
   "metadata": {},
   "outputs": [
    {
     "data": {
      "text/plain": [
       "{1, 3, 4, 5, 6, 7, 9}"
      ]
     },
     "execution_count": 96,
     "metadata": {},
     "output_type": "execute_result"
    }
   ],
   "source": [
    "num"
   ]
  },
  {
   "cell_type": "code",
   "execution_count": 97,
   "id": "824bd1ec",
   "metadata": {},
   "outputs": [
    {
     "ename": "KeyError",
     "evalue": "100",
     "output_type": "error",
     "traceback": [
      "\u001b[1;31m---------------------------------------------------------------------------\u001b[0m",
      "\u001b[1;31mKeyError\u001b[0m                                  Traceback (most recent call last)",
      "Cell \u001b[1;32mIn[97], line 1\u001b[0m\n\u001b[1;32m----> 1\u001b[0m num\u001b[38;5;241m.\u001b[39mremove(\u001b[38;5;241m100\u001b[39m)\n",
      "\u001b[1;31mKeyError\u001b[0m: 100"
     ]
    }
   ],
   "source": [
    "num.remove(100)"
   ]
  },
  {
   "cell_type": "code",
   "execution_count": 98,
   "id": "482b1125",
   "metadata": {},
   "outputs": [
    {
     "data": {
      "text/plain": [
       "{1, 3, 4, 5, 6, 7, 9}"
      ]
     },
     "execution_count": 98,
     "metadata": {},
     "output_type": "execute_result"
    }
   ],
   "source": [
    "num"
   ]
  },
  {
   "cell_type": "code",
   "execution_count": 104,
   "id": "76820a94",
   "metadata": {},
   "outputs": [
    {
     "data": {
      "text/plain": [
       "4"
      ]
     },
     "execution_count": 104,
     "metadata": {},
     "output_type": "execute_result"
    }
   ],
   "source": [
    "num.pop()  #removes first element"
   ]
  },
  {
   "cell_type": "code",
   "execution_count": 105,
   "id": "01241b9b",
   "metadata": {},
   "outputs": [
    {
     "data": {
      "text/plain": [
       "5"
      ]
     },
     "execution_count": 105,
     "metadata": {},
     "output_type": "execute_result"
    }
   ],
   "source": [
    "num.pop()"
   ]
  },
  {
   "cell_type": "code",
   "execution_count": 107,
   "id": "cdf6594b",
   "metadata": {},
   "outputs": [],
   "source": [
    "num.update({1,2,3})"
   ]
  },
  {
   "cell_type": "code",
   "execution_count": 108,
   "id": "3c41f2ac",
   "metadata": {},
   "outputs": [
    {
     "data": {
      "text/plain": [
       "{1, 2, 3, 6, 7, 9}"
      ]
     },
     "execution_count": 108,
     "metadata": {},
     "output_type": "execute_result"
    }
   ],
   "source": [
    "num"
   ]
  },
  {
   "cell_type": "code",
   "execution_count": null,
   "id": "3fb1dd33",
   "metadata": {},
   "outputs": [],
   "source": []
  }
 ],
 "metadata": {
  "kernelspec": {
   "display_name": "Python 3 (ipykernel)",
   "language": "python",
   "name": "python3"
  },
  "language_info": {
   "codemirror_mode": {
    "name": "ipython",
    "version": 3
   },
   "file_extension": ".py",
   "mimetype": "text/x-python",
   "name": "python",
   "nbconvert_exporter": "python",
   "pygments_lexer": "ipython3",
   "version": "3.11.2"
  }
 },
 "nbformat": 4,
 "nbformat_minor": 5
}
