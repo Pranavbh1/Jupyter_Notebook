{
 "cells": [
  {
   "cell_type": "markdown",
   "id": "0a6d21e9",
   "metadata": {},
   "source": [
    "In Python, you can perform basic data type casting using built-in functions. Here are some common data types and their corresponding casting functions:\n",
    "\n",
    "`Integer: int()`\n",
    "\n",
    "Converts a value to an integer.\n",
    "Example: x = int(3.14) assigns the integer value 3 to the variable x.\n",
    "\n",
    "`Float: float()`\n",
    "\n",
    "Converts a value to a floating-point number.\n",
    "Example: y = float(5) assigns the float value 5.0 to the variable y.\n",
    "\n",
    "`String: str()`\n",
    "\n",
    "Converts a value to a string.\n",
    "Example: z = str(42) assigns the string value \"42\" to the variable z.\n",
    "\n",
    "`Boolean: bool()`\n",
    "\n",
    "Converts a value to a boolean.\n",
    "Example: a = bool(1) assigns the boolean value True to the variable a."
   ]
  },
  {
   "cell_type": "code",
   "execution_count": 1,
   "id": "0a955b99",
   "metadata": {},
   "outputs": [
    {
     "name": "stdout",
     "output_type": "stream",
     "text": [
      "enter a number: 13\n"
     ]
    }
   ],
   "source": [
    "num = input(\"enter a number: \")"
   ]
  },
  {
   "cell_type": "code",
   "execution_count": 2,
   "id": "a35f4592",
   "metadata": {},
   "outputs": [
    {
     "data": {
      "text/plain": [
       "str"
      ]
     },
     "execution_count": 2,
     "metadata": {},
     "output_type": "execute_result"
    }
   ],
   "source": [
    "type(num)"
   ]
  },
  {
   "cell_type": "code",
   "execution_count": 3,
   "id": "a53cfbc8",
   "metadata": {},
   "outputs": [],
   "source": [
    "num = int(num)"
   ]
  },
  {
   "cell_type": "code",
   "execution_count": 4,
   "id": "9e8453ab",
   "metadata": {},
   "outputs": [
    {
     "data": {
      "text/plain": [
       "int"
      ]
     },
     "execution_count": 4,
     "metadata": {},
     "output_type": "execute_result"
    }
   ],
   "source": [
    "type(num)"
   ]
  },
  {
   "cell_type": "code",
   "execution_count": 5,
   "id": "2bc211f0",
   "metadata": {},
   "outputs": [
    {
     "name": "stdout",
     "output_type": "stream",
     "text": [
      "Enter a number : 45\n"
     ]
    }
   ],
   "source": [
    "num1 = int(input(\"Enter a number : \"))"
   ]
  },
  {
   "cell_type": "code",
   "execution_count": 6,
   "id": "72bd9bb7",
   "metadata": {},
   "outputs": [
    {
     "data": {
      "text/plain": [
       "int"
      ]
     },
     "execution_count": 6,
     "metadata": {},
     "output_type": "execute_result"
    }
   ],
   "source": [
    "type(num1)"
   ]
  },
  {
   "cell_type": "code",
   "execution_count": 7,
   "id": "e3f3471b",
   "metadata": {},
   "outputs": [
    {
     "name": "stdout",
     "output_type": "stream",
     "text": [
      "Enter a value: 4.5\n"
     ]
    }
   ],
   "source": [
    "num2 = float(input(\"Enter a value: \"))"
   ]
  },
  {
   "cell_type": "code",
   "execution_count": 8,
   "id": "f90ea4f3",
   "metadata": {},
   "outputs": [
    {
     "data": {
      "text/plain": [
       "4.5"
      ]
     },
     "execution_count": 8,
     "metadata": {},
     "output_type": "execute_result"
    }
   ],
   "source": [
    "num2"
   ]
  },
  {
   "cell_type": "code",
   "execution_count": 9,
   "id": "f30ffa3b",
   "metadata": {},
   "outputs": [
    {
     "data": {
      "text/plain": [
       "True"
      ]
     },
     "execution_count": 9,
     "metadata": {},
     "output_type": "execute_result"
    }
   ],
   "source": [
    "bool(num2)"
   ]
  },
  {
   "cell_type": "code",
   "execution_count": 11,
   "id": "ae34ec6f",
   "metadata": {},
   "outputs": [],
   "source": [
    "a = str(num2)"
   ]
  },
  {
   "cell_type": "code",
   "execution_count": 12,
   "id": "bc42ef82",
   "metadata": {},
   "outputs": [
    {
     "data": {
      "text/plain": [
       "'4.5'"
      ]
     },
     "execution_count": 12,
     "metadata": {},
     "output_type": "execute_result"
    }
   ],
   "source": [
    "a"
   ]
  },
  {
   "cell_type": "code",
   "execution_count": 13,
   "id": "cabb7906",
   "metadata": {},
   "outputs": [],
   "source": [
    "a  = \"240\"   #str"
   ]
  },
  {
   "cell_type": "code",
   "execution_count": null,
   "id": "6e428e43",
   "metadata": {},
   "outputs": [],
   "source": [
    "integer,float,bool"
   ]
  },
  {
   "cell_type": "code",
   "execution_count": null,
   "id": "da133897",
   "metadata": {},
   "outputs": [],
   "source": [
    "b"
   ]
  }
 ],
 "metadata": {
  "kernelspec": {
   "display_name": "Python 3 (ipykernel)",
   "language": "python",
   "name": "python3"
  },
  "language_info": {
   "codemirror_mode": {
    "name": "ipython",
    "version": 3
   },
   "file_extension": ".py",
   "mimetype": "text/x-python",
   "name": "python",
   "nbconvert_exporter": "python",
   "pygments_lexer": "ipython3",
   "version": "3.11.2"
  }
 },
 "nbformat": 4,
 "nbformat_minor": 5
}
